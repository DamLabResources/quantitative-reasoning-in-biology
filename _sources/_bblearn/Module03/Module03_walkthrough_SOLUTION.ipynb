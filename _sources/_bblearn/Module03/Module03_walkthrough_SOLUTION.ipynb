{
 "cells": [
  {
   "cell_type": "code",
   "execution_count": 1,
   "id": "d396a16c",
   "metadata": {
    "tags": [
     "remove_cell"
    ]
   },
   "outputs": [],
   "source": [
    "# Setting up the Colab environment. DO NOT EDIT!\n",
    "import os\n",
    "import warnings\n",
    "warnings.filterwarnings(\"ignore\")\n",
    "\n",
    "try:\n",
    "    import otter\n",
    "\n",
    "except ImportError:\n",
    "    ! pip install -q otter-grader==4.0.0\n",
    "    import otter\n",
    "\n",
    "if not os.path.exists('walkthrough-tests'):\n",
    "    zip_files = [f for f in os.listdir() if f.endswith('.zip')]\n",
    "    assert len(zip_files)>0, 'Could not find any zip files!'\n",
    "    assert len(zip_files)==1, 'Found multiple zip files!'\n",
    "    ! unzip {zip_files[0]}\n",
    "\n",
    "grader = otter.Notebook(colab=True,\n",
    "                        tests_dir = 'walkthrough-tests')"
   ]
  },
  {
   "cell_type": "markdown",
   "id": "c6d24442",
   "metadata": {},
   "source": [
    "# Walkthrough"
   ]
  },
  {
   "cell_type": "markdown",
   "id": "a9cd4a24",
   "metadata": {},
   "source": [
    "## Introduction\n",
    "\n",
    "Get ready to dive into some data analysis as we explore the effectiveness of a hypothetical HIV treatment trial.\n",
    "In this walkthrough, we have a dataset containing information from 30 people living with HIV (PLWH) who were randomly assigned to a treatment or control group.\n",
    "After receiving the treatment, they stopped their ART and were monitored weekly for the number of weeks until their first \"detectable\" viral load was found.\n",
    "We will use `Pandas` to analyze this data and evaluate the treatment's effectiveness.\n",
    "By the end of this activity, you will be proficient in loading spreadsheet data into Python, creating derived columns in `DataFrames`, and using summary methods like sum, mean, and max.\n",
    "Let's get started!"
   ]
  },
  {
   "cell_type": "markdown",
   "id": "721da4fe",
   "metadata": {
    "jp-MarkdownHeadingCollapsed": true,
    "tags": []
   },
   "source": [
    "## Learning Objectives\n",
    "At the end of this learning activity you will be able to:\n",
    " - Practice loading spreadsheet data into Python using `pandas`.\n",
    " - Use Python methods to create derived columns in `pd.DataFrames`.\n",
    " - Use `Pandas` summary methods like sum, mean, and max.\n",
    " - Employ basic filtering and data extraction from `pandas`."
   ]
  },
  {
   "cell_type": "markdown",
   "id": "a11858bd",
   "metadata": {},
   "source": [
    "## Dataset Reference\n",
    "\n",
    "_File_: `trial_data.csv`\n",
    "\n",
    "_Columns_:\n",
    "\n",
    " - `age` : (years) Current age during the study. \n",
    " - `age_initial_infection` : (years) Age at which the participant was initially infected.\n",
    " - `initial_viral_load` : (copies/ul) The level of infection at the start of the study.\n",
    " - `treatment` : (boolean) `True` for participant in the treatment group, `False` for those in the control group.\n",
    " - `weeks_to_failure` : (weeks) Time from the treatment to the first week of uncontrolled viral load.\n",
    "\n"
   ]
  },
  {
   "cell_type": "markdown",
   "id": "08da0bae",
   "metadata": {},
   "source": [
    "## Imports"
   ]
  },
  {
   "cell_type": "markdown",
   "id": "1b031272",
   "metadata": {},
   "source": [
    "While _basic_ Python can do a lot, you have to do everything yourself.\n",
    "The **real** power of Python is that you can `import` code that is written by others.\n",
    "\n",
    "For this course, we will use a common data science stack of interoperable tools centered around the [Numpy](https://numpy.org/).\n",
    "\n",
    "There are four that we will use regularly, two of which we'll cover today."
   ]
  },
  {
   "cell_type": "markdown",
   "id": "e0346a73",
   "metadata": {},
   "source": [
    "### Numpy\n",
    "\n",
    "[Numpy](https://numpy.org/)\n",
    "\n",
    "A numerical Python library that contains incredibly fast arrays, mathematical functions, and other useful utilities.\n",
    "\n",
    "By convention, the community tends to _alias_ the long `numpy` as `np`."
   ]
  },
  {
   "cell_type": "code",
   "execution_count": 2,
   "id": "6d0a6859",
   "metadata": {},
   "outputs": [],
   "source": [
    "import numpy as np"
   ]
  },
  {
   "cell_type": "markdown",
   "id": "2e7349cb",
   "metadata": {},
   "source": [
    "### Pandas\n",
    "\n",
    "[Pandas](https://pandas.pydata.org/)\n",
    "\n",
    "A libary that sits atop `numpy` and provides a _spreadsheet_ style object called a `DataFrame` along with a plethora of data sciecne utilities.\n",
    "This is the main tool we will be using for data exploration.\n",
    "\n",
    "By convention, the community tends to _alias_ the long `pandas` as `pd`."
   ]
  },
  {
   "cell_type": "code",
   "execution_count": 3,
   "id": "c36fb709",
   "metadata": {},
   "outputs": [],
   "source": [
    "import pandas as pd"
   ]
  },
  {
   "cell_type": "markdown",
   "id": "4c187ff2",
   "metadata": {},
   "source": [
    "Nicely, it can read `csv` files for us."
   ]
  },
  {
   "cell_type": "code",
   "execution_count": 4,
   "id": "2db01281",
   "metadata": {},
   "outputs": [
    {
     "data": {
      "text/html": [
       "<div>\n",
       "<style scoped>\n",
       "    .dataframe tbody tr th:only-of-type {\n",
       "        vertical-align: middle;\n",
       "    }\n",
       "\n",
       "    .dataframe tbody tr th {\n",
       "        vertical-align: top;\n",
       "    }\n",
       "\n",
       "    .dataframe thead th {\n",
       "        text-align: right;\n",
       "    }\n",
       "</style>\n",
       "<table border=\"1\" class=\"dataframe\">\n",
       "  <thead>\n",
       "    <tr style=\"text-align: right;\">\n",
       "      <th></th>\n",
       "      <th>age</th>\n",
       "      <th>age_initial_infection</th>\n",
       "      <th>initial_viral_load</th>\n",
       "      <th>treatment</th>\n",
       "      <th>weeks_to_failure</th>\n",
       "    </tr>\n",
       "  </thead>\n",
       "  <tbody>\n",
       "    <tr>\n",
       "      <th>0</th>\n",
       "      <td>55</td>\n",
       "      <td>26</td>\n",
       "      <td>66</td>\n",
       "      <td>False</td>\n",
       "      <td>3</td>\n",
       "    </tr>\n",
       "    <tr>\n",
       "      <th>1</th>\n",
       "      <td>48</td>\n",
       "      <td>26</td>\n",
       "      <td>66</td>\n",
       "      <td>False</td>\n",
       "      <td>4</td>\n",
       "    </tr>\n",
       "    <tr>\n",
       "      <th>2</th>\n",
       "      <td>45</td>\n",
       "      <td>36</td>\n",
       "      <td>32</td>\n",
       "      <td>True</td>\n",
       "      <td>6</td>\n",
       "    </tr>\n",
       "    <tr>\n",
       "      <th>3</th>\n",
       "      <td>43</td>\n",
       "      <td>31</td>\n",
       "      <td>23</td>\n",
       "      <td>False</td>\n",
       "      <td>5</td>\n",
       "    </tr>\n",
       "    <tr>\n",
       "      <th>4</th>\n",
       "      <td>40</td>\n",
       "      <td>20</td>\n",
       "      <td>45</td>\n",
       "      <td>True</td>\n",
       "      <td>5</td>\n",
       "    </tr>\n",
       "    <tr>\n",
       "      <th>5</th>\n",
       "      <td>42</td>\n",
       "      <td>20</td>\n",
       "      <td>57</td>\n",
       "      <td>True</td>\n",
       "      <td>9</td>\n",
       "    </tr>\n",
       "    <tr>\n",
       "      <th>6</th>\n",
       "      <td>55</td>\n",
       "      <td>31</td>\n",
       "      <td>23</td>\n",
       "      <td>False</td>\n",
       "      <td>4</td>\n",
       "    </tr>\n",
       "    <tr>\n",
       "      <th>7</th>\n",
       "      <td>56</td>\n",
       "      <td>50</td>\n",
       "      <td>22</td>\n",
       "      <td>False</td>\n",
       "      <td>4</td>\n",
       "    </tr>\n",
       "    <tr>\n",
       "      <th>8</th>\n",
       "      <td>59</td>\n",
       "      <td>33</td>\n",
       "      <td>33</td>\n",
       "      <td>False</td>\n",
       "      <td>5</td>\n",
       "    </tr>\n",
       "    <tr>\n",
       "      <th>9</th>\n",
       "      <td>51</td>\n",
       "      <td>30</td>\n",
       "      <td>49</td>\n",
       "      <td>True</td>\n",
       "      <td>7</td>\n",
       "    </tr>\n",
       "    <tr>\n",
       "      <th>10</th>\n",
       "      <td>55</td>\n",
       "      <td>21</td>\n",
       "      <td>94</td>\n",
       "      <td>False</td>\n",
       "      <td>3</td>\n",
       "    </tr>\n",
       "    <tr>\n",
       "      <th>11</th>\n",
       "      <td>53</td>\n",
       "      <td>42</td>\n",
       "      <td>85</td>\n",
       "      <td>True</td>\n",
       "      <td>5</td>\n",
       "    </tr>\n",
       "    <tr>\n",
       "      <th>12</th>\n",
       "      <td>40</td>\n",
       "      <td>34</td>\n",
       "      <td>27</td>\n",
       "      <td>True</td>\n",
       "      <td>8</td>\n",
       "    </tr>\n",
       "    <tr>\n",
       "      <th>13</th>\n",
       "      <td>48</td>\n",
       "      <td>41</td>\n",
       "      <td>99</td>\n",
       "      <td>False</td>\n",
       "      <td>3</td>\n",
       "    </tr>\n",
       "    <tr>\n",
       "      <th>14</th>\n",
       "      <td>56</td>\n",
       "      <td>41</td>\n",
       "      <td>59</td>\n",
       "      <td>False</td>\n",
       "      <td>6</td>\n",
       "    </tr>\n",
       "    <tr>\n",
       "      <th>15</th>\n",
       "      <td>53</td>\n",
       "      <td>47</td>\n",
       "      <td>38</td>\n",
       "      <td>True</td>\n",
       "      <td>7</td>\n",
       "    </tr>\n",
       "    <tr>\n",
       "      <th>16</th>\n",
       "      <td>57</td>\n",
       "      <td>41</td>\n",
       "      <td>42</td>\n",
       "      <td>True</td>\n",
       "      <td>8</td>\n",
       "    </tr>\n",
       "    <tr>\n",
       "      <th>17</th>\n",
       "      <td>48</td>\n",
       "      <td>33</td>\n",
       "      <td>57</td>\n",
       "      <td>False</td>\n",
       "      <td>4</td>\n",
       "    </tr>\n",
       "    <tr>\n",
       "      <th>18</th>\n",
       "      <td>51</td>\n",
       "      <td>42</td>\n",
       "      <td>25</td>\n",
       "      <td>False</td>\n",
       "      <td>2</td>\n",
       "    </tr>\n",
       "    <tr>\n",
       "      <th>19</th>\n",
       "      <td>55</td>\n",
       "      <td>46</td>\n",
       "      <td>45</td>\n",
       "      <td>False</td>\n",
       "      <td>1</td>\n",
       "    </tr>\n",
       "    <tr>\n",
       "      <th>20</th>\n",
       "      <td>43</td>\n",
       "      <td>24</td>\n",
       "      <td>46</td>\n",
       "      <td>False</td>\n",
       "      <td>1</td>\n",
       "    </tr>\n",
       "    <tr>\n",
       "      <th>21</th>\n",
       "      <td>48</td>\n",
       "      <td>37</td>\n",
       "      <td>99</td>\n",
       "      <td>True</td>\n",
       "      <td>8</td>\n",
       "    </tr>\n",
       "    <tr>\n",
       "      <th>22</th>\n",
       "      <td>51</td>\n",
       "      <td>27</td>\n",
       "      <td>36</td>\n",
       "      <td>False</td>\n",
       "      <td>2</td>\n",
       "    </tr>\n",
       "    <tr>\n",
       "      <th>23</th>\n",
       "      <td>43</td>\n",
       "      <td>34</td>\n",
       "      <td>48</td>\n",
       "      <td>True</td>\n",
       "      <td>7</td>\n",
       "    </tr>\n",
       "    <tr>\n",
       "      <th>24</th>\n",
       "      <td>51</td>\n",
       "      <td>43</td>\n",
       "      <td>88</td>\n",
       "      <td>False</td>\n",
       "      <td>2</td>\n",
       "    </tr>\n",
       "    <tr>\n",
       "      <th>25</th>\n",
       "      <td>49</td>\n",
       "      <td>20</td>\n",
       "      <td>76</td>\n",
       "      <td>False</td>\n",
       "      <td>5</td>\n",
       "    </tr>\n",
       "    <tr>\n",
       "      <th>26</th>\n",
       "      <td>54</td>\n",
       "      <td>47</td>\n",
       "      <td>74</td>\n",
       "      <td>False</td>\n",
       "      <td>5</td>\n",
       "    </tr>\n",
       "    <tr>\n",
       "      <th>27</th>\n",
       "      <td>45</td>\n",
       "      <td>25</td>\n",
       "      <td>87</td>\n",
       "      <td>True</td>\n",
       "      <td>5</td>\n",
       "    </tr>\n",
       "    <tr>\n",
       "      <th>28</th>\n",
       "      <td>59</td>\n",
       "      <td>40</td>\n",
       "      <td>49</td>\n",
       "      <td>False</td>\n",
       "      <td>5</td>\n",
       "    </tr>\n",
       "    <tr>\n",
       "      <th>29</th>\n",
       "      <td>51</td>\n",
       "      <td>43</td>\n",
       "      <td>38</td>\n",
       "      <td>True</td>\n",
       "      <td>8</td>\n",
       "    </tr>\n",
       "  </tbody>\n",
       "</table>\n",
       "</div>"
      ],
      "text/plain": [
       "    age  age_initial_infection  initial_viral_load  treatment  \\\n",
       "0    55                     26                  66      False   \n",
       "1    48                     26                  66      False   \n",
       "2    45                     36                  32       True   \n",
       "3    43                     31                  23      False   \n",
       "4    40                     20                  45       True   \n",
       "5    42                     20                  57       True   \n",
       "6    55                     31                  23      False   \n",
       "7    56                     50                  22      False   \n",
       "8    59                     33                  33      False   \n",
       "9    51                     30                  49       True   \n",
       "10   55                     21                  94      False   \n",
       "11   53                     42                  85       True   \n",
       "12   40                     34                  27       True   \n",
       "13   48                     41                  99      False   \n",
       "14   56                     41                  59      False   \n",
       "15   53                     47                  38       True   \n",
       "16   57                     41                  42       True   \n",
       "17   48                     33                  57      False   \n",
       "18   51                     42                  25      False   \n",
       "19   55                     46                  45      False   \n",
       "20   43                     24                  46      False   \n",
       "21   48                     37                  99       True   \n",
       "22   51                     27                  36      False   \n",
       "23   43                     34                  48       True   \n",
       "24   51                     43                  88      False   \n",
       "25   49                     20                  76      False   \n",
       "26   54                     47                  74      False   \n",
       "27   45                     25                  87       True   \n",
       "28   59                     40                  49      False   \n",
       "29   51                     43                  38       True   \n",
       "\n",
       "    weeks_to_failure  \n",
       "0                  3  \n",
       "1                  4  \n",
       "2                  6  \n",
       "3                  5  \n",
       "4                  5  \n",
       "5                  9  \n",
       "6                  4  \n",
       "7                  4  \n",
       "8                  5  \n",
       "9                  7  \n",
       "10                 3  \n",
       "11                 5  \n",
       "12                 8  \n",
       "13                 3  \n",
       "14                 6  \n",
       "15                 7  \n",
       "16                 8  \n",
       "17                 4  \n",
       "18                 2  \n",
       "19                 1  \n",
       "20                 1  \n",
       "21                 8  \n",
       "22                 2  \n",
       "23                 7  \n",
       "24                 2  \n",
       "25                 5  \n",
       "26                 5  \n",
       "27                 5  \n",
       "28                 5  \n",
       "29                 8  "
      ]
     },
     "execution_count": 4,
     "metadata": {},
     "output_type": "execute_result"
    }
   ],
   "source": [
    "trial_df = pd.read_csv('trial_data.csv')\n",
    "\n",
    "# If a `DataFrame` is the last line, it will display a nice summary\n",
    "trial_df"
   ]
  },
  {
   "cell_type": "markdown",
   "id": "d1fd4fd7",
   "metadata": {},
   "source": [
    "```{note}\n",
    ":class: dropdown\n",
    "I often use the suffix `_df` when I create `pd.DataFrames`.\n",
    "It is not required, but utilizing naming conventions makes your code easier to understand by yourself and others.\n",
    "```"
   ]
  },
  {
   "cell_type": "markdown",
   "id": "3cc4c6f4",
   "metadata": {},
   "source": [
    "And we should see that this exactly matches the table we saw in Excel."
   ]
  },
  {
   "cell_type": "markdown",
   "id": "1351d788",
   "metadata": {},
   "source": [
    "The object we got back is called a `DataFrame`."
   ]
  },
  {
   "cell_type": "code",
   "execution_count": 5,
   "id": "5b8aeea2",
   "metadata": {},
   "outputs": [
    {
     "data": {
      "text/plain": [
       "pandas.core.frame.DataFrame"
      ]
     },
     "execution_count": 5,
     "metadata": {},
     "output_type": "execute_result"
    }
   ],
   "source": [
    "type(trial_df)"
   ]
  },
  {
   "cell_type": "markdown",
   "id": "178d41cd",
   "metadata": {},
   "source": [
    "If we only want to see a small version of the `DataFrame` we can use the `.head()` _method_."
   ]
  },
  {
   "cell_type": "code",
   "execution_count": 6,
   "id": "ae504c10",
   "metadata": {},
   "outputs": [
    {
     "data": {
      "text/html": [
       "<div>\n",
       "<style scoped>\n",
       "    .dataframe tbody tr th:only-of-type {\n",
       "        vertical-align: middle;\n",
       "    }\n",
       "\n",
       "    .dataframe tbody tr th {\n",
       "        vertical-align: top;\n",
       "    }\n",
       "\n",
       "    .dataframe thead th {\n",
       "        text-align: right;\n",
       "    }\n",
       "</style>\n",
       "<table border=\"1\" class=\"dataframe\">\n",
       "  <thead>\n",
       "    <tr style=\"text-align: right;\">\n",
       "      <th></th>\n",
       "      <th>age</th>\n",
       "      <th>age_initial_infection</th>\n",
       "      <th>initial_viral_load</th>\n",
       "      <th>treatment</th>\n",
       "      <th>weeks_to_failure</th>\n",
       "    </tr>\n",
       "  </thead>\n",
       "  <tbody>\n",
       "    <tr>\n",
       "      <th>0</th>\n",
       "      <td>55</td>\n",
       "      <td>26</td>\n",
       "      <td>66</td>\n",
       "      <td>False</td>\n",
       "      <td>3</td>\n",
       "    </tr>\n",
       "    <tr>\n",
       "      <th>1</th>\n",
       "      <td>48</td>\n",
       "      <td>26</td>\n",
       "      <td>66</td>\n",
       "      <td>False</td>\n",
       "      <td>4</td>\n",
       "    </tr>\n",
       "    <tr>\n",
       "      <th>2</th>\n",
       "      <td>45</td>\n",
       "      <td>36</td>\n",
       "      <td>32</td>\n",
       "      <td>True</td>\n",
       "      <td>6</td>\n",
       "    </tr>\n",
       "    <tr>\n",
       "      <th>3</th>\n",
       "      <td>43</td>\n",
       "      <td>31</td>\n",
       "      <td>23</td>\n",
       "      <td>False</td>\n",
       "      <td>5</td>\n",
       "    </tr>\n",
       "    <tr>\n",
       "      <th>4</th>\n",
       "      <td>40</td>\n",
       "      <td>20</td>\n",
       "      <td>45</td>\n",
       "      <td>True</td>\n",
       "      <td>5</td>\n",
       "    </tr>\n",
       "  </tbody>\n",
       "</table>\n",
       "</div>"
      ],
      "text/plain": [
       "   age  age_initial_infection  initial_viral_load  treatment  weeks_to_failure\n",
       "0   55                     26                  66      False                 3\n",
       "1   48                     26                  66      False                 4\n",
       "2   45                     36                  32       True                 6\n",
       "3   43                     31                  23      False                 5\n",
       "4   40                     20                  45       True                 5"
      ]
     },
     "execution_count": 6,
     "metadata": {},
     "output_type": "execute_result"
    }
   ],
   "source": [
    "trial_df.head()"
   ]
  },
  {
   "cell_type": "markdown",
   "id": "a8f3d71d",
   "metadata": {},
   "source": [
    "## Acting on Columns"
   ]
  },
  {
   "cell_type": "markdown",
   "id": "ecd76b92",
   "metadata": {},
   "source": [
    "We can reference each column by name using square brackets `[]`.\n",
    "For example: Extracting the `age` column like so:"
   ]
  },
  {
   "cell_type": "code",
   "execution_count": 7,
   "id": "b90abdfd",
   "metadata": {},
   "outputs": [
    {
     "data": {
      "text/plain": [
       "0     55\n",
       "1     48\n",
       "2     45\n",
       "3     43\n",
       "4     40\n",
       "5     42\n",
       "6     55\n",
       "7     56\n",
       "8     59\n",
       "9     51\n",
       "10    55\n",
       "11    53\n",
       "12    40\n",
       "13    48\n",
       "14    56\n",
       "15    53\n",
       "16    57\n",
       "17    48\n",
       "18    51\n",
       "19    55\n",
       "20    43\n",
       "21    48\n",
       "22    51\n",
       "23    43\n",
       "24    51\n",
       "25    49\n",
       "26    54\n",
       "27    45\n",
       "28    59\n",
       "29    51\n",
       "Name: age, dtype: int64"
      ]
     },
     "execution_count": 7,
     "metadata": {},
     "output_type": "execute_result"
    }
   ],
   "source": [
    "trial_df['age']"
   ]
  },
  {
   "cell_type": "markdown",
   "id": "603f46f2",
   "metadata": {},
   "source": [
    "### Q1: Extract the `initial_viral_load` column ?"
   ]
  },
  {
   "cell_type": "markdown",
   "id": "e313263a",
   "metadata": {
    "tags": [
     "remove_cell"
    ]
   },
   "source": [
    "|               |    |\n",
    "| --------------|----|\n",
    "| Points        | 2  |\n",
    "| Public Checks | 2  |\n",
    "| Hidden Tests  | 0  |\n",
    "\n",
    "_Points:_ 2"
   ]
  },
  {
   "cell_type": "code",
   "execution_count": 8,
   "id": "2b0f12b6",
   "metadata": {
    "tags": [
     "otter_assign_solution_cell"
    ]
   },
   "outputs": [],
   "source": [
    "init_vl = trial_df['initial_viral_load']  # SOLUTION"
   ]
  },
  {
   "cell_type": "code",
   "execution_count": null,
   "id": "3ae99b98",
   "metadata": {
    "deletable": false,
    "editable": false
   },
   "outputs": [],
   "source": [
    "grader.check(\"q1_init_vl\")"
   ]
  },
  {
   "cell_type": "markdown",
   "id": "ccd0c94d",
   "metadata": {},
   "source": [
    "Once we can extract columns, we can start summarizing them."
   ]
  },
  {
   "cell_type": "code",
   "execution_count": 11,
   "id": "e3429c9b",
   "metadata": {},
   "outputs": [
    {
     "name": "stdout",
     "output_type": "stream",
     "text": [
      "The mean age of the population is 50.1 yrs.\n"
     ]
    }
   ],
   "source": [
    "age_col = trial_df['age']\n",
    "age_mean = age_col.mean()\n",
    "print(f'The mean age of the population is {age_mean:0.1f} yrs.')"
   ]
  },
  {
   "cell_type": "markdown",
   "id": "10800f3c",
   "metadata": {},
   "source": [
    "Expressions can also be _chained_. \n",
    "They are functionally the same, the only difference is aesthetic. "
   ]
  },
  {
   "cell_type": "code",
   "execution_count": 12,
   "id": "309e5c3c",
   "metadata": {},
   "outputs": [
    {
     "name": "stdout",
     "output_type": "stream",
     "text": [
      "The mean age of the population is 50.1 yrs, even when done on a single line.\n"
     ]
    }
   ],
   "source": [
    "age_mean_short = trial_df['age'].mean()\n",
    "print(f'The mean age of the population is {age_mean_short:0.1f} yrs, even when done on a single line.')"
   ]
  },
  {
   "cell_type": "markdown",
   "id": "648922bf",
   "metadata": {},
   "source": [
    "### Q2: Calculate the average `weeks_to_failure` for the whole population?\n",
    "\n"
   ]
  },
  {
   "cell_type": "markdown",
   "id": "66722c20",
   "metadata": {
    "tags": [
     "remove_cell"
    ]
   },
   "source": [
    "|               |    |\n",
    "| --------------|----|\n",
    "| Points        | 2  |\n",
    "| Public Checks | 2  |\n",
    "| Hidden Tests  | 0  |\n",
    "\n",
    "_Points:_ 2"
   ]
  },
  {
   "cell_type": "code",
   "execution_count": 13,
   "id": "fed5ab18",
   "metadata": {
    "tags": [
     "otter_assign_solution_cell"
    ]
   },
   "outputs": [],
   "source": [
    "average_weeks = trial_df['weeks_to_failure'].mean()  # SOLUTION"
   ]
  },
  {
   "cell_type": "code",
   "execution_count": null,
   "id": "0abd3c40",
   "metadata": {
    "deletable": false,
    "editable": false
   },
   "outputs": [],
   "source": [
    "grader.check(\"q2_pop_weeks_to_failure\")"
   ]
  },
  {
   "cell_type": "markdown",
   "id": "5057b220",
   "metadata": {},
   "source": [
    "We can also summarize an entire `DataFrame` with a single command."
   ]
  },
  {
   "cell_type": "code",
   "execution_count": 15,
   "id": "35773545",
   "metadata": {},
   "outputs": [
    {
     "data": {
      "text/plain": [
       "age                      50.133333\n",
       "age_initial_infection    34.366667\n",
       "initial_viral_load       54.266667\n",
       "treatment                 0.400000\n",
       "weeks_to_failure          4.900000\n",
       "dtype: float64"
      ]
     },
     "execution_count": 15,
     "metadata": {},
     "output_type": "execute_result"
    }
   ],
   "source": [
    "trial_df.mean()"
   ]
  },
  {
   "cell_type": "markdown",
   "id": "c3994b3b",
   "metadata": {},
   "source": [
    "In this case the summary went _down_ the columns and calculated a mean for each."
   ]
  },
  {
   "cell_type": "markdown",
   "id": "1dcb50c3",
   "metadata": {},
   "source": [
    "There are a number of other summarization _methods_.\n",
    " - `max()`\n",
    " - `min()`\n",
    " - `mode()`\n",
    " - `median()`\n",
    " - `var()`\n",
    " - `std()`\n",
    " - `nunique()`"
   ]
  },
  {
   "cell_type": "markdown",
   "id": "2a5e39e0",
   "metadata": {},
   "source": [
    "```{note}\n",
    ":class: dropdown\n",
    "Methods, are functions that are attached to an `object`.\n",
    "They usually act on the object to provide a summary, perform a transformation, or otherwise utilize the information within the object.\n",
    "In this case, these summarization methods utilize the information within the `trial_df` dataframe to summarize each column.\n",
    "```"
   ]
  },
  {
   "cell_type": "code",
   "execution_count": 16,
   "id": "58d1c909",
   "metadata": {},
   "outputs": [
    {
     "data": {
      "text/html": [
       "<div>\n",
       "<style scoped>\n",
       "    .dataframe tbody tr th:only-of-type {\n",
       "        vertical-align: middle;\n",
       "    }\n",
       "\n",
       "    .dataframe tbody tr th {\n",
       "        vertical-align: top;\n",
       "    }\n",
       "\n",
       "    .dataframe thead th {\n",
       "        text-align: right;\n",
       "    }\n",
       "</style>\n",
       "<table border=\"1\" class=\"dataframe\">\n",
       "  <thead>\n",
       "    <tr style=\"text-align: right;\">\n",
       "      <th></th>\n",
       "      <th>age</th>\n",
       "      <th>age_initial_infection</th>\n",
       "      <th>initial_viral_load</th>\n",
       "      <th>weeks_to_failure</th>\n",
       "    </tr>\n",
       "  </thead>\n",
       "  <tbody>\n",
       "    <tr>\n",
       "      <th>count</th>\n",
       "      <td>30.000000</td>\n",
       "      <td>30.000000</td>\n",
       "      <td>30.000000</td>\n",
       "      <td>30.000000</td>\n",
       "    </tr>\n",
       "    <tr>\n",
       "      <th>mean</th>\n",
       "      <td>50.133333</td>\n",
       "      <td>34.366667</td>\n",
       "      <td>54.266667</td>\n",
       "      <td>4.900000</td>\n",
       "    </tr>\n",
       "    <tr>\n",
       "      <th>std</th>\n",
       "      <td>5.569209</td>\n",
       "      <td>9.041984</td>\n",
       "      <td>24.070204</td>\n",
       "      <td>2.202663</td>\n",
       "    </tr>\n",
       "    <tr>\n",
       "      <th>min</th>\n",
       "      <td>40.000000</td>\n",
       "      <td>20.000000</td>\n",
       "      <td>22.000000</td>\n",
       "      <td>1.000000</td>\n",
       "    </tr>\n",
       "    <tr>\n",
       "      <th>25%</th>\n",
       "      <td>45.750000</td>\n",
       "      <td>26.250000</td>\n",
       "      <td>36.500000</td>\n",
       "      <td>3.250000</td>\n",
       "    </tr>\n",
       "    <tr>\n",
       "      <th>50%</th>\n",
       "      <td>51.000000</td>\n",
       "      <td>34.000000</td>\n",
       "      <td>48.500000</td>\n",
       "      <td>5.000000</td>\n",
       "    </tr>\n",
       "    <tr>\n",
       "      <th>75%</th>\n",
       "      <td>55.000000</td>\n",
       "      <td>41.750000</td>\n",
       "      <td>72.000000</td>\n",
       "      <td>6.750000</td>\n",
       "    </tr>\n",
       "    <tr>\n",
       "      <th>max</th>\n",
       "      <td>59.000000</td>\n",
       "      <td>50.000000</td>\n",
       "      <td>99.000000</td>\n",
       "      <td>9.000000</td>\n",
       "    </tr>\n",
       "  </tbody>\n",
       "</table>\n",
       "</div>"
      ],
      "text/plain": [
       "             age  age_initial_infection  initial_viral_load  weeks_to_failure\n",
       "count  30.000000              30.000000           30.000000         30.000000\n",
       "mean   50.133333              34.366667           54.266667          4.900000\n",
       "std     5.569209               9.041984           24.070204          2.202663\n",
       "min    40.000000              20.000000           22.000000          1.000000\n",
       "25%    45.750000              26.250000           36.500000          3.250000\n",
       "50%    51.000000              34.000000           48.500000          5.000000\n",
       "75%    55.000000              41.750000           72.000000          6.750000\n",
       "max    59.000000              50.000000           99.000000          9.000000"
      ]
     },
     "execution_count": 16,
     "metadata": {},
     "output_type": "execute_result"
    }
   ],
   "source": [
    "trial_df.describe()"
   ]
  },
  {
   "cell_type": "markdown",
   "id": "e207f980",
   "metadata": {},
   "source": [
    "Selecting columns is nice.\n",
    "We can also add a new column based on another one.\n",
    "\n",
    "In HIV research it is often important to know how long someone has been living with HIV.\n",
    "However, this dataset contains their current age, and their age at infection.\n",
    "We can use these two to calculate the length."
   ]
  },
  {
   "cell_type": "code",
   "execution_count": 17,
   "id": "29949f99",
   "metadata": {},
   "outputs": [
    {
     "data": {
      "text/html": [
       "<div>\n",
       "<style scoped>\n",
       "    .dataframe tbody tr th:only-of-type {\n",
       "        vertical-align: middle;\n",
       "    }\n",
       "\n",
       "    .dataframe tbody tr th {\n",
       "        vertical-align: top;\n",
       "    }\n",
       "\n",
       "    .dataframe thead th {\n",
       "        text-align: right;\n",
       "    }\n",
       "</style>\n",
       "<table border=\"1\" class=\"dataframe\">\n",
       "  <thead>\n",
       "    <tr style=\"text-align: right;\">\n",
       "      <th></th>\n",
       "      <th>age</th>\n",
       "      <th>age_initial_infection</th>\n",
       "      <th>initial_viral_load</th>\n",
       "      <th>treatment</th>\n",
       "      <th>weeks_to_failure</th>\n",
       "      <th>years_infected</th>\n",
       "    </tr>\n",
       "  </thead>\n",
       "  <tbody>\n",
       "    <tr>\n",
       "      <th>0</th>\n",
       "      <td>55</td>\n",
       "      <td>26</td>\n",
       "      <td>66</td>\n",
       "      <td>False</td>\n",
       "      <td>3</td>\n",
       "      <td>29</td>\n",
       "    </tr>\n",
       "    <tr>\n",
       "      <th>1</th>\n",
       "      <td>48</td>\n",
       "      <td>26</td>\n",
       "      <td>66</td>\n",
       "      <td>False</td>\n",
       "      <td>4</td>\n",
       "      <td>22</td>\n",
       "    </tr>\n",
       "    <tr>\n",
       "      <th>2</th>\n",
       "      <td>45</td>\n",
       "      <td>36</td>\n",
       "      <td>32</td>\n",
       "      <td>True</td>\n",
       "      <td>6</td>\n",
       "      <td>9</td>\n",
       "    </tr>\n",
       "    <tr>\n",
       "      <th>3</th>\n",
       "      <td>43</td>\n",
       "      <td>31</td>\n",
       "      <td>23</td>\n",
       "      <td>False</td>\n",
       "      <td>5</td>\n",
       "      <td>12</td>\n",
       "    </tr>\n",
       "    <tr>\n",
       "      <th>4</th>\n",
       "      <td>40</td>\n",
       "      <td>20</td>\n",
       "      <td>45</td>\n",
       "      <td>True</td>\n",
       "      <td>5</td>\n",
       "      <td>20</td>\n",
       "    </tr>\n",
       "  </tbody>\n",
       "</table>\n",
       "</div>"
      ],
      "text/plain": [
       "   age  age_initial_infection  initial_viral_load  treatment  \\\n",
       "0   55                     26                  66      False   \n",
       "1   48                     26                  66      False   \n",
       "2   45                     36                  32       True   \n",
       "3   43                     31                  23      False   \n",
       "4   40                     20                  45       True   \n",
       "\n",
       "   weeks_to_failure  years_infected  \n",
       "0                 3              29  \n",
       "1                 4              22  \n",
       "2                 6               9  \n",
       "3                 5              12  \n",
       "4                 5              20  "
      ]
     },
     "execution_count": 17,
     "metadata": {},
     "output_type": "execute_result"
    }
   ],
   "source": [
    "# first make a new `Series`\n",
    "years_infected = trial_df['age'] - trial_df['age_initial_infection']\n",
    "\n",
    "# Then add that series into the table\n",
    "trial_df['years_infected'] = years_infected\n",
    "trial_df.head()"
   ]
  },
  {
   "cell_type": "code",
   "execution_count": 18,
   "id": "7635be44",
   "metadata": {},
   "outputs": [
    {
     "data": {
      "text/html": [
       "<div>\n",
       "<style scoped>\n",
       "    .dataframe tbody tr th:only-of-type {\n",
       "        vertical-align: middle;\n",
       "    }\n",
       "\n",
       "    .dataframe tbody tr th {\n",
       "        vertical-align: top;\n",
       "    }\n",
       "\n",
       "    .dataframe thead th {\n",
       "        text-align: right;\n",
       "    }\n",
       "</style>\n",
       "<table border=\"1\" class=\"dataframe\">\n",
       "  <thead>\n",
       "    <tr style=\"text-align: right;\">\n",
       "      <th></th>\n",
       "      <th>age</th>\n",
       "      <th>age_initial_infection</th>\n",
       "      <th>initial_viral_load</th>\n",
       "      <th>treatment</th>\n",
       "      <th>weeks_to_failure</th>\n",
       "      <th>years_infected</th>\n",
       "    </tr>\n",
       "  </thead>\n",
       "  <tbody>\n",
       "    <tr>\n",
       "      <th>0</th>\n",
       "      <td>55</td>\n",
       "      <td>26</td>\n",
       "      <td>66</td>\n",
       "      <td>False</td>\n",
       "      <td>3</td>\n",
       "      <td>29</td>\n",
       "    </tr>\n",
       "    <tr>\n",
       "      <th>1</th>\n",
       "      <td>48</td>\n",
       "      <td>26</td>\n",
       "      <td>66</td>\n",
       "      <td>False</td>\n",
       "      <td>4</td>\n",
       "      <td>22</td>\n",
       "    </tr>\n",
       "    <tr>\n",
       "      <th>2</th>\n",
       "      <td>45</td>\n",
       "      <td>36</td>\n",
       "      <td>32</td>\n",
       "      <td>True</td>\n",
       "      <td>6</td>\n",
       "      <td>9</td>\n",
       "    </tr>\n",
       "    <tr>\n",
       "      <th>3</th>\n",
       "      <td>43</td>\n",
       "      <td>31</td>\n",
       "      <td>23</td>\n",
       "      <td>False</td>\n",
       "      <td>5</td>\n",
       "      <td>12</td>\n",
       "    </tr>\n",
       "    <tr>\n",
       "      <th>4</th>\n",
       "      <td>40</td>\n",
       "      <td>20</td>\n",
       "      <td>45</td>\n",
       "      <td>True</td>\n",
       "      <td>5</td>\n",
       "      <td>20</td>\n",
       "    </tr>\n",
       "  </tbody>\n",
       "</table>\n",
       "</div>"
      ],
      "text/plain": [
       "   age  age_initial_infection  initial_viral_load  treatment  \\\n",
       "0   55                     26                  66      False   \n",
       "1   48                     26                  66      False   \n",
       "2   45                     36                  32       True   \n",
       "3   43                     31                  23      False   \n",
       "4   40                     20                  45       True   \n",
       "\n",
       "   weeks_to_failure  years_infected  \n",
       "0                 3              29  \n",
       "1                 4              22  \n",
       "2                 6               9  \n",
       "3                 5              12  \n",
       "4                 5              20  "
      ]
     },
     "execution_count": 18,
     "metadata": {},
     "output_type": "execute_result"
    }
   ],
   "source": [
    "# Alternatively\n",
    "trial_df['years_infected'] = trial_df['age'] - trial_df['age_initial_infection']\n",
    "trial_df.head()"
   ]
  },
  {
   "cell_type": "markdown",
   "id": "f46af772",
   "metadata": {},
   "source": [
    "## Acting on Rows"
   ]
  },
  {
   "cell_type": "markdown",
   "id": "5280b363",
   "metadata": {},
   "source": [
    "### Indexing"
   ]
  },
  {
   "cell_type": "markdown",
   "id": "143bf3e8",
   "metadata": {},
   "source": [
    "When selecting rows, or rows and columns, we need to use the `.loc` attribute of the `DataFrame`.\n",
    "\n",
    "We can select by row number."
   ]
  },
  {
   "cell_type": "code",
   "execution_count": 19,
   "id": "4d201920",
   "metadata": {},
   "outputs": [
    {
     "data": {
      "text/plain": [
       "age                         55\n",
       "age_initial_infection       26\n",
       "initial_viral_load          66\n",
       "treatment                False\n",
       "weeks_to_failure             3\n",
       "years_infected              29\n",
       "Name: 0, dtype: object"
      ]
     },
     "execution_count": 19,
     "metadata": {},
     "output_type": "execute_result"
    }
   ],
   "source": [
    "trial_df.loc[0]"
   ]
  },
  {
   "cell_type": "code",
   "execution_count": 20,
   "id": "871eb795",
   "metadata": {},
   "outputs": [
    {
     "data": {
      "text/html": [
       "<div>\n",
       "<style scoped>\n",
       "    .dataframe tbody tr th:only-of-type {\n",
       "        vertical-align: middle;\n",
       "    }\n",
       "\n",
       "    .dataframe tbody tr th {\n",
       "        vertical-align: top;\n",
       "    }\n",
       "\n",
       "    .dataframe thead th {\n",
       "        text-align: right;\n",
       "    }\n",
       "</style>\n",
       "<table border=\"1\" class=\"dataframe\">\n",
       "  <thead>\n",
       "    <tr style=\"text-align: right;\">\n",
       "      <th></th>\n",
       "      <th>age</th>\n",
       "      <th>age_initial_infection</th>\n",
       "      <th>initial_viral_load</th>\n",
       "      <th>treatment</th>\n",
       "      <th>weeks_to_failure</th>\n",
       "      <th>years_infected</th>\n",
       "    </tr>\n",
       "  </thead>\n",
       "  <tbody>\n",
       "    <tr>\n",
       "      <th>0</th>\n",
       "      <td>55</td>\n",
       "      <td>26</td>\n",
       "      <td>66</td>\n",
       "      <td>False</td>\n",
       "      <td>3</td>\n",
       "      <td>29</td>\n",
       "    </tr>\n",
       "    <tr>\n",
       "      <th>1</th>\n",
       "      <td>48</td>\n",
       "      <td>26</td>\n",
       "      <td>66</td>\n",
       "      <td>False</td>\n",
       "      <td>4</td>\n",
       "      <td>22</td>\n",
       "    </tr>\n",
       "    <tr>\n",
       "      <th>2</th>\n",
       "      <td>45</td>\n",
       "      <td>36</td>\n",
       "      <td>32</td>\n",
       "      <td>True</td>\n",
       "      <td>6</td>\n",
       "      <td>9</td>\n",
       "    </tr>\n",
       "    <tr>\n",
       "      <th>3</th>\n",
       "      <td>43</td>\n",
       "      <td>31</td>\n",
       "      <td>23</td>\n",
       "      <td>False</td>\n",
       "      <td>5</td>\n",
       "      <td>12</td>\n",
       "    </tr>\n",
       "    <tr>\n",
       "      <th>4</th>\n",
       "      <td>40</td>\n",
       "      <td>20</td>\n",
       "      <td>45</td>\n",
       "      <td>True</td>\n",
       "      <td>5</td>\n",
       "      <td>20</td>\n",
       "    </tr>\n",
       "    <tr>\n",
       "      <th>5</th>\n",
       "      <td>42</td>\n",
       "      <td>20</td>\n",
       "      <td>57</td>\n",
       "      <td>True</td>\n",
       "      <td>9</td>\n",
       "      <td>22</td>\n",
       "    </tr>\n",
       "    <tr>\n",
       "      <th>6</th>\n",
       "      <td>55</td>\n",
       "      <td>31</td>\n",
       "      <td>23</td>\n",
       "      <td>False</td>\n",
       "      <td>4</td>\n",
       "      <td>24</td>\n",
       "    </tr>\n",
       "    <tr>\n",
       "      <th>7</th>\n",
       "      <td>56</td>\n",
       "      <td>50</td>\n",
       "      <td>22</td>\n",
       "      <td>False</td>\n",
       "      <td>4</td>\n",
       "      <td>6</td>\n",
       "    </tr>\n",
       "    <tr>\n",
       "      <th>8</th>\n",
       "      <td>59</td>\n",
       "      <td>33</td>\n",
       "      <td>33</td>\n",
       "      <td>False</td>\n",
       "      <td>5</td>\n",
       "      <td>26</td>\n",
       "    </tr>\n",
       "    <tr>\n",
       "      <th>9</th>\n",
       "      <td>51</td>\n",
       "      <td>30</td>\n",
       "      <td>49</td>\n",
       "      <td>True</td>\n",
       "      <td>7</td>\n",
       "      <td>21</td>\n",
       "    </tr>\n",
       "    <tr>\n",
       "      <th>10</th>\n",
       "      <td>55</td>\n",
       "      <td>21</td>\n",
       "      <td>94</td>\n",
       "      <td>False</td>\n",
       "      <td>3</td>\n",
       "      <td>34</td>\n",
       "    </tr>\n",
       "  </tbody>\n",
       "</table>\n",
       "</div>"
      ],
      "text/plain": [
       "    age  age_initial_infection  initial_viral_load  treatment  \\\n",
       "0    55                     26                  66      False   \n",
       "1    48                     26                  66      False   \n",
       "2    45                     36                  32       True   \n",
       "3    43                     31                  23      False   \n",
       "4    40                     20                  45       True   \n",
       "5    42                     20                  57       True   \n",
       "6    55                     31                  23      False   \n",
       "7    56                     50                  22      False   \n",
       "8    59                     33                  33      False   \n",
       "9    51                     30                  49       True   \n",
       "10   55                     21                  94      False   \n",
       "\n",
       "    weeks_to_failure  years_infected  \n",
       "0                  3              29  \n",
       "1                  4              22  \n",
       "2                  6               9  \n",
       "3                  5              12  \n",
       "4                  5              20  \n",
       "5                  9              22  \n",
       "6                  4              24  \n",
       "7                  4               6  \n",
       "8                  5              26  \n",
       "9                  7              21  \n",
       "10                 3              34  "
      ]
     },
     "execution_count": 20,
     "metadata": {},
     "output_type": "execute_result"
    }
   ],
   "source": [
    "# We can use a : to indicate a range.\n",
    "trial_df.loc[0:10]"
   ]
  },
  {
   "cell_type": "code",
   "execution_count": 21,
   "id": "41adf085",
   "metadata": {},
   "outputs": [
    {
     "data": {
      "text/html": [
       "<div>\n",
       "<style scoped>\n",
       "    .dataframe tbody tr th:only-of-type {\n",
       "        vertical-align: middle;\n",
       "    }\n",
       "\n",
       "    .dataframe tbody tr th {\n",
       "        vertical-align: top;\n",
       "    }\n",
       "\n",
       "    .dataframe thead th {\n",
       "        text-align: right;\n",
       "    }\n",
       "</style>\n",
       "<table border=\"1\" class=\"dataframe\">\n",
       "  <thead>\n",
       "    <tr style=\"text-align: right;\">\n",
       "      <th></th>\n",
       "      <th>age</th>\n",
       "      <th>age_initial_infection</th>\n",
       "      <th>initial_viral_load</th>\n",
       "      <th>treatment</th>\n",
       "      <th>weeks_to_failure</th>\n",
       "      <th>years_infected</th>\n",
       "    </tr>\n",
       "  </thead>\n",
       "  <tbody>\n",
       "    <tr>\n",
       "      <th>0</th>\n",
       "      <td>55</td>\n",
       "      <td>26</td>\n",
       "      <td>66</td>\n",
       "      <td>False</td>\n",
       "      <td>3</td>\n",
       "      <td>29</td>\n",
       "    </tr>\n",
       "    <tr>\n",
       "      <th>5</th>\n",
       "      <td>42</td>\n",
       "      <td>20</td>\n",
       "      <td>57</td>\n",
       "      <td>True</td>\n",
       "      <td>9</td>\n",
       "      <td>22</td>\n",
       "    </tr>\n",
       "    <tr>\n",
       "      <th>7</th>\n",
       "      <td>56</td>\n",
       "      <td>50</td>\n",
       "      <td>22</td>\n",
       "      <td>False</td>\n",
       "      <td>4</td>\n",
       "      <td>6</td>\n",
       "    </tr>\n",
       "    <tr>\n",
       "      <th>13</th>\n",
       "      <td>48</td>\n",
       "      <td>41</td>\n",
       "      <td>99</td>\n",
       "      <td>False</td>\n",
       "      <td>3</td>\n",
       "      <td>7</td>\n",
       "    </tr>\n",
       "  </tbody>\n",
       "</table>\n",
       "</div>"
      ],
      "text/plain": [
       "    age  age_initial_infection  initial_viral_load  treatment  \\\n",
       "0    55                     26                  66      False   \n",
       "5    42                     20                  57       True   \n",
       "7    56                     50                  22      False   \n",
       "13   48                     41                  99      False   \n",
       "\n",
       "    weeks_to_failure  years_infected  \n",
       "0                  3              29  \n",
       "5                  9              22  \n",
       "7                  4               6  \n",
       "13                 3               7  "
      ]
     },
     "execution_count": 21,
     "metadata": {},
     "output_type": "execute_result"
    }
   ],
   "source": [
    "# We can provide an arbitrary list\n",
    "trial_df.loc[[0, 5, 7, 13]]"
   ]
  },
  {
   "cell_type": "code",
   "execution_count": 22,
   "id": "966d49e5",
   "metadata": {},
   "outputs": [
    {
     "data": {
      "text/html": [
       "<div>\n",
       "<style scoped>\n",
       "    .dataframe tbody tr th:only-of-type {\n",
       "        vertical-align: middle;\n",
       "    }\n",
       "\n",
       "    .dataframe tbody tr th {\n",
       "        vertical-align: top;\n",
       "    }\n",
       "\n",
       "    .dataframe thead th {\n",
       "        text-align: right;\n",
       "    }\n",
       "</style>\n",
       "<table border=\"1\" class=\"dataframe\">\n",
       "  <thead>\n",
       "    <tr style=\"text-align: right;\">\n",
       "      <th></th>\n",
       "      <th>initial_viral_load</th>\n",
       "      <th>age</th>\n",
       "    </tr>\n",
       "  </thead>\n",
       "  <tbody>\n",
       "    <tr>\n",
       "      <th>0</th>\n",
       "      <td>66</td>\n",
       "      <td>55</td>\n",
       "    </tr>\n",
       "    <tr>\n",
       "      <th>5</th>\n",
       "      <td>57</td>\n",
       "      <td>42</td>\n",
       "    </tr>\n",
       "    <tr>\n",
       "      <th>7</th>\n",
       "      <td>22</td>\n",
       "      <td>56</td>\n",
       "    </tr>\n",
       "    <tr>\n",
       "      <th>13</th>\n",
       "      <td>99</td>\n",
       "      <td>48</td>\n",
       "    </tr>\n",
       "  </tbody>\n",
       "</table>\n",
       "</div>"
      ],
      "text/plain": [
       "    initial_viral_load  age\n",
       "0                   66   55\n",
       "5                   57   42\n",
       "7                   22   56\n",
       "13                  99   48"
      ]
     },
     "execution_count": 22,
     "metadata": {},
     "output_type": "execute_result"
    }
   ],
   "source": [
    "# We can also select columns at the same time.\n",
    "trial_df.loc[[0, 5, 7, 13], ['initial_viral_load', 'age']]"
   ]
  },
  {
   "cell_type": "markdown",
   "id": "c1177e13",
   "metadata": {},
   "source": [
    "### Boolean Indexing"
   ]
  },
  {
   "cell_type": "markdown",
   "id": "32c7c1a1",
   "metadata": {},
   "source": [
    "If we do not know the row number ahead of time, but instead want to select rows based on their values, we can using boolean indexing.\n",
    "In this stragey we create a new `pd.Series` of True/False values where True corresponds to the ones we want."
   ]
  },
  {
   "cell_type": "markdown",
   "id": "9b2b0d61",
   "metadata": {},
   "source": [
    "Start by finding everyone over 50 years old."
   ]
  },
  {
   "cell_type": "code",
   "execution_count": 23,
   "id": "088b0e50",
   "metadata": {},
   "outputs": [
    {
     "data": {
      "text/html": [
       "<div>\n",
       "<style scoped>\n",
       "    .dataframe tbody tr th:only-of-type {\n",
       "        vertical-align: middle;\n",
       "    }\n",
       "\n",
       "    .dataframe tbody tr th {\n",
       "        vertical-align: top;\n",
       "    }\n",
       "\n",
       "    .dataframe thead th {\n",
       "        text-align: right;\n",
       "    }\n",
       "</style>\n",
       "<table border=\"1\" class=\"dataframe\">\n",
       "  <thead>\n",
       "    <tr style=\"text-align: right;\">\n",
       "      <th></th>\n",
       "      <th>age</th>\n",
       "      <th>age_initial_infection</th>\n",
       "      <th>initial_viral_load</th>\n",
       "      <th>treatment</th>\n",
       "      <th>weeks_to_failure</th>\n",
       "      <th>years_infected</th>\n",
       "    </tr>\n",
       "  </thead>\n",
       "  <tbody>\n",
       "    <tr>\n",
       "      <th>0</th>\n",
       "      <td>55</td>\n",
       "      <td>26</td>\n",
       "      <td>66</td>\n",
       "      <td>False</td>\n",
       "      <td>3</td>\n",
       "      <td>29</td>\n",
       "    </tr>\n",
       "    <tr>\n",
       "      <th>6</th>\n",
       "      <td>55</td>\n",
       "      <td>31</td>\n",
       "      <td>23</td>\n",
       "      <td>False</td>\n",
       "      <td>4</td>\n",
       "      <td>24</td>\n",
       "    </tr>\n",
       "    <tr>\n",
       "      <th>7</th>\n",
       "      <td>56</td>\n",
       "      <td>50</td>\n",
       "      <td>22</td>\n",
       "      <td>False</td>\n",
       "      <td>4</td>\n",
       "      <td>6</td>\n",
       "    </tr>\n",
       "    <tr>\n",
       "      <th>8</th>\n",
       "      <td>59</td>\n",
       "      <td>33</td>\n",
       "      <td>33</td>\n",
       "      <td>False</td>\n",
       "      <td>5</td>\n",
       "      <td>26</td>\n",
       "    </tr>\n",
       "    <tr>\n",
       "      <th>9</th>\n",
       "      <td>51</td>\n",
       "      <td>30</td>\n",
       "      <td>49</td>\n",
       "      <td>True</td>\n",
       "      <td>7</td>\n",
       "      <td>21</td>\n",
       "    </tr>\n",
       "  </tbody>\n",
       "</table>\n",
       "</div>"
      ],
      "text/plain": [
       "   age  age_initial_infection  initial_viral_load  treatment  \\\n",
       "0   55                     26                  66      False   \n",
       "6   55                     31                  23      False   \n",
       "7   56                     50                  22      False   \n",
       "8   59                     33                  33      False   \n",
       "9   51                     30                  49       True   \n",
       "\n",
       "   weeks_to_failure  years_infected  \n",
       "0                 3              29  \n",
       "6                 4              24  \n",
       "7                 4               6  \n",
       "8                 5              26  \n",
       "9                 7              21  "
      ]
     },
     "execution_count": 23,
     "metadata": {},
     "output_type": "execute_result"
    }
   ],
   "source": [
    "age_mask = trial_df['age'] > 50\n",
    "aged_samples = trial_df.loc[age_mask]\n",
    "aged_samples.head()"
   ]
  },
  {
   "cell_type": "markdown",
   "id": "7e2fe371",
   "metadata": {},
   "source": [
    "```{note}\n",
    ":class: dropdown\n",
    "I often use the suffix `_mask` when I create boolean indexes.\n",
    "It is not required, but utilizing naming conventions makes your code easier to understand by yourself and others.\n",
    "```"
   ]
  },
  {
   "cell_type": "markdown",
   "id": "63f13896",
   "metadata": {},
   "source": [
    "Now, if we also wanted to split by the initial_viral_load we might do:"
   ]
  },
  {
   "cell_type": "code",
   "execution_count": 24,
   "id": "64f0af8d",
   "metadata": {},
   "outputs": [],
   "source": [
    "high_vl_mask = trial_df['initial_viral_load'] > 50"
   ]
  },
  {
   "cell_type": "code",
   "execution_count": 25,
   "id": "2b539fb6",
   "metadata": {},
   "outputs": [
    {
     "data": {
      "text/html": [
       "<div>\n",
       "<style scoped>\n",
       "    .dataframe tbody tr th:only-of-type {\n",
       "        vertical-align: middle;\n",
       "    }\n",
       "\n",
       "    .dataframe tbody tr th {\n",
       "        vertical-align: top;\n",
       "    }\n",
       "\n",
       "    .dataframe thead th {\n",
       "        text-align: right;\n",
       "    }\n",
       "</style>\n",
       "<table border=\"1\" class=\"dataframe\">\n",
       "  <thead>\n",
       "    <tr style=\"text-align: right;\">\n",
       "      <th></th>\n",
       "      <th>age</th>\n",
       "      <th>age_initial_infection</th>\n",
       "      <th>initial_viral_load</th>\n",
       "      <th>treatment</th>\n",
       "      <th>weeks_to_failure</th>\n",
       "      <th>years_infected</th>\n",
       "    </tr>\n",
       "  </thead>\n",
       "  <tbody>\n",
       "    <tr>\n",
       "      <th>0</th>\n",
       "      <td>55</td>\n",
       "      <td>26</td>\n",
       "      <td>66</td>\n",
       "      <td>False</td>\n",
       "      <td>3</td>\n",
       "      <td>29</td>\n",
       "    </tr>\n",
       "    <tr>\n",
       "      <th>10</th>\n",
       "      <td>55</td>\n",
       "      <td>21</td>\n",
       "      <td>94</td>\n",
       "      <td>False</td>\n",
       "      <td>3</td>\n",
       "      <td>34</td>\n",
       "    </tr>\n",
       "    <tr>\n",
       "      <th>11</th>\n",
       "      <td>53</td>\n",
       "      <td>42</td>\n",
       "      <td>85</td>\n",
       "      <td>True</td>\n",
       "      <td>5</td>\n",
       "      <td>11</td>\n",
       "    </tr>\n",
       "    <tr>\n",
       "      <th>14</th>\n",
       "      <td>56</td>\n",
       "      <td>41</td>\n",
       "      <td>59</td>\n",
       "      <td>False</td>\n",
       "      <td>6</td>\n",
       "      <td>15</td>\n",
       "    </tr>\n",
       "    <tr>\n",
       "      <th>24</th>\n",
       "      <td>51</td>\n",
       "      <td>43</td>\n",
       "      <td>88</td>\n",
       "      <td>False</td>\n",
       "      <td>2</td>\n",
       "      <td>8</td>\n",
       "    </tr>\n",
       "  </tbody>\n",
       "</table>\n",
       "</div>"
      ],
      "text/plain": [
       "    age  age_initial_infection  initial_viral_load  treatment  \\\n",
       "0    55                     26                  66      False   \n",
       "10   55                     21                  94      False   \n",
       "11   53                     42                  85       True   \n",
       "14   56                     41                  59      False   \n",
       "24   51                     43                  88      False   \n",
       "\n",
       "    weeks_to_failure  years_infected  \n",
       "0                  3              29  \n",
       "10                 3              34  \n",
       "11                 5              11  \n",
       "14                 6              15  \n",
       "24                 2               8  "
      ]
     },
     "execution_count": 25,
     "metadata": {},
     "output_type": "execute_result"
    }
   ],
   "source": [
    "aged_high_vl = trial_df.loc[age_mask & high_vl_mask]\n",
    "aged_high_vl.head()"
   ]
  },
  {
   "cell_type": "code",
   "execution_count": 26,
   "id": "72802f50",
   "metadata": {},
   "outputs": [
    {
     "data": {
      "text/html": [
       "<div>\n",
       "<style scoped>\n",
       "    .dataframe tbody tr th:only-of-type {\n",
       "        vertical-align: middle;\n",
       "    }\n",
       "\n",
       "    .dataframe tbody tr th {\n",
       "        vertical-align: top;\n",
       "    }\n",
       "\n",
       "    .dataframe thead th {\n",
       "        text-align: right;\n",
       "    }\n",
       "</style>\n",
       "<table border=\"1\" class=\"dataframe\">\n",
       "  <thead>\n",
       "    <tr style=\"text-align: right;\">\n",
       "      <th></th>\n",
       "      <th>age</th>\n",
       "      <th>age_initial_infection</th>\n",
       "      <th>initial_viral_load</th>\n",
       "      <th>treatment</th>\n",
       "      <th>weeks_to_failure</th>\n",
       "      <th>years_infected</th>\n",
       "    </tr>\n",
       "  </thead>\n",
       "  <tbody>\n",
       "    <tr>\n",
       "      <th>6</th>\n",
       "      <td>55</td>\n",
       "      <td>31</td>\n",
       "      <td>23</td>\n",
       "      <td>False</td>\n",
       "      <td>4</td>\n",
       "      <td>24</td>\n",
       "    </tr>\n",
       "    <tr>\n",
       "      <th>7</th>\n",
       "      <td>56</td>\n",
       "      <td>50</td>\n",
       "      <td>22</td>\n",
       "      <td>False</td>\n",
       "      <td>4</td>\n",
       "      <td>6</td>\n",
       "    </tr>\n",
       "    <tr>\n",
       "      <th>8</th>\n",
       "      <td>59</td>\n",
       "      <td>33</td>\n",
       "      <td>33</td>\n",
       "      <td>False</td>\n",
       "      <td>5</td>\n",
       "      <td>26</td>\n",
       "    </tr>\n",
       "    <tr>\n",
       "      <th>9</th>\n",
       "      <td>51</td>\n",
       "      <td>30</td>\n",
       "      <td>49</td>\n",
       "      <td>True</td>\n",
       "      <td>7</td>\n",
       "      <td>21</td>\n",
       "    </tr>\n",
       "    <tr>\n",
       "      <th>15</th>\n",
       "      <td>53</td>\n",
       "      <td>47</td>\n",
       "      <td>38</td>\n",
       "      <td>True</td>\n",
       "      <td>7</td>\n",
       "      <td>6</td>\n",
       "    </tr>\n",
       "  </tbody>\n",
       "</table>\n",
       "</div>"
      ],
      "text/plain": [
       "    age  age_initial_infection  initial_viral_load  treatment  \\\n",
       "6    55                     31                  23      False   \n",
       "7    56                     50                  22      False   \n",
       "8    59                     33                  33      False   \n",
       "9    51                     30                  49       True   \n",
       "15   53                     47                  38       True   \n",
       "\n",
       "    weeks_to_failure  years_infected  \n",
       "6                  4              24  \n",
       "7                  4               6  \n",
       "8                  5              26  \n",
       "9                  7              21  \n",
       "15                 7               6  "
      ]
     },
     "execution_count": 26,
     "metadata": {},
     "output_type": "execute_result"
    }
   ],
   "source": [
    "# ~ can be used to say \"not\"\n",
    "aged_low_vl = trial_df.loc[age_mask & ~high_vl_mask]\n",
    "aged_low_vl.head()"
   ]
  },
  {
   "cell_type": "markdown",
   "id": "5a1d93c0",
   "metadata": {},
   "source": [
    "### Q3: Calculate the average weeks to failure for the treated population?"
   ]
  },
  {
   "cell_type": "markdown",
   "id": "9a2d6e3c",
   "metadata": {
    "tags": [
     "remove_cell"
    ]
   },
   "source": [
    "|               |    |\n",
    "| --------------|----|\n",
    "| Points        | 2  |\n",
    "| Public Checks | 2  |\n",
    "| Hidden Tests  | 0  |\n",
    "\n",
    "_Points:_ 2"
   ]
  },
  {
   "cell_type": "code",
   "execution_count": 27,
   "id": "256014a4",
   "metadata": {
    "tags": [
     "otter_assign_solution_cell"
    ]
   },
   "outputs": [],
   "source": [
    "treated_mask = trial_df['treatment'] == True  # SOLUTION NO PROMPT\n",
    "treated_average_weeks = trial_df.loc[treated_mask, 'weeks_to_failure'].mean()  # SOLUTION"
   ]
  },
  {
   "cell_type": "code",
   "execution_count": null,
   "id": "e17937f4",
   "metadata": {
    "deletable": false,
    "editable": false
   },
   "outputs": [],
   "source": [
    "grader.check(\"q3_treated_weeks_to_failure_indexing\")"
   ]
  },
  {
   "cell_type": "markdown",
   "id": "0fce279e",
   "metadata": {},
   "source": [
    "Utilizing boolean indexing you can express _any_ algorithmic row selecting strategy.\n",
    "This can even include comparisons between rows, for example if there were multiple rows of the same sample.\n",
    "We will cover these strategies later in the course."
   ]
  },
  {
   "cell_type": "markdown",
   "id": "6e2dcc99",
   "metadata": {},
   "source": [
    "Sometimes, our searches are simple.\n",
    "Pandas also includes another method for indexing rows called `.query()` for these purposes."
   ]
  },
  {
   "cell_type": "markdown",
   "id": "4487c2fc",
   "metadata": {},
   "source": [
    "### Querying"
   ]
  },
  {
   "cell_type": "markdown",
   "id": "bb17ab21",
   "metadata": {},
   "source": [
    "`.query()` is an interface that facilitates simple queries qith a few specific limitations:\n",
    " - It can only use the information present in the row.\n",
    " - It can only work on one row at a time.\n",
    " - Column headers cannot contain spaces, dots, dashes, commas, or emoji."
   ]
  },
  {
   "cell_type": "markdown",
   "id": "2ca311a2",
   "metadata": {},
   "source": [
    "Our questions on this dataset easily fit within those constraints."
   ]
  },
  {
   "cell_type": "code",
   "execution_count": 29,
   "id": "006e6f47",
   "metadata": {},
   "outputs": [
    {
     "data": {
      "text/html": [
       "<div>\n",
       "<style scoped>\n",
       "    .dataframe tbody tr th:only-of-type {\n",
       "        vertical-align: middle;\n",
       "    }\n",
       "\n",
       "    .dataframe tbody tr th {\n",
       "        vertical-align: top;\n",
       "    }\n",
       "\n",
       "    .dataframe thead th {\n",
       "        text-align: right;\n",
       "    }\n",
       "</style>\n",
       "<table border=\"1\" class=\"dataframe\">\n",
       "  <thead>\n",
       "    <tr style=\"text-align: right;\">\n",
       "      <th></th>\n",
       "      <th>age</th>\n",
       "      <th>age_initial_infection</th>\n",
       "      <th>initial_viral_load</th>\n",
       "      <th>treatment</th>\n",
       "      <th>weeks_to_failure</th>\n",
       "      <th>years_infected</th>\n",
       "    </tr>\n",
       "  </thead>\n",
       "  <tbody>\n",
       "    <tr>\n",
       "      <th>2</th>\n",
       "      <td>45</td>\n",
       "      <td>36</td>\n",
       "      <td>32</td>\n",
       "      <td>True</td>\n",
       "      <td>6</td>\n",
       "      <td>9</td>\n",
       "    </tr>\n",
       "    <tr>\n",
       "      <th>4</th>\n",
       "      <td>40</td>\n",
       "      <td>20</td>\n",
       "      <td>45</td>\n",
       "      <td>True</td>\n",
       "      <td>5</td>\n",
       "      <td>20</td>\n",
       "    </tr>\n",
       "    <tr>\n",
       "      <th>5</th>\n",
       "      <td>42</td>\n",
       "      <td>20</td>\n",
       "      <td>57</td>\n",
       "      <td>True</td>\n",
       "      <td>9</td>\n",
       "      <td>22</td>\n",
       "    </tr>\n",
       "    <tr>\n",
       "      <th>9</th>\n",
       "      <td>51</td>\n",
       "      <td>30</td>\n",
       "      <td>49</td>\n",
       "      <td>True</td>\n",
       "      <td>7</td>\n",
       "      <td>21</td>\n",
       "    </tr>\n",
       "    <tr>\n",
       "      <th>11</th>\n",
       "      <td>53</td>\n",
       "      <td>42</td>\n",
       "      <td>85</td>\n",
       "      <td>True</td>\n",
       "      <td>5</td>\n",
       "      <td>11</td>\n",
       "    </tr>\n",
       "  </tbody>\n",
       "</table>\n",
       "</div>"
      ],
      "text/plain": [
       "    age  age_initial_infection  initial_viral_load  treatment  \\\n",
       "2    45                     36                  32       True   \n",
       "4    40                     20                  45       True   \n",
       "5    42                     20                  57       True   \n",
       "9    51                     30                  49       True   \n",
       "11   53                     42                  85       True   \n",
       "\n",
       "    weeks_to_failure  years_infected  \n",
       "2                  6               9  \n",
       "4                  5              20  \n",
       "5                  9              22  \n",
       "9                  7              21  \n",
       "11                 5              11  "
      ]
     },
     "execution_count": 29,
     "metadata": {},
     "output_type": "execute_result"
    }
   ],
   "source": [
    "# All treatment rows\n",
    "trial_df.query('treatment == True').head()"
   ]
  },
  {
   "cell_type": "code",
   "execution_count": 30,
   "id": "c1e930bc",
   "metadata": {},
   "outputs": [
    {
     "data": {
      "text/html": [
       "<div>\n",
       "<style scoped>\n",
       "    .dataframe tbody tr th:only-of-type {\n",
       "        vertical-align: middle;\n",
       "    }\n",
       "\n",
       "    .dataframe tbody tr th {\n",
       "        vertical-align: top;\n",
       "    }\n",
       "\n",
       "    .dataframe thead th {\n",
       "        text-align: right;\n",
       "    }\n",
       "</style>\n",
       "<table border=\"1\" class=\"dataframe\">\n",
       "  <thead>\n",
       "    <tr style=\"text-align: right;\">\n",
       "      <th></th>\n",
       "      <th>age</th>\n",
       "      <th>age_initial_infection</th>\n",
       "      <th>initial_viral_load</th>\n",
       "      <th>treatment</th>\n",
       "      <th>weeks_to_failure</th>\n",
       "      <th>years_infected</th>\n",
       "    </tr>\n",
       "  </thead>\n",
       "  <tbody>\n",
       "    <tr>\n",
       "      <th>0</th>\n",
       "      <td>55</td>\n",
       "      <td>26</td>\n",
       "      <td>66</td>\n",
       "      <td>False</td>\n",
       "      <td>3</td>\n",
       "      <td>29</td>\n",
       "    </tr>\n",
       "    <tr>\n",
       "      <th>1</th>\n",
       "      <td>48</td>\n",
       "      <td>26</td>\n",
       "      <td>66</td>\n",
       "      <td>False</td>\n",
       "      <td>4</td>\n",
       "      <td>22</td>\n",
       "    </tr>\n",
       "    <tr>\n",
       "      <th>3</th>\n",
       "      <td>43</td>\n",
       "      <td>31</td>\n",
       "      <td>23</td>\n",
       "      <td>False</td>\n",
       "      <td>5</td>\n",
       "      <td>12</td>\n",
       "    </tr>\n",
       "    <tr>\n",
       "      <th>6</th>\n",
       "      <td>55</td>\n",
       "      <td>31</td>\n",
       "      <td>23</td>\n",
       "      <td>False</td>\n",
       "      <td>4</td>\n",
       "      <td>24</td>\n",
       "    </tr>\n",
       "    <tr>\n",
       "      <th>7</th>\n",
       "      <td>56</td>\n",
       "      <td>50</td>\n",
       "      <td>22</td>\n",
       "      <td>False</td>\n",
       "      <td>4</td>\n",
       "      <td>6</td>\n",
       "    </tr>\n",
       "  </tbody>\n",
       "</table>\n",
       "</div>"
      ],
      "text/plain": [
       "   age  age_initial_infection  initial_viral_load  treatment  \\\n",
       "0   55                     26                  66      False   \n",
       "1   48                     26                  66      False   \n",
       "3   43                     31                  23      False   \n",
       "6   55                     31                  23      False   \n",
       "7   56                     50                  22      False   \n",
       "\n",
       "   weeks_to_failure  years_infected  \n",
       "0                 3              29  \n",
       "1                 4              22  \n",
       "3                 5              12  \n",
       "6                 4              24  \n",
       "7                 4               6  "
      ]
     },
     "execution_count": 30,
     "metadata": {},
     "output_type": "execute_result"
    }
   ],
   "source": [
    "trial_df.query('treatment == False').head()"
   ]
  },
  {
   "cell_type": "markdown",
   "id": "44de1299",
   "metadata": {},
   "source": [
    "You can also make them more complex."
   ]
  },
  {
   "cell_type": "code",
   "execution_count": 31,
   "id": "fc4c007f",
   "metadata": {},
   "outputs": [
    {
     "data": {
      "text/html": [
       "<div>\n",
       "<style scoped>\n",
       "    .dataframe tbody tr th:only-of-type {\n",
       "        vertical-align: middle;\n",
       "    }\n",
       "\n",
       "    .dataframe tbody tr th {\n",
       "        vertical-align: top;\n",
       "    }\n",
       "\n",
       "    .dataframe thead th {\n",
       "        text-align: right;\n",
       "    }\n",
       "</style>\n",
       "<table border=\"1\" class=\"dataframe\">\n",
       "  <thead>\n",
       "    <tr style=\"text-align: right;\">\n",
       "      <th></th>\n",
       "      <th>age</th>\n",
       "      <th>age_initial_infection</th>\n",
       "      <th>initial_viral_load</th>\n",
       "      <th>treatment</th>\n",
       "      <th>weeks_to_failure</th>\n",
       "      <th>years_infected</th>\n",
       "    </tr>\n",
       "  </thead>\n",
       "  <tbody>\n",
       "    <tr>\n",
       "      <th>2</th>\n",
       "      <td>45</td>\n",
       "      <td>36</td>\n",
       "      <td>32</td>\n",
       "      <td>True</td>\n",
       "      <td>6</td>\n",
       "      <td>9</td>\n",
       "    </tr>\n",
       "    <tr>\n",
       "      <th>4</th>\n",
       "      <td>40</td>\n",
       "      <td>20</td>\n",
       "      <td>45</td>\n",
       "      <td>True</td>\n",
       "      <td>5</td>\n",
       "      <td>20</td>\n",
       "    </tr>\n",
       "    <tr>\n",
       "      <th>5</th>\n",
       "      <td>42</td>\n",
       "      <td>20</td>\n",
       "      <td>57</td>\n",
       "      <td>True</td>\n",
       "      <td>9</td>\n",
       "      <td>22</td>\n",
       "    </tr>\n",
       "    <tr>\n",
       "      <th>9</th>\n",
       "      <td>51</td>\n",
       "      <td>30</td>\n",
       "      <td>49</td>\n",
       "      <td>True</td>\n",
       "      <td>7</td>\n",
       "      <td>21</td>\n",
       "    </tr>\n",
       "    <tr>\n",
       "      <th>11</th>\n",
       "      <td>53</td>\n",
       "      <td>42</td>\n",
       "      <td>85</td>\n",
       "      <td>True</td>\n",
       "      <td>5</td>\n",
       "      <td>11</td>\n",
       "    </tr>\n",
       "    <tr>\n",
       "      <th>12</th>\n",
       "      <td>40</td>\n",
       "      <td>34</td>\n",
       "      <td>27</td>\n",
       "      <td>True</td>\n",
       "      <td>8</td>\n",
       "      <td>6</td>\n",
       "    </tr>\n",
       "    <tr>\n",
       "      <th>15</th>\n",
       "      <td>53</td>\n",
       "      <td>47</td>\n",
       "      <td>38</td>\n",
       "      <td>True</td>\n",
       "      <td>7</td>\n",
       "      <td>6</td>\n",
       "    </tr>\n",
       "    <tr>\n",
       "      <th>16</th>\n",
       "      <td>57</td>\n",
       "      <td>41</td>\n",
       "      <td>42</td>\n",
       "      <td>True</td>\n",
       "      <td>8</td>\n",
       "      <td>16</td>\n",
       "    </tr>\n",
       "    <tr>\n",
       "      <th>21</th>\n",
       "      <td>48</td>\n",
       "      <td>37</td>\n",
       "      <td>99</td>\n",
       "      <td>True</td>\n",
       "      <td>8</td>\n",
       "      <td>11</td>\n",
       "    </tr>\n",
       "    <tr>\n",
       "      <th>23</th>\n",
       "      <td>43</td>\n",
       "      <td>34</td>\n",
       "      <td>48</td>\n",
       "      <td>True</td>\n",
       "      <td>7</td>\n",
       "      <td>9</td>\n",
       "    </tr>\n",
       "    <tr>\n",
       "      <th>27</th>\n",
       "      <td>45</td>\n",
       "      <td>25</td>\n",
       "      <td>87</td>\n",
       "      <td>True</td>\n",
       "      <td>5</td>\n",
       "      <td>20</td>\n",
       "    </tr>\n",
       "    <tr>\n",
       "      <th>29</th>\n",
       "      <td>51</td>\n",
       "      <td>43</td>\n",
       "      <td>38</td>\n",
       "      <td>True</td>\n",
       "      <td>8</td>\n",
       "      <td>8</td>\n",
       "    </tr>\n",
       "  </tbody>\n",
       "</table>\n",
       "</div>"
      ],
      "text/plain": [
       "    age  age_initial_infection  initial_viral_load  treatment  \\\n",
       "2    45                     36                  32       True   \n",
       "4    40                     20                  45       True   \n",
       "5    42                     20                  57       True   \n",
       "9    51                     30                  49       True   \n",
       "11   53                     42                  85       True   \n",
       "12   40                     34                  27       True   \n",
       "15   53                     47                  38       True   \n",
       "16   57                     41                  42       True   \n",
       "21   48                     37                  99       True   \n",
       "23   43                     34                  48       True   \n",
       "27   45                     25                  87       True   \n",
       "29   51                     43                  38       True   \n",
       "\n",
       "    weeks_to_failure  years_infected  \n",
       "2                  6               9  \n",
       "4                  5              20  \n",
       "5                  9              22  \n",
       "9                  7              21  \n",
       "11                 5              11  \n",
       "12                 8               6  \n",
       "15                 7               6  \n",
       "16                 8              16  \n",
       "21                 8              11  \n",
       "23                 7               9  \n",
       "27                 5              20  \n",
       "29                 8               8  "
      ]
     },
     "execution_count": 31,
     "metadata": {},
     "output_type": "execute_result"
    }
   ],
   "source": [
    "trial_df.query('age > 33 & treatment == True')"
   ]
  },
  {
   "cell_type": "markdown",
   "id": "c95ba874",
   "metadata": {},
   "source": [
    "This statement doesn't make a \"biological sense\", but it is an example of a valid comparison."
   ]
  },
  {
   "cell_type": "code",
   "execution_count": 32,
   "id": "0560ffc6",
   "metadata": {},
   "outputs": [
    {
     "data": {
      "text/html": [
       "<div>\n",
       "<style scoped>\n",
       "    .dataframe tbody tr th:only-of-type {\n",
       "        vertical-align: middle;\n",
       "    }\n",
       "\n",
       "    .dataframe tbody tr th {\n",
       "        vertical-align: top;\n",
       "    }\n",
       "\n",
       "    .dataframe thead th {\n",
       "        text-align: right;\n",
       "    }\n",
       "</style>\n",
       "<table border=\"1\" class=\"dataframe\">\n",
       "  <thead>\n",
       "    <tr style=\"text-align: right;\">\n",
       "      <th></th>\n",
       "      <th>age</th>\n",
       "      <th>age_initial_infection</th>\n",
       "      <th>initial_viral_load</th>\n",
       "      <th>treatment</th>\n",
       "      <th>weeks_to_failure</th>\n",
       "      <th>years_infected</th>\n",
       "    </tr>\n",
       "  </thead>\n",
       "  <tbody>\n",
       "    <tr>\n",
       "      <th>2</th>\n",
       "      <td>45</td>\n",
       "      <td>36</td>\n",
       "      <td>32</td>\n",
       "      <td>True</td>\n",
       "      <td>6</td>\n",
       "      <td>9</td>\n",
       "    </tr>\n",
       "    <tr>\n",
       "      <th>3</th>\n",
       "      <td>43</td>\n",
       "      <td>31</td>\n",
       "      <td>23</td>\n",
       "      <td>False</td>\n",
       "      <td>5</td>\n",
       "      <td>12</td>\n",
       "    </tr>\n",
       "    <tr>\n",
       "      <th>6</th>\n",
       "      <td>55</td>\n",
       "      <td>31</td>\n",
       "      <td>23</td>\n",
       "      <td>False</td>\n",
       "      <td>4</td>\n",
       "      <td>24</td>\n",
       "    </tr>\n",
       "    <tr>\n",
       "      <th>7</th>\n",
       "      <td>56</td>\n",
       "      <td>50</td>\n",
       "      <td>22</td>\n",
       "      <td>False</td>\n",
       "      <td>4</td>\n",
       "      <td>6</td>\n",
       "    </tr>\n",
       "    <tr>\n",
       "      <th>8</th>\n",
       "      <td>59</td>\n",
       "      <td>33</td>\n",
       "      <td>33</td>\n",
       "      <td>False</td>\n",
       "      <td>5</td>\n",
       "      <td>26</td>\n",
       "    </tr>\n",
       "    <tr>\n",
       "      <th>9</th>\n",
       "      <td>51</td>\n",
       "      <td>30</td>\n",
       "      <td>49</td>\n",
       "      <td>True</td>\n",
       "      <td>7</td>\n",
       "      <td>21</td>\n",
       "    </tr>\n",
       "    <tr>\n",
       "      <th>12</th>\n",
       "      <td>40</td>\n",
       "      <td>34</td>\n",
       "      <td>27</td>\n",
       "      <td>True</td>\n",
       "      <td>8</td>\n",
       "      <td>6</td>\n",
       "    </tr>\n",
       "    <tr>\n",
       "      <th>15</th>\n",
       "      <td>53</td>\n",
       "      <td>47</td>\n",
       "      <td>38</td>\n",
       "      <td>True</td>\n",
       "      <td>7</td>\n",
       "      <td>6</td>\n",
       "    </tr>\n",
       "    <tr>\n",
       "      <th>16</th>\n",
       "      <td>57</td>\n",
       "      <td>41</td>\n",
       "      <td>42</td>\n",
       "      <td>True</td>\n",
       "      <td>8</td>\n",
       "      <td>16</td>\n",
       "    </tr>\n",
       "    <tr>\n",
       "      <th>18</th>\n",
       "      <td>51</td>\n",
       "      <td>42</td>\n",
       "      <td>25</td>\n",
       "      <td>False</td>\n",
       "      <td>2</td>\n",
       "      <td>9</td>\n",
       "    </tr>\n",
       "    <tr>\n",
       "      <th>19</th>\n",
       "      <td>55</td>\n",
       "      <td>46</td>\n",
       "      <td>45</td>\n",
       "      <td>False</td>\n",
       "      <td>1</td>\n",
       "      <td>9</td>\n",
       "    </tr>\n",
       "    <tr>\n",
       "      <th>22</th>\n",
       "      <td>51</td>\n",
       "      <td>27</td>\n",
       "      <td>36</td>\n",
       "      <td>False</td>\n",
       "      <td>2</td>\n",
       "      <td>24</td>\n",
       "    </tr>\n",
       "    <tr>\n",
       "      <th>28</th>\n",
       "      <td>59</td>\n",
       "      <td>40</td>\n",
       "      <td>49</td>\n",
       "      <td>False</td>\n",
       "      <td>5</td>\n",
       "      <td>19</td>\n",
       "    </tr>\n",
       "    <tr>\n",
       "      <th>29</th>\n",
       "      <td>51</td>\n",
       "      <td>43</td>\n",
       "      <td>38</td>\n",
       "      <td>True</td>\n",
       "      <td>8</td>\n",
       "      <td>8</td>\n",
       "    </tr>\n",
       "  </tbody>\n",
       "</table>\n",
       "</div>"
      ],
      "text/plain": [
       "    age  age_initial_infection  initial_viral_load  treatment  \\\n",
       "2    45                     36                  32       True   \n",
       "3    43                     31                  23      False   \n",
       "6    55                     31                  23      False   \n",
       "7    56                     50                  22      False   \n",
       "8    59                     33                  33      False   \n",
       "9    51                     30                  49       True   \n",
       "12   40                     34                  27       True   \n",
       "15   53                     47                  38       True   \n",
       "16   57                     41                  42       True   \n",
       "18   51                     42                  25      False   \n",
       "19   55                     46                  45      False   \n",
       "22   51                     27                  36      False   \n",
       "28   59                     40                  49      False   \n",
       "29   51                     43                  38       True   \n",
       "\n",
       "    weeks_to_failure  years_infected  \n",
       "2                  6               9  \n",
       "3                  5              12  \n",
       "6                  4              24  \n",
       "7                  4               6  \n",
       "8                  5              26  \n",
       "9                  7              21  \n",
       "12                 8               6  \n",
       "15                 7               6  \n",
       "16                 8              16  \n",
       "18                 2               9  \n",
       "19                 1               9  \n",
       "22                 2              24  \n",
       "28                 5              19  \n",
       "29                 8               8  "
      ]
     },
     "execution_count": 32,
     "metadata": {},
     "output_type": "execute_result"
    }
   ],
   "source": [
    "trial_df.query('age >= initial_viral_load')"
   ]
  },
  {
   "cell_type": "markdown",
   "id": "1ee0235e",
   "metadata": {},
   "source": [
    "### Q4: Calculate the average `weeks_to_failure` for the untreated population?\n",
    "\n"
   ]
  },
  {
   "cell_type": "markdown",
   "id": "1075ddc2",
   "metadata": {
    "tags": [
     "remove_cell"
    ]
   },
   "source": [
    "|               |    |\n",
    "| --------------|----|\n",
    "| Points        | 2  |\n",
    "| Public Checks | 2  |\n",
    "| Hidden Tests  | 0  |\n",
    "\n",
    "_Points:_ 2"
   ]
  },
  {
   "cell_type": "code",
   "execution_count": 33,
   "id": "11c0a9d0",
   "metadata": {
    "tags": [
     "otter_assign_solution_cell"
    ]
   },
   "outputs": [],
   "source": [
    "# BEGIN SOLUTION NO PROMPT\n",
    "\n",
    "wanted_samples = trial_df.query('treatment == False')\n",
    "\n",
    "# END SOLUTION\n",
    "\n",
    "untreated_average_weeks = wanted_samples['weeks_to_failure'].mean()  # SOLUTION"
   ]
  },
  {
   "cell_type": "code",
   "execution_count": 34,
   "id": "31a486c0",
   "metadata": {
    "tags": [
     "otter_assign_solution_cell"
    ]
   },
   "outputs": [
    {
     "name": "stdout",
     "output_type": "stream",
     "text": [
      "Untreated participants took 3.6 weeks to rebound.\n"
     ]
    }
   ],
   "source": [
    "print(f'Untreated participants took {untreated_average_weeks:0.1f} weeks to rebound.')"
   ]
  },
  {
   "cell_type": "code",
   "execution_count": null,
   "id": "beb2a5b4",
   "metadata": {
    "deletable": false,
    "editable": false
   },
   "outputs": [],
   "source": [
    "grader.check(\"q4_untreated_weeks_to_failure\")"
   ]
  },
  {
   "cell_type": "markdown",
   "id": "92df8fd7",
   "metadata": {},
   "source": [
    "### Q4: Calculate the average `weeks_to_failure` for the treated population?\n",
    "\n"
   ]
  },
  {
   "cell_type": "markdown",
   "id": "9dac644f",
   "metadata": {
    "tags": [
     "remove_cell"
    ]
   },
   "source": [
    "|               |    |\n",
    "| --------------|----|\n",
    "| Points        | 2  |\n",
    "| Public Checks | 2  |\n",
    "| Hidden Tests  | 0  |\n",
    "\n",
    "_Points:_ 2"
   ]
  },
  {
   "cell_type": "code",
   "execution_count": 37,
   "id": "2f795362",
   "metadata": {
    "tags": [
     "otter_assign_solution_cell"
    ]
   },
   "outputs": [],
   "source": [
    "# BEGIN SOLUTION NO PROMPT\n",
    "\n",
    "wanted_samples = trial_df.query('treatment == True')\n",
    "\n",
    "# END SOLUTION\n",
    "\n",
    "treated_average_weeks = wanted_samples['weeks_to_failure'].mean()  # SOLUTION"
   ]
  },
  {
   "cell_type": "code",
   "execution_count": 38,
   "id": "e86449de",
   "metadata": {
    "tags": [
     "otter_assign_solution_cell"
    ]
   },
   "outputs": [
    {
     "name": "stdout",
     "output_type": "stream",
     "text": [
      "Treated patients took 6.9 weeks to rebound.\n"
     ]
    }
   ],
   "source": [
    "print(f'Treated patients took {treated_average_weeks:0.1f} weeks to rebound.')"
   ]
  },
  {
   "cell_type": "code",
   "execution_count": null,
   "id": "bdb30ab0",
   "metadata": {
    "deletable": false,
    "editable": false
   },
   "outputs": [],
   "source": [
    "grader.check(\"q4_treated_weeks_to_failure\")"
   ]
  },
  {
   "cell_type": "markdown",
   "id": "4156fddb",
   "metadata": {},
   "source": [
    "# Conclusion"
   ]
  },
  {
   "cell_type": "markdown",
   "id": "be689b7b",
   "metadata": {},
   "source": [
    "We can see that this treatment extended the average time off ART from ~3 weeks to ~7 weeks.\n",
    "While not a complete cure, any incremental step is useful progress in the elimination of HIV.\n",
    "\n",
    "In the lab you will use similar techniques to explore whether other factors in this dataset impact the results.\n",
    "In future weeks we will explore statistical techniques to understand whether this difference is due to chance, or due to the effect of the treatment."
   ]
  },
  {
   "cell_type": "markdown",
   "id": "ea6730a7",
   "metadata": {
    "tags": [
     "remove_cell"
    ]
   },
   "source": [
    "## Submission\n",
    "\n",
    "You do not need to submit this walkthrough notebook.\n",
    "Simply complete the quiz."
   ]
  },
  {
   "cell_type": "markdown",
   "id": "adbf5bb4",
   "metadata": {},
   "source": [
    "---------------------------------------------"
   ]
  }
 ],
 "metadata": {
  "kernelspec": {
   "display_name": "Python 3 (ipykernel)",
   "language": "python",
   "name": "python3"
  },
  "language_info": {
   "codemirror_mode": {
    "name": "ipython",
    "version": 3
   },
   "file_extension": ".py",
   "mimetype": "text/x-python",
   "name": "python",
   "nbconvert_exporter": "python",
   "pygments_lexer": "ipython3",
   "version": "3.9.13"
  },
  "otter": {
   "assignment_name": "Module03_walkthrough"
  }
 },
 "nbformat": 4,
 "nbformat_minor": 5
}
