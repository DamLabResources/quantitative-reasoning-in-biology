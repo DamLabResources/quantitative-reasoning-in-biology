{
 "cells": [
  {
   "cell_type": "code",
   "execution_count": null,
   "id": "273535f7",
   "metadata": {
    "tags": [
     "remove_cell"
    ]
   },
   "outputs": [],
   "source": [
    "# Setting up the Colab environment. DO NOT EDIT!\n",
    "try:\n",
    "    import otter, pingouin\n",
    "\n",
    "except ImportError:\n",
    "    ! pip install -q otter-grader==4.0.0, pingouin\n",
    "    import otter\n",
    "\n",
    "if not os.path.exists('lab-tests'):\n",
    "    zip_files = [f for f in os.listdir() if f.endswith('.zip')]\n",
    "    assert len(zip_files)>0, 'Could not find any zip files!'\n",
    "    assert len(zip_files)==1, 'Found multiple zip files!'\n",
    "    ! unzip {zip_files[0]}\n",
    "\n",
    "grader = otter.Notebook(colab=True,\n",
    "                        tests_dir = 'lab-tests')"
   ]
  },
  {
   "cell_type": "markdown",
   "id": "eb9b8cf2",
   "metadata": {},
   "source": [
    "# Lab\n",
    "\n",
    "Remember, all assignments are due at 11:59 PM (Philadelphia time) on the Sunday of each instructional week."
   ]
  },
  {
   "cell_type": "markdown",
   "id": "4468c34b",
   "metadata": {},
   "source": [
    "## Learning Objectives\n",
    "At the end of this learning activity you will be able to: \n",
    " - Employ `pg.chi2_independence` to estimate the correlation between two categorical variables.\n",
    " - Practice testing variables for normality.\n",
    " - Employ `pg.ttest`, `pg.anova`, and `pg.kruskal` to look for differences in a dependent variable between different categorical variables."
   ]
  },
  {
   "cell_type": "markdown",
   "id": "11f06d8b",
   "metadata": {},
   "source": [
    "## Introduction"
   ]
  },
  {
   "cell_type": "markdown",
   "id": "ddcdb906",
   "metadata": {},
   "source": [
    "In this lab you will explore the effects of antiretroviral medications on neurological impairment.\n",
    "In this cohort, we have two major drug regimens, d4T (Stavudine) and the newer Emtricitabine/tenofovir (Truvada).\n",
    "The older Stavudine is suspected to have neurotoxic effects that are not found in the newer Truvada.\n",
    "\n",
    "In order to evaluate this effect, the participants in this cohort have completed an extensive neuropsychological exam that measures each 6 domains of neurocognition:\n",
    "* Processing Speed\n",
    "* Executive Function\n",
    "* Language\n",
    "* Visuospatial processing\n",
    "* Learning and Memory\n",
    "* Motor Function\n",
    "\n",
    "Each of these domains is measure by a number of tests.\n",
    "The results of these tests are then compared to demographically matched individuals (age, race, gender, and education) in order to scale the values appropriately.\n",
    "\n",
    "These values are on a _Z-scale_.\n",
    "A z-scale is a tranformation such that the _mean_ is 0 and the _standard deviation_ is 1.\n",
    "Therefore a person with a `motor_domain_z = 0` are performing at the _average_ of matched individuals.\n",
    "A person with `motor_domain_z = -1` is performing 1 standard deviation below the average of matched individuals.\n",
    "\n",
    "This leads to a scale of:\n",
    "  * Z < -2 : Significant impairment\n",
    "  * -2 < Z < -1 : Mild impairment\n",
    "  * Z > -1  : No evidence of impairment"
   ]
  },
  {
   "cell_type": "code",
   "execution_count": null,
   "id": "b0bc9875",
   "metadata": {},
   "outputs": [],
   "source": [
    "import numpy as np\n",
    "import seaborn as sns\n",
    "import pandas as pd\n",
    "import matplotlib.pyplot as plt\n",
    "\n",
    "import pingouin as pg\n",
    "\n",
    "%matplotlib inline"
   ]
  },
  {
   "cell_type": "code",
   "execution_count": null,
   "id": "3ab96970",
   "metadata": {},
   "outputs": [],
   "source": [
    "data = pd.read_csv('hiv_neuro_data.csv')\n",
    "data['education'] = data['education'].astype(float)\n",
    "data.head()"
   ]
  },
  {
   "cell_type": "markdown",
   "id": "952ff9fc",
   "metadata": {},
   "source": [
    "### Q1: How many participants are suffering from impairment?\n",
    "\n",
    "Using the thresholds above, create a bar-chart which shows the number of individuals with mild or moderate impairment for each of the domains.\n",
    "\n",
    "Checked variables:\n",
    " * `q1_plot` - A barplot the number of individuals with impairment in each category.\n",
    " \n",
    "<details><summary>Hint</summary>\n",
    "Try creating a mask that puts a `True` for each position that is below the threshold. Then sum that mask to find the number of individuals with impairment. Much like we did in Module 5 Wakthrough Q1.</details>\n",
    "\n",
    "|               |    |\n",
    "| --------------|----|\n",
    "| Points        | 2  |\n",
    "| Public Checks | 2  |\n",
    "| Hidden Tests  | 1  |\n",
    "\n",
    "_Points:_ 2"
   ]
  },
  {
   "cell_type": "code",
   "execution_count": null,
   "id": "2c0de566",
   "metadata": {
    "tags": []
   },
   "outputs": [],
   "source": [
    "\n",
    "# Generate a figure\n",
    "q1_plot = ...\n",
    "\n"
   ]
  },
  {
   "cell_type": "code",
   "execution_count": null,
   "id": "1764791a",
   "metadata": {
    "tags": []
   },
   "outputs": [],
   "source": [
    "# Which column has the most impaired individuals in this cohort?\n",
    "\n",
    "q1_most_impaired = ..."
   ]
  },
  {
   "cell_type": "code",
   "execution_count": null,
   "id": "9325ed5b",
   "metadata": {
    "deletable": false,
    "editable": false
   },
   "outputs": [],
   "source": [
    "grader.check(\"q1_impaired_bar\")"
   ]
  },
  {
   "cell_type": "markdown",
   "id": "aa2c9009",
   "metadata": {},
   "source": [
    "### Q2: Is Visuospatial impairment linked with ART therapy?\n",
    "\n",
    "Using the thresholds above, binarize indivduals based on their `visuospatial_domain_z` into impaired and non-impaired.\n",
    "Then, use a chi2 test to measure the linkage between this and the ART therapy of the individual.\n",
    "\n",
    "Checked variables:\n",
    " * `q2_plot` - A countplot showing the number of individuals with and without impairment and taking each ART therapy.\n",
    " * `q2_linkage` - Is there a linkage between Visuospatial impairment and ART regimen?\n",
    " * `q2_therapy` - Which therapy is leading to more impairment?\n",
    "\n",
    "<details><summary>Hint</summary>\n",
    "In `data`, create a new column, `visuospatial_impaired`, by applying the `< -1` threshold to `visuospatial_domain_z`. Then follow the protocol under Hypothesis Testing in the Module 8 Walkthrough.</details>\n",
    "\n",
    "\n",
    "|               |    |\n",
    "| --------------|----|\n",
    "| Points        | 5  |\n",
    "| Public Checks | 3  |\n",
    "| Hidden Testss | 2  |\n",
    "\n",
    "_Points:_ 5"
   ]
  },
  {
   "cell_type": "code",
   "execution_count": null,
   "id": "e0aa60b4",
   "metadata": {
    "tags": []
   },
   "outputs": [],
   "source": [
    "# Create a countplot which visualizes this comparison\n",
    "\n",
    "\n",
    "# Generate a figure showing this comparison\n",
    "q2_plot = ...\n"
   ]
  },
  {
   "cell_type": "code",
   "execution_count": null,
   "id": "db1200e0",
   "metadata": {
    "tags": []
   },
   "outputs": [],
   "source": [
    "# Perform a chi2 test for the linkage between visuospatial impairment and ART\n",
    "\n"
   ]
  },
  {
   "cell_type": "code",
   "execution_count": null,
   "id": "ba06955e",
   "metadata": {
    "tags": []
   },
   "outputs": [],
   "source": [
    "# Is there a linkage between Visuospatial impairment and ART regimen? 'yes' or 'no'\n",
    "q2_linkage = ...\n",
    "\n",
    "# Which therapy is leading to more impairment? 'Stavudine' or 'Truvada'\n",
    "q2_therapy = 'Stavudine'"
   ]
  },
  {
   "cell_type": "code",
   "execution_count": null,
   "id": "9edd821f",
   "metadata": {
    "deletable": false,
    "editable": false
   },
   "outputs": [],
   "source": [
    "grader.check(\"q2_impaired_v_art\")"
   ]
  },
  {
   "cell_type": "markdown",
   "id": "0ed5c62d",
   "metadata": {},
   "source": [
    "### Q3: Is Visuospatial **score** linked with ART therapy?\n",
    "\n",
    "Evaluate the normality of the `visuospatial_domain_z` and then choose the appropriate test using the flowcharts linked below.\n",
    "\n",
    "Refer to the pingouin guidelines for chosing the appropriate statistical test. https://pingouin-stats.org/build/html/guidelines.html\n",
    "\n",
    "Checked variables:\n",
    " * `q3_is_normal` - A yes/no assesment on the normality of `visuospatial_domain_z` supported by qqplot and normality testing.\n",
    " * `q3_plot` - A plot showing any difference in `visuospatial_domain_z` between ART therapies.\n",
    " * `q3_sig_diff` - A yes/no assesment on whether `visuospatial_domain_z` is significantly different between ART regimens supported by statistical tests and plots.\n",
    "\n",
    "<details><summary>Hint</summary>\n",
    "Create the qqplot and use `pg.normality` to test the normality of the `visuospatial_domain_z` as described under Continious comparisons in the Module 8 Walkthrough. </details>\n",
    "\n",
    "|               |    |\n",
    "| --------------|----|\n",
    "| Points        | 5  |\n",
    "| Public Checks | 3  |\n",
    "| Hidden Testss | 2  |\n",
    "\n",
    "\n",
    "_Points:_ 5"
   ]
  },
  {
   "cell_type": "code",
   "execution_count": null,
   "id": "4c819b8a",
   "metadata": {
    "tags": []
   },
   "outputs": [],
   "source": [
    "# Asses the normality of the visuospatial_domain_z scale\n",
    "\n",
    "\n",
    "# Answer yes or no.\n",
    "q3_is_normal = ..."
   ]
  },
  {
   "cell_type": "code",
   "execution_count": null,
   "id": "c3cb4f14",
   "metadata": {
    "tags": []
   },
   "outputs": [],
   "source": [
    "\n",
    "# Generate a figure showing this comparison\n",
    "q3_plot = ...\n"
   ]
  },
  {
   "cell_type": "code",
   "execution_count": null,
   "id": "cb859671",
   "metadata": {
    "tags": []
   },
   "outputs": [],
   "source": [
    "# Using the appropriate test\n",
    "# Determine whether there is a difference in the mean Z-score of visuospatial_domain_z\n",
    "# in individuals between ART regimens"
   ]
  },
  {
   "cell_type": "code",
   "execution_count": null,
   "id": "e6be7a16",
   "metadata": {
    "tags": []
   },
   "outputs": [],
   "source": [
    "# Is visuospatial_domain_z significantly different between ART regimens? 'yes' or 'no'\n",
    "q3_sig_diff = ..."
   ]
  },
  {
   "cell_type": "code",
   "execution_count": null,
   "id": "939fc8dd",
   "metadata": {
    "deletable": false,
    "editable": false
   },
   "outputs": [],
   "source": [
    "grader.check(\"q3_visuo_v_art\")"
   ]
  },
  {
   "cell_type": "markdown",
   "id": "c8f4378b",
   "metadata": {},
   "source": [
    "### Q4: Evaluate a potential covariate\n",
    "\n",
    "ART use is likely not the only thing that impacts neurocognitive impairement.\n",
    "Use similar methods to evaluate the impact of any of:\n",
    "* sex\n",
    "* race\n",
    "* education\n",
    "* age\n",
    "* YearsSeropositivedata['YS_binned']\n",
    "\n",
    "on `visuospatial_domain_z`.\n",
    "You can use any comparison method we have discussed so far.\n",
    "\n",
    "Checked variables:\n",
    " * `q4_plot` - A plot showing any difference in `visuospatial_domain_z` across your variable of interest.\n",
    " * `q4_is_sig` - A yes/no assesment on the significance of the effect supported by statistical tests and plots.\n",
    "\n",
    "<details><summary>Hint</summary>\n",
    "Adapt any of the techniques shown in the Module 8 walkthrough to a different co-variate.</details>\n",
    "\n",
    "|               |    |\n",
    "| --------------|----|\n",
    "| Points        | 5  |\n",
    "| Public Checks | 2  |\n",
    "\n",
    "_Points:_ 5"
   ]
  },
  {
   "cell_type": "code",
   "execution_count": null,
   "id": "97dbbba3",
   "metadata": {
    "tags": []
   },
   "outputs": [],
   "source": [
    "\n",
    "# Generate a figure of your comparison\n",
    "q4_plot = ...\n",
    "\n"
   ]
  },
  {
   "cell_type": "code",
   "execution_count": null,
   "id": "2a01c293",
   "metadata": {
    "tags": []
   },
   "outputs": [],
   "source": [
    "# Choose the appropriate test for your comparison\n",
    "..."
   ]
  },
  {
   "cell_type": "code",
   "execution_count": null,
   "id": "a48f74e2",
   "metadata": {
    "tags": []
   },
   "outputs": [],
   "source": [
    "# Is there a linkage between Visuospatial domain and your covariate? 'yes' or 'no'\n",
    "q4_is_sig = ..."
   ]
  },
  {
   "cell_type": "code",
   "execution_count": null,
   "id": "d1e98fd9",
   "metadata": {
    "deletable": false,
    "editable": false
   },
   "outputs": [],
   "source": [
    "grader.check(\"q4_covariates\")"
   ]
  },
  {
   "cell_type": "markdown",
   "id": "a21765d3",
   "metadata": {},
   "source": [
    "In this lab you explored the linkage between ART regimens and visuospatial memory domain.\n",
    "We utilized tools like chi2 tests and various means-tests to determine whether categorical varaibles were assotiated with impairement.\n",
    "Next week we will utilize single and multiple regressions to compare continous varaibles to gain more statistical power."
   ]
  },
  {
   "cell_type": "markdown",
   "id": "c9725198",
   "metadata": {},
   "source": [
    "--------------------------------------------"
   ]
  },
  {
   "cell_type": "markdown",
   "id": "44350889",
   "metadata": {},
   "source": [
    "## Submission\n",
    "\n",
    "Check:\n",
    " - That all tables and graphs are rendered properly.\n",
    " - Code completes without errors by using `Restart & Run All`.\n",
    " - All checks **pass**.\n",
    " \n",
    "Then save the notebook and the `File` -> `Download` -> `Download .ipynb`. Upload this file to BBLearn."
   ]
  }
 ],
 "metadata": {
  "kernelspec": {
   "display_name": "Python 3 (ipykernel)",
   "language": "python",
   "name": "python3"
  },
  "language_info": {
   "codemirror_mode": {
    "name": "ipython",
    "version": 3
   },
   "file_extension": ".py",
   "mimetype": "text/x-python",
   "name": "python",
   "nbconvert_exporter": "python",
   "pygments_lexer": "ipython3",
   "version": "3.9.13"
  },
  "otter": {
   "assignment_name": "Module08_walkthrough"
  }
 },
 "nbformat": 4,
 "nbformat_minor": 5
}
