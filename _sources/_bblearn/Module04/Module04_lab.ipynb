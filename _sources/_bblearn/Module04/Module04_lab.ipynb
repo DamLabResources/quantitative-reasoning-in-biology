{
 "cells": [
  {
   "cell_type": "code",
   "execution_count": null,
   "id": "115ed7ac",
   "metadata": {
    "tags": [
     "remove_cell"
    ]
   },
   "outputs": [],
   "source": [
    "# Setting up the Colab environment. DO NOT EDIT!\n",
    "import os\n",
    "import warnings\n",
    "warnings.filterwarnings(\"ignore\")\n",
    "\n",
    "try:\n",
    "    import otter\n",
    "\n",
    "except ImportError:\n",
    "    ! pip install -q otter-grader==4.0.0\n",
    "    import otter\n",
    "\n",
    "if not os.path.exists('lab-tests'):\n",
    "    zip_files = [f for f in os.listdir() if f.endswith('.zip')]\n",
    "    assert len(zip_files)>0, 'Could not find any zip files!'\n",
    "    assert len(zip_files)==1, 'Found multiple zip files!'\n",
    "    ! unzip {zip_files[0]}\n",
    "\n",
    "grader = otter.Notebook(colab=True,\n",
    "                        tests_dir = 'lab-tests')"
   ]
  },
  {
   "cell_type": "markdown",
   "id": "17c0b256",
   "metadata": {},
   "source": [
    "# Lab"
   ]
  },
  {
   "cell_type": "markdown",
   "id": "656da09e",
   "metadata": {},
   "source": [
    "## Introduction\n",
    "\n",
    "In this session, we will delve into the relationship between the microbiome of the sinus system and the severity and duration of sinus infections.\n",
    "We have classified our patients into three groups: those with typical infections that resolve without complications on standard therapy, those with severe infections that require aggressive medical intervention, and those with persistent infections that relapse shortly after initial symptoms resolve.\n",
    "Using pivot tables we will compare the microbiomes of these different groups and explore the clinical implications of our findings.\n",
    "Throughout this lab, you will have the opportunity to practice adding data to a `DataFrame`, employing pivot tables to compare microbiomes, describing biostatistical results, and formulating clinical uses for your analysis.\n",
    "\n",
    "Let's get started!"
   ]
  },
  {
   "cell_type": "markdown",
   "id": "1a62e481",
   "metadata": {},
   "source": [
    "In this learning activity you will:\n",
    "  - Practice adding data into a `DataFrame`\n",
    "  - Employ pivot tables to compare microbiomes across disease outcomes\n",
    "  - Describe biostatistical results in \"paragraph form\"\n",
    "  - Formulate a clinical use for your analysis"
   ]
  },
  {
   "cell_type": "code",
   "execution_count": null,
   "id": "e7ee41d7",
   "metadata": {},
   "outputs": [],
   "source": [
    "import numpy as np\n",
    "import pandas as pd"
   ]
  },
  {
   "cell_type": "code",
   "execution_count": null,
   "id": "389f8206",
   "metadata": {},
   "outputs": [],
   "source": [
    "data = pd.read_csv('microbiome_phylum_data.tsv', delimiter = '\\t')\n",
    "data"
   ]
  },
  {
   "cell_type": "markdown",
   "id": "ddfe85e0",
   "metadata": {},
   "source": [
    "### Q1: Merge the `biome_data` table with the sample information\n",
    "\n",
    "We are interested in exploring the relationship between the microbiome of the sinus system and the severity and duration of a sinus infection.\n",
    "To do this, we need to first classify each patient into one of three groups:\n",
    " - those with a `typical` infection that resolved without complications on standard therapy\n",
    " - those with a `severe` infection that required aggressive medical intervention\n",
    " - those with a `persistent` infection that relapsed shortly after the initial symptoms resolved\n",
    "\n",
    "By assigning each row of our table with the appropriate outcome, we can begin to compare the microbiomes of these different groups and consider the potential clinical implications of our analysis.\n",
    "\n",
    "This step is crucial because it allows us to accurately analyze and interpret the data, and is a necessary foundation for the rest of the lab.\n",
    "\n",
    "Use Pandas to load the `sample_info.csv` file and merge it with the `biome_data`.\n",
    "\n",
    "|               |    |\n",
    "| --------------|----|\n",
    "| Points        | 3  |\n",
    "| Public Checks | 5  |\n",
    "\n",
    "_Points:_ 3"
   ]
  },
  {
   "cell_type": "code",
   "execution_count": null,
   "id": "68cf73a1",
   "metadata": {
    "tags": []
   },
   "outputs": [],
   "source": [
    "\n",
    "# Load the sample information from sample_info.csv\n",
    "# Merge that information with the biome_data\n",
    "\n",
    "merged_data = ...\n",
    "\n"
   ]
  },
  {
   "cell_type": "code",
   "execution_count": null,
   "id": "9b43ac31",
   "metadata": {
    "deletable": false,
    "editable": false
   },
   "outputs": [],
   "source": [
    "grader.check(\"q1_add_outcomes\")"
   ]
  },
  {
   "cell_type": "markdown",
   "id": "d5a30735",
   "metadata": {},
   "source": [
    "### Q2: Determine the predomininant phylum across regions.\n",
    "\n",
    "Use a pivot table to count the number of unique patients that have `Actinobacteria` or `Firmicutes` as the `Predominant` phylum at each body site.\n",
    "\n",
    "|               |    |\n",
    "| --------------|----|\n",
    "| Points        | 5  |\n",
    "| Public Checks | 7  |\n",
    "| Hidden Testss | 1  |\n",
    "\n",
    "_Points:_ 5"
   ]
  },
  {
   "cell_type": "code",
   "execution_count": null,
   "id": "4c713c42",
   "metadata": {
    "tags": []
   },
   "outputs": [],
   "source": [
    "\n",
    "# Create the pivot table described in the question.\n",
    "# Pay attention to using the correct `index`, `columns`, `values`, and `aggfunc` parameters\n",
    "# It expects the rows to be body-sites\n",
    "# The columns to be phylumns\n",
    "# And the values to number of unique patients with that predominant phylum at that body-site\n",
    "\n",
    "q2_pivot = ...\n"
   ]
  },
  {
   "cell_type": "code",
   "execution_count": null,
   "id": "cfc056d9",
   "metadata": {
    "tags": []
   },
   "outputs": [],
   "source": [
    "q2_pivot"
   ]
  },
  {
   "cell_type": "code",
   "execution_count": null,
   "id": "550ac123",
   "metadata": {
    "tags": []
   },
   "outputs": [],
   "source": [
    "# Which regions have at least twice as many patients with Firmicutes as predominant relative to Actinobacteria\n",
    "# This should be a subset of the q2_pivot DataFrame\n",
    "q2_firmi_regions = ...\n",
    "q2_firmi_regions"
   ]
  },
  {
   "cell_type": "code",
   "execution_count": null,
   "id": "fd0f64e3",
   "metadata": {
    "deletable": false,
    "editable": false
   },
   "outputs": [],
   "source": [
    "grader.check(\"q2_count_pivot\")"
   ]
  },
  {
   "cell_type": "markdown",
   "id": "b46d9610",
   "metadata": {},
   "source": [
    "### Q3: Which body site has the largest increase in Actinobacteria when comparing typical and severe disease outcomes?\n",
    "\n",
    "Find which body site has the largest increase in Actinobacteria when comparing typical and severe disease outcomes.\n",
    "Utilize pivot tables to compare the relative abundances of Actinobacteria across disease states and body sites.\n",
    "\n",
    "|               |    |\n",
    "| --------------|----|\n",
    "| Points        | 5  |\n",
    "| Public Checks | 8  |\n",
    "| Hidden Testss | 1  |\n",
    "\n",
    "_Points:_ 5"
   ]
  },
  {
   "cell_type": "code",
   "execution_count": null,
   "id": "93bc0a85",
   "metadata": {
    "tags": []
   },
   "outputs": [],
   "source": [
    "# Create a pivot table which averages the count of Actinobacteria across each patient\n",
    "# for each body-site and disease type\n",
    "q3_pivot = ...\n"
   ]
  },
  {
   "cell_type": "code",
   "execution_count": null,
   "id": "6648cc36",
   "metadata": {
    "tags": []
   },
   "outputs": [],
   "source": [
    "# Add a relative_abundance column\n",
    "# This should be the difference between the severe and typical columns\n",
    "..."
   ]
  },
  {
   "cell_type": "code",
   "execution_count": null,
   "id": "339b84c5",
   "metadata": {
    "tags": []
   },
   "outputs": [],
   "source": [
    "# Which body site has the largest *increase* in Actinobacteria in those with *severe* disease?\n",
    "\n",
    "# Display the table above (optionally with sorting)\n",
    "# Or use programatically https://pandas.pydata.org/docs/search.html?q=idxmax\n",
    "# Answer as a text string.\n",
    "\n",
    "q3_ans = ..."
   ]
  },
  {
   "cell_type": "code",
   "execution_count": null,
   "id": "9ca4be35",
   "metadata": {
    "deletable": false,
    "editable": false
   },
   "outputs": [],
   "source": [
    "grader.check(\"q3_mean_pivot\")"
   ]
  },
  {
   "cell_type": "markdown",
   "id": "ff16cace",
   "metadata": {},
   "source": [
    "The above analysis describes a population level result.\n",
    "A _sample_ of people with severe disease have more Actinobacteria in some regions than those that have typical disease.\n",
    "However, that tells us little about the impact on an _individual_.\n",
    "Let's reframe this into a clinical application.\n",
    "\n",
    "Can you use the amount of Actinobacteria as a predictor of disease?"
   ]
  },
  {
   "cell_type": "markdown",
   "id": "b983bb8a",
   "metadata": {},
   "source": [
    "### Q4: Which tissues are \"swabbable\"?\n",
    "\n",
    "If we would like to use microbiome sampling as a clinical assay to detect severe infections, it would be helpful if those areas are \"easy to access\".\n",
    "This dataset is a collection of samples that came from both biopsies and swabs.\n",
    "Create a subset of the data that only contains `Swab` samples.\n",
    "\n",
    "|               |    |\n",
    "| --------------|----|\n",
    "| Points        | 2  |\n",
    "| Public Checks | 6  |\n",
    "| Hidden Testss | 1  |\n",
    "\n",
    "_Points:_ 2"
   ]
  },
  {
   "cell_type": "code",
   "execution_count": null,
   "id": "57fabc9d",
   "metadata": {
    "tags": []
   },
   "outputs": [],
   "source": [
    "# Use boolean indexing or a query create a new table with only samples that came from samples with data from swabs.\n",
    "swabbable_data = ..."
   ]
  },
  {
   "cell_type": "code",
   "execution_count": null,
   "id": "ea123ff9",
   "metadata": {
    "tags": []
   },
   "outputs": [],
   "source": [
    "# What fraction of the data came from swab samples?\n",
    "# Your answer should be between 0 and 1.\n",
    "q4_fraction_swabbable = (merged_data['CollectionType'] == 'Swab').mean()\n"
   ]
  },
  {
   "cell_type": "code",
   "execution_count": null,
   "id": "b9bdb5e0",
   "metadata": {
    "tags": []
   },
   "outputs": [],
   "source": [
    "print(f'{q4_fraction_swabbable*100:0.2f}% of the data came from swabbable samples')"
   ]
  },
  {
   "cell_type": "code",
   "execution_count": null,
   "id": "ebecfd4f",
   "metadata": {
    "deletable": false,
    "editable": false
   },
   "outputs": [],
   "source": [
    "grader.check(\"q4_swabable\")"
   ]
  },
  {
   "cell_type": "markdown",
   "id": "b1f864bb",
   "metadata": {},
   "source": [
    "### Q5: Which samples are _high_?\n",
    "\n",
    "Previously, we saw that there was more Actinobacteria in across certain regions in severe disease.\n",
    "In this case, we'll consider **high** as being 1 standard-deviation above the average of typical patients for that region.\n",
    "\n",
    "\n",
    "\n",
    "Create a new column in `swabbable_data` called `is_high` that is true if the Actinobacteria is 1 standard-deviation above the average for that region.\n",
    "\n",
    "|               |    |\n",
    "| --------------|----|\n",
    "| Points        | 5  |\n",
    "| Public Checks | 2  |\n",
    "| Hidden Testss | 0  |\n",
    "\n",
    "_Points:_ 5"
   ]
  },
  {
   "cell_type": "code",
   "execution_count": null,
   "id": "69e41fdc",
   "metadata": {
    "tags": []
   },
   "outputs": [],
   "source": [
    "# Isolate the subset of swabbable_data that come from typical disease types\n",
    "typical_swab_data = ..."
   ]
  },
  {
   "cell_type": "code",
   "execution_count": null,
   "id": "bb9b002e",
   "metadata": {
    "tags": []
   },
   "outputs": [],
   "source": [
    "# Use `groupby()` to aggregate values while keeping the same shape\n",
    "\n",
    "typical_region_means = ...\n",
    "typical_region_stds = ..."
   ]
  },
  {
   "cell_type": "code",
   "execution_count": null,
   "id": "3e2a23db",
   "metadata": {
    "tags": []
   },
   "outputs": [],
   "source": [
    "# Combine the values to create a cutoff \n",
    "typical_region_cutoff = typical_region_means+typical_region_stds"
   ]
  },
  {
   "cell_type": "code",
   "execution_count": null,
   "id": "b0aa9164",
   "metadata": {
    "tags": []
   },
   "outputs": [],
   "source": [
    "typical_region_cutoff"
   ]
  },
  {
   "cell_type": "code",
   "execution_count": null,
   "id": "a9f99759",
   "metadata": {
    "tags": []
   },
   "outputs": [],
   "source": [
    "# Add a new column called `is_high`\n",
    "# If you've done the above cells correctly, this will run.\n",
    "\n",
    "# Get the appropriate cutoff into each row\n",
    "row_cutoff = swabbable_data['Location'].map(typical_region_cutoff.get)\n",
    "\n",
    "swabbable_data = swabbable_data.assign(is_high = swabbable_data['Actinobacteria'] > row_cutoff)"
   ]
  },
  {
   "cell_type": "code",
   "execution_count": null,
   "id": "3c00c2db",
   "metadata": {
    "deletable": false,
    "editable": false
   },
   "outputs": [],
   "source": [
    "grader.check(\"q5_high_values\")"
   ]
  },
  {
   "cell_type": "markdown",
   "id": "992f51d6",
   "metadata": {},
   "source": [
    "### Q6: Which swabbable region has the highest positive predictive value when predicting **persistent** disease?\n",
    "\n",
    "The positive predictive value is the ratio of patients truly diagnosed as positive vs all those who had positive test results.\n",
    "It indicates the likelihood that a patient \"has the condition\" given a positive test.\n",
    "This makes PPV one of the most useful metrics when describing diagnostic tests to clinicians and patients.\n",
    "\n",
    "Use the `is_high` column as a prediction of whether a patient has a persistent infection.\n",
    "Calculate the PPV for each region.\n",
    "In the provided space, place the most accurate region and its calculated PPV.\n",
    "\n",
    "|               |    |\n",
    "| --------------|----|\n",
    "| Points        | 10 |\n",
    "| Public Checks | 3  |\n",
    "| Hidden Testss | 2  |\n",
    "\n",
    "_Points:_ 10"
   ]
  },
  {
   "cell_type": "code",
   "execution_count": null,
   "id": "d3532518",
   "metadata": {
    "tags": []
   },
   "outputs": [],
   "source": [
    "\n",
    "# There are a number of ways to approach this problem\n",
    "# Look back through the groupby and pivot table explanations\n",
    "\n",
    "\n",
    "q6_highest_region = ...\n",
    "q6_best_ppv = ..."
   ]
  },
  {
   "cell_type": "code",
   "execution_count": null,
   "id": "f7bef260",
   "metadata": {
    "deletable": false,
    "editable": false
   },
   "outputs": [],
   "source": [
    "grader.check(\"q6_swabbable_ppv\")"
   ]
  },
  {
   "cell_type": "markdown",
   "id": "5075f0c8",
   "metadata": {},
   "source": [
    "<!-- BEGIN QUESTION -->\n",
    "\n",
    "### Q7: Context\n",
    "\n",
    "Put these results into context.\n",
    "\n",
    "_Points:_ 5"
   ]
  },
  {
   "cell_type": "markdown",
   "id": "4727b37b",
   "metadata": {},
   "source": [
    "Write your solution here in this box and consider the following:\n",
    " - What are the number 2 and 3 swabbable regions when ranking by PPV?\n",
    " - How many patients are these results based on?\n",
    " - Consider the likelihood of persistent infections relative to the PPV. Is the test giving more information compared to a null assumption?"
   ]
  },
  {
   "cell_type": "markdown",
   "id": "9efa6657",
   "metadata": {},
   "source": [
    "<!-- END QUESTION -->\n",
    "\n",
    "--------------------------------------------"
   ]
  },
  {
   "cell_type": "markdown",
   "id": "b2338efb",
   "metadata": {},
   "source": [
    "## Submission\n",
    "\n",
    "Check:\n",
    " - That all tables and graphs are rendered properly.\n",
    " - Code completes without errors by using `Restart & Run All`.\n",
    " - All checks **pass**.\n",
    " \n",
    "Then save the notebook and the `File` -> `Download` -> `Download .ipynb`. Upload this file to BBLearn."
   ]
  }
 ],
 "metadata": {
  "kernelspec": {
   "display_name": "Python 3 (ipykernel)",
   "language": "python",
   "name": "python3"
  },
  "language_info": {
   "codemirror_mode": {
    "name": "ipython",
    "version": 3
   },
   "file_extension": ".py",
   "mimetype": "text/x-python",
   "name": "python",
   "nbconvert_exporter": "python",
   "pygments_lexer": "ipython3",
   "version": "3.9.13"
  },
  "otter": {
   "assignment_name": "Module04_lab"
  }
 },
 "nbformat": 4,
 "nbformat_minor": 5
}
