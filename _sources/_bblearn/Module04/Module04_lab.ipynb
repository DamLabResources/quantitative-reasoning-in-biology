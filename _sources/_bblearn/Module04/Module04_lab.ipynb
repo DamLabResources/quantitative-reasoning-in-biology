{
 "cells": [
  {
   "cell_type": "code",
   "execution_count": null,
   "id": "9db62edd-c286-4c58-b338-eb9ca2bb4867",
   "metadata": {
    "tags": [
     "remove_cell"
    ]
   },
   "outputs": [],
   "source": [
    "# Setting up the Colab environment. DO NOT EDIT!\n",
    "import os\n",
    "import warnings\n",
    "warnings.filterwarnings(\"ignore\")\n",
    "\n",
    "try:\n",
    "    import otter\n",
    "\n",
    "except ImportError:\n",
    "    ! pip install -q otter-grader==4.0.0\n",
    "    import otter\n",
    "\n",
    "if not os.path.exists('lab-tests'):\n",
    "    zip_files = [f for f in os.listdir() if f.endswith('.zip')]\n",
    "    assert len(zip_files)>0, 'Could not find any zip files!'\n",
    "    assert len(zip_files)==1, 'Found multiple zip files!'\n",
    "    ! unzip {zip_files[0]}\n",
    "\n",
    "grader = otter.Notebook(colab=True,\n",
    "                        tests_dir = 'lab-tests')"
   ]
  },
  {
   "cell_type": "markdown",
   "id": "5c1ff247",
   "metadata": {},
   "source": [
    "# Lab"
   ]
  },
  {
   "cell_type": "markdown",
   "id": "3ce9b54a",
   "metadata": {},
   "source": [
    "## Introduction\n",
    "\n",
    "In this session, we will delve into the relationship between the microbiome of the sinus system and the severity and duration of sinus infections.\n",
    "We have classified our patients into three groups: those with typical infections that resolve without complications on standard therapy, those with severe infections that require aggressive medical intervention, and those with persistent infections that relapse shortly after initial symptoms resolve.\n",
    "Using pivot tables we will compare the microbiomes of these different groups and explore the clinical implications of our findings.\n",
    "Throughout this lab, you will have the opportunity to practice adding data to a `DataFrame`, employing pivot tables to compare microbiomes, describing biostatistical results, and formulating clinical uses for your analysis.\n",
    "\n",
    "Let's get started!"
   ]
  },
  {
   "cell_type": "markdown",
   "id": "ba43a8ca",
   "metadata": {},
   "source": [
    "In this learning activity you will:\n",
    "  - Practice adding data into a `DataFrame`\n",
    "  - Employ pivot tables to compare microbiomes across disease outcomes\n",
    "  - Describe biostatistical results in \"paragraph form\"\n",
    "  - Formulate a clinical use for your analysis"
   ]
  },
  {
   "cell_type": "code",
   "execution_count": null,
   "id": "dae7f284",
   "metadata": {},
   "outputs": [],
   "source": [
    "import numpy as np\n",
    "import pandas as pd"
   ]
  },
  {
   "cell_type": "code",
   "execution_count": null,
   "id": "d8406899",
   "metadata": {},
   "outputs": [],
   "source": [
    "data = pd.read_csv('microbiome_phylum_data.tsv', delimiter = '\\t')\n",
    "data"
   ]
  },
  {
   "cell_type": "markdown",
   "id": "eaa1b873",
   "metadata": {
    "deletable": false,
    "editable": false
   },
   "source": [
    "### Q1: Merge the `biome_data` table with the sample information\n",
    "\n",
    "We are interested in exploring the relationship between the microbiome of the sinus system and the severity and duration of a sinus infection.\n",
    "To do this, we need to first classify each patient into one of three groups:\n",
    " - those with a `typical` infection that resolved without complications on standard therapy\n",
    " - those with a `severe` infection that required aggressive medical intervention\n",
    " - those with a `persistent` infection that relapsed shortly after the initial symptoms resolved\n",
    "\n",
    "By assigning each row of our table with the appropriate outcome, we can begin to compare the microbiomes of these different groups and consider the potential clinical implications of our analysis.\n",
    "\n",
    "This step is crucial because it allows us to accurately analyze and interpret the data, and is a necessary foundation for the rest of the lab.\n",
    "\n",
    "Use Pandas to load the `sample_info.csv` file and merge it with the `biome_data`.\n",
    "\n",
    "|               |    |\n",
    "| --------------|----|\n",
    "| Points        | 3  |\n",
    "| Public Checks | 5  |\n",
    "\n",
    "_Points:_ 3"
   ]
  },
  {
   "cell_type": "code",
   "execution_count": null,
   "id": "30ee15f9-cc14-4e6e-96b7-f62f993cc561",
   "metadata": {
    "tags": []
   },
   "outputs": [],
   "source": [
    "\n",
    "# Load the sample information from sample_info.csv\n",
    "# Merge that information with the biome_data\n",
    "\n",
    "merged_data = ...\n",
    "\n"
   ]
  },
  {
   "cell_type": "code",
   "execution_count": null,
   "id": "d686c0c0",
   "metadata": {
    "deletable": false,
    "editable": false
   },
   "outputs": [],
   "source": [
    "grader.check(\"q1_add_outcomes\")"
   ]
  },
  {
   "cell_type": "markdown",
   "id": "df7140f3",
   "metadata": {
    "deletable": false,
    "editable": false
   },
   "source": [
    "### Q2: Determine the predomininant phylum across regions.\n",
    "\n",
    "Use a pivot table to count the number of unique patients that have `Actinobacteria` or `Firmicutes` as the `Predominant` phylum at each body site.\n",
    "\n",
    "|               |    |\n",
    "| --------------|----|\n",
    "| Points        | 5  |\n",
    "| Public Checks | 7  |\n",
    "| Hidden Testss | 1  |\n",
    "\n",
    "_Points:_ 5"
   ]
  },
  {
   "cell_type": "code",
   "execution_count": null,
   "id": "38e4a7fa",
   "metadata": {
    "tags": []
   },
   "outputs": [],
   "source": [
    "\n",
    "# Create the pivot table described in the question.\n",
    "# Pay attention to using the correct `index`, `columns`, `values`, and `aggfunc` parameters\n",
    "# It expects the rows to be body-sites\n",
    "# The columns to be phylumns\n",
    "# And the values to number of unique patients with that predominant phylum at that body-site\n",
    "\n",
    "q2_pivot = ...\n"
   ]
  },
  {
   "cell_type": "code",
   "execution_count": null,
   "id": "7a2ceb73-5355-451e-beaa-5ae6747bbaf0",
   "metadata": {
    "tags": []
   },
   "outputs": [],
   "source": [
    "q2_pivot"
   ]
  },
  {
   "cell_type": "code",
   "execution_count": null,
   "id": "7e6a2bb7-3884-439f-b7da-33147e6fd8b4",
   "metadata": {
    "tags": []
   },
   "outputs": [],
   "source": [
    "# Which regions have at least twice as many patients with Firmicutes as predominant relative to Actinobacteria\n",
    "# This should be a subset of the q2_pivot DataFrame\n",
    "q2_firmi_regions = ...\n",
    "q2_firmi_regions"
   ]
  },
  {
   "cell_type": "code",
   "execution_count": null,
   "id": "c692b592",
   "metadata": {
    "deletable": false,
    "editable": false
   },
   "outputs": [],
   "source": [
    "grader.check(\"q2_count_pivot\")"
   ]
  },
  {
   "cell_type": "markdown",
   "id": "0eafeae2",
   "metadata": {
    "deletable": false,
    "editable": false
   },
   "source": [
    "### Q3: Which body site has the largest increase in Actinobacteria when comparing typical and severe disease outcomes?\n",
    "\n",
    "Find which body site has the largest increase in Actinobacteria when comparing typical and severe disease outcomes.\n",
    "Utilize pivot tables to compare the relative abundances of Actinobacteria across disease states and body sites.\n",
    "\n",
    "|               |    |\n",
    "| --------------|----|\n",
    "| Points        | 5  |\n",
    "| Public Checks | 8  |\n",
    "| Hidden Testss | 1  |\n",
    "\n",
    "_Points:_ 5"
   ]
  },
  {
   "cell_type": "code",
   "execution_count": null,
   "id": "cd89e973-3ceb-4717-8cfd-00a007be994a",
   "metadata": {
    "tags": []
   },
   "outputs": [],
   "source": [
    "# Create a pivot table which averages the count of Actinobacteria across each patient\n",
    "# for each body-site and disease type\n",
    "q3_pivot = ...\n"
   ]
  },
  {
   "cell_type": "code",
   "execution_count": null,
   "id": "9cb7597f-e4c0-4bcb-82db-fc7adb155c74",
   "metadata": {
    "tags": []
   },
   "outputs": [],
   "source": [
    "# Add a relative_abundance column\n",
    "# This should be the difference between the severe and typical columns\n",
    "q3_pivot['relative_abundance'] = ..."
   ]
  },
  {
   "cell_type": "code",
   "execution_count": null,
   "id": "8cceb50a-3c23-4f30-a1f6-0a7742157f27",
   "metadata": {
    "tags": []
   },
   "outputs": [],
   "source": [
    "# Which body site has the largest *increase* in Actinobacteria in those with *severe* disease?\n",
    "\n",
    "# Display the table above (optionally with sorting)\n",
    "# Or use programatically https://pandas.pydata.org/docs/search.html?q=idxmax\n",
    "# Answer as a text string.\n",
    "\n",
    "q3_ans = ..."
   ]
  },
  {
   "cell_type": "code",
   "execution_count": null,
   "id": "ebee2f43",
   "metadata": {
    "deletable": false,
    "editable": false
   },
   "outputs": [],
   "source": [
    "grader.check(\"q3_mean_pivot\")"
   ]
  },
  {
   "cell_type": "markdown",
   "id": "0cd20bd3-7a07-42f1-b786-80d4210ef88e",
   "metadata": {},
   "source": [
    "The above analysis describes a population level result.\n",
    "A _sample_ of people with severe disease have more Actinobacteria in some regions than those that have typical disease.\n",
    "However, that tells us little about the impact on an _individual_.\n",
    "Let's reframe this into a clinical application.\n",
    "\n",
    "Can you use the amount of Actinobacteria as a predictor of disease?"
   ]
  },
  {
   "cell_type": "markdown",
   "id": "e8fbcb40",
   "metadata": {
    "deletable": false,
    "editable": false
   },
   "source": [
    "### Q4: Which tissues are \"swabbable\"?\n",
    "\n",
    "If we would like to use microbiome sampling as a clinical assay to detect severe infections, it would be helpful if those areas are \"easy to access\".\n",
    "This dataset is a collection of samples that came from both biopsies and swabs.\n",
    "Create a subset of the data that only contains `Swab` samples.\n",
    "\n",
    "|               |    |\n",
    "| --------------|----|\n",
    "| Points        | 2  |\n",
    "| Public Checks | 6  |\n",
    "| Hidden Testss | 1  |\n",
    "\n",
    "_Points:_ 2"
   ]
  },
  {
   "cell_type": "code",
   "execution_count": null,
   "id": "0d365d4d-a947-4329-89cf-92667a600489",
   "metadata": {
    "tags": []
   },
   "outputs": [],
   "source": [
    "# Use boolean indexing or a query create a new table with only samples that came from samples with data from swabs.\n",
    "swabbable_data = ..."
   ]
  },
  {
   "cell_type": "code",
   "execution_count": null,
   "id": "b428c58c-4d76-4675-ba5f-9ca4cf394933",
   "metadata": {
    "tags": []
   },
   "outputs": [],
   "source": [
    "# What fraction of the data came from swab samples?\n",
    "# Your answer should be between 0 and 1.\n",
    "q4_fraction_swabbable = (merged_data['CollectionType'] == 'Swab').mean()\n"
   ]
  },
  {
   "cell_type": "code",
   "execution_count": null,
   "id": "91706582-05dd-42aa-8244-c2c1514121ee",
   "metadata": {
    "tags": []
   },
   "outputs": [],
   "source": [
    "print(f'{q4_fraction_swabbable*100:0.2f}% of the data came from swabbable samples')"
   ]
  },
  {
   "cell_type": "code",
   "execution_count": null,
   "id": "5111fb6e",
   "metadata": {
    "deletable": false,
    "editable": false
   },
   "outputs": [],
   "source": [
    "grader.check(\"q4_swabable\")"
   ]
  },
  {
   "cell_type": "markdown",
   "id": "60ad4344",
   "metadata": {
    "deletable": false,
    "editable": false
   },
   "source": [
    "### Q5: Which samples are _high_?\n",
    "\n",
    "Previously, we saw that there was more Actinobacteria in across certain regions in severe disease.\n",
    "In this case, we'll consider **high** as being 1 standard-deviation above the average of typical patients for that region.\n",
    "\n",
    "\n",
    "\n",
    "Create a new column in `swabbable_data` called `is_high` that is true if the Actinobacteria is 1 standard-deviation above the average for that region.\n",
    "\n",
    "|               |    |\n",
    "| --------------|----|\n",
    "| Points        | 5  |\n",
    "| Public Checks | 2  |\n",
    "| Hidden Testss | 0  |\n",
    "\n",
    "_Points:_ 5"
   ]
  },
  {
   "cell_type": "code",
   "execution_count": null,
   "id": "764df4d8-add3-4337-b2f2-2ffba2848c93",
   "metadata": {
    "tags": []
   },
   "outputs": [],
   "source": [
    "# Isolate the subset of swabbable_data that come from typical disease types\n",
    "typical_swab_data = ..."
   ]
  },
  {
   "cell_type": "code",
   "execution_count": null,
   "id": "56575528-da7b-456d-8445-7d8c8b386568",
   "metadata": {
    "tags": []
   },
   "outputs": [],
   "source": [
    "# Use `groupby()` to aggregate values while keeping the same shape\n",
    "\n",
    "typical_region_means = ...\n",
    "typical_region_stds = ..."
   ]
  },
  {
   "cell_type": "code",
   "execution_count": null,
   "id": "3c558e51-5466-4307-b203-67ff5c340d77",
   "metadata": {
    "tags": []
   },
   "outputs": [],
   "source": [
    "# Combine the values to create a cutoff \n",
    "typical_region_cutoff = typical_region_means+typical_region_stds"
   ]
  },
  {
   "cell_type": "code",
   "execution_count": null,
   "id": "faa357f8-d999-4fc9-b2d4-01a067498e0c",
   "metadata": {
    "tags": []
   },
   "outputs": [],
   "source": [
    "typical_region_cutoff"
   ]
  },
  {
   "cell_type": "code",
   "execution_count": null,
   "id": "ee5e584f-fad2-40c9-ab02-0496a06a628a",
   "metadata": {
    "tags": []
   },
   "outputs": [],
   "source": [
    "# Add a new column called `is_high`\n",
    "# If you've done the above cells correctly, this will run.\n",
    "\n",
    "# Get the appropriate cutoff into each row\n",
    "row_cutoff = swabbable_data['Location'].map(typical_region_cutoff.get)\n",
    "\n",
    "swabbable_data = swabbable_data.assign(is_high = swabbable_data['Actinobacteria'] > row_cutoff)"
   ]
  },
  {
   "cell_type": "code",
   "execution_count": null,
   "id": "1b56e25f",
   "metadata": {
    "deletable": false,
    "editable": false
   },
   "outputs": [],
   "source": [
    "grader.check(\"q5_high_values\")"
   ]
  },
  {
   "cell_type": "markdown",
   "id": "c2ce4d7e-f878-41ee-82a1-4cb8cb4e5df1",
   "metadata": {
    "deletable": false,
    "editable": false
   },
   "source": [
    "### Q6: Which swabbable region has the highest positive predictive value when predicting **persistent** disease?\n",
    "\n",
    "The positive predictive value is the ratio of patients truly diagnosed as positive vs all those who had positive test results.\n",
    "It indicates the likelihood that a patient \"has the condition\" given a positive test.\n",
    "This makes PPV one of the most useful metrics when describing diagnostic tests to clinicians and patients.\n",
    "\n",
    "Use the `is_high` column as a prediction of whether a patient has a persistent infection.\n",
    "Calculate the PPV for each region.\n",
    "In the provided space, place the most accurate region and its calculated PPV.\n",
    "\n",
    "|               |    |\n",
    "| --------------|----|\n",
    "| Points        | 10 |\n",
    "| Public Checks | 3  |\n",
    "| Hidden Testss | 2  |\n",
    "\n",
    "_Points:_ 10"
   ]
  },
  {
   "cell_type": "code",
   "execution_count": null,
   "id": "685dcc2c-34aa-4585-ac20-3f5c377232b7",
   "metadata": {
    "tags": []
   },
   "outputs": [],
   "source": [
    "\n",
    "# There are a number of ways to approach this problem\n",
    "# Look back through the groupby and pivot table explanations\n",
    "\n",
    "\n",
    "q6_highest_region = ...\n",
    "q6_best_ppv = ..."
   ]
  },
  {
   "cell_type": "code",
   "execution_count": null,
   "id": "3e34b482",
   "metadata": {
    "deletable": false,
    "editable": false
   },
   "outputs": [],
   "source": [
    "grader.check(\"q6_swabbable_ppv\")"
   ]
  },
  {
   "cell_type": "markdown",
   "id": "9f886c1f-f64d-4923-9766-0369f41960ab",
   "metadata": {
    "deletable": false,
    "editable": false
   },
   "source": [
    "<!-- BEGIN QUESTION -->\n",
    "\n",
    "### Q7: Context\n",
    "\n",
    "Put these results into context.\n",
    "\n",
    "_Points:_ 5"
   ]
  },
  {
   "cell_type": "markdown",
   "id": "75dfc4e8",
   "metadata": {},
   "source": [
    "Write your solution here in this box and consider the following:\n",
    " - What are the number 2 and 3 swabbable regions when ranking by PPV?\n",
    " - How many patients are these results based on?\n",
    " - Consider the likelihood of persistent infections relative to the PPV. Is the test giving more information compared to a null assumption?"
   ]
  },
  {
   "cell_type": "markdown",
   "id": "e1f28149",
   "metadata": {
    "deletable": false,
    "editable": false
   },
   "source": [
    "<!-- END QUESTION -->\n",
    "\n",
    "--------------------------------------------"
   ]
  },
  {
   "cell_type": "markdown",
   "id": "9b02fb19",
   "metadata": {},
   "source": [
    "## Submission\n",
    "\n",
    "Check:\n",
    " - That all tables and graphs are rendered properly.\n",
    " - Code completes without errors by using `Restart & Run All`.\n",
    " - All checks **pass**.\n",
    " \n",
    "Then save the notebook and the `File` -> `Download` -> `Download .ipynb`. Upload this file to BBLearn."
   ]
  }
 ],
 "metadata": {
  "kernelspec": {
   "display_name": "Python 3 (ipykernel)",
   "language": "python",
   "name": "python3"
  },
  "language_info": {
   "codemirror_mode": {
    "name": "ipython",
    "version": 3
   },
   "file_extension": ".py",
   "mimetype": "text/x-python",
   "name": "python",
   "nbconvert_exporter": "python",
   "pygments_lexer": "ipython3",
   "version": "3.9.13"
  },
  "otter": {
   "assignment_name": "Module04_lab"
  }
 },
 "nbformat": 4,
 "nbformat_minor": 5
}
