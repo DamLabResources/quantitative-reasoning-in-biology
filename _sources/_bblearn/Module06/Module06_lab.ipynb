{
 "cells": [
  {
   "cell_type": "code",
   "execution_count": null,
   "id": "4f491fdc-fab6-4df2-806c-68ce874c683e",
   "metadata": {
    "tags": [
     "remove_cell"
    ]
   },
   "outputs": [],
   "source": [
    "# Setting up the Colab environment. DO NOT EDIT!\n",
    "import os\n",
    "import warnings\n",
    "warnings.filterwarnings(\"ignore\")\n",
    "\n",
    "try:\n",
    "    import otter\n",
    "\n",
    "except ImportError:\n",
    "    ! pip install -q otter-grader==4.0.0\n",
    "    import otter\n",
    "\n",
    "if not os.path.exists('lab-tests'):\n",
    "    zip_files = [f for f in os.listdir() if f.endswith('.zip')]\n",
    "    assert len(zip_files)>0, 'Could not find any zip files!'\n",
    "    assert len(zip_files)==1, 'Found multiple zip files!'\n",
    "    ! unzip {zip_files[0]}\n",
    "\n",
    "grader = otter.Notebook(colab=True,\n",
    "                        tests_dir = 'lab-tests')"
   ]
  },
  {
   "cell_type": "markdown",
   "id": "cecfcfad",
   "metadata": {},
   "source": [
    "# Lab"
   ]
  },
  {
   "cell_type": "markdown",
   "id": "95c096b6-5b6f-46e3-9a30-ca3bd7b371ff",
   "metadata": {},
   "source": [
    "## Learning Objectives\n",
    "At the end of this learning activity you will be able to:\n",
    " - Practice creating statistical figures to answer biological questions.\n",
    " - Practice writing figure legends for statistical figures.\n",
    " - Practice writing descriptive reasonings about a figure."
   ]
  },
  {
   "cell_type": "markdown",
   "id": "3c1bf760-758d-4263-9068-9e2db428076b",
   "metadata": {},
   "source": [
    "**Note**: It is difficult to automatically grade figures as they are many \"correct\" answers.\n",
    "So, most questions will accept _any_ figure or axis and then ask you to answer a question that should be obvious from a properly generated figure.\n",
    "For all questions, assume a 95% confidence interval.\n",
    "\n",
    "Use this lab as an opportunity to explore the different plot-types that Seaborn can make.\n",
    "Check out https://seaborn.pydata.org/examples/index.html for ideas."
   ]
  },
  {
   "cell_type": "markdown",
   "id": "32ebed7c",
   "metadata": {},
   "source": [
    "--------------------------------------------"
   ]
  },
  {
   "cell_type": "code",
   "execution_count": null,
   "id": "b15f28b4-cc1d-4c0c-a590-c0b90012d78d",
   "metadata": {},
   "outputs": [],
   "source": [
    "import numpy as np\n",
    "import pandas as pd\n",
    "import seaborn as sns\n",
    "import matplotlib.pyplot as plt\n",
    "%matplotlib inline"
   ]
  },
  {
   "cell_type": "code",
   "execution_count": null,
   "id": "64bfa156-c631-4462-b252-dfa410ee6956",
   "metadata": {},
   "outputs": [],
   "source": [
    "data = pd.read_csv('cytokine_data.csv')\n",
    "data.head()"
   ]
  },
  {
   "cell_type": "markdown",
   "id": "edc6f9a0-15a9-4ba8-bdce-c5e4abf046c5",
   "metadata": {
    "tags": []
   },
   "source": [
    "## Explore the effect of cocaine use on `mcp1`"
   ]
  },
  {
   "cell_type": "markdown",
   "id": "9530dc0e-de0e-4fb2-b9e3-12873edcdec7",
   "metadata": {
    "deletable": false,
    "editable": false
   },
   "source": [
    "## Q1: Do cocaine users have a higher level of expression of `mcp1`?\n",
    "\n",
    "Generate a plot which displays the spread of `mcp1` measurements for each user, split by cocaine use.\n",
    "This can be boxplot, stripplot, hexplot, violin plot, or a number of others.\n",
    "\n",
    "Use a markdown cell to write a figure legend.\n",
    "At a minimum:\n",
    " - Single declaritive sentence stating the conclusion of the figure.\n",
    " - Each axis must be described.\n",
    " - Every color, line, and dot must be described.\n",
    " - Error bars must be described.\n",
    "\n",
    "Then answer:\n",
    "\n",
    "Do cocaine users or non-users have a higher levels of `mcp1`?\n",
    "Use a markdown cell to justify your answer using your figure.\n",
    "\n",
    "\n",
    "|               |    |\n",
    "| --------------|----|\n",
    "| Points        | 5  |\n",
    "| Public Checks | 2  |\n",
    "| Hidden Tests  | 1  |\n",
    "\n",
    "_Points:_ 5"
   ]
  },
  {
   "cell_type": "code",
   "execution_count": null,
   "id": "d30a39da-231d-41cc-b5e6-9394ae7b8fc1",
   "metadata": {
    "tags": []
   },
   "outputs": [],
   "source": [
    "\n",
    "# Make your plot here\n",
    "\n",
    "q1_plot = ...\n",
    "\n",
    "# Create a markdown cell after this to write a figure legend."
   ]
  },
  {
   "cell_type": "code",
   "execution_count": null,
   "id": "1b9b71f8-8661-4695-8390-d80440d11e0a",
   "metadata": {
    "tags": []
   },
   "outputs": [],
   "source": [
    "# Do cocaine users or non-users have a higher levels of mcp1?\n",
    "# Answer 'users' or 'non-users', 'same'\n",
    "q1_higher_level = ...\n",
    "\n",
    "# Use the cell below to write your justification given the figure you presented."
   ]
  },
  {
   "cell_type": "code",
   "execution_count": null,
   "id": "c421a985",
   "metadata": {
    "deletable": false,
    "editable": false
   },
   "outputs": [],
   "source": [
    "grader.check(\"q1_cocaine_use_spread\")"
   ]
  },
  {
   "cell_type": "markdown",
   "id": "5752d8f7-6a3f-4f76-99e0-b4df98c2fc4b",
   "metadata": {
    "deletable": false,
    "editable": false
   },
   "source": [
    "## Q2: Do cocaine users or non-users have a higher _average_ level of `mcp1`?\n",
    "\n",
    "Generate a plot which displays the confidence of the mean of `mcp1` expression across cocaine use.\n",
    "\n",
    "Then, write a figure legend that at a minimum contains:\n",
    " - Single declaritive sentence stating the conclusion of the figure.\n",
    " - Each axis must be described.\n",
    " - Every color, line, and dot must be described.\n",
    " - Error bars must be described.\n",
    "\n",
    "\n",
    "Then, use that figure to answer whether cocaine users or non-users have a higher _average_ level of `mcp1`?\n",
    "Include a markdown cell that justifies your answer given the figure you presented.\n",
    "\n",
    "\n",
    "|               |    |\n",
    "| --------------|----|\n",
    "| Points        | 5  |\n",
    "| Public Checks | 2  |\n",
    "| Hidden Tests  | 1  |\n",
    "\n",
    "_Points:_ 5"
   ]
  },
  {
   "cell_type": "code",
   "execution_count": null,
   "id": "be53c45f-a448-4081-bfb9-427df8717af6",
   "metadata": {
    "tags": []
   },
   "outputs": [],
   "source": [
    "# Generate a plot which displays the confidence of the mean of mcp1 expression across cocaine use\n",
    "\n",
    "q2_plot = ...\n"
   ]
  },
  {
   "cell_type": "code",
   "execution_count": null,
   "id": "5a0a204e-abd2-4754-ab63-65a3427a9878",
   "metadata": {
    "tags": []
   },
   "outputs": [],
   "source": [
    "# Do cocaine users or non-users have a higher average level of mcp1\n",
    "# Answer 'users' or 'non-users', 'same'\n",
    "q2_higher_mean = ...\n",
    "\n",
    "# Make a cell below this to explain your reasoning based on the figure."
   ]
  },
  {
   "cell_type": "code",
   "execution_count": null,
   "id": "3d91563f",
   "metadata": {
    "deletable": false,
    "editable": false
   },
   "outputs": [],
   "source": [
    "grader.check(\"q2_cocaine_use_mean\")"
   ]
  },
  {
   "cell_type": "markdown",
   "id": "70125a60-eab7-4958-adc9-5eb1b0acb21a",
   "metadata": {
    "deletable": false,
    "editable": false
   },
   "source": [
    "## Q3: Does Sex impact the effect of cocaine use on the average level of `mcp1` expression?\n",
    "\n",
    "Generate a plot which displays the confidence of the mean of `mcp1` expression across cocaine use and split by sex.\n",
    "\n",
    "Then use a markdown cell to write a figure caption that, at a minimum includes:\n",
    "- **A single declaritive sentence stating the conclusion of the figure.**\n",
    " - Each axis must be described.\n",
    " - Every color, line, and dot must be described.\n",
    " - Error bars must be described.\n",
    "\n",
    "Then answer the question: Does sex modulate the impact of cocaine use on mcp1 expression?\n",
    "Create a markdown cell afterwards that describes your answer based on the figure you created.\n",
    "\n",
    "|               |    |\n",
    "| --------------|----|\n",
    "| Points        | 5  |\n",
    "| Public Checks | 2  |\n",
    "| Hidden Tests  | 1  |\n",
    "\n",
    "\n",
    "\n",
    "_Points:_ 5"
   ]
  },
  {
   "cell_type": "code",
   "execution_count": null,
   "id": "9b4f3d05-604e-4731-8cc9-9ff2990986be",
   "metadata": {
    "tags": []
   },
   "outputs": [],
   "source": [
    "# Generate a plot which displays the confidence of the mean of mcp1 expression across cocaine use\n",
    "\n",
    "q3_plot = ...\n"
   ]
  },
  {
   "cell_type": "code",
   "execution_count": null,
   "id": "b771ea57-7bd0-4128-bc42-b9800c35003d",
   "metadata": {
    "tags": []
   },
   "outputs": [],
   "source": [
    "# Is it 'likely' or 'unlikely' that gender has an impact on the effect of cocaine use on mcp1?\n",
    "q3_gender_impact = ..."
   ]
  },
  {
   "cell_type": "code",
   "execution_count": null,
   "id": "d766d389",
   "metadata": {
    "deletable": false,
    "editable": false
   },
   "outputs": [],
   "source": [
    "grader.check(\"q3_cocaine_use_gender_mean\")"
   ]
  },
  {
   "cell_type": "markdown",
   "id": "9b72d61d-61ec-4ebd-84d2-67678ffcd33b",
   "metadata": {
    "deletable": false,
    "editable": false
   },
   "source": [
    "## Q4: Is there a correlation between infection length and `mcp1` expression?\n",
    "\n",
    "Generate a plot which displays the relationship between years infected and `mcp1` expression.\n",
    "\n",
    "Then use a markdown cell to write a figure caption that, at a minimum includes:\n",
    "- **A single declaritive sentence stating the conclusion of the figure.**\n",
    " - Each axis must be described.\n",
    " - Every color, line, and dot must be described.\n",
    " - Error bars must be described.\n",
    "\n",
    "Then answer the question: Is there a correlation between infection length and mcp1 expression?\n",
    "Create a markdown cell afterwards that describes your answer based on the figure you created.\n",
    "\n",
    "|               |    |\n",
    "| --------------|----|\n",
    "| Points        | 5  |\n",
    "| Public Checks | 2  |\n",
    "| Hidden Tests  | 1  |\n",
    "\n",
    "\n",
    "\n",
    "_Points:_ 5"
   ]
  },
  {
   "cell_type": "code",
   "execution_count": null,
   "id": "52d47070-d7c7-41aa-b7da-f06ed5bbb301",
   "metadata": {
    "tags": []
   },
   "outputs": [],
   "source": [
    "# Generate a plot which displays the relationship between years_infected and mcp1 expression\n",
    "\n",
    "\n",
    "q4_plot = ...\n"
   ]
  },
  {
   "cell_type": "code",
   "execution_count": null,
   "id": "07841968-53c8-440e-ab95-2ead4a56f9a1",
   "metadata": {
    "tags": []
   },
   "outputs": [],
   "source": [
    "# Is there a correlation between infection length and mcp1 expression? 'yes' or 'no'\n",
    "q4_infection_length_corr = ..."
   ]
  },
  {
   "cell_type": "code",
   "execution_count": null,
   "id": "f71e3314",
   "metadata": {
    "deletable": false,
    "editable": false
   },
   "outputs": [],
   "source": [
    "grader.check(\"q4_infection_length\")"
   ]
  },
  {
   "cell_type": "markdown",
   "id": "60d9cd28-0743-4262-8052-570ed828034b",
   "metadata": {
    "deletable": false,
    "editable": false
   },
   "source": [
    "## Q5: Does cocaine use impact the relationship between infection length and `mcp1` expression?\n",
    "\n",
    "Generate a plot which displays the impact of cocaine use relationship between years infected and `mcp1` expression.\n",
    "\n",
    "Then use a markdown cell to write a figure caption that, at a minimum includes:\n",
    "- **A single declaritive sentence stating the conclusion of the figure.**\n",
    " - Each axis must be described.\n",
    " - Every color, line, and dot must be described.\n",
    " - Error bars must be described.\n",
    "\n",
    "Then answer the question: Does cocaine use impact the relationship between infection length and `mcp1` expression\n",
    "Create a markdown cell afterwards that describes your answer based on the figure you created.\n",
    "\n",
    "|               |    |\n",
    "| --------------|----|\n",
    "| Points        | 5  |\n",
    "| Public Checks | 2  |\n",
    "| Hidden Tests  | 1  |\n",
    "\n",
    "\n"
   ]
  },
  {
   "cell_type": "markdown",
   "id": "f24fa488-a027-4311-af9d-3c4447e169a8",
   "metadata": {
    "deletable": false,
    "editable": false,
    "tags": [
     "remove_cell"
    ]
   },
   "source": [
    "|               |    |\n",
    "| --------------|----|\n",
    "| Points        | 5  |\n",
    "| Public Checks | 2  |\n",
    "| Hidden Tests  | 1  |\n",
    "\n",
    "_Points:_ 5"
   ]
  },
  {
   "cell_type": "code",
   "execution_count": null,
   "id": "9dac5e78-106c-4609-b50d-e07eaa1c8a6a",
   "metadata": {
    "tags": []
   },
   "outputs": [],
   "source": [
    "# Generate a plot which displays the confidence of the mean of mcp1 expression across years infected and split by cocaine use\n",
    "\n",
    "q5_plot = ...\n"
   ]
  },
  {
   "cell_type": "code",
   "execution_count": null,
   "id": "232edb08-9d9b-4f92-8e7c-df0e005ee549",
   "metadata": {
    "tags": []
   },
   "outputs": [],
   "source": [
    "# Does cocaine use impact the rate of mcp1 increase with infection length? 'yes' or 'no'\n",
    "q5_infection_length_cocaine_slope = ..."
   ]
  },
  {
   "cell_type": "code",
   "execution_count": null,
   "id": "cbfad15b",
   "metadata": {
    "deletable": false,
    "editable": false
   },
   "outputs": [],
   "source": [
    "grader.check(\"q5_infection_length_cocaine\")"
   ]
  },
  {
   "cell_type": "markdown",
   "id": "703c6fbd",
   "metadata": {},
   "source": [
    "## Submission\n",
    "\n",
    "Check:\n",
    " - That all tables and graphs are rendered properly.\n",
    " - Code completes without errors by using `Restart & Run All`.\n",
    " - All checks **pass**.\n",
    " \n",
    "Then save the notebook and the `File` -> `Download` -> `Download .ipynb`. Upload this file to BBLearn."
   ]
  }
 ],
 "metadata": {
  "kernelspec": {
   "display_name": "Python 3 (ipykernel)",
   "language": "python",
   "name": "python3"
  },
  "language_info": {
   "codemirror_mode": {
    "name": "ipython",
    "version": 3
   },
   "file_extension": ".py",
   "mimetype": "text/x-python",
   "name": "python",
   "nbconvert_exporter": "python",
   "pygments_lexer": "ipython3",
   "version": "3.9.13"
  },
  "otter": {
   "assignment_name": "Module06_lab"
  }
 },
 "nbformat": 4,
 "nbformat_minor": 5
}
