{
 "cells": [
  {
   "cell_type": "code",
   "execution_count": 1,
   "id": "47ab9d3d-5a84-4b1c-a5e0-03e14abf4524",
   "metadata": {
    "tags": [
     "remove_cell"
    ]
   },
   "outputs": [],
   "source": [
    "# Setting up the Colab environment. DO NOT EDIT!\n",
    "import os\n",
    "import warnings\n",
    "warnings.filterwarnings(\"ignore\")\n",
    "\n",
    "try:\n",
    "    import otter\n",
    "\n",
    "except ImportError:\n",
    "    ! pip install -q otter-grader==4.0.0\n",
    "    import otter\n",
    "\n",
    "if not os.path.exists('walkthrough-tests'):\n",
    "    zip_files = [f for f in os.listdir() if f.endswith('.zip')]\n",
    "    assert len(zip_files)>0, 'Could not find any zip files!'\n",
    "    assert len(zip_files)==1, 'Found multiple zip files!'\n",
    "    ! unzip {zip_files[0]}\n",
    "\n",
    "grader = otter.Notebook(colab=True,\n",
    "                        tests_dir = 'walkthrough-tests')"
   ]
  },
  {
   "cell_type": "markdown",
   "id": "739d080a-ad24-4687-bb6e-aab37952233a",
   "metadata": {
    "tags": []
   },
   "source": [
    "# Walkthrough"
   ]
  },
  {
   "cell_type": "markdown",
   "id": "e920c6ea-e620-4f58-ba02-15bf10430cce",
   "metadata": {},
   "source": [
    "## Learning Objectives\n",
    "At the end of this learning activity you will be able to:\n",
    "\n",
    "* Practice summarize observations by sample using `groupby`.\n",
    "* Measure the uncertainty of the estimate of the mean.\n",
    "* Distinguish when to use parametric and non-parametric estimates of error.\n",
    "* Practice merging two dataframes."
   ]
  },
  {
   "cell_type": "markdown",
   "id": "3e3d5466",
   "metadata": {
    "id": "59f3483e-0a2a-4217-8185-c5557dda482e"
   },
   "source": [
    "This week we will start looking at the imaging data we discussed with Dr. Gaskill.\n",
    "In this experiment, they used pH responsive beads that flouresce when in the low pH environment of the phagasome.\n",
    "With this technology, they exposed cells to different levels of dopamine and measured the uptake of these beads.\n",
    "They did this using a _high content_ imager which automates the process of scanning a plate, detecting cell boundaries, and _spots_ of flourescing beads."
   ]
  },
  {
   "cell_type": "markdown",
   "id": "2ad9f689-472f-479d-a638-8d7bd4e5f097",
   "metadata": {},
   "source": [
    "This imager returns a giant spreadsheet where each cell is a row and the columns are the cell area, bead count, and intensity.\n",
    "This dataset of a single 96-well plate has over **315,000 cells** measured across 60 samples of 20 conditions performed in triplicate."
   ]
  },
  {
   "cell_type": "markdown",
   "id": "e3294db5",
   "metadata": {},
   "source": [
    "---------------------------------------------"
   ]
  },
  {
   "cell_type": "code",
   "execution_count": 2,
   "id": "02d710d4",
   "metadata": {},
   "outputs": [],
   "source": [
    "import numpy as np\n",
    "import pandas as pd\n",
    "import matplotlib.pyplot as plt\n",
    "import seaborn as sns\n",
    "\n",
    "%matplotlib inline"
   ]
  },
  {
   "cell_type": "code",
   "execution_count": 3,
   "id": "00ed4f31-4ec4-47fb-9d37-1885d9cae14b",
   "metadata": {},
   "outputs": [
    {
     "data": {
      "text/html": [
       "<div>\n",
       "<style scoped>\n",
       "    .dataframe tbody tr th:only-of-type {\n",
       "        vertical-align: middle;\n",
       "    }\n",
       "\n",
       "    .dataframe tbody tr th {\n",
       "        vertical-align: top;\n",
       "    }\n",
       "\n",
       "    .dataframe thead th {\n",
       "        text-align: right;\n",
       "    }\n",
       "</style>\n",
       "<table border=\"1\" class=\"dataframe\">\n",
       "  <thead>\n",
       "    <tr style=\"text-align: right;\">\n",
       "      <th></th>\n",
       "      <th>Well</th>\n",
       "      <th>Field</th>\n",
       "      <th>Cell_Number</th>\n",
       "      <th>Top</th>\n",
       "      <th>Left</th>\n",
       "      <th>XCentroid</th>\n",
       "      <th>YCentroid</th>\n",
       "      <th>ObjectAreaCh1</th>\n",
       "      <th>ObjectTotalIntenCh1</th>\n",
       "      <th>ObjectAvgIntenCh1</th>\n",
       "      <th>ObjectVarIntenCh1</th>\n",
       "      <th>SpotCountCh2</th>\n",
       "      <th>SpotTotalAreaCh2</th>\n",
       "      <th>SpotAvgAreaCh2</th>\n",
       "      <th>SpotTotalIntenCh2</th>\n",
       "      <th>SpotAvgIntenCh2</th>\n",
       "      <th>TotalIntenCh2</th>\n",
       "      <th>AvgIntenCh2</th>\n",
       "    </tr>\n",
       "  </thead>\n",
       "  <tbody>\n",
       "    <tr>\n",
       "      <th>0</th>\n",
       "      <td>B2</td>\n",
       "      <td>1</td>\n",
       "      <td>1</td>\n",
       "      <td>127</td>\n",
       "      <td>634</td>\n",
       "      <td>703.418228</td>\n",
       "      <td>197.382766</td>\n",
       "      <td>14889</td>\n",
       "      <td>40514018</td>\n",
       "      <td>2721.070455</td>\n",
       "      <td>1428.303950</td>\n",
       "      <td>5</td>\n",
       "      <td>122</td>\n",
       "      <td>24.400000</td>\n",
       "      <td>113038</td>\n",
       "      <td>926.540984</td>\n",
       "      <td>1151084</td>\n",
       "      <td>77.311035</td>\n",
       "    </tr>\n",
       "    <tr>\n",
       "      <th>1</th>\n",
       "      <td>B2</td>\n",
       "      <td>1</td>\n",
       "      <td>2</td>\n",
       "      <td>203</td>\n",
       "      <td>53</td>\n",
       "      <td>119.211656</td>\n",
       "      <td>272.750579</td>\n",
       "      <td>14670</td>\n",
       "      <td>36697977</td>\n",
       "      <td>2501.566258</td>\n",
       "      <td>1270.956156</td>\n",
       "      <td>0</td>\n",
       "      <td>0</td>\n",
       "      <td>0.000000</td>\n",
       "      <td>0</td>\n",
       "      <td>0.000000</td>\n",
       "      <td>531102</td>\n",
       "      <td>36.203272</td>\n",
       "    </tr>\n",
       "    <tr>\n",
       "      <th>2</th>\n",
       "      <td>B2</td>\n",
       "      <td>1</td>\n",
       "      <td>3</td>\n",
       "      <td>477</td>\n",
       "      <td>595</td>\n",
       "      <td>664.088627</td>\n",
       "      <td>538.774772</td>\n",
       "      <td>14341</td>\n",
       "      <td>38322709</td>\n",
       "      <td>2672.248030</td>\n",
       "      <td>1543.100214</td>\n",
       "      <td>16</td>\n",
       "      <td>382</td>\n",
       "      <td>23.875000</td>\n",
       "      <td>823276</td>\n",
       "      <td>2155.172775</td>\n",
       "      <td>3011914</td>\n",
       "      <td>210.021198</td>\n",
       "    </tr>\n",
       "    <tr>\n",
       "      <th>3</th>\n",
       "      <td>B2</td>\n",
       "      <td>1</td>\n",
       "      <td>4</td>\n",
       "      <td>488</td>\n",
       "      <td>302</td>\n",
       "      <td>389.107857</td>\n",
       "      <td>581.589321</td>\n",
       "      <td>25302</td>\n",
       "      <td>59364634</td>\n",
       "      <td>2346.242748</td>\n",
       "      <td>939.256416</td>\n",
       "      <td>21</td>\n",
       "      <td>324</td>\n",
       "      <td>15.428571</td>\n",
       "      <td>259496</td>\n",
       "      <td>800.913580</td>\n",
       "      <td>1265323</td>\n",
       "      <td>50.008814</td>\n",
       "    </tr>\n",
       "    <tr>\n",
       "      <th>4</th>\n",
       "      <td>B2</td>\n",
       "      <td>1</td>\n",
       "      <td>5</td>\n",
       "      <td>713</td>\n",
       "      <td>717</td>\n",
       "      <td>808.196306</td>\n",
       "      <td>790.656465</td>\n",
       "      <td>22414</td>\n",
       "      <td>57729816</td>\n",
       "      <td>2575.614170</td>\n",
       "      <td>1724.895666</td>\n",
       "      <td>0</td>\n",
       "      <td>0</td>\n",
       "      <td>0.000000</td>\n",
       "      <td>0</td>\n",
       "      <td>0.000000</td>\n",
       "      <td>590502</td>\n",
       "      <td>26.345231</td>\n",
       "    </tr>\n",
       "  </tbody>\n",
       "</table>\n",
       "</div>"
      ],
      "text/plain": [
       "  Well  Field  Cell_Number  Top  Left   XCentroid   YCentroid  ObjectAreaCh1  \\\n",
       "0   B2      1            1  127   634  703.418228  197.382766          14889   \n",
       "1   B2      1            2  203    53  119.211656  272.750579          14670   \n",
       "2   B2      1            3  477   595  664.088627  538.774772          14341   \n",
       "3   B2      1            4  488   302  389.107857  581.589321          25302   \n",
       "4   B2      1            5  713   717  808.196306  790.656465          22414   \n",
       "\n",
       "   ObjectTotalIntenCh1  ObjectAvgIntenCh1  ObjectVarIntenCh1  SpotCountCh2  \\\n",
       "0             40514018        2721.070455        1428.303950             5   \n",
       "1             36697977        2501.566258        1270.956156             0   \n",
       "2             38322709        2672.248030        1543.100214            16   \n",
       "3             59364634        2346.242748         939.256416            21   \n",
       "4             57729816        2575.614170        1724.895666             0   \n",
       "\n",
       "   SpotTotalAreaCh2  SpotAvgAreaCh2  SpotTotalIntenCh2  SpotAvgIntenCh2  \\\n",
       "0               122       24.400000             113038       926.540984   \n",
       "1                 0        0.000000                  0         0.000000   \n",
       "2               382       23.875000             823276      2155.172775   \n",
       "3               324       15.428571             259496       800.913580   \n",
       "4                 0        0.000000                  0         0.000000   \n",
       "\n",
       "   TotalIntenCh2  AvgIntenCh2  \n",
       "0        1151084    77.311035  \n",
       "1         531102    36.203272  \n",
       "2        3011914   210.021198  \n",
       "3        1265323    50.008814  \n",
       "4         590502    26.345231  "
      ]
     },
     "execution_count": 3,
     "metadata": {},
     "output_type": "execute_result"
    }
   ],
   "source": [
    "cell_level_data = pd.read_csv('pHrodo_DMEM.csv')\n",
    "cell_level_data.head()"
   ]
  },
  {
   "cell_type": "markdown",
   "id": "0e9864ba-0314-4aff-bae4-178b457b4fb6",
   "metadata": {},
   "source": [
    "## Sumarize by sample"
   ]
  },
  {
   "cell_type": "markdown",
   "id": "09e8d395-418e-44b4-9b08-debbbe19f716",
   "metadata": {},
   "source": [
    "### Q1: How many cells are in each well?"
   ]
  },
  {
   "cell_type": "code",
   "execution_count": 4,
   "id": "b836dd30-86df-4a60-a65a-d08f3b0ed740",
   "metadata": {
    "tags": [
     "otter_assign_solution_cell"
    ]
   },
   "outputs": [
    {
     "data": {
      "text/plain": [
       "count     60.000000\n",
       "mean     525.966667\n",
       "std      133.318145\n",
       "min      257.000000\n",
       "25%      418.250000\n",
       "50%      528.000000\n",
       "75%      641.000000\n",
       "max      794.000000\n",
       "Name: Cell_Number, dtype: float64"
      ]
     },
     "execution_count": 4,
     "metadata": {},
     "output_type": "execute_result"
    }
   ],
   "source": [
    "# Use `groupby` to count the number of cells per well\n",
    "\n",
    "cells_per_well = cell_level_data.groupby('Well')['Cell_Number'].count() # SOLUTION\n",
    "cells_per_well.describe()"
   ]
  },
  {
   "cell_type": "code",
   "execution_count": null,
   "id": "a29eb102",
   "metadata": {
    "deletable": false,
    "editable": false
   },
   "outputs": [],
   "source": [
    "grader.check(\"q1_cells_per_well\")"
   ]
  },
  {
   "cell_type": "code",
   "execution_count": 7,
   "id": "8cd107f4-2051-41d1-8435-fbe27537d479",
   "metadata": {},
   "outputs": [
    {
     "data": {
      "text/plain": [
       "<Axes: >"
      ]
     },
     "execution_count": 7,
     "metadata": {},
     "output_type": "execute_result"
    },
    {
     "data": {
      "image/png": "[encoded data removed]",
      "text/plain": [
       "<Figure size 640x480 with 1 Axes>"
      ]
     },
     "metadata": {},
     "output_type": "display_data"
    }
   ],
   "source": [
    "cells_per_well.plot(kind='box')"
   ]
  },
  {
   "cell_type": "markdown",
   "id": "11def79e-e815-41c9-abee-550b4afa6501",
   "metadata": {},
   "source": [
    "The count ranges from 257 to 794 with an average of 525 cells per well."
   ]
  },
  {
   "cell_type": "markdown",
   "id": "129f75e6-f68f-4561-9be9-3628f17e7034",
   "metadata": {},
   "source": [
    "## Measuring phagocytosis"
   ]
  },
  {
   "cell_type": "markdown",
   "id": "e823934d-691e-4523-8ea9-38e84e791cbc",
   "metadata": {},
   "source": [
    "Each cell can take up 0 or more pH beads.\n",
    "Our biological question is whether dopamine changes the amount of beads that are taken up by the cells."
   ]
  },
  {
   "cell_type": "code",
   "execution_count": 8,
   "id": "1c754d5e-646b-41e2-982f-8720ce91424f",
   "metadata": {},
   "outputs": [
    {
     "data": {
      "text/plain": [
       "<Axes: xlabel='SpotCountCh2', ylabel='Percent'>"
      ]
     },
     "execution_count": 8,
     "metadata": {},
     "output_type": "execute_result"
    },
    {
     "data": {
      "image/png": "[encoded data removed]",
      "text/plain": [
       "<Figure size 640x480 with 1 Axes>"
      ]
     },
     "metadata": {},
     "output_type": "display_data"
    }
   ],
   "source": [
    "sns.histplot(data = cell_level_data,\n",
    "             x = 'SpotCountCh2',\n",
    "             bins = np.arange(0, 100),\n",
    "             stat = 'percent')"
   ]
  },
  {
   "cell_type": "markdown",
   "id": "e469f666-fddb-473a-a7b4-6fd26858e6ae",
   "metadata": {},
   "source": [
    "From our graph, we can see that most cells took up 0 beads and then about 10% took up 1, ~5% took up two, etc."
   ]
  },
  {
   "cell_type": "markdown",
   "id": "ad7b9c5f-a1ac-4c75-9364-b78de949a694",
   "metadata": {},
   "source": [
    "We hypothesize that dopamine treatment will increase the average number of beads taken up by cells."
   ]
  },
  {
   "cell_type": "code",
   "execution_count": 9,
   "id": "c6cdd477-0923-42bb-a54c-1af140c2984d",
   "metadata": {},
   "outputs": [
    {
     "data": {
      "text/plain": [
       "<Axes: xlabel='SpotCountCh2', ylabel='Well'>"
      ]
     },
     "execution_count": 9,
     "metadata": {},
     "output_type": "execute_result"
    },
    {
     "data": {
      "image/png": "[encoded data removed]",
      "text/plain": [
       "<Figure size 640x480 with 1 Axes>"
      ]
     },
     "metadata": {},
     "output_type": "display_data"
    }
   ],
   "source": [
    "# Visually\n",
    "sns.barplot(data = cell_level_data,\n",
    "            y = 'Well',\n",
    "            x = 'SpotCountCh2')"
   ]
  },
  {
   "cell_type": "markdown",
   "id": "47f5bb2f-13c0-4afb-8c8d-80b0a79ed601",
   "metadata": {},
   "source": [
    "The length of the bars indicates the average number of spots per cell while the black hashes indicate the 95% CI of that estimate."
   ]
  },
  {
   "cell_type": "code",
   "execution_count": 10,
   "id": "9742a3d3-bddc-4d40-b60f-7287a760603d",
   "metadata": {},
   "outputs": [
    {
     "data": {
      "text/html": [
       "<div>\n",
       "<style scoped>\n",
       "    .dataframe tbody tr th:only-of-type {\n",
       "        vertical-align: middle;\n",
       "    }\n",
       "\n",
       "    .dataframe tbody tr th {\n",
       "        vertical-align: top;\n",
       "    }\n",
       "\n",
       "    .dataframe thead th {\n",
       "        text-align: right;\n",
       "    }\n",
       "</style>\n",
       "<table border=\"1\" class=\"dataframe\">\n",
       "  <thead>\n",
       "    <tr style=\"text-align: right;\">\n",
       "      <th></th>\n",
       "      <th>mean</th>\n",
       "      <th>sem</th>\n",
       "      <th>count</th>\n",
       "    </tr>\n",
       "    <tr>\n",
       "      <th>Well</th>\n",
       "      <th></th>\n",
       "      <th></th>\n",
       "      <th></th>\n",
       "    </tr>\n",
       "  </thead>\n",
       "  <tbody>\n",
       "    <tr>\n",
       "      <th>B10</th>\n",
       "      <td>4.138889</td>\n",
       "      <td>0.290394</td>\n",
       "      <td>612</td>\n",
       "    </tr>\n",
       "    <tr>\n",
       "      <th>B11</th>\n",
       "      <td>2.692828</td>\n",
       "      <td>0.200705</td>\n",
       "      <td>739</td>\n",
       "    </tr>\n",
       "    <tr>\n",
       "      <th>B2</th>\n",
       "      <td>4.599343</td>\n",
       "      <td>0.326940</td>\n",
       "      <td>609</td>\n",
       "    </tr>\n",
       "    <tr>\n",
       "      <th>B3</th>\n",
       "      <td>4.391667</td>\n",
       "      <td>0.312008</td>\n",
       "      <td>720</td>\n",
       "    </tr>\n",
       "    <tr>\n",
       "      <th>B4</th>\n",
       "      <td>3.464491</td>\n",
       "      <td>0.301991</td>\n",
       "      <td>521</td>\n",
       "    </tr>\n",
       "  </tbody>\n",
       "</table>\n",
       "</div>"
      ],
      "text/plain": [
       "          mean       sem  count\n",
       "Well                           \n",
       "B10   4.138889  0.290394    612\n",
       "B11   2.692828  0.200705    739\n",
       "B2    4.599343  0.326940    609\n",
       "B3    4.391667  0.312008    720\n",
       "B4    3.464491  0.301991    521"
      ]
     },
     "execution_count": 10,
     "metadata": {},
     "output_type": "execute_result"
    }
   ],
   "source": [
    "# Numerically\n",
    "well_level_data = cell_level_data.groupby('Well')['SpotCountCh2'].agg(['mean', 'sem', 'count'])\n",
    "well_level_data.head()"
   ]
  },
  {
   "cell_type": "markdown",
   "id": "6bcb719a-126f-49fe-8460-f58dc4d95404",
   "metadata": {},
   "source": [
    "## Decoding samples"
   ]
  },
  {
   "cell_type": "markdown",
   "id": "b3adfeda-e84f-45d9-9590-8d7ba0d8c75e",
   "metadata": {},
   "source": [
    "Up to now we've been treating all of our without knowing which treatment they came from.\n",
    "Now that we've collapsed our data to a single representative number for each sample, we can merge with our plate map."
   ]
  },
  {
   "cell_type": "code",
   "execution_count": 11,
   "id": "b21f12bd-5d1b-415e-b169-4c099a1b2026",
   "metadata": {},
   "outputs": [
    {
     "data": {
      "text/html": [
       "<div>\n",
       "<style scoped>\n",
       "    .dataframe tbody tr th:only-of-type {\n",
       "        vertical-align: middle;\n",
       "    }\n",
       "\n",
       "    .dataframe tbody tr th {\n",
       "        vertical-align: top;\n",
       "    }\n",
       "\n",
       "    .dataframe thead th {\n",
       "        text-align: right;\n",
       "    }\n",
       "</style>\n",
       "<table border=\"1\" class=\"dataframe\">\n",
       "  <thead>\n",
       "    <tr style=\"text-align: right;\">\n",
       "      <th></th>\n",
       "      <th>well</th>\n",
       "      <th>pHrodo_conc_ug</th>\n",
       "      <th>DA_Tx</th>\n",
       "      <th>replicate</th>\n",
       "    </tr>\n",
       "  </thead>\n",
       "  <tbody>\n",
       "    <tr>\n",
       "      <th>0</th>\n",
       "      <td>B2</td>\n",
       "      <td>5.0</td>\n",
       "      <td>veh</td>\n",
       "      <td>Rep1</td>\n",
       "    </tr>\n",
       "    <tr>\n",
       "      <th>1</th>\n",
       "      <td>C2</td>\n",
       "      <td>5.0</td>\n",
       "      <td>veh</td>\n",
       "      <td>Rep2</td>\n",
       "    </tr>\n",
       "    <tr>\n",
       "      <th>2</th>\n",
       "      <td>D2</td>\n",
       "      <td>5.0</td>\n",
       "      <td>veh</td>\n",
       "      <td>Rep3</td>\n",
       "    </tr>\n",
       "    <tr>\n",
       "      <th>3</th>\n",
       "      <td>B3</td>\n",
       "      <td>5.0</td>\n",
       "      <td>DA06</td>\n",
       "      <td>Rep1</td>\n",
       "    </tr>\n",
       "    <tr>\n",
       "      <th>4</th>\n",
       "      <td>C3</td>\n",
       "      <td>5.0</td>\n",
       "      <td>DA06</td>\n",
       "      <td>Rep2</td>\n",
       "    </tr>\n",
       "  </tbody>\n",
       "</table>\n",
       "</div>"
      ],
      "text/plain": [
       "  well pHrodo_conc_ug DA_Tx replicate\n",
       "0   B2            5.0   veh      Rep1\n",
       "1   C2            5.0   veh      Rep2\n",
       "2   D2            5.0   veh      Rep3\n",
       "3   B3            5.0  DA06      Rep1\n",
       "4   C3            5.0  DA06      Rep2"
      ]
     },
     "execution_count": 11,
     "metadata": {},
     "output_type": "execute_result"
    }
   ],
   "source": [
    "# Load in plate map\n",
    "plate_map = pd.read_csv('plate_map.csv')\n",
    "\n",
    "# Treat concentration as a category instead of a number\n",
    "plate_map['pHrodo_conc_ug'] = pd.Categorical(plate_map['pHrodo_conc_ug'])\n",
    "\n",
    "plate_map.head()"
   ]
  },
  {
   "cell_type": "markdown",
   "id": "7b4a0fd3-6e72-4935-96de-8bc49156346e",
   "metadata": {},
   "source": [
    "This function helps visualize how the plate is layed out."
   ]
  },
  {
   "cell_type": "code",
   "execution_count": 12,
   "id": "7a13ec1e-fbf4-4031-a41e-dddfd6ce1014",
   "metadata": {},
   "outputs": [
    {
     "data": {
      "text/html": [
       "<div>\n",
       "<style scoped>\n",
       "    .dataframe tbody tr th:only-of-type {\n",
       "        vertical-align: middle;\n",
       "    }\n",
       "\n",
       "    .dataframe tbody tr th {\n",
       "        vertical-align: top;\n",
       "    }\n",
       "\n",
       "    .dataframe thead th {\n",
       "        text-align: right;\n",
       "    }\n",
       "</style>\n",
       "<table border=\"1\" class=\"dataframe\">\n",
       "  <thead>\n",
       "    <tr style=\"text-align: right;\">\n",
       "      <th>col</th>\n",
       "      <th>2</th>\n",
       "      <th>3</th>\n",
       "      <th>4</th>\n",
       "      <th>5</th>\n",
       "      <th>6</th>\n",
       "      <th>7</th>\n",
       "      <th>8</th>\n",
       "      <th>9</th>\n",
       "      <th>10</th>\n",
       "      <th>11</th>\n",
       "    </tr>\n",
       "    <tr>\n",
       "      <th>row</th>\n",
       "      <th></th>\n",
       "      <th></th>\n",
       "      <th></th>\n",
       "      <th></th>\n",
       "      <th></th>\n",
       "      <th></th>\n",
       "      <th></th>\n",
       "      <th></th>\n",
       "      <th></th>\n",
       "      <th></th>\n",
       "    </tr>\n",
       "  </thead>\n",
       "  <tbody>\n",
       "    <tr>\n",
       "      <th>B</th>\n",
       "      <td>5.0-veh-Rep1</td>\n",
       "      <td>5.0-DA06-Rep1</td>\n",
       "      <td>5.0-DA07-Rep1</td>\n",
       "      <td>5.0-DA08-Rep1</td>\n",
       "      <td>5.0-DA09-Rep1</td>\n",
       "      <td>5.0-DA10-Rep1</td>\n",
       "      <td>5.0-DA11-Rep1</td>\n",
       "      <td>5.0-DA12-Rep1</td>\n",
       "      <td>5.0-DA13-Rep1</td>\n",
       "      <td>5.0-DA14-Rep1</td>\n",
       "    </tr>\n",
       "    <tr>\n",
       "      <th>C</th>\n",
       "      <td>5.0-veh-Rep2</td>\n",
       "      <td>5.0-DA06-Rep2</td>\n",
       "      <td>5.0-DA07-Rep2</td>\n",
       "      <td>5.0-DA08-Rep2</td>\n",
       "      <td>5.0-DA09-Rep2</td>\n",
       "      <td>5.0-DA10-Rep2</td>\n",
       "      <td>5.0-DA11-Rep2</td>\n",
       "      <td>5.0-DA12-Rep2</td>\n",
       "      <td>5.0-DA13-Rep2</td>\n",
       "      <td>5.0-DA14-Rep2</td>\n",
       "    </tr>\n",
       "    <tr>\n",
       "      <th>D</th>\n",
       "      <td>5.0-veh-Rep3</td>\n",
       "      <td>5.0-DA06-Rep3</td>\n",
       "      <td>5.0-DA07-Rep3</td>\n",
       "      <td>5.0-DA08-Rep3</td>\n",
       "      <td>5.0-DA09-Rep3</td>\n",
       "      <td>5.0-DA10-Rep3</td>\n",
       "      <td>5.0-DA11-Rep3</td>\n",
       "      <td>5.0-DA12-Rep3</td>\n",
       "      <td>5.0-DA13-Rep3</td>\n",
       "      <td>5.0-DA14-Rep3</td>\n",
       "    </tr>\n",
       "    <tr>\n",
       "      <th>E</th>\n",
       "      <td>7.5-veh-Rep1</td>\n",
       "      <td>7.5-DA06-Rep1</td>\n",
       "      <td>7.5-DA07-Rep1</td>\n",
       "      <td>7.5-DA08-Rep1</td>\n",
       "      <td>7.5-DA09-Rep1</td>\n",
       "      <td>7.5-DA10-Rep1</td>\n",
       "      <td>7.5-DA11-Rep1</td>\n",
       "      <td>7.5-DA12-Rep1</td>\n",
       "      <td>7.5-DA13-Rep1</td>\n",
       "      <td>7.5-DA14-Rep1</td>\n",
       "    </tr>\n",
       "    <tr>\n",
       "      <th>F</th>\n",
       "      <td>7.5-veh-Rep2</td>\n",
       "      <td>7.5-DA06-Rep2</td>\n",
       "      <td>7.5-DA07-Rep2</td>\n",
       "      <td>7.5-DA08-Rep2</td>\n",
       "      <td>7.5-DA09-Rep2</td>\n",
       "      <td>7.5-DA10-Rep2</td>\n",
       "      <td>7.5-DA11-Rep2</td>\n",
       "      <td>7.5-DA12-Rep2</td>\n",
       "      <td>7.5-DA13-Rep2</td>\n",
       "      <td>7.5-DA14-Rep2</td>\n",
       "    </tr>\n",
       "    <tr>\n",
       "      <th>G</th>\n",
       "      <td>7.5-veh-Rep3</td>\n",
       "      <td>7.5-DA06-Rep3</td>\n",
       "      <td>7.5-DA07-Rep3</td>\n",
       "      <td>7.5-DA08-Rep3</td>\n",
       "      <td>7.5-DA09-Rep3</td>\n",
       "      <td>7.5-DA10-Rep3</td>\n",
       "      <td>7.5-DA11-Rep3</td>\n",
       "      <td>7.5-DA12-Rep3</td>\n",
       "      <td>7.5-DA13-Rep3</td>\n",
       "      <td>7.5-DA14-Rep3</td>\n",
       "    </tr>\n",
       "  </tbody>\n",
       "</table>\n",
       "</div>"
      ],
      "text/plain": [
       "col            2              3              4              5              6   \\\n",
       "row                                                                             \n",
       "B    5.0-veh-Rep1  5.0-DA06-Rep1  5.0-DA07-Rep1  5.0-DA08-Rep1  5.0-DA09-Rep1   \n",
       "C    5.0-veh-Rep2  5.0-DA06-Rep2  5.0-DA07-Rep2  5.0-DA08-Rep2  5.0-DA09-Rep2   \n",
       "D    5.0-veh-Rep3  5.0-DA06-Rep3  5.0-DA07-Rep3  5.0-DA08-Rep3  5.0-DA09-Rep3   \n",
       "E    7.5-veh-Rep1  7.5-DA06-Rep1  7.5-DA07-Rep1  7.5-DA08-Rep1  7.5-DA09-Rep1   \n",
       "F    7.5-veh-Rep2  7.5-DA06-Rep2  7.5-DA07-Rep2  7.5-DA08-Rep2  7.5-DA09-Rep2   \n",
       "G    7.5-veh-Rep3  7.5-DA06-Rep3  7.5-DA07-Rep3  7.5-DA08-Rep3  7.5-DA09-Rep3   \n",
       "\n",
       "col             7              8              9              10             11  \n",
       "row                                                                             \n",
       "B    5.0-DA10-Rep1  5.0-DA11-Rep1  5.0-DA12-Rep1  5.0-DA13-Rep1  5.0-DA14-Rep1  \n",
       "C    5.0-DA10-Rep2  5.0-DA11-Rep2  5.0-DA12-Rep2  5.0-DA13-Rep2  5.0-DA14-Rep2  \n",
       "D    5.0-DA10-Rep3  5.0-DA11-Rep3  5.0-DA12-Rep3  5.0-DA13-Rep3  5.0-DA14-Rep3  \n",
       "E    7.5-DA10-Rep1  7.5-DA11-Rep1  7.5-DA12-Rep1  7.5-DA13-Rep1  7.5-DA14-Rep1  \n",
       "F    7.5-DA10-Rep2  7.5-DA11-Rep2  7.5-DA12-Rep2  7.5-DA13-Rep2  7.5-DA14-Rep2  \n",
       "G    7.5-DA10-Rep3  7.5-DA11-Rep3  7.5-DA12-Rep3  7.5-DA13-Rep3  7.5-DA14-Rep3  "
      ]
     },
     "execution_count": 12,
     "metadata": {},
     "output_type": "execute_result"
    }
   ],
   "source": [
    "def fancy_pivot(df):\n",
    "    import re\n",
    "    # Extract row letters and column numbers from the 'well' column\n",
    "    df['row'] = df['well'].apply(lambda x: re.match(r'([A-H])', x).group(1))\n",
    "    df['col'] = df['well'].apply(lambda x: int(re.match(r'[A-H]([0-9]{1,2})', x).group(1)))\n",
    "\n",
    "    # Concatenate all other columns as 'V1-V2-V3' format\n",
    "    value_columns = [col for col in df.columns if col not in ['well', 'row', 'col']]\n",
    "    df['values'] = df[value_columns].astype(str).agg('-'.join, axis=1)\n",
    "\n",
    "    # Create pivot table with aggfunc as 'first'\n",
    "    pivot_table = df.pivot_table(index='row', columns='col', values='values', aggfunc='first')\n",
    "\n",
    "    return pivot_table\n",
    "\n",
    "\n",
    "fancy_pivot(plate_map)"
   ]
  },
  {
   "cell_type": "markdown",
   "id": "569c18b4-0f28-4be4-b61a-54b200b5b225",
   "metadata": {},
   "source": [
    "Merge the plate map with the well level aggregates."
   ]
  },
  {
   "cell_type": "code",
   "execution_count": 13,
   "id": "02500ff4-8b7b-4e81-95df-be71987fd3e1",
   "metadata": {},
   "outputs": [
    {
     "data": {
      "text/html": [
       "<div>\n",
       "<style scoped>\n",
       "    .dataframe tbody tr th:only-of-type {\n",
       "        vertical-align: middle;\n",
       "    }\n",
       "\n",
       "    .dataframe tbody tr th {\n",
       "        vertical-align: top;\n",
       "    }\n",
       "\n",
       "    .dataframe thead th {\n",
       "        text-align: right;\n",
       "    }\n",
       "</style>\n",
       "<table border=\"1\" class=\"dataframe\">\n",
       "  <thead>\n",
       "    <tr style=\"text-align: right;\">\n",
       "      <th></th>\n",
       "      <th>well</th>\n",
       "      <th>pHrodo_conc_ug</th>\n",
       "      <th>DA_Tx</th>\n",
       "      <th>replicate</th>\n",
       "      <th>row</th>\n",
       "      <th>col</th>\n",
       "      <th>values</th>\n",
       "      <th>mean</th>\n",
       "      <th>sem</th>\n",
       "      <th>count</th>\n",
       "    </tr>\n",
       "  </thead>\n",
       "  <tbody>\n",
       "    <tr>\n",
       "      <th>0</th>\n",
       "      <td>B2</td>\n",
       "      <td>5.0</td>\n",
       "      <td>veh</td>\n",
       "      <td>Rep1</td>\n",
       "      <td>B</td>\n",
       "      <td>2</td>\n",
       "      <td>5.0-veh-Rep1</td>\n",
       "      <td>4.599343</td>\n",
       "      <td>0.326940</td>\n",
       "      <td>609</td>\n",
       "    </tr>\n",
       "    <tr>\n",
       "      <th>1</th>\n",
       "      <td>C2</td>\n",
       "      <td>5.0</td>\n",
       "      <td>veh</td>\n",
       "      <td>Rep2</td>\n",
       "      <td>C</td>\n",
       "      <td>2</td>\n",
       "      <td>5.0-veh-Rep2</td>\n",
       "      <td>4.737265</td>\n",
       "      <td>0.426620</td>\n",
       "      <td>373</td>\n",
       "    </tr>\n",
       "    <tr>\n",
       "      <th>2</th>\n",
       "      <td>D2</td>\n",
       "      <td>5.0</td>\n",
       "      <td>veh</td>\n",
       "      <td>Rep3</td>\n",
       "      <td>D</td>\n",
       "      <td>2</td>\n",
       "      <td>5.0-veh-Rep3</td>\n",
       "      <td>3.623116</td>\n",
       "      <td>0.350467</td>\n",
       "      <td>398</td>\n",
       "    </tr>\n",
       "    <tr>\n",
       "      <th>3</th>\n",
       "      <td>B3</td>\n",
       "      <td>5.0</td>\n",
       "      <td>DA06</td>\n",
       "      <td>Rep1</td>\n",
       "      <td>B</td>\n",
       "      <td>3</td>\n",
       "      <td>5.0-DA06-Rep1</td>\n",
       "      <td>4.391667</td>\n",
       "      <td>0.312008</td>\n",
       "      <td>720</td>\n",
       "    </tr>\n",
       "    <tr>\n",
       "      <th>4</th>\n",
       "      <td>C3</td>\n",
       "      <td>5.0</td>\n",
       "      <td>DA06</td>\n",
       "      <td>Rep2</td>\n",
       "      <td>C</td>\n",
       "      <td>3</td>\n",
       "      <td>5.0-DA06-Rep2</td>\n",
       "      <td>5.070039</td>\n",
       "      <td>0.538362</td>\n",
       "      <td>257</td>\n",
       "    </tr>\n",
       "  </tbody>\n",
       "</table>\n",
       "</div>"
      ],
      "text/plain": [
       "  well pHrodo_conc_ug DA_Tx replicate row  col         values      mean  \\\n",
       "0   B2            5.0   veh      Rep1   B    2   5.0-veh-Rep1  4.599343   \n",
       "1   C2            5.0   veh      Rep2   C    2   5.0-veh-Rep2  4.737265   \n",
       "2   D2            5.0   veh      Rep3   D    2   5.0-veh-Rep3  3.623116   \n",
       "3   B3            5.0  DA06      Rep1   B    3  5.0-DA06-Rep1  4.391667   \n",
       "4   C3            5.0  DA06      Rep2   C    3  5.0-DA06-Rep2  5.070039   \n",
       "\n",
       "        sem  count  \n",
       "0  0.326940    609  \n",
       "1  0.426620    373  \n",
       "2  0.350467    398  \n",
       "3  0.312008    720  \n",
       "4  0.538362    257  "
      ]
     },
     "execution_count": 13,
     "metadata": {},
     "output_type": "execute_result"
    }
   ],
   "source": [
    "sample_level_data = pd.merge(plate_map, well_level_data,\n",
    "                             left_on = 'well', right_index = True)\n",
    "sample_level_data.head()"
   ]
  },
  {
   "cell_type": "markdown",
   "id": "d3a82e3f-f88b-4bc2-be37-880b1853ff5c",
   "metadata": {},
   "source": [
    "Now we can visualize the well level aggregates by the treatment condition."
   ]
  },
  {
   "cell_type": "code",
   "execution_count": 14,
   "id": "3548353f-915b-4ebf-99ce-383be5fa07ee",
   "metadata": {},
   "outputs": [
    {
     "data": {
      "text/plain": [
       "Text(0, 0.5, 'mean(bead count)')"
      ]
     },
     "execution_count": 14,
     "metadata": {},
     "output_type": "execute_result"
    },
    {
     "data": {
      "image/png": "[encoded data removed]",
      "text/plain": [
       "<Figure size 640x480 with 1 Axes>"
      ]
     },
     "metadata": {},
     "output_type": "display_data"
    }
   ],
   "source": [
    "ax = sns.barplot(data = sample_level_data,\n",
    "            hue = 'pHrodo_conc_ug',\n",
    "            x = 'DA_Tx',\n",
    "            y = 'mean', errorbar=('se', 2), alpha=0.5)\n",
    "\n",
    "sns.stripplot(data = sample_level_data,\n",
    "            hue = 'pHrodo_conc_ug',\n",
    "            x = 'DA_Tx',\n",
    "            y = 'mean', dodge=True, legend=False, ax=ax)\n",
    "\n",
    "ax.set_ylabel('mean(bead count)')"
   ]
  },
  {
   "cell_type": "markdown",
   "id": "ed272060-a08a-4727-8fe6-65c5c15ca6ff",
   "metadata": {
    "deletable": false,
    "editable": false
   },
   "source": [
    "### Q2: Describe the graph\n",
    "\n",
    "_Points:_ 5"
   ]
  },
  {
   "cell_type": "code",
   "execution_count": 15,
   "id": "b676cf4b-352c-4330-8ed5-1ed93665597a",
   "metadata": {
    "tags": [
     "otter_assign_solution_cell"
    ]
   },
   "outputs": [],
   "source": [
    "# Which experimental condition (pHrodo_conc_ug) had less noise in the measurement?\n",
    "# Answer 5.0 or 7.5\n",
    "q2a = 5.0 # SOLUTION\n"
   ]
  },
  {
   "cell_type": "markdown",
   "id": "476b7c14-fc25-4476-ab45-a95d16d536b3",
   "metadata": {
    "tags": [
     "otter_assign_solution_cell"
    ]
   },
   "source": [
    "**q2a reasoning**: *your answer here*"
   ]
  },
  {
   "cell_type": "code",
   "execution_count": 16,
   "id": "26f35773-65be-4762-a85c-0d715fb3e47c",
   "metadata": {
    "tags": [
     "otter_assign_solution_cell"
    ]
   },
   "outputs": [],
   "source": [
    "# Does this graph show evidence that dopamine increases the amount of beads phagocytosed?\n",
    "# Anwser 'yes' or 'no'\n",
    "q2b = 'no' # SOLUTION\n"
   ]
  },
  {
   "cell_type": "markdown",
   "id": "fc0bf51e-e546-4816-ac77-955018c24cbe",
   "metadata": {
    "tags": [
     "otter_assign_solution_cell"
    ]
   },
   "source": [
    "**q2b reasoning**: *your answer here*"
   ]
  },
  {
   "cell_type": "code",
   "execution_count": null,
   "id": "17e176c7",
   "metadata": {
    "deletable": false,
    "editable": false
   },
   "outputs": [],
   "source": [
    "grader.check(\"q2_graph\")"
   ]
  },
  {
   "cell_type": "markdown",
   "id": "5f1c0c96-003b-48d5-820e-d163f03dc29d",
   "metadata": {},
   "source": [
    "In the next few weeks well cover strategies to quantify our hypothesis using techniques like ANOVAs and multiple regression."
   ]
  },
  {
   "cell_type": "markdown",
   "id": "2fff3c2b-4168-44f0-ba3c-be8f3c1f0326",
   "metadata": {},
   "source": [
    "---------------------------------------------"
   ]
  },
  {
   "cell_type": "markdown",
   "id": "252a532c-526a-4f95-bd59-da766b3ec1bb",
   "metadata": {},
   "source": [
    "## Submission\n",
    "\n",
    "Check:\n",
    " - That all tables and graphs are rendered properly.\n",
    " - Code completes without errors by using `Restart & Run All`.\n",
    " - All checks **pass**.\n",
    " \n",
    "Then save the notebook and the `File` -> `Download` -> `Download .ipynb`. Upload this file to BBLearn."
   ]
  }
 ],
 "metadata": {
  "kernelspec": {
   "display_name": "Python 3 (ipykernel)",
   "language": "python",
   "name": "python3"
  },
  "language_info": {
   "codemirror_mode": {
    "name": "ipython",
    "version": 3
   },
   "file_extension": ".py",
   "mimetype": "text/x-python",
   "name": "python",
   "nbconvert_exporter": "python",
   "pygments_lexer": "ipython3",
   "version": "3.9.13"
  },
  "otter": {
   "assignment_name": "Module07_walkthrough"
  }
 },
 "nbformat": 4,
 "nbformat_minor": 5
}
