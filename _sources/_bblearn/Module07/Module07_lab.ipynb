{
 "cells": [
  {
   "cell_type": "code",
   "execution_count": null,
   "id": "4f491fdc-fab6-4df2-806c-68ce874c683e",
   "metadata": {
    "tags": [
     "remove_cell"
    ]
   },
   "outputs": [],
   "source": [
    "# Setting up the Colab environment. DO NOT EDIT!\n",
    "import os\n",
    "import warnings\n",
    "warnings.filterwarnings(\"ignore\")\n",
    "\n",
    "try:\n",
    "    import otter\n",
    "\n",
    "except ImportError:\n",
    "    ! pip install -q otter-grader==4.0.0\n",
    "    import otter\n",
    "\n",
    "if not os.path.exists('lab-tests'):\n",
    "    zip_files = [f for f in os.listdir() if f.endswith('.zip')]\n",
    "    assert len(zip_files)>0, 'Could not find any zip files!'\n",
    "    assert len(zip_files)==1, 'Found multiple zip files!'\n",
    "    ! unzip {zip_files[0]}\n",
    "\n",
    "grader = otter.Notebook(colab=True,\n",
    "                        tests_dir = 'lab-tests')"
   ]
  },
  {
   "cell_type": "markdown",
   "id": "cecfcfad",
   "metadata": {},
   "source": [
    "# Lab"
   ]
  },
  {
   "cell_type": "markdown",
   "id": "95c096b6-5b6f-46e3-9a30-ca3bd7b371ff",
   "metadata": {},
   "source": [
    "## Learning Objectives\n",
    "At the end of this learning activity you will be able to:\n",
    " - Practice creating statistical figures to answer biological questions.\n",
    " - Practice writing figure legends for statistical figures.\n",
    " - Practice writing descriptive reasonings about a figure."
   ]
  },
  {
   "cell_type": "markdown",
   "id": "3c1bf760-758d-4263-9068-9e2db428076b",
   "metadata": {},
   "source": [
    "**Note**: It is difficult to automatically grade figures as they are many \"correct\" answers.\n",
    "So, most questions will accept _any_ figure or axis and then ask you to answer a question that should be obvious from a properly generated figure.\n",
    "For all questions, assume a 95% interval."
   ]
  },
  {
   "cell_type": "code",
   "execution_count": null,
   "id": "db30d1bb-3d3f-4d96-b0ca-006679fc6b83",
   "metadata": {},
   "outputs": [],
   "source": [
    "import numpy as np\n",
    "import pandas as pd\n",
    "import matplotlib.pyplot as plt\n",
    "import seaborn as sns\n",
    "\n",
    "%matplotlib inline"
   ]
  },
  {
   "cell_type": "code",
   "execution_count": null,
   "id": "00a0b65e-d72f-4099-ac12-230f25d72c7c",
   "metadata": {},
   "outputs": [],
   "source": [
    "cell_level_data = pd.read_csv('pHrodo_DMEM.csv')\n",
    "cell_level_data.head()"
   ]
  },
  {
   "cell_type": "markdown",
   "id": "7d38fd55-8abb-4de7-b5e2-dac3c279cd8e",
   "metadata": {},
   "source": [
    "## How full is each cell?"
   ]
  },
  {
   "cell_type": "markdown",
   "id": "50834476-5913-4fe9-9361-de0b1cbf88cc",
   "metadata": {},
   "source": [
    "The strategy of using the number of beads in a cell as our count is that it is impacted by the size of the cell.\n",
    "Small cells can only eat a few beads, large cells can eat many.\n",
    "To address this we'll create a new measurement, the fraction of the cell containing beads.\n",
    "This way, small cells that are 'stuffed' with beads will beat out large cells with only a few beads.\n",
    "\n",
    "For this analysis we'll use:\n",
    " - `ObjectAreaCh1` - The area of the entire cell.\n",
    " - `SpotTotalAreaCh2` - The area of the cell containing beads."
   ]
  },
  {
   "cell_type": "markdown",
   "id": "4b6713ed-5e4b-41e9-8aeb-b397012f90a9",
   "metadata": {
    "deletable": false,
    "editable": false
   },
   "source": [
    "### Q1: Create an `fraction_area_covered` column"
   ]
  },
  {
   "cell_type": "markdown",
   "id": "def78d78-533c-4bac-9783-27c8cfa94f5f",
   "metadata": {
    "deletable": false,
    "editable": false,
    "tags": [
     "remove_cell"
    ]
   },
   "source": [
    "|               |    |\n",
    "| --------------|----|\n",
    "| Points        | 5  |\n",
    "| Public Checks | 2  |\n",
    "| Hidden Tests  | 1  |\n",
    "\n",
    "_Points:_ 5"
   ]
  },
  {
   "cell_type": "code",
   "execution_count": null,
   "id": "1c864a56-d7a9-4cb6-8e7c-d9c4c9d2b944",
   "metadata": {
    "tags": []
   },
   "outputs": [],
   "source": [
    "# What percentage of the cell's area is covered by phrodo beads\n",
    "\n",
    "cell_level_data['fraction_area_covered'] = ...\n"
   ]
  },
  {
   "cell_type": "code",
   "execution_count": null,
   "id": "34d1b1f4-7673-4a0e-9251-f4c53680069e",
   "metadata": {
    "tags": []
   },
   "outputs": [],
   "source": [
    "# Create a barplot of the fraction_area_covered in each well\n",
    "\n",
    "q1_plot = ...\n"
   ]
  },
  {
   "cell_type": "code",
   "execution_count": null,
   "id": "368d1cdf",
   "metadata": {
    "deletable": false,
    "editable": false
   },
   "outputs": [],
   "source": [
    "grader.check(\"q1_area_covered\")"
   ]
  },
  {
   "cell_type": "markdown",
   "id": "7436b2e9-d286-425a-9a93-3beb39b63f62",
   "metadata": {
    "deletable": false,
    "editable": false
   },
   "source": [
    "### Q2: Merge well_level_data with plate-map and visualize\n",
    "\n",
    "_Points:_ 5"
   ]
  },
  {
   "cell_type": "code",
   "execution_count": null,
   "id": "b0b2e282-f051-4259-98cb-ac0df32d9eb8",
   "metadata": {
    "tags": []
   },
   "outputs": [],
   "source": [
    "# Load in plate map\n",
    "plate_map = ..."
   ]
  },
  {
   "cell_type": "code",
   "execution_count": null,
   "id": "9387c54a-acb4-4927-844c-b7c93bae2f75",
   "metadata": {
    "tags": []
   },
   "outputs": [],
   "source": [
    "# Calculate the average `fraction_area_covered` for each well in the cell_level_data\n",
    "\n",
    "well_level_data = ...\n",
    "well_level_data.head()"
   ]
  },
  {
   "cell_type": "code",
   "execution_count": null,
   "id": "f6320598-3f66-4129-a79b-1394f0c333e4",
   "metadata": {
    "tags": []
   },
   "outputs": [],
   "source": [
    "# Merge well_level_data with the platemap\n",
    "sample_level_data = ...\n",
    "sample_level_data.head()"
   ]
  },
  {
   "cell_type": "code",
   "execution_count": null,
   "id": "c4b872cd-8bdc-4252-a94e-6f95c016f77f",
   "metadata": {
    "tags": []
   },
   "outputs": [],
   "source": [
    "\n",
    "q2_plot = ...\n"
   ]
  },
  {
   "cell_type": "code",
   "execution_count": null,
   "id": "fe236496-d09e-4389-bf01-cd790f337fa0",
   "metadata": {
    "tags": []
   },
   "outputs": [],
   "source": [
    "# Which experimental condition (pHrodo_conc_ug) had less noise in the measurement?\n",
    "# Answer 5.0 or 7.5\n",
    "q2a = ...\n"
   ]
  },
  {
   "cell_type": "code",
   "execution_count": null,
   "id": "c754d870-4838-414f-8ec7-e83707faac9a",
   "metadata": {
    "tags": []
   },
   "outputs": [],
   "source": [
    "# Does this graph show evidence that dopamine increases \n",
    "# the percentage of the cell that contains beadsd?\n",
    "# Anwser 'yes' or 'no'\n",
    "q2b = ...\n"
   ]
  },
  {
   "cell_type": "code",
   "execution_count": null,
   "id": "e98c5231",
   "metadata": {
    "deletable": false,
    "editable": false
   },
   "outputs": [],
   "source": [
    "grader.check(\"q2_merge\")"
   ]
  },
  {
   "cell_type": "markdown",
   "id": "a378db95-5d84-46be-b0c3-369c1c14d656",
   "metadata": {},
   "source": [
    "This week we explored how to summarize large datasets by sample.\n",
    "This aggregation is often important for downstream inferential tests like t-tests and ANOVAs.\n",
    "However, this technique also looses a significant amount of information; ~525 numbers are compressed to a single value.\n",
    "We will also explore more nuanced techniques like regression which allows us to use each of these points individually."
   ]
  },
  {
   "cell_type": "markdown",
   "id": "32ebed7c",
   "metadata": {},
   "source": [
    "--------------------------------------------"
   ]
  },
  {
   "cell_type": "markdown",
   "id": "703c6fbd",
   "metadata": {},
   "source": [
    "## Submission\n",
    "\n",
    "Check:\n",
    " - That all tables and graphs are rendered properly.\n",
    " - Code completes without errors by using `Restart & Run All`.\n",
    " - All checks **pass**.\n",
    " \n",
    "Then save the notebook and the `File` -> `Download` -> `Download .ipynb`. Upload this file to BBLearn."
   ]
  }
 ],
 "metadata": {
  "kernelspec": {
   "display_name": "Python 3 (ipykernel)",
   "language": "python",
   "name": "python3"
  },
  "language_info": {
   "codemirror_mode": {
    "name": "ipython",
    "version": 3
   },
   "file_extension": ".py",
   "mimetype": "text/x-python",
   "name": "python",
   "nbconvert_exporter": "python",
   "pygments_lexer": "ipython3",
   "version": "3.9.13"
  },
  "otter": {
   "assignment_name": "Module07_lab"
  }
 },
 "nbformat": 4,
 "nbformat_minor": 5
}
