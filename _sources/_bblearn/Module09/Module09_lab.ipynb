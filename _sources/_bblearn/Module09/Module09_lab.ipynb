{
 "cells": [
  {
   "cell_type": "code",
   "execution_count": null,
   "id": "c1305517-15b0-4538-98b3-e43cb2a6fed4",
   "metadata": {
    "tags": [
     "remove_cell"
    ]
   },
   "outputs": [],
   "source": [
    "# Setting up the Colab environment. DO NOT EDIT!\n",
    "import os\n",
    "#import warnings\n",
    "#warnings.filterwarnings(\"ignore\")\n",
    "\n",
    "try:\n",
    "    import otter, pingouin\n",
    "\n",
    "except ImportError:\n",
    "    ! pip install -q otter-grader==4.0.0, pingouin\n",
    "    import otter\n",
    "\n",
    "if not os.path.exists('walkthrough-tests'):\n",
    "    zip_files = [f for f in os.listdir() if f.endswith('.zip')]\n",
    "    assert len(zip_files)>0, 'Could not find any zip files!'\n",
    "    assert len(zip_files)==1, 'Found multiple zip files!'\n",
    "    ! unzip {zip_files[0]}\n",
    "\n",
    "grader = otter.Notebook(colab=True,\n",
    "                        tests_dir = 'walkthrough-tests')"
   ]
  },
  {
   "cell_type": "markdown",
   "id": "93498126",
   "metadata": {},
   "source": [
    "# Lab"
   ]
  },
  {
   "cell_type": "markdown",
   "id": "aaa36b08",
   "metadata": {},
   "source": [
    "## Learning Objectives\n",
    "At the end of this learning activity you will be able to:\n",
    " - Practice using robust correlation tools that account for outliers.\n",
    " - Practice using `pg.qqplot` and `pg.normality` to asses the normality of residuals.\n",
    " - Practice using regression to create covariate-controlled scores.\n"
   ]
  },
  {
   "cell_type": "code",
   "execution_count": null,
   "id": "0120fbdb-220b-4cf4-93e6-9f61cbafeac0",
   "metadata": {
    "tags": []
   },
   "outputs": [],
   "source": [
    "import numpy as np\n",
    "import seaborn as sns\n",
    "import pandas as pd\n",
    "import matplotlib.pyplot as plt\n",
    "\n",
    "import pingouin as pg\n",
    "\n",
    "%matplotlib inline"
   ]
  },
  {
   "cell_type": "code",
   "execution_count": null,
   "id": "b1b58e08-33dd-4abf-9f03-bf0e5adf0f68",
   "metadata": {
    "tags": []
   },
   "outputs": [],
   "source": [
    "data = pd.read_csv('hiv_neuro_data.csv')\n",
    "data['education'] = data['education'].astype(float)\n",
    "data.head()"
   ]
  },
  {
   "cell_type": "markdown",
   "id": "3c8907cb-4a06-4eae-adb9-a546165c814d",
   "metadata": {},
   "source": [
    "This lab is going to explore the inter-relationships between two cognitive domains.\n",
    "\n",
    "* **Executive Function**: The complex cognitive processes required for planning, organizing, problem-solving, abstract thinking, and executing strategies. This domain also encompasses decision-making and cognitive flexibility, which is the ability to switch between thinking about two different concepts or to think about multiple concepts simultaneously.\n",
    "- **Speed of Information Processing**: How quickly an individual can understand and react to the information being presented. This domain evaluates the speed at which cognitive tasks can be performed, often under time constraints.\n",
    "\n",
    "We will explore whether these two domains are correllated after controlling for co-variates."
   ]
  },
  {
   "cell_type": "markdown",
   "id": "9056e62e-2912-4f30-9a05-636b03f3c61f",
   "metadata": {
    "deletable": false,
    "editable": false,
    "tags": []
   },
   "source": [
    "### Q1: Are Processing domain and Executive domain scores correlated?\n",
    "\n",
    "Checked variables:\n",
    " * `q1_plot` - A regression plot between `processing_domain_z` and `exec_domain_z`.\n",
    " * `q1_corr_res` - The result of running `pg.corr` on `processing_domain_z` and `exec_domain_z`.\n",
    " * `q1_is_corr` - A yes/no assessment of the correlation between `processing_domain_z` and `exec_domain_z`.\n",
    "\n",
    "|               |    |\n",
    "| --------------|----|\n",
    "| Points        | 5  |\n",
    "| Public Checks | 3  |\n",
    "| Hidden Tests  | 1  |\n",
    "\n",
    "_Points:_ 5"
   ]
  },
  {
   "cell_type": "code",
   "execution_count": null,
   "id": "c5f244f0-7a60-4014-97b7-bd9bb50d52d4",
   "metadata": {
    "tags": []
   },
   "outputs": [],
   "source": [
    "# Generate a plot between processing_domain_z and exec_domain_z\n",
    "\n",
    "q1_plot = ..."
   ]
  },
  {
   "cell_type": "code",
   "execution_count": null,
   "id": "9c3994fa-87bb-4d54-8a50-c51367dab36d",
   "metadata": {
    "tags": []
   },
   "outputs": [],
   "source": [
    "# Use pg.corr to calculate the correlation between the two variables using a `robust` correlation metric\n",
    "\n",
    "q1_corr_res = ..."
   ]
  },
  {
   "cell_type": "code",
   "execution_count": null,
   "id": "87f58703-4542-4e6b-84bd-c0f1af632a7e",
   "metadata": {
    "tags": []
   },
   "outputs": [],
   "source": [
    "# Are the two domains significantly correlated? 'yes' or 'no'\n",
    "\n",
    "q1_is_corr = ..."
   ]
  },
  {
   "cell_type": "code",
   "execution_count": null,
   "id": "52062c11",
   "metadata": {
    "deletable": false,
    "editable": false
   },
   "outputs": [],
   "source": [
    "grader.check(\"q1_domain_corr\")"
   ]
  },
  {
   "cell_type": "markdown",
   "id": "210aff4b-fc2c-4ecf-83d4-d40a9d86ca47",
   "metadata": {
    "deletable": false,
    "editable": false,
    "tags": []
   },
   "source": [
    "### Q2: Create a regression for the processing domain that accounts for the following demographic covariates.\n",
    "\n",
    " - Age\n",
    " - Race\n",
    " - Sex\n",
    " - Education\n",
    " - Years Seropositive\n",
    " - ART\n",
    "\n",
    "Checked variables:\n",
    " * `q2_model_resid_normal` - A yes/no assessment of the normality of the residuals after building the model. It should be supported by qqplots and normality tests.\n",
    " * `q2_processing_age` - A yes/no assessment on where age has a significant impact on `processing_domain_z`.\n",
    " * `q2_processing_race` - A yes/no assessment on where race has a significant impact on `processing_domain_z`.\n",
    " * `q2_processing_sex` - A yes/no assessment on where sex has a significant impact on `processing_domain_z`.\n",
    " * `q2_processing_edu` - A yes/no assessment on where education has a significant impact on `processing_domain_z`.\n",
    " * `q2_processing_ys` - A yes/no assessment on where infection length has a significant impact on `processing_domain_z`.\n",
    " * `q2_processing_art` - A yes/no assessment on where ART has a significant impact on `processing_domain_z`.\n",
    "\n",
    "|               |    |\n",
    "| --------------|----|\n",
    "| Points        | 10 |\n",
    "| Public Checks | 7  |\n",
    "| Hidden Tests  | 7  |"
   ]
  },
  {
   "cell_type": "markdown",
   "id": "9163e0b1-6c31-44f6-9228-f6dd1cabb9e6",
   "metadata": {
    "deletable": false,
    "editable": false,
    "tags": [
     "remove_cell"
    ]
   },
   "source": [
    "\n",
    "\n",
    "_Points:_ 10"
   ]
  },
  {
   "cell_type": "code",
   "execution_count": null,
   "id": "b30cd4c0-77d3-47be-b9c1-f15f869079db",
   "metadata": {
    "tags": []
   },
   "outputs": [],
   "source": [
    "# Perform the regression using `pg.linear_regression`\n",
    "# Use the result to answer the questions below\n",
    "\n"
   ]
  },
  {
   "cell_type": "code",
   "execution_count": null,
   "id": "73013a7e-1636-404a-ad88-66f34b2d2a36",
   "metadata": {
    "tags": []
   },
   "outputs": [],
   "source": [
    "# Assess the normality of the residuals of the model\n",
    "\n",
    "\n",
    "q2_model_resid_normal = ..."
   ]
  },
  {
   "cell_type": "code",
   "execution_count": null,
   "id": "3ed0ca75-3b33-4b48-b31d-de725bd19121",
   "metadata": {
    "tags": []
   },
   "outputs": [],
   "source": [
    "# Considering a p<0.01 threshold answer which of the following are significant\n",
    "\n",
    "# Age\n",
    "q2_processing_age = ...\n",
    "\n",
    "# Race\n",
    "q2_processing_race = ...\n",
    "\n",
    "# Sex\n",
    "q2_processing_sex = ...\n",
    "\n",
    "# Education\n",
    "q2_processing_edu = ...\n",
    "\n",
    "# Infection length\n",
    "q2_processing_ys = ...\n",
    "\n",
    "# ART\n",
    "q2_processing_art = ..."
   ]
  },
  {
   "cell_type": "code",
   "execution_count": null,
   "id": "a1134ecd",
   "metadata": {
    "deletable": false,
    "editable": false
   },
   "outputs": [],
   "source": [
    "grader.check(\"q2_exec_adj\")"
   ]
  },
  {
   "cell_type": "markdown",
   "id": "08ec7b71-a064-40d3-bce4-d3bd697ceac1",
   "metadata": {
    "deletable": false,
    "editable": false,
    "tags": []
   },
   "source": [
    "### Q3: Is covariate controlled EDZ still correlated with PDZ?\n",
    "\n",
    "After removing the effects of Age, Race, Sex, Education, Years Seropositive, and ART is processing domain score still correlated with executive domain score.\n",
    "\n",
    "Checked variables:\n",
    " * `q3_plot` - A regression plot between `exec_domain_z` and the covariate controlled `processing_domain_z`.\n",
    " * `q3_corr_res` - The result of running `pg.corr` on `processing_domain_z` and `exec_domain_z`.\n",
    " * `q3_corr_r` - The correlation coefficient between `exec_domain_z` and the covariate controlled `processing_domain_z`.\n",
    " * `q3_corr_sig` - A yes/no assessment of the correlation between `processing_domain_z` and `exec_domain_z`.\n",
    "\n",
    "\n",
    "|               |    |\n",
    "| --------------|----|\n",
    "| Points        | 10 |\n",
    "| Public Checks | 7  |\n",
    "| Hidden Tests  | 7  |"
   ]
  },
  {
   "cell_type": "markdown",
   "id": "3573d869-4873-410c-91b0-a2fc985ed910",
   "metadata": {
    "deletable": false,
    "editable": false,
    "tags": [
     "remove_cell"
    ]
   },
   "source": [
    "\n",
    "\n",
    "_Points:_ 10"
   ]
  },
  {
   "cell_type": "code",
   "execution_count": null,
   "id": "87df2483-cc82-4199-b934-e3c47b23f609",
   "metadata": {
    "tags": []
   },
   "outputs": [],
   "source": [
    "# Generate a plot between covariate controlled processing_domain_z and exec_domain_z\n",
    "\n",
    "q3_plot = ..."
   ]
  },
  {
   "cell_type": "code",
   "execution_count": null,
   "id": "4b5b79b5-2c01-4383-a974-2ae15fde4837",
   "metadata": {
    "tags": []
   },
   "outputs": [],
   "source": [
    "# Use pg.corr to calculate the correlation between the two variables using a `pearson` correlation metric\n",
    "\n",
    "q3_corr_res = ...\n",
    "q3_corr_res"
   ]
  },
  {
   "cell_type": "code",
   "execution_count": null,
   "id": "2b5a9705-1653-4ffe-ad1c-e1007cf304d9",
   "metadata": {
    "tags": []
   },
   "outputs": [],
   "source": [
    "# Are processing_domain_z and covariate controlled exec_domain_z still correlated?\n",
    "q3_corr_sig = ...\n",
    "\n",
    "\n",
    "# Correlation r-value\n",
    "# Place the r-value here rounded to 4 decimal places\n",
    "q3_corr_r = ..."
   ]
  },
  {
   "cell_type": "code",
   "execution_count": null,
   "id": "3c6e993f-05b6-44df-a0bd-d2ae3965bedb",
   "metadata": {
    "tags": []
   },
   "outputs": [],
   "source": [
    "\n",
    "# Partial correlation r-value\n",
    "# Place the r-value here rounded to 4 decimal places\n",
    "q3_partial_corr_r = ..."
   ]
  },
  {
   "cell_type": "code",
   "execution_count": null,
   "id": "41acf0ac-a62e-4474-b8af-5e1a82eb3f87",
   "metadata": {
    "tags": []
   },
   "outputs": [],
   "source": [
    "# Are the results the same between the two methods? 'yes' or 'no'\n",
    "\n",
    "q3_same_res = ..."
   ]
  },
  {
   "cell_type": "code",
   "execution_count": null,
   "id": "a91799d9",
   "metadata": {
    "deletable": false,
    "editable": false
   },
   "outputs": [],
   "source": [
    "grader.check(\"q3_partial_corr\")"
   ]
  },
  {
   "cell_type": "markdown",
   "id": "f8f5c8cf-4fd7-4c6c-a65b-3e3471104dae",
   "metadata": {},
   "source": [
    "We've seen from above that it is important to create `processing_domain_z` score corrected for covariates.\n",
    "We also saw in the walkthrough that it is important create an `exec_domain_z` score corrected for covariates.\n",
    "However, `pg.partial_corr` only allows you to correct for covariates in `x` or `y` but not **both**.\n",
    "\n",
    "Use another regression to remove the covaraites from `exec_domain_z` and determine if it is correlated with `processing_domain_z` after removing covariates."
   ]
  },
  {
   "cell_type": "markdown",
   "id": "e8f8f844-cc93-4eae-a587-f85291b0d87f",
   "metadata": {
    "deletable": false,
    "editable": false,
    "tags": []
   },
   "source": [
    "### Q4: Are EDZ and PDZ correlated after controlling for covariates?\n",
    "\n",
    "Create a similar regression model for `exec_domain_z` that controls for Age, Race, Sex, Education, Years Seropositive, and ART.\n",
    "Thus creating a measure of `exec_domain_z` independent of these covariates.\n",
    "Measure the corlation of the adjusted metrics for both EDZ and PDZ.\n",
    "\n",
    "Checked variables:\n",
    " * `q4_plot` - A regression plot between covariate controlled `exec_domain_z` and the covariate controlled `processing_domain_z`.\n",
    " * `q4_sig_cor` -  A yes/no assessment of the correlation between covariate controlled `exec_domain_z` and the covariate controlled `processing_domain_z`.\n",
    "\n",
    "|               |    |\n",
    "| --------------|----|\n",
    "| Points        | 10 |\n",
    "| Public Checks | 7  |\n",
    "| Hidden Tests  | 7  |\n",
    "\n",
    "_Points:_ 10"
   ]
  },
  {
   "cell_type": "code",
   "execution_count": null,
   "id": "4a5ce9d8-f1b0-4411-91f0-f6cc60df7c1a",
   "metadata": {
    "tags": []
   },
   "outputs": [],
   "source": [
    "# Find the residuals for exec_domain_z after controlling for covariates\n"
   ]
  },
  {
   "cell_type": "code",
   "execution_count": null,
   "id": "48012c73-e929-40a1-90b4-d90044849bd2",
   "metadata": {
    "tags": []
   },
   "outputs": [],
   "source": [
    "# Plot the two corrected values against each other\n",
    "\n",
    "q4_plot = ..."
   ]
  },
  {
   "cell_type": "code",
   "execution_count": null,
   "id": "223bddef-dc30-4eda-9c44-d171ae0e1115",
   "metadata": {
    "tags": []
   },
   "outputs": [],
   "source": [
    "# Test the correlation between the two sets of corrected values\n",
    "\n",
    "pg.corr(proc_res.residuals_, exec_res.residuals_)"
   ]
  },
  {
   "cell_type": "code",
   "execution_count": null,
   "id": "e91a69c2-fea7-45b0-9b10-3322f1c84bda",
   "metadata": {
    "tags": []
   },
   "outputs": [],
   "source": [
    "# After correction for covariates, are PDZ and EDZ correlated? 'yes' or 'no'\n",
    "\n",
    "q4_sig_cor = ..."
   ]
  },
  {
   "cell_type": "code",
   "execution_count": null,
   "id": "62803925",
   "metadata": {
    "deletable": false,
    "editable": false
   },
   "outputs": [],
   "source": [
    "grader.check(\"q4_full_corr\")"
   ]
  },
  {
   "cell_type": "markdown",
   "id": "d5653e0c",
   "metadata": {},
   "source": [
    "--------------------------------------------"
   ]
  },
  {
   "cell_type": "code",
   "execution_count": null,
   "id": "fcecffa9",
   "metadata": {},
   "outputs": [],
   "source": [
    "grader.check_all()"
   ]
  },
  {
   "cell_type": "markdown",
   "id": "ad81e3ae",
   "metadata": {},
   "source": [
    "## Submission\n",
    "\n",
    "Check:\n",
    " - That all tables and graphs are rendered properly.\n",
    " - Code completes without errors by using `Restart & Run All`.\n",
    " - All checks **pass**.\n",
    " \n",
    "Then save the notebook and the `File` -> `Download` -> `Download .ipynb`. Upload this file to BBLearn."
   ]
  }
 ],
 "metadata": {
  "kernelspec": {
   "display_name": "Python 3 (ipykernel)",
   "language": "python",
   "name": "python3"
  },
  "language_info": {
   "codemirror_mode": {
    "name": "ipython",
    "version": 3
   },
   "file_extension": ".py",
   "mimetype": "text/x-python",
   "name": "python",
   "nbconvert_exporter": "python",
   "pygments_lexer": "ipython3",
   "version": "3.9.13"
  },
  "otter": {
   "assignment_name": "Module09_lab"
  }
 },
 "nbformat": 4,
 "nbformat_minor": 5
}
