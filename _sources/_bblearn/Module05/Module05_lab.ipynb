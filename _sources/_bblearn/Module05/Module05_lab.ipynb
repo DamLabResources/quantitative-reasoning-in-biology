{
 "cells": [
  {
   "cell_type": "code",
   "execution_count": null,
   "id": "f9fc5062-68fe-4493-a44b-ddb9f813ba9d",
   "metadata": {
    "tags": [
     "remove_cell"
    ]
   },
   "outputs": [],
   "source": [
    "# Setting up the Colab environment. DO NOT EDIT!\n",
    "import os\n",
    "import warnings\n",
    "warnings.filterwarnings(\"ignore\")\n",
    "\n",
    "try:\n",
    "    import otter\n",
    "\n",
    "except ImportError:\n",
    "    ! pip install -q otter-grader==4.0.0\n",
    "    import otter\n",
    "\n",
    "if not os.path.exists('lab-tests'):\n",
    "    zip_files = [f for f in os.listdir() if f.endswith('.zip')]\n",
    "    assert len(zip_files)>0, 'Could not find any zip files!'\n",
    "    assert len(zip_files)==1, 'Found multiple zip files!'\n",
    "    ! unzip {zip_files[0]}\n",
    "\n",
    "grader = otter.Notebook(colab=True,\n",
    "                        tests_dir = 'lab-tests')"
   ]
  },
  {
   "cell_type": "markdown",
   "id": "3048a881",
   "metadata": {},
   "source": [
    "# Lab"
   ]
  },
  {
   "cell_type": "markdown",
   "id": "1910ca73",
   "metadata": {},
   "source": [
    "## Introduction\n",
    "\n",
    "This week we will look at data from a cohort of People Living with HIV (PLH) here at Drexel.\n",
    "\n",
    "As we discussed in the introduction, this data collection effort was done to provide a resource for many projects across the fields of HIV, aging, inflammation, neurocognitive impairment, immune function, and unknowable future projects.\n",
    "In this lab we will explore a collection of cytokines and chemokines measured by a Luminex panel of common biomarkers of inflammation."
   ]
  },
  {
   "cell_type": "markdown",
   "id": "3bd798e2",
   "metadata": {},
   "source": [
    "## Learning Objectives\n",
    "At the end of this learning activity you will be able to:\n",
    " - Pratice creating barplots and scatterplots.\n",
    " - Employ `DataFrame.corr` to measure the correlation between variables."
   ]
  },
  {
   "cell_type": "code",
   "execution_count": null,
   "id": "66ea1b12-c7ef-4bad-ba45-a497e7a0e1cc",
   "metadata": {},
   "outputs": [],
   "source": [
    "import numpy as np\n",
    "import pandas as pd\n",
    "import matplotlib.pyplot as plt\n",
    "\n",
    "%matplotlib inline"
   ]
  },
  {
   "cell_type": "code",
   "execution_count": null,
   "id": "7b360858-ad39-4777-ade3-151ffe1fface",
   "metadata": {},
   "outputs": [],
   "source": [
    "data = pd.read_csv('cytokine_data.csv')\n",
    "data.head()"
   ]
  },
  {
   "cell_type": "markdown",
   "id": "2435cf65-1d0a-4c7e-a833-cd8e93e59b78",
   "metadata": {
    "deletable": false,
    "editable": false
   },
   "source": [
    "### Q1: Explore the neurological function of the participants in the dataset.\n",
    "\n",
    "Create a barplot of the counts for each of the `neuro_screen_impairment_level` level categories.\n",
    "\n",
    " - Adjust the y-axis to have a limit of 0 to 150 and the label to `'Participants'`\n",
    " - Adjust the x-label to `'Impairment Level'`"
   ]
  },
  {
   "cell_type": "markdown",
   "id": "739ab2f1-94d2-4f74-89d8-7552cb9d5f6f",
   "metadata": {
    "deletable": false,
    "editable": false,
    "tags": [
     "remove_cell"
    ]
   },
   "source": [
    "|               |    |\n",
    "| --------------|----|\n",
    "| Points        | 2  |\n",
    "| Public Checks | 5  |\n",
    "| Hidden Testss | 0  |\n",
    "\n",
    "_Points:_ 2"
   ]
  },
  {
   "cell_type": "code",
   "execution_count": null,
   "id": "f9ae5d57-b9ce-4064-a2e6-8f9dc528e331",
   "metadata": {
    "tags": []
   },
   "outputs": [],
   "source": [
    "\n",
    "# Generate the figure\n",
    "q1_ax = ...\n",
    "\n",
    "\n",
    "# Adjust labels and limits\n"
   ]
  },
  {
   "cell_type": "code",
   "execution_count": null,
   "id": "45a71d77-b837-4a7f-ae62-a13a69a75d57",
   "metadata": {
    "deletable": false,
    "editable": false
   },
   "outputs": [],
   "source": [
    "# DO NOT REMOVE!\n",
    "plt.close()\n",
    "# For the grader"
   ]
  },
  {
   "cell_type": "code",
   "execution_count": null,
   "id": "097e7e3b",
   "metadata": {
    "deletable": false,
    "editable": false
   },
   "outputs": [],
   "source": [
    "grader.check(\"q1_impairement_plot\")"
   ]
  },
  {
   "cell_type": "markdown",
   "id": "07999dc9-0bc1-49d7-836b-529a783a671f",
   "metadata": {
    "deletable": false,
    "editable": false
   },
   "source": [
    "### Q2: Consider how pro-inflamatory markers are related to neurological impairment.\n",
    "\n",
    "Examine the expression of the following cytokines.\n",
    " - `tnfalpha`\n",
    " - `il6`\n",
    " - `mcp1`\n",
    " - `mip1alpha`\n",
    "\n"
   ]
  },
  {
   "cell_type": "markdown",
   "id": "1053642d-7f47-4512-9664-3c71ae33d1bb",
   "metadata": {
    "deletable": false,
    "editable": false,
    "tags": [
     "remove_cell"
    ]
   },
   "source": [
    "|               |    |\n",
    "| --------------|----|\n",
    "| Points        | 10 |\n",
    "| Public Checks | 9  |\n",
    "| Hidden Testss | 1  |\n",
    "\n",
    "_Points:_ 10"
   ]
  },
  {
   "cell_type": "code",
   "execution_count": null,
   "id": "4e934032-b152-478b-a69b-2687020e3509",
   "metadata": {
    "tags": []
   },
   "outputs": [],
   "source": [
    "# Use data.groupby(...) to take mean of each cytokines for each neuro_screen_impairment_level\n",
    "# The table should have each of the 4 cytokines as columns \n",
    "#  and each row should be each of the different impairment levels.\n",
    "\n",
    "\n",
    "q2_cytokine_summary = ...\n"
   ]
  },
  {
   "cell_type": "code",
   "execution_count": null,
   "id": "f39dd393-0133-4db9-9bca-afba98536682",
   "metadata": {
    "tags": []
   },
   "outputs": [],
   "source": [
    "# Use `.plot(kind = 'box', ...)` to create a set of boxplots for each cytokine split across each `neuro_screen_impairment_level` value.\n",
    "# Each axis should be a cytokine\n",
    "# Each category in each axis should be a neuro_screen_impairment_level\n",
    "\n",
    "\n",
    "q2_axs = ...\n"
   ]
  },
  {
   "cell_type": "code",
   "execution_count": null,
   "id": "c6d64b75-70e0-4e06-a286-ef07744d9dec",
   "metadata": {
    "tags": []
   },
   "outputs": [],
   "source": [
    "# Which cytokine has the largest absolute difference in mean expression between `mild` and `none`?\n",
    "# Answer as a string\n",
    "\n",
    "q2_ans = ..."
   ]
  },
  {
   "cell_type": "code",
   "execution_count": null,
   "id": "eeff926c-d62d-4f6d-a6e9-242997e7af38",
   "metadata": {
    "deletable": false,
    "editable": false
   },
   "outputs": [],
   "source": [
    "# DO NOT REMOVE!\n",
    "plt.close()\n",
    "# For the grader"
   ]
  },
  {
   "cell_type": "code",
   "execution_count": null,
   "id": "90511257",
   "metadata": {
    "deletable": false,
    "editable": false
   },
   "outputs": [],
   "source": [
    "grader.check(\"q2_pro_inflam\")"
   ]
  },
  {
   "cell_type": "markdown",
   "id": "aaa64668-e862-4ee0-9170-433d7d39d539",
   "metadata": {
    "deletable": false,
    "editable": false
   },
   "source": [
    "### Q3: Hypothesis generation\n",
    "\n",
    "One advantage of a cohort-style study is that the data can be used to generate new hypotheses to test.\n",
    "Here, we have collected the cytokine expression of many people along with their BMI.\n",
    "Use the `.corr()` method to find the correlation between BMI and all cytokines.\n",
    "Then, generate a hypothesis about which top-5 cytokines are worth a followup."
   ]
  },
  {
   "cell_type": "markdown",
   "id": "19f58e9f-c3ab-440b-b745-1cd7432d7e6d",
   "metadata": {
    "deletable": false,
    "editable": false,
    "tags": [
     "remove_cell"
    ]
   },
   "source": [
    "|               |    |\n",
    "| --------------|----|\n",
    "| Points        | 10 |\n",
    "| Public Checks | 10 |\n",
    "| Hidden Testss | 3  |\n",
    "\n",
    "_Points:_ 10"
   ]
  },
  {
   "cell_type": "code",
   "execution_count": null,
   "id": "a889c079-73c7-4721-bad2-c73224323591",
   "metadata": {
    "deletable": false,
    "editable": false
   },
   "outputs": [],
   "source": [
    "# Use this list of all cytokines in the dataset to answer the following questions\n",
    "all_cytokines = list(data.columns[3:-5])\n",
    "print(', '.join(all_cytokines))"
   ]
  },
  {
   "cell_type": "code",
   "execution_count": null,
   "id": "de489d9d-d6ea-4862-b84a-9db373390aa5",
   "metadata": {
    "tags": []
   },
   "outputs": [],
   "source": [
    "# Calculate the cross correlation matrix that only includes bmi and all_cytokines\n",
    "\n",
    "\n",
    "q3_cross_cor = ...\n"
   ]
  },
  {
   "cell_type": "code",
   "execution_count": null,
   "id": "dc83ac23-434c-4e26-9367-e013292ea30a",
   "metadata": {
    "tags": []
   },
   "outputs": [],
   "source": [
    "# Plot the correlation between BMI and all other columns as a bar plot\n",
    "\n",
    "q3_bar_ax = ..."
   ]
  },
  {
   "cell_type": "code",
   "execution_count": null,
   "id": "455036bf-5c3d-4a3c-8e91-892299da3275",
   "metadata": {
    "tags": []
   },
   "outputs": [],
   "source": [
    "# Extract a Series of the top 5 cytokines\n",
    "# Be sure to remove BMI\n",
    "\n",
    "q3_top5 = ..."
   ]
  },
  {
   "cell_type": "code",
   "execution_count": null,
   "id": "a9c8f10e-10a6-46e9-abe9-240077d2a724",
   "metadata": {
    "tags": []
   },
   "outputs": [],
   "source": [
    "# Create a scatterplot between the bmi (on the x-axis) and the most correlated cytokine (on the y-axis)\n",
    "\n",
    "q3_scatter_ax = ...\n",
    "\n",
    "# Leave the axes labels as defaults for the grader"
   ]
  },
  {
   "cell_type": "code",
   "execution_count": null,
   "id": "faeb746f",
   "metadata": {
    "deletable": false,
    "editable": false
   },
   "outputs": [],
   "source": [
    "grader.check(\"q3_bmi_hypothesis_gen\")"
   ]
  },
  {
   "cell_type": "code",
   "execution_count": null,
   "id": "029509d2-b542-435b-8d49-89883fb40d88",
   "metadata": {},
   "outputs": [],
   "source": [
    "# DO NOT REMOVE!\n",
    "plt.close()\n",
    "# For the grader"
   ]
  },
  {
   "cell_type": "markdown",
   "id": "befce600-19f7-4354-8b57-00a13f664155",
   "metadata": {},
   "source": [
    "With this information in hand, one could design more directed experiments to further understand whether these correlations are biologically meaningful.\n",
    "This hypothesis generating technique is useful in a number of ways."
   ]
  },
  {
   "cell_type": "markdown",
   "id": "eec24bdf-1428-4b81-b374-174d8b8a67c9",
   "metadata": {
    "deletable": false,
    "editable": false
   },
   "source": [
    "<!-- BEGIN QUESTION -->\n",
    "\n",
    "### Q4: Exploration\n",
    "\n",
    "Use this technique to find correlations between between cytokines and any other demographic variable.\n",
    "\n",
    "Include at least one barplot of correlation coefficients.\n",
    "If your variable is categorical, use show a boxplot of the most correlated cytokine.\n",
    "If your variable is continious, instead show a scatterplot.\n",
    "\n",
    "With each figure, include a text-box with a figure caption.\n",
    "\n",
    "There is no grader for this question.\n",
    "\n",
    "_Points:_ 10"
   ]
  },
  {
   "cell_type": "markdown",
   "id": "527350a3",
   "metadata": {
    "deletable": false,
    "editable": false
   },
   "source": [
    "<!-- END QUESTION -->\n",
    "\n"
   ]
  },
  {
   "cell_type": "code",
   "execution_count": null,
   "id": "447a9688-bf74-4c77-b5c1-aea0d1e89d15",
   "metadata": {},
   "outputs": [],
   "source": [
    "# DO NOT REMOVE!\n",
    "plt.close()\n",
    "# For the grader"
   ]
  },
  {
   "cell_type": "markdown",
   "id": "63a492da",
   "metadata": {},
   "source": [
    "--------------------------------------------"
   ]
  },
  {
   "cell_type": "markdown",
   "id": "0862afe6",
   "metadata": {
    "tags": [
     "remove_cell"
    ]
   },
   "source": [
    "## Submission\n",
    "\n",
    "Check:\n",
    " - That all tables and graphs are rendered properly.\n",
    " - Code completes without errors by using `Restart & Run All`.\n",
    " - All checks **pass**.\n",
    " \n",
    " Then save the notebook and the `File` -> `Download` -> `Download .ipynb`. Upload this file to BBLearn.\n"
   ]
  }
 ],
 "metadata": {
  "kernelspec": {
   "display_name": "Python 3",
   "language": "python",
   "name": "python3"
  },
  "language_info": {
   "codemirror_mode": {
    "name": "ipython",
    "version": 3
   },
   "file_extension": ".py",
   "mimetype": "text/x-python",
   "name": "python",
   "nbconvert_exporter": "python",
   "pygments_lexer": "ipython3",
   "version": "3.10.14"
  },
  "otter": {
   "assignment_name": "Module05_lab"
  }
 },
 "nbformat": 4,
 "nbformat_minor": 5
}
