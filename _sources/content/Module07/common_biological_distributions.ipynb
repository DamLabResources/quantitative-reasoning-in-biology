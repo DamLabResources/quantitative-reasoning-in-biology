{
 "cells": [
  {
   "cell_type": "markdown",
   "id": "45a835f5-a649-4546-a1fc-e046b595cbd5",
   "metadata": {},
   "source": [
    "# Common Biological Distributions"
   ]
  },
  {
   "cell_type": "markdown",
   "id": "c8d04ff5-303c-4acc-a2ac-3951a728e265",
   "metadata": {},
   "source": [
    "More to come."
   ]
  }
 ],
 "metadata": {
  "kernelspec": {
   "display_name": "Python 3 (ipykernel)",
   "language": "python",
   "name": "python3"
  },
  "language_info": {
   "codemirror_mode": {
    "name": "ipython",
    "version": 3
   },
   "file_extension": ".py",
   "mimetype": "text/x-python",
   "name": "python",
   "nbconvert_exporter": "python",
   "pygments_lexer": "ipython3",
   "version": "3.9.13"
  }
 },
 "nbformat": 4,
 "nbformat_minor": 5
}
