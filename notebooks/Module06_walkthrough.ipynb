{
 "cells": [
  {
   "cell_type": "code",
   "execution_count": null,
   "id": "d3d37099",
   "metadata": {
    "tags": [
     "remove_cell"
    ]
   },
   "outputs": [],
   "source": [
    "# Setting up the Colab environment. DO NOT EDIT!\n",
    "try:\n",
    "  from applied_biostats import setup_environment\n",
    "except ImportError:\n",
    "  !pip -q install applied-biostats-helper\n",
    "  from applied_biostats import setup_environment\n",
    "finally:\n",
    "  grader = setup_environment('Module06_walkthrough')"
   ]
  },
  {
   "cell_type": "markdown",
   "id": "250c9a0d",
   "metadata": {
    "tags": []
   },
   "source": [
    "# Walkthrough"
   ]
  },
  {
   "cell_type": "markdown",
   "id": "295b51af",
   "metadata": {},
   "source": [
    "## Learning Objectives\n",
    "At the end of this learning activity you will be able to:\n",
    "* Create categorical comparisons with countplots.\n",
    "* Create quantitative comparison plots with seaborn: stripplot, barplot, boxplot with Seaborn.\n",
    "* Create correlation style plots with with scatterplot and regplot.\n",
    "* Utilize `pd.melt` to plot wide data with seaborn.\n",
    "* Describe bootstapping and confidence intervals."
   ]
  },
  {
   "cell_type": "markdown",
   "id": "1d08c1cf",
   "metadata": {
    "id": "59f3483e-0a2a-4217-8185-c5557dda482e"
   },
   "source": [
    "This week we will continue our exploration of data from a cohort study participants of People Living with HIV (PLwH) here at Drexel.\n",
    "\n",
    "As we discussed in the introduction, this data collection effort was done to provide a resource for many projects across the fields of HIV, aging, inflammation, neurocognitive impairment, immune function, and unknowable future projects.\n",
    "In this walkthrough we will explore a collection of cytokines and chemokines measured by a Luminex panel of common biomarkers of inflammation.\n",
    "We use this data to look for correlations between cytokine biomarkers and demographic variables."
   ]
  },
  {
   "cell_type": "markdown",
   "id": "6d8c4188",
   "metadata": {},
   "source": [
    "### Documentation\n",
    "\n",
    "I HIGHLY recommend exploring and utilizing the documentation for this tool:\n",
    "\n",
    "* Base: https://seaborn.pydata.org/\n",
    "* Gallery of great examples: https://seaborn.pydata.org/examples/index.html\n",
    "* Function documentation: (We will be using the _Function Interface_. https://seaborn.pydata.org/api.html#function-interface\n",
    "* Tutorial: https://seaborn.pydata.org/tutorial.html\n",
    "\n",
    "When I'm making figures I'll usually have the documentation open on another tab."
   ]
  },
  {
   "cell_type": "markdown",
   "id": "7e39a859",
   "metadata": {},
   "source": [
    "---------------------------------------------"
   ]
  },
  {
   "cell_type": "code",
   "execution_count": null,
   "id": "01e57a13",
   "metadata": {},
   "outputs": [],
   "source": [
    "import numpy as np\n",
    "import pandas as pd\n",
    "import matplotlib.pyplot as plt\n",
    "\n",
    "# This is how we normally import seaborn\n",
    "import seaborn as sns\n",
    "\n",
    "%matplotlib inline"
   ]
  },
  {
   "cell_type": "code",
   "execution_count": null,
   "id": "d408060b",
   "metadata": {},
   "outputs": [],
   "source": [
    "data = pd.read_csv('cytokine_data.csv')\n",
    "data.head()"
   ]
  },
  {
   "cell_type": "markdown",
   "id": "6f582751",
   "metadata": {},
   "source": [
    "## Categorical Comparisons"
   ]
  },
  {
   "cell_type": "markdown",
   "id": "3f52901b",
   "metadata": {},
   "source": [
    "### Counting with `countplot`"
   ]
  },
  {
   "cell_type": "code",
   "execution_count": null,
   "id": "9ecbd887",
   "metadata": {},
   "outputs": [],
   "source": [
    "sns.countplot(data = data, # Pass the Dataframe `data` into the kwarg `data`\n",
    "              x = 'neuro_screen_impairment_level')"
   ]
  },
  {
   "cell_type": "code",
   "execution_count": null,
   "id": "4dd4c1fe",
   "metadata": {},
   "outputs": [],
   "source": [
    "sns.countplot(data = data, # Pass the Dataframe `data` into the kwarg `data`\n",
    "              x = 'neuro_screen_impairment_level',\n",
    "              hue = 'cocaine_use')"
   ]
  },
  {
   "cell_type": "markdown",
   "id": "8c5642f1",
   "metadata": {},
   "source": [
    "If we wanted to look at multiple columns.\n",
    "It would be wonderful if we could do this:"
   ]
  },
  {
   "cell_type": "code",
   "execution_count": null,
   "id": "12671a55",
   "metadata": {},
   "outputs": [],
   "source": [
    "# This doesn't work\n",
    "\n",
    "# sns.countplot(data = data,\n",
    "#               x = 'neuro_screen_impairment_level',\n",
    "#               hue = ['cocaine_use', 'cannabinoid_use'])"
   ]
  },
  {
   "cell_type": "markdown",
   "id": "64e7680a",
   "metadata": {},
   "source": [
    "But, we can create a new column that is the combination of the two:"
   ]
  },
  {
   "cell_type": "code",
   "execution_count": null,
   "id": "ea052661",
   "metadata": {},
   "outputs": [],
   "source": [
    "def use_desc(row):\n",
    "    cocaine = 'Y' if row['cocaine_use'] else 'N'\n",
    "    cannabinoid = 'Y' if row['cannabinoid_use'] else 'N'\n",
    "    return cocaine+cannabinoid\n",
    "\n",
    "data['multi_use'] = data.apply(use_desc, axis=1)"
   ]
  },
  {
   "cell_type": "markdown",
   "id": "3870204b",
   "metadata": {},
   "source": [
    "While we're doing transformations, let's improve our plots by converting our `neuro_screen_impairment_level` to a proper ordinal variable.\n",
    " - Categorical variables : A set of distinct and seperable groups.\n",
    " - Ordinal variables : A set of distinct and seperable groups with a sortable order.\n",
    "\n",
    "By default, `pandas` treats all strings as `categorical` and it sorts them alphabetically.\n",
    "But sometimes, we want to specify a order. We can do that like so."
   ]
  },
  {
   "cell_type": "code",
   "execution_count": null,
   "id": "72ae04fb",
   "metadata": {},
   "outputs": [],
   "source": [
    "pd.Categorical(data['neuro_screen_impairment_level'],\n",
    "               categories = ['none', 'mild', 'impaired'], ordered=True)"
   ]
  },
  {
   "cell_type": "code",
   "execution_count": null,
   "id": "9cd85917",
   "metadata": {},
   "outputs": [],
   "source": [
    "data['neuro_screen_ordinal'] = pd.Categorical(data['neuro_screen_impairment_level'],\n",
    "                                               categories = ['none', 'mild', 'impaired'], ordered=True)"
   ]
  },
  {
   "cell_type": "code",
   "execution_count": null,
   "id": "56da3996",
   "metadata": {},
   "outputs": [],
   "source": [
    "sns.countplot(data = data, # Pass the Dataframe `data` into the kwarg `data`\n",
    "              x = 'neuro_screen_ordinal', # Seaborn will respect the ordering of our categories.\n",
    "              hue = 'multi_use')"
   ]
  },
  {
   "cell_type": "markdown",
   "id": "c132dea6",
   "metadata": {
    "tags": []
   },
   "source": [
    "### Visualizing differences across categories with `stripplot`"
   ]
  },
  {
   "cell_type": "code",
   "execution_count": null,
   "id": "d7cd30c0",
   "metadata": {},
   "outputs": [],
   "source": [
    "sns.stripplot(data = data,\n",
    "              x = 'neuro_screen_ordinal',\n",
    "              y = 'mcp1')"
   ]
  },
  {
   "cell_type": "code",
   "execution_count": null,
   "id": "3ba35483",
   "metadata": {},
   "outputs": [],
   "source": [
    "sns.stripplot(data = data,\n",
    "              x = 'neuro_screen_ordinal',\n",
    "              hue = 'Sex',\n",
    "              y = 'mcp1')\n",
    "# Try dodge = True"
   ]
  },
  {
   "cell_type": "markdown",
   "id": "69f6f50f",
   "metadata": {},
   "source": [
    "You can even put plots on top of plots!"
   ]
  },
  {
   "cell_type": "code",
   "execution_count": null,
   "id": "ff6f584d",
   "metadata": {},
   "outputs": [],
   "source": [
    "# Grab the axis object that was created\n",
    "ax = sns.stripplot(data = data,\n",
    "                   x = 'neuro_screen_ordinal',\n",
    "                   hue = 'Sex',\n",
    "                   y = 'mcp1',\n",
    "                   dodge = True)\n",
    "\n",
    "\n",
    "sns.boxplot(data = data,\n",
    "              x = 'neuro_screen_ordinal',\n",
    "              hue = 'Sex',\n",
    "              y = 'mcp1',\n",
    "              ax = ax) # Give that axis to the next plot"
   ]
  },
  {
   "cell_type": "markdown",
   "id": "6c5dfda6",
   "metadata": {},
   "source": [
    "## Quantifying the uncertainty of estimates"
   ]
  },
  {
   "cell_type": "markdown",
   "id": "90972d50",
   "metadata": {},
   "source": [
    "When presenting data it is important to rigorously convey the precision and uncertainty of our estimates.\n",
    "I HIGHLY recommend reading the error bar tutorial in seaborn.\n",
    "Below is a quick summary.\n",
    "\n",
    "\n",
    "> The error bars around an estimate of central tendency can show one of two general things: either the range of uncertainty about the estimate or the spread of the underlying data around it.\n",
    "> These measures are related: given the same sample size, estimates will be more uncertain when data has a broader spread. But uncertainty will decrease as sample sizes grow, whereas spread will not.\n",
    "\n",
    "\n",
    "![Error bar taxonomy](https://seaborn.pydata.org/_images/error_bars_2_0.svg)"
   ]
  },
  {
   "cell_type": "markdown",
   "id": "d82294aa",
   "metadata": {},
   "source": [
    "* Value Spread: How much each value differs from every other value\n",
    "  * Standard deviation: Average difference of each point from the mean.\n",
    "  * Percentile Interval: Middle range that contains some percent of the data.\n",
    "* Estimate Uncertainty: What is the reasonable range of my estimate\n",
    "  * Standard Error: Standard deviation/sqrt(sample_size)\n",
    "  * Confidence Intervals:\n",
    "  > The nonparametric approach to representing uncertainty uses bootstrapping: a procedure where the dataset is randomly resampled with replacement a number of times, and the estimate is recalculated from each resample. This procedure creates a distribution of statistics approximating the distribution of values that you could have gotten for your estimate if you had a different sample."
   ]
  },
  {
   "cell_type": "markdown",
   "id": "9b9a28f6",
   "metadata": {},
   "source": [
    "### Measuring Spread"
   ]
  },
  {
   "cell_type": "markdown",
   "id": "60ab72c2",
   "metadata": {},
   "source": [
    "Quantifies how much each individual measurement vary around the middle."
   ]
  },
  {
   "cell_type": "code",
   "execution_count": null,
   "id": "9717eee6",
   "metadata": {},
   "outputs": [],
   "source": [
    "# Parametric Assumptions\n",
    "\n",
    "fig, (par_ax, np_ax) = plt.subplots(1, 2, figsize=(8, 4), sharey=True)\n",
    "\n",
    "## Plot with parametric assumpitions\n",
    "sns.barplot(data = data,\n",
    "            x = 'neuro_screen_ordinal',\n",
    "            y = 'mcp1',\n",
    "            estimator = 'mean',\n",
    "            errorbar = ('sd', 2),\n",
    "                ax = par_ax) # 95% CI\n",
    "\n",
    "sns.stripplot(data = data,\n",
    "              x = 'neuro_screen_ordinal',\n",
    "              y = 'mcp1',\n",
    "              alpha=0.5,\n",
    "              ax=par_ax)\n",
    "par_ax.set_title('Parametric')\n",
    "\n",
    "## Plot with non-parametric methods\n",
    "\n",
    "## Plot with parametric assumpitions\n",
    "sns.barplot(data = data,\n",
    "            x = 'neuro_screen_ordinal',\n",
    "            y = 'mcp1',\n",
    "            estimator = 'median',\n",
    "            errorbar = ('pi', 95),\n",
    "                ax = np_ax) # 95% CI\n",
    "\n",
    "sns.stripplot(data = data,\n",
    "              x = 'neuro_screen_ordinal',\n",
    "              y = 'mcp1',\n",
    "              alpha=0.5,\n",
    "              ax=np_ax)\n",
    "\n",
    "np_ax.set_title('Non-Parametric')\n",
    "\n",
    "fig.tight_layout()"
   ]
  },
  {
   "cell_type": "markdown",
   "id": "15613a1c",
   "metadata": {},
   "source": [
    "### Measuring Uncertainty"
   ]
  },
  {
   "cell_type": "markdown",
   "id": "af149dda",
   "metadata": {},
   "source": [
    "Quantifies how confident we are about where the middle of the distribution is."
   ]
  },
  {
   "cell_type": "code",
   "execution_count": null,
   "id": "4e5cd1f6",
   "metadata": {},
   "outputs": [],
   "source": [
    "# Parametric Assumptions\n",
    "\n",
    "fig, (par_ax, np_ax) = plt.subplots(1, 2, figsize=(8, 4), sharey=True)\n",
    "\n",
    "## Plot with parametric assumpitions\n",
    "sns.barplot(data = data,\n",
    "            x = 'neuro_screen_ordinal',\n",
    "            y = 'mcp1',\n",
    "            estimator = 'mean',\n",
    "            errorbar = ('se', 2),\n",
    "                ax = par_ax)\n",
    "\n",
    "sns.stripplot(data = data,\n",
    "              x = 'neuro_screen_ordinal',\n",
    "              y = 'mcp1',\n",
    "              alpha=0.25,\n",
    "              ax=par_ax)\n",
    "par_ax.set_title('Parametric')\n",
    "\n",
    "## Plot with non-parametric methods\n",
    "sns.barplot(data = data,\n",
    "            x = 'neuro_screen_ordinal',\n",
    "            y = 'mcp1',\n",
    "            estimator = 'median',\n",
    "            errorbar = ('ci', 95),\n",
    "                ax = np_ax)\n",
    "\n",
    "sns.stripplot(data = data,\n",
    "              x = 'neuro_screen_ordinal',\n",
    "              y = 'mcp1',\n",
    "              alpha=0.25,\n",
    "              ax=np_ax)\n",
    "\n",
    "np_ax.set_title('Non-Parametric')\n",
    "\n",
    "fig.tight_layout()"
   ]
  },
  {
   "cell_type": "markdown",
   "id": "f75576a2",
   "metadata": {},
   "source": [
    "With hundreds of data points, we are very confident and precise about our estimate of the middle of the distribution."
   ]
  },
  {
   "cell_type": "markdown",
   "id": "32f69341",
   "metadata": {},
   "source": [
    "It is important to understand the effect of sample size on spread and uncertainty.\n",
    "Below is a simulation that picks small subsets of the data and generates the same plot.\n",
    "Before you generate it; which do you think will change with sample-size and which will stay the same?"
   ]
  },
  {
   "cell_type": "code",
   "execution_count": null,
   "id": "75b9a78e",
   "metadata": {},
   "outputs": [],
   "source": [
    "def overlapped_plot(ax, df, y = 'mcp1', mode = 'spread'):\n",
    "    \"Create overlapped plot with different confidence assumptions\"\n",
    "\n",
    "    if mode == 'spread':\n",
    "        # Use Standard Deviation\n",
    "        eb = ('sd', 2)\n",
    "    elif mode == 'uncertainty':\n",
    "        # Use Standard error\n",
    "        eb = ('se', 2)\n",
    "    else:\n",
    "        raise ValueError(f'Expected spread or uncertainty, got: {mode}')\n",
    "\n",
    "    sns.barplot(data = df,\n",
    "                x = 'neuro_screen_ordinal',\n",
    "                y = y,\n",
    "                errorbar = eb,\n",
    "                ax = ax)\n",
    "\n",
    "    sns.stripplot(data = df,\n",
    "                  x = 'neuro_screen_ordinal',\n",
    "                  y = y,\n",
    "                  alpha=0.25,\n",
    "                  ax=ax)\n"
   ]
  },
  {
   "cell_type": "code",
   "execution_count": null,
   "id": "00f647dc",
   "metadata": {},
   "outputs": [],
   "source": [
    "NBINS = 10\n",
    "\n",
    "BINS = np.linspace(10, len(data.index), NBINS)\n",
    "fig, axs = plt.subplots(len(BINS), 2, figsize=(8, 50), sharex=True, sharey=True)\n",
    "\n",
    "for row, sample_size in enumerate(BINS):\n",
    "    print('Sampling', int(sample_size), 'samples for figure.')\n",
    "    ndf = data.sample(n=int(sample_size))\n",
    "\n",
    "    spread_ax, uncer_ax = axs[row,:]\n",
    "\n",
    "    ## Plot with parametric assumpitions\n",
    "    overlapped_plot(spread_ax, ndf, mode='spread')\n",
    "    spread_ax.set_title(f'Spread: n = {sample_size:0.0f}')\n",
    "\n",
    "    ## Plot with parametric assumpitions\n",
    "    overlapped_plot(uncer_ax, ndf, mode='uncertainty')\n",
    "    uncer_ax.set_title(f'Uncertainty: n = {sample_size:0.0f}')\n"
   ]
  },
  {
   "cell_type": "code",
   "execution_count": null,
   "id": "4b55820f",
   "metadata": {
    "tags": []
   },
   "outputs": [],
   "source": [
    "# Which is impacted by sample size?\n",
    "# answer: 'spread', 'uncertainty', 'both', 'neither'\n",
    "impact_of_sample_size = ..."
   ]
  },
  {
   "cell_type": "code",
   "execution_count": null,
   "id": "297225dd",
   "metadata": {
    "deletable": false,
    "editable": false
   },
   "outputs": [],
   "source": [
    "grader.check(\"impact_of_sample_size\")"
   ]
  },
  {
   "cell_type": "markdown",
   "id": "1dcf228b",
   "metadata": {},
   "source": [
    "So, how are the two measures impacted by sample size?\n",
    "  - Spread : Sample size has no effect on spread.\n",
    "  - Uncertainty : Sample size reduces uncertainty."
   ]
  },
  {
   "cell_type": "markdown",
   "id": "65885fb6",
   "metadata": {},
   "source": [
    "This type of categorical visualization is limited in that it only considers a single summary statistic.\n",
    "It ignores the \"shape\" of the data.\n",
    "We can use histograms to explore this."
   ]
  },
  {
   "cell_type": "markdown",
   "id": "af106a6c",
   "metadata": {},
   "source": [
    "## Comparing Distributions"
   ]
  },
  {
   "cell_type": "markdown",
   "id": "f2a21bdf",
   "metadata": {},
   "source": [
    "Seaborn makes simple graphs easy."
   ]
  },
  {
   "cell_type": "code",
   "execution_count": null,
   "id": "4f37fac7",
   "metadata": {},
   "outputs": [],
   "source": [
    "sns.histplot(data = data,\n",
    "             x = 'mcp1',\n",
    "             hue = 'neuro_screen_ordinal')"
   ]
  },
  {
   "cell_type": "markdown",
   "id": "e5104003",
   "metadata": {},
   "source": [
    "If we don't like overlapping plots we can make it like a heatmap where the color indicates the count."
   ]
  },
  {
   "cell_type": "code",
   "execution_count": null,
   "id": "1f2ca21c",
   "metadata": {},
   "outputs": [],
   "source": [
    "sns.histplot(data = data,\n",
    "             x = 'mcp1',\n",
    "             y  = 'neuro_screen_ordinal',\n",
    "             cbar = True)"
   ]
  },
  {
   "cell_type": "markdown",
   "id": "e3a7827f",
   "metadata": {},
   "source": [
    "Aggregate statistic to compute in each bin.\n",
    "* count: show the number of observations in each bin\n",
    "* frequency: show the number of observations divided by the bin width\n",
    "* probability or proportion: normalize such that bar heights sum to 1\n",
    "* percent: normalize such that bar heights sum to 100\n",
    "* density: normalize such that the total area of the histogram equals 1"
   ]
  },
  {
   "cell_type": "code",
   "execution_count": null,
   "id": "d263d8f4",
   "metadata": {},
   "outputs": [],
   "source": [
    "sns.histplot(data = data,\n",
    "             x = 'mcp1',\n",
    "             hue = 'neuro_screen_ordinal',\n",
    "             stat = 'percent',\n",
    "             common_norm=False) # Each group should have its own \"sum to 100\"\n",
    "# hue_order = ['none', 'mild']"
   ]
  },
  {
   "cell_type": "markdown",
   "id": "0eb7f67f",
   "metadata": {},
   "source": [
    "## Measuring Correlation"
   ]
  },
  {
   "cell_type": "markdown",
   "id": "5445be47",
   "metadata": {},
   "source": [
    "The previous figures measured one (or more) categorical variables and a single quantitative variable.\n",
    "If we want to understand how correlated any two quantitative variables are to each other."
   ]
  },
  {
   "cell_type": "code",
   "execution_count": null,
   "id": "d85ee920",
   "metadata": {},
   "outputs": [],
   "source": [
    "sns.scatterplot(data = data,\n",
    "                x = 'mcp1', \n",
    "                y = 'tnfalpha')"
   ]
  },
  {
   "cell_type": "markdown",
   "id": "50318466",
   "metadata": {},
   "source": [
    "We can also use a _regression plot_ to draw a best fit line with a confidence interval indicated by a shadow."
   ]
  },
  {
   "cell_type": "code",
   "execution_count": null,
   "id": "865d9b7d",
   "metadata": {},
   "outputs": [],
   "source": [
    "sns.regplot(data = data,\n",
    "            x = 'mcp1',\n",
    "            y = 'tnfalpha')"
   ]
  },
  {
   "cell_type": "markdown",
   "id": "b266401b",
   "metadata": {},
   "source": [
    "## Figure Level Interface"
   ]
  },
  {
   "cell_type": "markdown",
   "id": "e5f4bcd9",
   "metadata": {},
   "source": [
    "All of the code we've been running above generates a single figure.\n",
    "The functions below automate generating multiple figures across different facets of the data.\n",
    "This is an incredibly useful way to explore relationships in your data."
   ]
  },
  {
   "cell_type": "markdown",
   "id": "11f4e75b",
   "metadata": {},
   "source": [
    "### Categorical with `catplot`"
   ]
  },
  {
   "cell_type": "code",
   "execution_count": null,
   "id": "163ccafc",
   "metadata": {},
   "outputs": [],
   "source": [
    "sns.catplot(data = data,\n",
    "            x = 'neuro_screen_ordinal',\n",
    "            y = 'mcp1',\n",
    "            col = 'multi_use')\n",
    "\n",
    "# Try:\n",
    "# col_wrap = 2\n",
    "# kind = 'bar', box, etc\n",
    "# Other groupings across row and hue\n",
    "#  Sex, isAA\n",
    "#  pd.cut(data['Age'], [18, 30, 50, 100], labels=['young', 'adult', 'aged'])\n",
    "#  pd.cut(data['tnfalpha'], 3, labels=['low', 'med', 'high'])"
   ]
  },
  {
   "cell_type": "markdown",
   "id": "c76c0304",
   "metadata": {},
   "source": [
    "Each of the plots splits the data into a different categorical subset, then only plots the data within that set.\n",
    "Use the examples in the comments to explore ways to visualize the data."
   ]
  },
  {
   "cell_type": "markdown",
   "id": "a937475c",
   "metadata": {},
   "source": [
    "### Relational with `relplot`"
   ]
  },
  {
   "cell_type": "code",
   "execution_count": null,
   "id": "63161f56",
   "metadata": {},
   "outputs": [],
   "source": [
    "sns.relplot(data = data,\n",
    "            x = 'tnfalpha',\n",
    "            y = 'mcp1',\n",
    "            col = 'multi_use')\n",
    "\n",
    "# Try:\n",
    "# col_wrap = 2\n",
    "# kind = 'bar', box, etc\n",
    "# Other groupings across row and hue\n",
    "#  Sex, isAA\n",
    "#  pd.cut(data['Age'], [18, 30, 50, 100], labels=['young', 'adult', 'aged'])\n",
    "#  pd.cut(data['tnfalpha'], 3, labels=['low', 'med', 'high'])"
   ]
  },
  {
   "cell_type": "markdown",
   "id": "fd448d6b",
   "metadata": {},
   "source": [
    "### Linear model regression plots with `lmplot`"
   ]
  },
  {
   "cell_type": "code",
   "execution_count": null,
   "id": "eda4ecaa",
   "metadata": {},
   "outputs": [],
   "source": [
    "sns.lmplot(data = data,\n",
    "            x = 'tnfalpha',\n",
    "            y = 'mcp1',\n",
    "            col = 'multi_use')\n",
    "# Try:\n",
    "# col_wrap = 2\n",
    "# kind = 'bar', box, etc\n",
    "# Other groupings across row and hue\n",
    "#  Sex, isAA\n",
    "#  pd.cut(data['Age'], [18, 30, 50, 100], labels=['young', 'adult', 'aged'])\n",
    "#  pd.cut(data['tnfalpha'], 3, labels=['low', 'med', 'high'])"
   ]
  },
  {
   "cell_type": "markdown",
   "id": "c4fab5b5",
   "metadata": {},
   "source": [
    "## Plotting Multiple Columns"
   ]
  },
  {
   "cell_type": "markdown",
   "id": "2ed1a949",
   "metadata": {},
   "source": [
    "You'll probably notice that all of the graphs so far have visualized a single cytokine.\n",
    "What if we wanted multiple cytokines in the same figure?"
   ]
  },
  {
   "cell_type": "code",
   "execution_count": null,
   "id": "14dc990a",
   "metadata": {},
   "outputs": [],
   "source": [
    "# This doesn't work\n",
    "# sns.stripplot(data = data,\n",
    "#               x = 'neuro_screen_category',\n",
    "#               hue = 'Sex',\n",
    "#               y = ['mcp1', 'tnfalpha'],\n",
    "#               dodge = True)"
   ]
  },
  {
   "cell_type": "markdown",
   "id": "2dbc8917",
   "metadata": {},
   "source": [
    "### I'm `pd.melt`ing"
   ]
  },
  {
   "cell_type": "markdown",
   "id": "990ae15f",
   "metadata": {},
   "source": [
    "Seaborn only plots _long_ data.\n",
    "We need to convert our _wide_ data into _long_ data first.\n",
    "This is melting."
   ]
  },
  {
   "cell_type": "code",
   "execution_count": null,
   "id": "744c9782",
   "metadata": {},
   "outputs": [],
   "source": [
    "data.head()"
   ]
  },
  {
   "cell_type": "code",
   "execution_count": null,
   "id": "ebfc6322",
   "metadata": {},
   "outputs": [],
   "source": [
    "melted_data = pd.melt(data,\n",
    "                      id_vars = ['Sex', 'Age', 'neuro_screen_ordinal', 'multi_use'], # What we want replicated across all rows of the same sample\n",
    "                      value_vars = ['mcp1', 'tnfalpha', 'il6'], # What columns we want to melt into rows\n",
    "                      value_name = 'concentration', # The name of the value column after melting\n",
    "                      var_name = 'cytokine') # The name of the variable column after melting\n",
    "melted_data"
   ]
  },
  {
   "cell_type": "code",
   "execution_count": null,
   "id": "16001262",
   "metadata": {},
   "outputs": [],
   "source": [
    "sns.catplot(data = melted_data,\n",
    "            x = 'neuro_screen_ordinal',\n",
    "            y = 'concentration',\n",
    "            col = 'cytokine',\n",
    "            hue = 'Sex',\n",
    "            sharey=False,\n",
    "            kind = 'bar')"
   ]
  },
  {
   "cell_type": "markdown",
   "id": "0cc0ad20",
   "metadata": {},
   "source": [
    "Whether to use melting data and figure-level seaborn functions or using `plt.subplots` and then doing axis-level figure generation is a matter of personal perference and the situation."
   ]
  },
  {
   "cell_type": "markdown",
   "id": "8919ab73",
   "metadata": {
    "tags": [
     "remove_cell"
    ]
   },
   "source": [
    "## Submission\n",
    "\n",
    "You do not need to submit this walkthrough notebook.\n",
    "Simply complete the quiz."
   ]
  },
  {
   "cell_type": "markdown",
   "id": "9b65b1d5",
   "metadata": {},
   "source": [
    "---------------------------------------------"
   ]
  }
 ],
 "metadata": {
  "kernelspec": {
   "display_name": "Python 3 (ipykernel)",
   "language": "python",
   "name": "python3"
  },
  "language_info": {
   "codemirror_mode": {
    "name": "ipython",
    "version": 3
   },
   "file_extension": ".py",
   "mimetype": "text/x-python",
   "name": "python",
   "nbconvert_exporter": "python",
   "pygments_lexer": "ipython3",
   "version": "3.9.13"
  },
  "otter": {
   "assignment_name": "Module06_walkthrough"
  }
 },
 "nbformat": 4,
 "nbformat_minor": 5
}
