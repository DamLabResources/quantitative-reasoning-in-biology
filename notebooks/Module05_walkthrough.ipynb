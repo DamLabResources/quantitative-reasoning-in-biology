{
 "cells": [
  {
   "cell_type": "code",
   "execution_count": null,
   "id": "a8bdcf1e",
   "metadata": {
    "tags": [
     "remove_cell"
    ]
   },
   "outputs": [],
   "source": [
    "# Setting up the Colab environment. DO NOT EDIT!\n",
    "try:\n",
    "  from applied_biostats import setup_environment\n",
    "except ImportError:\n",
    "  !pip -q install applied-biostats-helper\n",
    "  from applied_biostats import setup_environment\n",
    "finally:\n",
    "  grader = setup_environment('Module05_walkthrough')"
   ]
  },
  {
   "cell_type": "markdown",
   "id": "b55b25e9",
   "metadata": {},
   "source": [
    "# Walkthrough"
   ]
  },
  {
   "cell_type": "markdown",
   "id": "1f72c957",
   "metadata": {},
   "source": [
    "## Learning Objectives\n",
    "At the end of this learning activity you will be able to:\n",
    " - Create barplots of categorical count data.\n",
    " - Adjust the limits, labels, and titles of matplotlib axes.\n",
    " - Create boxplots of continious numerical data.\n",
    " - Generate histograms of continious numerical data.\n",
    " - Construct scatterplots to compare continious variables."
   ]
  },
  {
   "cell_type": "code",
   "execution_count": null,
   "id": "c525cf92",
   "metadata": {},
   "outputs": [],
   "source": [
    "import numpy as np\n",
    "import pandas as pd\n",
    "\n",
    "# A common import style you'll see across the web\n",
    "import matplotlib.pyplot as plt\n",
    "\n",
    "# Make the notebook show images as we make them\n",
    "%matplotlib inline"
   ]
  },
  {
   "cell_type": "markdown",
   "id": "b38e9441",
   "metadata": {},
   "source": [
    "## Matplotlib"
   ]
  },
  {
   "cell_type": "markdown",
   "id": "0e5d6e5a",
   "metadata": {},
   "source": [
    "Matplotlib is a highly influential plotting library in Python dating back to the early 2000s.\n",
    "It was initially created by John D. Hunter, a neurobiologist, as an alternative to MATLAB, which was widely used at the time for scientific computing and data visualization.\n",
    "His primary motivation was to have an open-source tool that could replicate MATLAB's plotting capabilities, which he needed for his work in electrophysiology.\n",
    "Over the years, it has grown with contributions from a large community of developers, evolving to support a wide range of plots and visualizations.\n",
    "\n",
    "A key to Matplotlib's success is been its flexibility and integration with other Python libraries.\n",
    "It works well with NumPy and Pandas, making it a go-to choice for data analysis and manipulation tasks.\n",
    "Its integration with Jupyter notebooks has also made it popular for exploratory data analysis in a notebook environment.\n",
    "\n",
    "Matplotlib's design philosophy revolves around the idea of allowing users to create simple plots with just a few lines of code, while also giving them the ability to make complex customizations.\n",
    "This balance between simplicity and power has contributed significantly to its widespread adoption.\n",
    "\n",
    "If you are interested, you can read more about the history of the package at their [website](https://matplotlib.org/stable/users/project/history.html).\n"
   ]
  },
  {
   "cell_type": "markdown",
   "id": "5aef4eeb",
   "metadata": {},
   "source": [
    "## Data"
   ]
  },
  {
   "cell_type": "markdown",
   "id": "390f3afa",
   "metadata": {
    "id": "59f3483e-0a2a-4217-8185-c5557dda482e"
   },
   "source": [
    "This week we will look at data from a cohort of People Living with HIV (PLH) here at Drexel.\n",
    "\n",
    "As we discussed in the introduction, this data collection effort was done to provide a resource for many projects across the fields of HIV, aging, inflammation, neurocognitive impairment, immune function, and unknowable future projects.\n",
    "In this walkthrough we will explore a collection of cytokines and chemokines measured by a Luminex panel of common biomarkers of inflammation."
   ]
  },
  {
   "cell_type": "code",
   "execution_count": null,
   "id": "713cada6",
   "metadata": {},
   "outputs": [],
   "source": [
    "data = pd.read_csv('cytokine_data.csv')\n",
    "data.head()"
   ]
  },
  {
   "cell_type": "markdown",
   "id": "11c2146c",
   "metadata": {},
   "source": [
    "## Basic Plotting"
   ]
  },
  {
   "cell_type": "markdown",
   "id": "54d682df",
   "metadata": {},
   "source": [
    "`pandas` and `matplotlib` are tightly coupled and provide a number of ways to make simple plots easily.\n",
    "Most pandas objects have `.plot()` method that can graph the data within it and control many of the outputs."
   ]
  },
  {
   "cell_type": "markdown",
   "id": "7fb09441",
   "metadata": {},
   "source": [
    "Columns (or any `pd.Series` object) have a method for easily counting categorical values:\n",
    "`.value_counts()`"
   ]
  },
  {
   "cell_type": "code",
   "execution_count": null,
   "id": "5eacc810",
   "metadata": {},
   "outputs": [],
   "source": [
    "data['Sex'].value_counts()"
   ]
  },
  {
   "cell_type": "code",
   "execution_count": null,
   "id": "45bb47b0",
   "metadata": {},
   "outputs": [],
   "source": [
    "# Just plot it.\n",
    "\n",
    "data['Sex'].value_counts().plot()"
   ]
  },
  {
   "cell_type": "markdown",
   "id": "d95b3b7e",
   "metadata": {},
   "source": [
    "That's _almost_ what we want.\n",
    "By default, the `kind` of plot is a line-plot, because it was originally designed for time-series financial data.\n",
    "Nicely, pandas allows many different ways to customize a plot.\n",
    "One of which, is to change its `kind`, we can change that like so."
   ]
  },
  {
   "cell_type": "code",
   "execution_count": null,
   "id": "d80d4b02",
   "metadata": {},
   "outputs": [],
   "source": [
    "data['Sex'].value_counts().plot(kind = 'bar')"
   ]
  },
  {
   "cell_type": "markdown",
   "id": "36a9bf32",
   "metadata": {},
   "source": [
    "Like we learned last week, grouping samples by categories can be insightful.\n",
    "What if we wanted to know whether there was a balance of racial minorities across our gender categories?\n",
    "\n",
    "To do this, you can use `groupby` to create multiple levels."
   ]
  },
  {
   "cell_type": "code",
   "execution_count": null,
   "id": "b7b95a56",
   "metadata": {},
   "outputs": [],
   "source": [
    "data.groupby('Sex')['isAA'].value_counts()"
   ]
  },
  {
   "cell_type": "code",
   "execution_count": null,
   "id": "a49bdd9a",
   "metadata": {},
   "outputs": [],
   "source": [
    "# Notice kind='barh' to make it horizontal\n",
    "\n",
    "data.groupby('Sex')['isAA'].value_counts().plot(kind = 'barh')"
   ]
  },
  {
   "cell_type": "markdown",
   "id": "65d27eb9",
   "metadata": {},
   "source": [
    "We can also pivot the data such that we have a table with a column for each `isAA`."
   ]
  },
  {
   "cell_type": "code",
   "execution_count": null,
   "id": "c54fd088",
   "metadata": {},
   "outputs": [],
   "source": [
    "gender_race_piv = pd.pivot_table(data,\n",
    "                                 index = 'Sex',\n",
    "                                 columns = 'isAA',\n",
    "                                 values = 'Age', # Can be any column, we're just counting them\n",
    "                                 aggfunc = 'count')\n",
    "gender_race_piv"
   ]
  },
  {
   "cell_type": "markdown",
   "id": "6d2b538e",
   "metadata": {},
   "source": [
    "Then, it will plot each column as a different bar."
   ]
  },
  {
   "cell_type": "code",
   "execution_count": null,
   "id": "183cd942",
   "metadata": {},
   "outputs": [],
   "source": [
    "gender_race_piv.plot(kind = 'bar')"
   ]
  },
  {
   "cell_type": "code",
   "execution_count": null,
   "id": "15834a5c",
   "metadata": {},
   "outputs": [],
   "source": [
    "gender_race_piv.plot(kind = 'bar', stacked=True)"
   ]
  },
  {
   "cell_type": "markdown",
   "id": "ef92e7c3",
   "metadata": {},
   "source": [
    "There are _dozens_ of things you can customize about your plots in this manner.\n",
    "You can see them either by checking the `help` here in Colab.\n",
    "To do this, run `data.plot?` in a cell by itself, and Colab will bring up some information to read.\n",
    "You can also check out the documentation on the `pandas` website [here](https://pandas.pydata.org/docs/reference/api/pandas.DataFrame.plot.html) and in their tutorial [here](https://pandas.pydata.org/docs/user_guide/visualization.html).\n"
   ]
  },
  {
   "cell_type": "markdown",
   "id": "f54c86f3",
   "metadata": {},
   "source": [
    "## Plot Handles"
   ]
  },
  {
   "cell_type": "markdown",
   "id": "728291f9",
   "metadata": {},
   "source": [
    "If we want to make edits to the plot, we need to capture the `handle` that is generated by the plot.\n",
    "This variable represents the object of the plot and allows us to manipulate its properties like the axis limits, labels, etc.\n",
    "This must be done in the same cell before the image is presented."
   ]
  },
  {
   "cell_type": "code",
   "execution_count": null,
   "id": "7d4b7729",
   "metadata": {},
   "outputs": [],
   "source": [
    "axis_handle = data.groupby('Sex')['isAA'].value_counts().plot(kind = 'barh')\n",
    "axis_handle.set_xlim(0, 160)"
   ]
  },
  {
   "cell_type": "code",
   "execution_count": null,
   "id": "2d948a98",
   "metadata": {},
   "outputs": [],
   "source": [
    "axis_handle = data.groupby('Sex')['isAA'].value_counts().plot(kind = 'barh')\n",
    "axis_handle.set_xlim(0, 160)\n",
    "axis_handle.set_xlabel('Participants')"
   ]
  },
  {
   "cell_type": "markdown",
   "id": "622227f4",
   "metadata": {},
   "source": [
    "### Q1: Explore the `cocaine_use` and `cannabinoid_use` columns.\n",
    "\n",
    "Create a barplot of the number of cocaine, cannabinoid, multi-use, and non-use."
   ]
  },
  {
   "cell_type": "markdown",
   "id": "8ba1099f",
   "metadata": {
    "tags": [
     "remove_cell"
    ]
   },
   "source": [
    "|               |    |\n",
    "| --------------|----|\n",
    "| Points        | 2  |\n",
    "| Public Checks | 4  |\n",
    "\n",
    "_Points:_ 2"
   ]
  },
  {
   "cell_type": "code",
   "execution_count": null,
   "id": "6e611468",
   "metadata": {
    "tags": []
   },
   "outputs": [],
   "source": [
    "# Add a new column indicating True for multi-use\n",
    "\n",
    "...\n",
    "\n",
    "# Add a new column indicating True for non-use\n",
    "...\n"
   ]
  },
  {
   "cell_type": "code",
   "execution_count": null,
   "id": "94ecae85",
   "metadata": {
    "tags": []
   },
   "outputs": [],
   "source": [
    "# Sum the number of True's in each use column\n",
    "\n",
    "use_counts = ...\n",
    "use_counts"
   ]
  },
  {
   "cell_type": "code",
   "execution_count": null,
   "id": "67b94d79",
   "metadata": {
    "tags": []
   },
   "outputs": [],
   "source": [
    "# Create a barplot\n",
    "use_axis = ..."
   ]
  },
  {
   "cell_type": "code",
   "execution_count": null,
   "id": "0b08d0ee",
   "metadata": {
    "deletable": false,
    "editable": false
   },
   "outputs": [],
   "source": [
    "grader.check(\"q1_drug_use_plot\")"
   ]
  },
  {
   "cell_type": "markdown",
   "id": "aa8abe09",
   "metadata": {},
   "source": [
    "## Numeric Variables"
   ]
  },
  {
   "cell_type": "markdown",
   "id": "b0100d2e",
   "metadata": {},
   "source": [
    "We can summarize numerical columns in a number of ways."
   ]
  },
  {
   "cell_type": "markdown",
   "id": "a751297b",
   "metadata": {},
   "source": [
    "### Box Plots"
   ]
  },
  {
   "cell_type": "code",
   "execution_count": null,
   "id": "59589eea",
   "metadata": {},
   "outputs": [],
   "source": [
    "data['Age'].plot(kind = 'box')"
   ]
  },
  {
   "cell_type": "markdown",
   "id": "8a1b41d7",
   "metadata": {},
   "source": [
    "Breaking it down:\n",
    " - The middle green line is the _mean_\n",
    " - The box represents the 25-75 quartiles\n",
    " - The whiskers represent the 95% confidence interval\n",
    " - The dots are outliers outside the 95% CI."
   ]
  },
  {
   "cell_type": "markdown",
   "id": "6f100c3d",
   "metadata": {},
   "source": [
    "You can do multiple box plots if your data is in `wide` form."
   ]
  },
  {
   "cell_type": "code",
   "execution_count": null,
   "id": "e58e0d9b",
   "metadata": {},
   "outputs": [],
   "source": [
    "data[['egf', 'eotaxin', 'fgfbasic', 'gcsf', 'gmcsf']].plot(kind='box')"
   ]
  },
  {
   "cell_type": "markdown",
   "id": "125fbd8d",
   "metadata": {},
   "source": [
    "You can also group by another column to create subplots."
   ]
  },
  {
   "cell_type": "code",
   "execution_count": null,
   "id": "523900d2",
   "metadata": {},
   "outputs": [],
   "source": [
    "data[['Sex', 'egf', 'eotaxin']].plot(kind='box', by = 'Sex')"
   ]
  },
  {
   "cell_type": "markdown",
   "id": "879490b3",
   "metadata": {},
   "source": [
    "### Q2: Is the expression of `infalpha` or `vegf` different across neurological impairment status?\n",
    "\n",
    "Create a set of boxplots to visualize the `infalpha` or `vegf` at different neurological states in the `neuro_screen_impairment_level` column."
   ]
  },
  {
   "cell_type": "markdown",
   "id": "fc2294ea",
   "metadata": {
    "tags": [
     "remove_cell"
    ]
   },
   "source": [
    "|               |    |\n",
    "| --------------|----|\n",
    "| Points        | 2  |\n",
    "| Public Checks | 4  |\n",
    "\n",
    "_Points:_ 2"
   ]
  },
  {
   "cell_type": "code",
   "execution_count": null,
   "id": "0a9e58d7",
   "metadata": {
    "tags": []
   },
   "outputs": [],
   "source": [
    "q2_axes = ..."
   ]
  },
  {
   "cell_type": "code",
   "execution_count": null,
   "id": "f9903448",
   "metadata": {
    "deletable": false,
    "editable": false
   },
   "outputs": [],
   "source": [
    "grader.check(\"q2_neuro_use_plot\")"
   ]
  },
  {
   "cell_type": "code",
   "execution_count": null,
   "id": "96f62e13",
   "metadata": {},
   "outputs": [],
   "source": [
    "# DO NOT REMOVE!\n",
    "plt.close()\n",
    "# For the grader"
   ]
  },
  {
   "cell_type": "markdown",
   "id": "051660e6",
   "metadata": {},
   "source": [
    "### Histograms"
   ]
  },
  {
   "cell_type": "code",
   "execution_count": null,
   "id": "bc00c784",
   "metadata": {},
   "outputs": [],
   "source": [
    "data['eotaxin'].plot(kind = 'hist')"
   ]
  },
  {
   "cell_type": "markdown",
   "id": "a3328f04",
   "metadata": {},
   "source": [
    "Personally, I prefer to specify my bin edges explicitly instead of letting the computer decide."
   ]
  },
  {
   "cell_type": "code",
   "execution_count": null,
   "id": "0cdd121d",
   "metadata": {},
   "outputs": [],
   "source": [
    "data['eotaxin'].plot(kind = 'hist',\n",
    "                     bins = np.arange(0, 300, 25))"
   ]
  },
  {
   "cell_type": "code",
   "execution_count": null,
   "id": "7a207d96",
   "metadata": {},
   "outputs": [],
   "source": [
    "data.groupby('Sex')['eotaxin'].plot(kind = 'hist',\n",
    "                                    bins = np.arange(0, 300, 25),\n",
    "                                    alpha = 0.75,\n",
    "                                    legend=True)"
   ]
  },
  {
   "cell_type": "markdown",
   "id": "76cced61",
   "metadata": {},
   "source": [
    "## Comparison of Variables"
   ]
  },
  {
   "cell_type": "code",
   "execution_count": null,
   "id": "73a1ec70",
   "metadata": {},
   "outputs": [],
   "source": [
    "data.plot(kind = 'scatter', x = 'mip1alpha', y = 'mip1beta')"
   ]
  },
  {
   "cell_type": "code",
   "execution_count": null,
   "id": "9a54dead",
   "metadata": {},
   "outputs": [],
   "source": [
    "# We can also add colors\n",
    "colors = data['Sex'].replace({'Male': 'b', 'Female': 'r', 'Transgender': 'g'})\n",
    "\n",
    "ax = data.plot(kind = 'scatter', x = 'il13', y = 'ifngamma', \n",
    "               s = 'Age', # Make the size proportional to age\n",
    "               c = colors\n",
    "          )"
   ]
  },
  {
   "cell_type": "markdown",
   "id": "8a0ee2d3",
   "metadata": {},
   "source": [
    "One can also make a _GIANT_ matrix of different comparisons."
   ]
  },
  {
   "cell_type": "code",
   "execution_count": null,
   "id": "73576bf9",
   "metadata": {},
   "outputs": [],
   "source": [
    "# It is helpful to pick columns first to prevent a figure explosion\n",
    "cols = ['Age', 'gcsf', 'gmcsf',\n",
    "       'ifnalpha', 'ifngamma', 'il10', 'il12', 'il13', 'il15', 'il17',\n",
    "       'il1beta', 'il2', 'il2r', 'il4', 'il5', 'il6', 'il7', 'il8', 'ilra']\n",
    "\n",
    "pd.plotting.scatter_matrix(data[cols], figsize=(10, 10));"
   ]
  },
  {
   "cell_type": "markdown",
   "id": "fb59dd02",
   "metadata": {},
   "source": [
    "We can also get a numeric summary of these correlations.\n",
    "\n",
    "Method:\n",
    " - `method = 'pearson'` -  Pearson's correlation is ideal for continuous variables that have a linear relationship and are normally distributed.\n",
    " - `method = 'kendall'` - Kendall's tau is suitable for ordinal data or when dealing with non-linear relationships, especially in small samples or when data contains ties.\n",
    " - `method = 'spearman'` - Spearman's rank is best used with ordinal or non-normal data to assess monotonic relationships, being robust to outliers.\n"
   ]
  },
  {
   "cell_type": "code",
   "execution_count": null,
   "id": "09ca0dad",
   "metadata": {},
   "outputs": [],
   "source": [
    "cross_corr = data[cols].corr(method = 'pearson')\n",
    "\n",
    "# Using .style we can create a visually accented table\n",
    "cross_corr.style.background_gradient(cmap='RdBu', vmin=-1, vmax=1)"
   ]
  },
  {
   "cell_type": "markdown",
   "id": "5a32094f",
   "metadata": {},
   "source": [
    "`cross_corr` is just a `DataFrame`, which means we can extract columns."
   ]
  },
  {
   "cell_type": "code",
   "execution_count": null,
   "id": "d0c71956",
   "metadata": {},
   "outputs": [],
   "source": [
    "# How does each cytokine correlate with Age?\n",
    "\n",
    "cross_corr['Age'].plot(kind='bar')"
   ]
  },
  {
   "cell_type": "markdown",
   "id": "c62e74ac",
   "metadata": {},
   "source": [
    "These excercises should provide a basic set of plotting tools to visualize tabular data.\n",
    "In the next week we'll explore more advanced 'statistical plotting' with the `seaborn` library.\n",
    "This will add additional features like better faceting across groups, confidence intervals through bootstrapping, better legends, and more control to our plots.\n",
    "In future weeks we'll also explore how to assess statistical significance across groups and strategies for finding correlated parameters."
   ]
  },
  {
   "cell_type": "markdown",
   "id": "ed217f86",
   "metadata": {},
   "source": [
    "## Matplotlib Gotchas"
   ]
  },
  {
   "cell_type": "markdown",
   "id": "d47444f3",
   "metadata": {},
   "source": [
    "![Rakes](https://media.giphy.com/media/v1.Y2lkPTc5MGI3NjExbDdhNHg4NjE2N2s1cnd2MTdhYjV3NGttaThwbHE5MG93MDIydWhwdyZlcD12MV9pbnRlcm5hbF9naWZfYnlfaWQmY3Q9Zw/3o6Mbtdd7dhvbvugg0/giphy.gif)"
   ]
  },
  {
   "cell_type": "markdown",
   "id": "0264372c",
   "metadata": {},
   "source": [
    "While Matplotlib is great, it is sometimes incredibly frustrating.\n",
    "Here's a handful of common rakes that I run across."
   ]
  },
  {
   "cell_type": "markdown",
   "id": "1478be82",
   "metadata": {},
   "source": [
    "How do you get plots out of here?"
   ]
  },
  {
   "cell_type": "code",
   "execution_count": null,
   "id": "0d689f06",
   "metadata": {},
   "outputs": [],
   "source": [
    "# Make the plot and grab the axis object\n",
    "\n",
    "ax = data['eotaxin'].plot(kind = 'hist')\n",
    "\n",
    "ax.set_xlabel('eotaxin')\n",
    "\n",
    "# Get the Figure handle this axis is on\n",
    "fig = ax.figure\n",
    "\n",
    "\n",
    "# Save the figure\n",
    "fig.savefig('eotaxin_hist.png', # Can be any extension, but you probably want PNGs\n",
    "            dpi = 50 # Good quality for viewing and debugging, use 300 for publications\n",
    "            )"
   ]
  },
  {
   "cell_type": "markdown",
   "id": "8e3dc0a2",
   "metadata": {},
   "source": [
    "Overlapping labels."
   ]
  },
  {
   "cell_type": "code",
   "execution_count": null,
   "id": "9213636f",
   "metadata": {},
   "outputs": [],
   "source": [
    "data[['Sex', 'egf', 'eotaxin', 'hgf', 'gmcsf']].plot(kind='box', by = 'Sex')"
   ]
  },
  {
   "cell_type": "code",
   "execution_count": null,
   "id": "9aa7bea3",
   "metadata": {},
   "outputs": [],
   "source": [
    "# Grab the series of axis objects\n",
    "ax_ser = data[['Sex', 'egf', 'eotaxin', 'hgf', 'gmcsf']].plot(kind='box', by = 'Sex')\n",
    "\n",
    "# Somehow get the figure object\n",
    "fig = ax_ser.iloc[0].figure\n",
    "\n",
    "# Re-layout the figure\n",
    "fig.tight_layout()"
   ]
  },
  {
   "cell_type": "markdown",
   "id": "9ee97a54",
   "metadata": {},
   "source": [
    "Rotating labels."
   ]
  },
  {
   "cell_type": "code",
   "execution_count": null,
   "id": "53d3fe4c",
   "metadata": {},
   "outputs": [],
   "source": [
    "# Grab the series of axis objects\n",
    "ax_ser = data[['Sex', 'egf', 'eotaxin', 'hgf', 'gmcsf']].plot(kind='box', by = 'Sex')\n",
    "\n",
    "# Somehow get the figure object\n",
    "fig = ax_ser.iloc[0].figure\n",
    "\n",
    "# Create a function that fixes each axis\n",
    "# lambda ax: ax.tick_params(axis='x', labelrotation=90)\n",
    "\n",
    "# Apply that function across all axes BEFORE the re-layout\n",
    "ax_ser.map(lambda ax: ax.tick_params(axis='x', labelrotation=90))\n",
    "\n",
    "# Re-layout the figure\n",
    "fig.tight_layout()"
   ]
  },
  {
   "cell_type": "markdown",
   "id": "4163f021",
   "metadata": {},
   "source": [
    "---------------------------------------------"
   ]
  },
  {
   "cell_type": "markdown",
   "id": "0953848a",
   "metadata": {
    "tags": [
     "remove_cell"
    ]
   },
   "source": [
    "## Submission\n",
    "\n",
    "You do not need to submit this walkthrough notebook.\n",
    "Simply complete the quiz."
   ]
  }
 ],
 "metadata": {
  "kernelspec": {
   "display_name": "Python 3 (ipykernel)",
   "language": "python",
   "name": "python3"
  },
  "language_info": {
   "codemirror_mode": {
    "name": "ipython",
    "version": 3
   },
   "file_extension": ".py",
   "mimetype": "text/x-python",
   "name": "python",
   "nbconvert_exporter": "python",
   "pygments_lexer": "ipython3",
   "version": "3.9.13"
  },
  "otter": {
   "assignment_name": "Module05_walkthrough"
  }
 },
 "nbformat": 4,
 "nbformat_minor": 5
}
