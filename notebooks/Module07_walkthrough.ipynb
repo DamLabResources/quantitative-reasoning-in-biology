{
 "cells": [
  {
   "cell_type": "code",
   "execution_count": null,
   "id": "7064f8b1",
   "metadata": {
    "tags": [
     "remove_cell"
    ]
   },
   "outputs": [],
   "source": [
    "# Setting up the Colab environment. DO NOT EDIT!\n",
    "try:\n",
    "  from applied_biostats import setup_environment\n",
    "except ImportError:\n",
    "  !pip -q install applied-biostats-helper\n",
    "  from applied_biostats import setup_environment\n",
    "finally:\n",
    "  grader = setup_environment('Module07_walkthrough')"
   ]
  },
  {
   "cell_type": "markdown",
   "id": "6f2d7289",
   "metadata": {
    "tags": []
   },
   "source": [
    "# Walkthrough"
   ]
  },
  {
   "cell_type": "markdown",
   "id": "7873b55b",
   "metadata": {},
   "source": [
    "## Learning Objectives\n",
    "At the end of this learning activity you will be able to:\n",
    "\n",
    "* Practice summarize observations by sample using `groupby`.\n",
    "* Measure the uncertainty of the estimate of the mean.\n",
    "* Distinguish when to use parametric and non-parametric estimates of error.\n",
    "* Practice merging two dataframes."
   ]
  },
  {
   "cell_type": "markdown",
   "id": "74b3d341",
   "metadata": {
    "id": "59f3483e-0a2a-4217-8185-c5557dda482e"
   },
   "source": [
    "This week we will start looking at the imaging data we discussed with Dr. Gaskill.\n",
    "In this experiment, they used pH responsive beads that flouresce when in the low pH environment of the phagasome.\n",
    "With this technology, they exposed cells to different levels of dopamine and measured the uptake of these beads.\n",
    "They did this using a _high content_ imager which automates the process of scanning a plate, detecting cell boundaries, and _spots_ of flourescing beads."
   ]
  },
  {
   "cell_type": "markdown",
   "id": "b6395cc0",
   "metadata": {},
   "source": [
    "This imager returns a giant spreadsheet where each cell is a row and the columns are the cell area, bead count, and intensity.\n",
    "This dataset of a single 96-well plate has over **315,000 cells** measured across 60 samples of 20 conditions performed in triplicate."
   ]
  },
  {
   "cell_type": "markdown",
   "id": "c182fdec",
   "metadata": {},
   "source": [
    "---------------------------------------------"
   ]
  },
  {
   "cell_type": "code",
   "execution_count": null,
   "id": "30a92e0f",
   "metadata": {},
   "outputs": [],
   "source": [
    "import numpy as np\n",
    "import pandas as pd\n",
    "import matplotlib.pyplot as plt\n",
    "import seaborn as sns\n",
    "\n",
    "%matplotlib inline"
   ]
  },
  {
   "cell_type": "code",
   "execution_count": null,
   "id": "65a23a91",
   "metadata": {},
   "outputs": [],
   "source": [
    "cell_level_data = pd.read_csv('pHrodo_DMEM.csv')\n",
    "cell_level_data.head()"
   ]
  },
  {
   "cell_type": "markdown",
   "id": "52f571a2",
   "metadata": {},
   "source": [
    "## Sumarize by sample"
   ]
  },
  {
   "cell_type": "markdown",
   "id": "b7d3a000",
   "metadata": {},
   "source": [
    "### Q1: How many cells are in each well?"
   ]
  },
  {
   "cell_type": "code",
   "execution_count": null,
   "id": "11fadcaf",
   "metadata": {
    "tags": []
   },
   "outputs": [],
   "source": [
    "# Use `groupby` to count the number of cells per well\n",
    "\n",
    "cells_per_well = ...\n",
    "cells_per_well.describe()"
   ]
  },
  {
   "cell_type": "code",
   "execution_count": null,
   "id": "58ffe0dc",
   "metadata": {
    "deletable": false,
    "editable": false
   },
   "outputs": [],
   "source": [
    "grader.check(\"q1_cells_per_well\")"
   ]
  },
  {
   "cell_type": "code",
   "execution_count": null,
   "id": "8bca2955",
   "metadata": {},
   "outputs": [],
   "source": [
    "cells_per_well.plot(kind='box')"
   ]
  },
  {
   "cell_type": "markdown",
   "id": "5980f3a7",
   "metadata": {},
   "source": [
    "The count ranges from 257 to 794 with an average of 525 cells per well."
   ]
  },
  {
   "cell_type": "markdown",
   "id": "016f3b13",
   "metadata": {},
   "source": [
    "## Measuring phagocytosis"
   ]
  },
  {
   "cell_type": "markdown",
   "id": "a248d02e",
   "metadata": {},
   "source": [
    "Each cell can take up 0 or more pH beads.\n",
    "Our biological question is whether dopamine changes the amount of beads that are taken up by the cells."
   ]
  },
  {
   "cell_type": "code",
   "execution_count": null,
   "id": "2e4f2fbe",
   "metadata": {},
   "outputs": [],
   "source": [
    "sns.histplot(data = cell_level_data,\n",
    "             x = 'SpotCountCh2',\n",
    "             bins = np.arange(0, 100),\n",
    "             stat = 'percent')"
   ]
  },
  {
   "cell_type": "markdown",
   "id": "9413aed8",
   "metadata": {},
   "source": [
    "From our graph, we can see that most cells took up 0 beads and then about 10% took up 1, ~5% took up two, etc."
   ]
  },
  {
   "cell_type": "markdown",
   "id": "febe6fd4",
   "metadata": {},
   "source": [
    "We hypothesize that dopamine treatment will increase the average number of beads taken up by cells."
   ]
  },
  {
   "cell_type": "code",
   "execution_count": null,
   "id": "67e26850",
   "metadata": {},
   "outputs": [],
   "source": [
    "# Visually\n",
    "sns.barplot(data = cell_level_data,\n",
    "            y = 'Well',\n",
    "            x = 'SpotCountCh2')"
   ]
  },
  {
   "cell_type": "markdown",
   "id": "f49bc98f",
   "metadata": {},
   "source": [
    "The length of the bars indicates the average number of spots per cell while the black hashes indicate the 95% CI of that estimate."
   ]
  },
  {
   "cell_type": "code",
   "execution_count": null,
   "id": "bda7b01b",
   "metadata": {},
   "outputs": [],
   "source": [
    "# Numerically\n",
    "well_level_data = cell_level_data.groupby('Well')['SpotCountCh2'].agg(['mean', 'sem', 'count'])\n",
    "well_level_data.head()"
   ]
  },
  {
   "cell_type": "markdown",
   "id": "3308ede7",
   "metadata": {},
   "source": [
    "## Decoding samples"
   ]
  },
  {
   "cell_type": "markdown",
   "id": "88a3af94",
   "metadata": {},
   "source": [
    "Up to now we've been treating all of our without knowing which treatment they came from.\n",
    "Now that we've collapsed our data to a single representative number for each sample, we can merge with our plate map."
   ]
  },
  {
   "cell_type": "code",
   "execution_count": null,
   "id": "e57e9621",
   "metadata": {},
   "outputs": [],
   "source": [
    "# Load in plate map\n",
    "plate_map = pd.read_csv('plate_map.csv')\n",
    "\n",
    "# Treat concentration as a category instead of a number\n",
    "plate_map['pHrodo_conc_ug'] = pd.Categorical(plate_map['pHrodo_conc_ug'])\n",
    "\n",
    "plate_map.head()"
   ]
  },
  {
   "cell_type": "markdown",
   "id": "703f0e54",
   "metadata": {},
   "source": [
    "This function helps visualize how the plate is layed out."
   ]
  },
  {
   "cell_type": "code",
   "execution_count": null,
   "id": "d6c7ebd1",
   "metadata": {},
   "outputs": [],
   "source": [
    "def fancy_pivot(df):\n",
    "    import re\n",
    "    # Extract row letters and column numbers from the 'well' column\n",
    "    df['row'] = df['well'].apply(lambda x: re.match(r'([A-H])', x).group(1))\n",
    "    df['col'] = df['well'].apply(lambda x: int(re.match(r'[A-H]([0-9]{1,2})', x).group(1)))\n",
    "\n",
    "    # Concatenate all other columns as 'V1-V2-V3' format\n",
    "    value_columns = [col for col in df.columns if col not in ['well', 'row', 'col']]\n",
    "    df['values'] = df[value_columns].astype(str).agg('-'.join, axis=1)\n",
    "\n",
    "    # Create pivot table with aggfunc as 'first'\n",
    "    pivot_table = df.pivot_table(index='row', columns='col', values='values', aggfunc='first')\n",
    "\n",
    "    return pivot_table\n",
    "\n",
    "\n",
    "fancy_pivot(plate_map)"
   ]
  },
  {
   "cell_type": "markdown",
   "id": "c5b430d4",
   "metadata": {},
   "source": [
    "Merge the plate map with the well level aggregates."
   ]
  },
  {
   "cell_type": "code",
   "execution_count": null,
   "id": "468e332d",
   "metadata": {},
   "outputs": [],
   "source": [
    "sample_level_data = pd.merge(plate_map, well_level_data,\n",
    "                             left_on = 'well', right_index = True)\n",
    "sample_level_data.head()"
   ]
  },
  {
   "cell_type": "markdown",
   "id": "c1c6dd9d",
   "metadata": {},
   "source": [
    "Now we can visualize the well level aggregates by the treatment condition."
   ]
  },
  {
   "cell_type": "code",
   "execution_count": null,
   "id": "9dd8a080",
   "metadata": {},
   "outputs": [],
   "source": [
    "ax = sns.barplot(data = sample_level_data,\n",
    "            hue = 'pHrodo_conc_ug',\n",
    "            x = 'DA_Tx',\n",
    "            y = 'mean', errorbar=('se', 2), alpha=0.5)\n",
    "\n",
    "sns.stripplot(data = sample_level_data,\n",
    "            hue = 'pHrodo_conc_ug',\n",
    "            x = 'DA_Tx',\n",
    "            y = 'mean', dodge=True, legend=False, ax=ax)\n",
    "\n",
    "ax.set_ylabel('mean(bead count)')"
   ]
  },
  {
   "cell_type": "markdown",
   "id": "21a329be",
   "metadata": {},
   "source": [
    "### Q2: Describe the graph\n",
    "\n",
    "_Points:_ 5"
   ]
  },
  {
   "cell_type": "markdown",
   "id": "fc69c716",
   "metadata": {},
   "source": [
    "_Type your answer here, replacing this text._"
   ]
  },
  {
   "cell_type": "code",
   "execution_count": null,
   "id": "7ffa2a4a",
   "metadata": {
    "tags": []
   },
   "outputs": [],
   "source": [
    "# Which experimental condition (pHrodo_conc_ug) had less noise in the measurement?\n",
    "# Answer 5.0 or 7.5\n",
    "q2a = ...\n"
   ]
  },
  {
   "cell_type": "code",
   "execution_count": null,
   "id": "6201dc9f",
   "metadata": {
    "tags": []
   },
   "outputs": [],
   "source": [
    "# Does this graph show evidence that dopamine increases the amount of beads phagocytosed?\n",
    "# Anwser 'yes' or 'no'\n",
    "q2b = ...\n"
   ]
  },
  {
   "cell_type": "code",
   "execution_count": null,
   "id": "4336ad51",
   "metadata": {
    "deletable": false,
    "editable": false
   },
   "outputs": [],
   "source": [
    "grader.check(\"q2_graph\")"
   ]
  },
  {
   "cell_type": "markdown",
   "id": "0b4708d5",
   "metadata": {},
   "source": [
    "In the next few weeks well cover strategies to quantify our hypothesis using techniques like ANOVAs and multiple regression."
   ]
  },
  {
   "cell_type": "markdown",
   "id": "2d5fe806",
   "metadata": {},
   "source": [
    "---------------------------------------------"
   ]
  },
  {
   "cell_type": "markdown",
   "id": "34be07e1",
   "metadata": {
    "tags": [
     "remove_cell"
    ]
   },
   "source": [
    "## Submission\n",
    "\n",
    "You do not need to submit this walkthrough notebook.\n",
    "Simply complete the quiz."
   ]
  }
 ],
 "metadata": {
  "kernelspec": {
   "display_name": "Python 3 (ipykernel)",
   "language": "python",
   "name": "python3"
  },
  "language_info": {
   "codemirror_mode": {
    "name": "ipython",
    "version": 3
   },
   "file_extension": ".py",
   "mimetype": "text/x-python",
   "name": "python",
   "nbconvert_exporter": "python",
   "pygments_lexer": "ipython3",
   "version": "3.9.13"
  },
  "otter": {
   "assignment_name": "Module07_walkthrough"
  }
 },
 "nbformat": 4,
 "nbformat_minor": 5
}
