{
 "cells": [
  {
   "cell_type": "markdown",
   "id": "16d72ece",
   "metadata": {},
   "source": [
    "# Walkthrough"
   ]
  },
  {
   "cell_type": "markdown",
   "id": "0928b8ba",
   "metadata": {},
   "source": [
    "## Introduction"
   ]
  },
  {
   "cell_type": "markdown",
   "id": "69603447",
   "metadata": {},
   "source": [
    "After completing this learning activity, you will be able to:\n",
    " 1. Launch Google Colab\n",
    " 2. Create text using Markdown.\n",
    " 3. Execute code cells.\n",
    " 4. Check your answers with the `Otter` grading system.\n",
    " 5. Submit assignments to BBLearn."
   ]
  },
  {
   "cell_type": "markdown",
   "id": "44088932",
   "metadata": {},
   "source": [
    "## Why Python"
   ]
  },
  {
   "cell_type": "markdown",
   "id": "1f001357",
   "metadata": {},
   "source": [
    "Throughout this course we will find cover many biological questions.\n",
    "Each of them we will frame as statistical visualizations that capture the biology question.\n",
    "Then we will rigorously validate them through statistical methods.\n",
    "\n",
    "These tasks can be accomplished by hand, spreadsheet software like Excel, or statistical software like PRISM.\n",
    "However, as biological datasets get larger and the questions get more complex, these tools become difficult and unwieldy.\n",
    "Python, on the other hand, is a generic programming language that is used to create _anything_.\n",
    "\n",
    "The recent explosion of research using Python for the biological and data science fields have spawned dozens of freely available software packages that allow you to take full advantage of the newest way to do things. Learning how to \"program\" will allow you to stay abreast of emerging techniques and technologies."
   ]
  },
  {
   "cell_type": "markdown",
   "id": "5e0ba2e0",
   "metadata": {},
   "source": [
    "## Why Google Colab"
   ]
  },
  {
   "cell_type": "markdown",
   "id": "ea8cb276",
   "metadata": {},
   "source": [
    "I've been teaching \"coding\" in some form or another since 2007. There's one critical hurdle _everyone_ faces (including young me); I call it the **Step 0 Hurdle**. \n",
    "\n",
    "__How do you get Python installed?__\n",
    "\n",
    "Before you can even start learning, you need to have it. This used to be an arduous process that would take a skilled system administrator most of a day to do.\n",
    "There has been excellent progress on fixing these issues [footnote-link-to-anaconda-setup-instructions].\n",
    "Then there is the trouble of installing all of the tools we'll be using in the course.\n",
    "This hurdle is not insurmountable, by week 4 of this class all of you could do it, but it poses an incredible initial difficulty when you are not familiar with the concepts or decisions required by the installation process.\n",
    "\n",
    "Goolge Colab, on the other hand, is a free and browser based interface based off the Jupyter Notebook [footnote-link-to-jupyterlab-anaconda-instructions].\n",
    "The system comes \"batteries included\" with a large collection of tools for data science, visualization, statistics, and biology already installed.\n",
    "By using this system, we will all have the same _environment_ thereby bypassing these initial stumbling blocks."
   ]
  },
  {
   "cell_type": "markdown",
   "id": "4c410b8b-04cd-4dfa-bc39-6fe1c73df7f7",
   "metadata": {},
   "source": [
    "## Coding expectations"
   ]
  },
  {
   "cell_type": "markdown",
   "id": "d6c8ba0b-38cc-40c7-84e2-2aeafce5dd0d",
   "metadata": {},
   "source": [
    "This is not a programming course, this is a statistics course.\n",
    "We will not cover topics like conditionals, loops, classes, or any complex algorithms or data structures.\n",
    "Anything that requires these concepts will already be included in the skeleton.\n",
    "\n",
    "Instead, we will use a small collection of tools that abstract away the complexity of the analysis and provide a simple interface.\n",
    "Coming into the course I do not expect _any_ previous coding experience.\n",
    "This course will teach you all of the Python syntax that you need and provide multiple examples.\n",
    "\n",
    "I've taught hundreds of people basic data analysis.\n",
    "I can teach you too."
   ]
  },
  {
   "cell_type": "markdown",
   "id": "eb8c7809",
   "metadata": {},
   "source": [
    "## Quick introduction on cells and blocks"
   ]
  },
  {
   "cell_type": "markdown",
   "id": "8474160b",
   "metadata": {},
   "source": [
    "A notebook is comprised of a series of `cells`. \n",
    "\n",
    "We'll use two basic flavors:\n",
    " - Markdown\n",
    " - Code\n",
    "\n",
    "Cell types can be changed using the dropdown menu at the top."
   ]
  },
  {
   "cell_type": "markdown",
   "id": "2bc0cf53",
   "metadata": {},
   "source": [
    "### Markdown"
   ]
  },
  {
   "cell_type": "markdown",
   "id": "cb24b014",
   "metadata": {},
   "source": [
    "Statistical analysis isn't all about math, code, and figures. Text is just as important. Jupyter/Colab use a plain-text syntax called [`Markdown`](https://www.markdownguide.org/basic-syntax/).\n",
    "\n",
    "Here are some brief examples:\n",
    "\n",
    "\\*\\*Bold text\\*\\* --> **Bold text**\n",
    "\n",
    "\\*Italicized text\\* --> *Italicized text*\n",
    "\n",
    "\\*\\*\\*Bold & italicized text\\*\\*\\* --> ***Bold & Italicized text***\n",
    "\n",
    "\\`\\`\\`coding block\\`\\`\\` --> ```coding block```\n",
    "\n",
    "\\[A hyperlink\\]\\(https://www.google.com/) --> [A hyperlink](https://www.google.com/)\n"
   ]
  },
  {
   "cell_type": "markdown",
   "id": "2e91b490",
   "metadata": {},
   "source": [
    "---\n",
    "Some of these modifications can be found at the top-left hand corner of the text block. A complete list of Markdown syntax can be found [here](https://www.markdownguide.org/basic-syntax/). \n",
    "\n",
    "Markdown can also be used to create tables and lists. For example, by typing in the below text:\n",
    "```markdown\n",
    "|Some|Table|\n",
    "|---|---|\n",
    "|X|Y|\n",
    "|Z|A|\n",
    "```\n",
    "Creates the following table:\n",
    "\n",
    "|Some|Table|\n",
    "|---|---|\n",
    "| X | Y |\n",
    "| Z | A |\n",
    "\n",
    "\n",
    "Typing out this text:\n",
    "```markdown\n",
    "1. A\n",
    "2. Numbered\n",
    "3. List\n",
    "  * Bulleted\n",
    "  * Sublist\n",
    "```\n",
    "creates the following list:\n",
    "\n",
    "1. A \n",
    "2. Numbered\n",
    "3. List\n",
    "  * Bulleted\n",
    "  * Sublist\n",
    "\n",
    "A bulleted list can be created by typing in \\* instead of numbers.\n",
    "\n",
    "\n",
    "Edit the next cell (by double clicking) to include your name."
   ]
  },
  {
   "cell_type": "markdown",
   "id": "06585b7d",
   "metadata": {},
   "source": [
    "### Try me\n",
    "\n",
    "*Put your name here:* "
   ]
  },
  {
   "cell_type": "markdown",
   "id": "8ad83863",
   "metadata": {},
   "source": [
    "Click on the next cell and hit `shift+return` to execute it."
   ]
  },
  {
   "cell_type": "code",
   "execution_count": 1,
   "id": "61b45c7d",
   "metadata": {},
   "outputs": [
    {
     "name": "stdout",
     "output_type": "stream",
     "text": [
      "Hello World\n"
     ]
    }
   ],
   "source": [
    "print('Hello World')"
   ]
  },
  {
   "cell_type": "markdown",
   "id": "80370d05",
   "metadata": {},
   "source": [
    "A Notebook's true power come from the fact that it is an easy interface to interact with a Python _kernel_. We do this through `code` cells.\n",
    "\n",
    "The Inferential Thinking Textbook summarized programming perfectly.\n",
    "\n",
    "```\n",
    "In data science, the purpose of writing a program is to instruct a computer to carry out the steps of an analysis. Computers cannot study the world on their own. People must describe precisely what steps the computer should take in order to collect and analyze data, and those steps are expressed through programs.\n",
    "```\n",
    "https://inferentialthinking.com/chapters/03/programming-in-python.html\n",
    "\n",
    "Code cells allow us to provide these programs to the computer.\n",
    "\n",
    "Click on the next cell and hit `shift+return` to execute it."
   ]
  },
  {
   "cell_type": "markdown",
   "id": "c9a935ab",
   "metadata": {},
   "source": [
    "This `expression` printed the phrase \"Hello world\" to the output, which Jupyter/Colab then put underneath the cell. Try executing the next one. Also, notice that the number next to the cell changed. This is the `execution count` and tells you how many times ANY cell has been run."
   ]
  },
  {
   "cell_type": "code",
   "execution_count": 2,
   "id": "bfe39447",
   "metadata": {},
   "outputs": [
    {
     "data": {
      "text/plain": [
       "9"
      ]
     },
     "execution_count": 2,
     "metadata": {},
     "output_type": "execute_result"
    }
   ],
   "source": [
    "5+4"
   ]
  },
  {
   "cell_type": "markdown",
   "id": "52d4cd08-5ba0-4808-908b-a154c4173d1a",
   "metadata": {},
   "source": [
    "Notice, the result of the last line is printed to the screen.\n",
    "This is a particular feature of Jupyter Notebooks.\n",
    "\n",
    "If you need to see multiple results"
   ]
  },
  {
   "cell_type": "code",
   "execution_count": 3,
   "id": "56bc87b9-951a-4b24-8872-7846cccfb119",
   "metadata": {},
   "outputs": [
    {
     "name": "stdout",
     "output_type": "stream",
     "text": [
      "first 9 second 13\n"
     ]
    }
   ],
   "source": [
    "print('first', 5+4, 'second', 12+1)"
   ]
  },
  {
   "cell_type": "markdown",
   "id": "70fe0a7a",
   "metadata": {},
   "source": [
    "We can also use things called `variable`s to hold numbers (and other things) for use later. Try executing the next one."
   ]
  },
  {
   "cell_type": "code",
   "execution_count": 4,
   "id": "3dd7a077",
   "metadata": {},
   "outputs": [],
   "source": [
    "height = 1.9 # meters\n",
    "weight = 86 # kg\n",
    "\n",
    "bmi = weight/height**2"
   ]
  },
  {
   "cell_type": "markdown",
   "id": "31805620",
   "metadata": {
    "tags": []
   },
   "source": [
    "Notice how it didn't output anything? That was because the last line didn't output anything. Instead it saved the value into the variable `bmi`. Type `bmi` into the next cell to see the answer."
   ]
  },
  {
   "cell_type": "code",
   "execution_count": 5,
   "id": "7ef36b21",
   "metadata": {},
   "outputs": [
    {
     "name": "stdout",
     "output_type": "stream",
     "text": [
      "BMI: 23.822714681440445\n"
     ]
    }
   ],
   "source": [
    "print('BMI:', bmi)"
   ]
  },
  {
   "cell_type": "markdown",
   "id": "5159bc9c",
   "metadata": {},
   "source": [
    "The nice thing about notebooks is their interactive nature. Go back and change the `height` and `weight` variables, execute __both__ cells, and see how the result changes."
   ]
  },
  {
   "cell_type": "markdown",
   "id": "42d0e8c6",
   "metadata": {},
   "source": [
    "## Otter Grader"
   ]
  },
  {
   "cell_type": "markdown",
   "id": "30beec36",
   "metadata": {},
   "source": [
    "In order to rigorously grade the assignments, this course uses the [Otter Grader](https://otter-grader.readthedocs.io/en/latest/otter_check/index.html).\n",
    "This is a tool developed by educators at [UC Berkley](http://data8.org/).\n",
    "It works by providing a tool, the `grader`, which I preload with checks for each question.\n",
    "This will help ensure that you are moving through the code correctly.\n",
    "I'll also use it to give suggestions for common mistakes.\n",
    "\n",
    "First, we need to do some _initializing_, these cells would normally be the first in the notebook. I've moved them down here to better describe them.\n",
    "\n",
    "This first cell unzips the file that you downloaded from BBLearn. And then installs the otter-grader tool. You only need to run this once, but it should be graceful if you do it twice."
   ]
  },
  {
   "cell_type": "code",
   "execution_count": 6,
   "id": "dfd9c3d1",
   "metadata": {},
   "outputs": [],
   "source": [
    "# Setting up the Colab environment. DO NOT EDIT!\n",
    "try:\n",
    "  from applied_biostats import setup_environment\n",
    "except ImportError:\n",
    "  !pip -q install applied-biostats-helper\n",
    "  from applied_biostats import setup_environment\n",
    "finally:\n",
    "  grader = setup_environment('Module01_walkthrough')"
   ]
  },
  {
   "cell_type": "markdown",
   "id": "3d17acdf",
   "metadata": {},
   "source": [
    "Now that we have the grader loaded. Let's take it for a spin with a simple problem."
   ]
  },
  {
   "cell_type": "markdown",
   "id": "fcdd151f",
   "metadata": {},
   "source": [
    "### Calculate a aerobic target heart rate?\n",
    "\n",
    "Consider a generally healthy 34 year old woman is looking to exercise in her ideal target heart rate.\n",
    "Per the [Mayo Clinic](https://www.mayoclinic.org/healthy-lifestyle/fitness/in-depth/exercise-intensity/art-20046887)\n",
    "\n",
    "**How to determine your target heart rate zone**\n",
    "Use an online calculator to determine your desired target heart rate zone.\n",
    "Or, here's a simple way to do the math yourself.\n",
    "If you're aiming for a target heart rate in the vigorous range of 70% to 85%, you can use the heart rate reserve (HRR) method to calculate it like this:\n",
    "\n",
    "Subtract your age from 220 to get your maximum heart rate.\n",
    "Calculate your resting heart rate by counting how many times your heart beats per minute when you are at rest, such as first thing in the morning.\n",
    "It's usually somewhere between 60 and 100 beats per minute for the average adult.\n",
    " - Calculate your heart rate reserve (HRR) by subtracting your resting heart rate from your maximum heart rate.\n",
    " - Multiply your HRR by 0.7 (70%). Add your resting heart rate to this number.\n",
    " - Multiply your HRR by 0.85 (85%). Add your resting heart rate to this number.\n",
    " - These two numbers are your average target heart rate zone for vigorous exercise intensity when using the HRR to calculate your heart rate. Your heart rate during vigorous exercise should generally be between these two numbers.\n",
    "\n",
    "Our subject estimates her resting heart rate at 60 bp."
   ]
  },
  {
   "cell_type": "markdown",
   "id": "9382b634",
   "metadata": {},
   "source": [
    "### Q1: Using the information above, calculate the subject's heart rate reserve.\n",
    "\n",
    "You can see that your solution should finish the expression:\n",
    "\n",
    "```\n",
    "heart_rate_reserve = ...\n",
    "```\n",
    "\n",
    "You can take as many lines as you need to solve the problem (and in the future, there will be many lines needed).\n",
    "That being said, the answer __MUST__ be in the variable `heart_rate_reserve` for it to count.\n",
    "The _checks_ will help to ensure not only that you've saved it right, but it is the right `type`."
   ]
  },
  {
   "cell_type": "markdown",
   "id": "adbaf502-f32f-43ae-8cdd-d408e3e98f96",
   "metadata": {
    "tags": [
     "remove_cell"
    ]
   },
   "source": [
    "|               |    |\n",
    "| --------------|----|\n",
    "| Points        | 2  |\n",
    "| Public Checks | 3  |\n",
    "| Hidden Tests  | 0  |"
   ]
  },
  {
   "cell_type": "code",
   "execution_count": 7,
   "id": "2f63a0bf",
   "metadata": {
    "tags": [
     "otter_assign_solution_cell"
    ]
   },
   "outputs": [],
   "source": [
    "resting_heart_rate = 60\n",
    "age = 34\n",
    "\n",
    "heart_rate_reserve = 220 - age - resting_heart_rate # SOLUTION"
   ]
  },
  {
   "cell_type": "code",
   "execution_count": null,
   "id": "2ba7f85c",
   "metadata": {
    "deletable": false,
    "editable": false
   },
   "outputs": [],
   "source": [
    "grader.check(\"q1_resting_rate\")"
   ]
  },
  {
   "cell_type": "markdown",
   "id": "c067a4d0",
   "metadata": {},
   "source": [
    "### Q2: Using the information above, calculate the upper limit of the subject's target heart rate zone.\n"
   ]
  },
  {
   "cell_type": "markdown",
   "id": "8cc29f26-0194-4482-a2b0-88766d9c5253",
   "metadata": {
    "tags": [
     "remove_cell"
    ]
   },
   "source": [
    "|               |    |\n",
    "| --------------|----|\n",
    "| Points        | 2  |\n",
    "| Public Checks | 3  |\n",
    "| Hidden Tests  | 0  |"
   ]
  },
  {
   "cell_type": "code",
   "execution_count": 11,
   "id": "a75aadff",
   "metadata": {
    "tags": [
     "otter_assign_solution_cell"
    ]
   },
   "outputs": [],
   "source": [
    "upper_target_zone = heart_rate_reserve*0.85 + resting_heart_rate # SOLUTION"
   ]
  },
  {
   "cell_type": "code",
   "execution_count": null,
   "id": "c4751d04",
   "metadata": {
    "deletable": false,
    "editable": false
   },
   "outputs": [],
   "source": [
    "grader.check(\"q2_upper_limit\")"
   ]
  },
  {
   "cell_type": "markdown",
   "id": "6d508c5b",
   "metadata": {},
   "source": [
    "## Submissions"
   ]
  },
  {
   "cell_type": "markdown",
   "id": "308bd90e",
   "metadata": {},
   "source": [
    "Lastly, how do you submit your assignment?\n",
    "\n",
    "At the very end of all assignments. There will be a `check_all` function. Use a `Restart & Run All` to validate that your code still works (we'll talk more about this in the future), Then, use the `File` -> `Download` -> `Download .ipynb`. That file, is your notebook. You can open it up in something like Notepad (not Word) and you'll see your code, plus some extra formatting.\n",
    "\n",
    "This `.ipynb` file is what you'll upload to BBLearn."
   ]
  },
  {
   "cell_type": "code",
   "execution_count": 15,
   "id": "02e99386",
   "metadata": {
    "tags": [
     "remove_cell"
    ]
   },
   "outputs": [
    {
     "data": {
      "text/plain": []
     },
     "execution_count": 15,
     "metadata": {},
     "output_type": "execute_result"
    }
   ],
   "source": [
    "grader.check_all()"
   ]
  }
 ],
 "metadata": {
  "kernelspec": {
   "display_name": "Python 3 (ipykernel)",
   "language": "python",
   "name": "python3"
  },
  "language_info": {
   "codemirror_mode": {
    "name": "ipython",
    "version": 3
   },
   "file_extension": ".py",
   "mimetype": "text/x-python",
   "name": "python",
   "nbconvert_exporter": "python",
   "pygments_lexer": "ipython3",
   "version": "3.9.13"
  },
  "otter": {
   "assignment_name": "Module01_walkthrough"
  },
  "toc-autonumbering": true,
  "toc-showcode": true,
  "toc-showmarkdowntxt": false,
  "toc-showtags": false
 },
 "nbformat": 4,
 "nbformat_minor": 5
}
