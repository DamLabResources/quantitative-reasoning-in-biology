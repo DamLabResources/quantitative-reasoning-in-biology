{
 "cells": [
  {
   "cell_type": "code",
   "execution_count": null,
   "id": "e7c939ce",
   "metadata": {
    "tags": [
     "remove_cell"
    ]
   },
   "outputs": [],
   "source": [
    "# Setting up the Colab environment. DO NOT EDIT!\n",
    "try:\n",
    "  from applied_biostats import setup_environment\n",
    "except ImportError:\n",
    "  !pip -q install applied-biostats-helper\n",
    "  from applied_biostats import setup_environment\n",
    "finally:\n",
    "  grader = setup_environment('Module10_walkthrough')"
   ]
  },
  {
   "cell_type": "markdown",
   "id": "283f34f0",
   "metadata": {},
   "source": [
    "# Walkthrough"
   ]
  },
  {
   "cell_type": "markdown",
   "id": "5ea7443b",
   "metadata": {},
   "source": [
    "## Learning Objectives\n",
    "At the end of this learning activity you will be able to:\n",
    " - Describe a generic strategy for power calculations.\n",
    " - Define the terms `effect_size`, `alpha`, and `power`.\n",
    " - Describe the trade-off of `effect_size`, `alpha`, `power`, and `sample_size`.\n",
    " - Calculate the fourth value given the other three.\n",
    " - Interpret a power-plot of multiple experimental choices.\n",
    " - Rigorously choose the appropriate experimental design for the best chance of success."
   ]
  },
  {
   "cell_type": "markdown",
   "id": "4c59b79f",
   "metadata": {},
   "source": [
    "For this last week, we are going to look at experimental design.\n",
    "In particular, sample size calculations."
   ]
  },
  {
   "cell_type": "markdown",
   "id": "6e3f6830",
   "metadata": {},
   "source": [
    "As a test-case we will imagine that we are helping Dr. Kortagere evaluate a new formulation of her SK609 compound.\n",
    "It is a selective dopamine receptor activator that has been shown to improve attention in animal models.\n",
    "You can review her paper [**Selective activation of Dopamine D3 receptors and Norepinephrine Transporter blockade enhance sustained attention**](https://www.ncbi.nlm.nih.gov/pmc/articles/PMC6424628/)\n",
    "on pubmed.\n",
    "We'll be reviewing snippets through the assignment.\n",
    "\n",
    "As part of this new testing we will have to evaluate her new formulation in the same animal model.\n",
    "In this assignment we are going to determine an appropriate sample size.\n",
    "\n"
   ]
  },
  {
   "cell_type": "markdown",
   "id": "3081773a",
   "metadata": {},
   "source": [
    "## A Power Analysis in 6 steps\n",
    "\n",
    "As the \"biostats guy\" most people know, I'm often the first person someone comes to looking for this answer.\n",
    "So, over the years I've developed a bit of a script.\n",
    "It is part art, part math, and relies on domain knowledge and assumptions."
   ]
  },
  {
   "cell_type": "markdown",
   "id": "63ae2265",
   "metadata": {},
   "source": [
    "Before you can determine a sample size you need to devise a *specific*, **quantitative**, and **TESTABLE** hypothesis.\n",
    "Over the past few weeks we've covered the main ones:\n",
    " - Linked categories - chi2 test\n",
    " - Difference in means - t-test\n",
    " - Regression-based analysis\n",
    "\n",
    "With enough Googling you can find a calculator for almost any type of test, and simulation strategies can be used to estimate weird or complex tests if needed."
   ]
  },
  {
   "cell_type": "markdown",
   "id": "8ef9790b",
   "metadata": {},
   "source": [
    "During the signal trials, animals were trained to press a lever in response to a stimulus, which was a cue light. During the non-signal trials, the animals were trained to press the opposite lever in the absence of a cue light. [Methods]\n",
    "Over a 45 minute attention assay cued at psueodorandom times, their success in this task was quantified as a Vigilance Index (VI), with larger numbers indicating improved attention.\n",
    "\n",
    "Figure 1 shows the design."
   ]
  },
  {
   "cell_type": "markdown",
   "id": "0d3ed435",
   "metadata": {},
   "source": [
    "![Figure 1](https://cdn.ncbi.nlm.nih.gov/pmc/blobs/7ad9/6424628/c5af74734da6/nihms-1006809-f0001.jpg)"
   ]
  },
  {
   "cell_type": "markdown",
   "id": "b9115d8f",
   "metadata": {},
   "source": [
    "Our hypothesis is that this new formulation increases the vigilance index relative to vehicle treated animals."
   ]
  },
  {
   "cell_type": "markdown",
   "id": "35d45939",
   "metadata": {},
   "source": [
    "## Step 2: Define success\n",
    "\n",
    "Next, we need to find the `effect_size`.\n",
    "Different tests calculate this differently, but it always means the same thing: \n",
    "**the degree of change divided by the noise in the measurement.**\n",
    "\n",
    "These are things that rely on domain knowledge of the problem.\n",
    "The amount of change should be as close to something that is clinically meaningful.\n",
    "The amount of noise in the measurement is defined by your problem and your experimental setup.\n",
    "\n",
    "If you have access to raw data, it is ideal to calculate the difference in means and the standard deviations exactly.\n",
    "But often, you don't have that data.\n",
    "For this exercise I'll teach you how to find and estimate it."
   ]
  },
  {
   "cell_type": "markdown",
   "id": "a22c1d05",
   "metadata": {},
   "source": [
    "In this simple example, we'll imagine replicating the analysis considered in [Figure 3B](https://www.ncbi.nlm.nih.gov/pmc/articles/PMC6424628/figure/F3/).\n",
    "\n",
    "![Figure 3](https://cdn.ncbi.nlm.nih.gov/pmc/blobs/7ad9/6424628/98810d3bec35/nihms-1006809-f0003.jpg)\n",
    "\n",
    "We'll start with B. This compares the effect of SK609 VI vs a vehicle control. Parsing through the figure caption we come to:"
   ]
  },
  {
   "cell_type": "markdown",
   "id": "c3bf2ee7",
   "metadata": {},
   "source": [
    "```\n",
    "(B) Paired t-test indicated that 4 mg/kg SK609 significantly increased sustained attention performance as measured by average VI score relative to vehicle treatment (t(7)=3.1, p = 0.017; 95% CI[0.14, 0.19]).\n",
    "```"
   ]
  },
  {
   "cell_type": "markdown",
   "id": "71abc00a",
   "metadata": {},
   "source": [
    "This was a *paired* t-test, since it is measuring the difference between vehicle and SK609 in the same animal. The p=0.017 tells use this difference is unlikely due to chance and the CI tells us that the difference in VI between control and SK609 is between 0.14 and 0.19.\n",
    "\n",
    "If we're testing a new formulation of SK609 we know we need to be able to detect a difference as low as 0.14. We should get a VI of ~0.8 for control and ~0.95 for SK609. If the difference is smaller than this, it probably isn't worth the switch."
   ]
  },
  {
   "cell_type": "markdown",
   "id": "4b65c5de",
   "metadata": {},
   "source": [
    "Therefore we'll define success as:\n",
    "```\n",
    "SK609a will increase the VI of an animal by at least 0.14 units. \n",
    "```"
   ]
  },
  {
   "cell_type": "code",
   "execution_count": null,
   "id": "308410ec",
   "metadata": {
    "tags": []
   },
   "outputs": [],
   "source": [
    "min_change = 0.14"
   ]
  },
  {
   "cell_type": "markdown",
   "id": "dafec0c7",
   "metadata": {},
   "source": [
    "Then we need an estimate of the error in the measurement.\n",
    "In an ideal world, we would calculate the standard deviation.\n",
    "But I don't have that. \n",
    "So, I'll make an assumption that we'll adjust as we go.\n",
    "\n",
    "I like to consider two pieces of evidence when I need to guess like this.\n",
    "First, looking at the figure above, the error bars. \n",
    "From my vision they look to be about ~0.02-0.04 units.\n",
    "Or, if we considered a ~20% measurement error 0.8 x 0.2 = 0.16.\n",
    "So, an estimate of 0.08 error would seem *reasonable*."
   ]
  },
  {
   "cell_type": "code",
   "execution_count": null,
   "id": "c7bfba9b",
   "metadata": {
    "tags": []
   },
   "outputs": [],
   "source": [
    "error = 0.08"
   ]
  },
  {
   "cell_type": "markdown",
   "id": "9c9ad501",
   "metadata": {},
   "source": [
    "Our estimate of the `effect_size` is the ratio of the change and the error."
   ]
  },
  {
   "cell_type": "code",
   "execution_count": null,
   "id": "dee89a27",
   "metadata": {
    "tags": []
   },
   "outputs": [],
   "source": [
    "effect_size = min_change/error\n",
    "print('Effect Size', effect_size)"
   ]
  },
  {
   "cell_type": "markdown",
   "id": "58497bde",
   "metadata": {},
   "source": [
    "You'll notice that the `effect_size` is unit-less and similar to a z-scale."
   ]
  },
  {
   "cell_type": "markdown",
   "id": "4089629e",
   "metadata": {},
   "source": [
    "## Step 3: Define your tolerance for risk\n",
    "\n",
    "When doing an experiment we consider two types of failures.\n",
    " - False Positives - Detecting a difference when there truly isn't one - `alpha` \n",
    " - False Negatives - Not detecting a true difference - `power`\n",
    " \n",
    "We've been mostly considering rejecting false-positives (p<0.05).\n",
    "The power of a test is the converse.\n",
    "It is the likelihood of detecting a difference if there truly is one.\n",
    "A traditional cutoff is `>0.8`; implying there is an 80% chance of detecting an effect if there truly is one."
   ]
  },
  {
   "cell_type": "markdown",
   "id": "daa29f9b",
   "metadata": {},
   "source": [
    "## Step 4: Define a budget\n",
    "\n",
    "You need to have _some_ idea on the scale and cost of the proposed experiment.\n",
    "How much for 2 samples, 20 samples, 50 samples, 200 samples.\n",
    "\n",
    "This will be an exercise in trade-offs you need to have reasonable estimates of how much you are trading off.\n",
    "This is where you should also consider things like sample dropouts. outlier rates, and other considerations."
   ]
  },
  {
   "cell_type": "code",
   "execution_count": null,
   "id": "aaae2d7e",
   "metadata": {
    "tags": []
   },
   "outputs": [],
   "source": [
    "# In each group\n",
    "exp_nobs = [2, 4, 8, 10]"
   ]
  },
  {
   "cell_type": "markdown",
   "id": "0340ad37",
   "metadata": {},
   "source": [
    "## Step 5: Calculate\n",
    "\n",
    "With our 4 pieces of information:\n",
    " - effect_size\n",
    " - power\n",
    " - alpha\n",
    " - nobs\n",
    " \n",
    "We can start calculating. \n",
    "A power analysis is like a balancing an __X__ with 4 different weights at each point.\n",
    "At any time, 3 of the weights are fixed and we can use a calculator to determine the appropriate weight of the fourth.\n",
    "\n",
    "Our goal is to estimate the cost and likely success of a range of different experiment choices.\n",
    "Considering that we have made a _lot_ of assumptions and so we should consider noise in our estimate."
   ]
  },
  {
   "cell_type": "markdown",
   "id": "d5c6e96e",
   "metadata": {},
   "source": [
    "Each type of test has a different calculator that can perform this 4-way balance.\n",
    "\n",
    "We'll use the `pingouin` Python library to do this (https://pingouin-stats.org/build/html/api.html#power-analysis).\n",
    "However, a simple Google search for: \"statistical power calculator\" will also find similar online tools for quick checks.\n",
    "Try to look for one that \"draws\" as well as calculates."
   ]
  },
  {
   "cell_type": "code",
   "execution_count": null,
   "id": "f4df0bae",
   "metadata": {
    "tags": []
   },
   "outputs": [],
   "source": [
    "import numpy as np\n",
    "import seaborn as sns\n",
    "import pingouin as pg\n",
    "import matplotlib.pyplot as plt"
   ]
  },
  {
   "cell_type": "markdown",
   "id": "f9342c3d",
   "metadata": {},
   "source": [
    "All Python power calculators I've seen work the same way.\n",
    "They accept 4 parameters, one of which, must be `None`.\n",
    "The tool will then use the other 3 parameters to estimate the 4th."
   ]
  },
  {
   "cell_type": "code",
   "execution_count": null,
   "id": "1a92e115",
   "metadata": {
    "tags": []
   },
   "outputs": [],
   "source": [
    "min_change = 0.14\n",
    "error = 0.08\n",
    "\n",
    "effect_size = min_change/error\n",
    "\n",
    "power = 0.8\n",
    "alpha = 0.05\n",
    "\n",
    "pg.power_ttest(d = effect_size,\n",
    "               n = None,\n",
    "               power = power,\n",
    "               alpha = alpha,\n",
    "               contrast = 'paired',\n",
    "               alternative = 'greater')"
   ]
  },
  {
   "cell_type": "markdown",
   "id": "2e120f0e",
   "metadata": {},
   "source": [
    "So, in order to have an 80% likelihood of detecting an effect of 0.14 (or more) at a p<0.05 we need at least 4 animals in each group."
   ]
  },
  {
   "cell_type": "markdown",
   "id": "5e483ce9",
   "metadata": {
    "tags": []
   },
   "source": [
    "### Q1: Calculate the power if there are only two animals in each group."
   ]
  },
  {
   "cell_type": "markdown",
   "id": "0cbad96b",
   "metadata": {
    "tags": [
     "remove_cell"
    ]
   },
   "source": [
    "| **Total Points** | 5 |\n",
    "|--------|----|\n",
    "| Included Checks | 1 |\n",
    "\n",
    "_Points:_ 5"
   ]
  },
  {
   "cell_type": "code",
   "execution_count": null,
   "id": "49d1ff36",
   "metadata": {
    "tags": []
   },
   "outputs": [],
   "source": [
    "\n",
    "q1_power = ...\n",
    "\n",
    "print(f'With two animals per group. The likelihood of detecting an effect drops to {q1_power*100:0.0f}%')"
   ]
  },
  {
   "cell_type": "code",
   "execution_count": null,
   "id": "999367dc",
   "metadata": {
    "deletable": false,
    "editable": false
   },
   "outputs": [],
   "source": [
    "grader.check(\"q1_twosample_power\")"
   ]
  },
  {
   "cell_type": "markdown",
   "id": "0a459b89",
   "metadata": {},
   "source": [
    "What if we're worried this formulation only has a small effect or a highly noisy measurement. So, we've prepared 12 animals, what is the smallest difference we can detect? Assuming the same 80% power and 0.05 alpha."
   ]
  },
  {
   "cell_type": "markdown",
   "id": "ed8e00bc",
   "metadata": {},
   "source": [
    "### Q2: Calculate the smallest effect size if there are 12 animals in each group."
   ]
  },
  {
   "cell_type": "markdown",
   "id": "49acdb84",
   "metadata": {
    "tags": [
     "remove_cell"
    ]
   },
   "source": [
    "| **Total Points** | 5 |\n",
    "|--------|----|\n",
    "| Included Checks | 1 |\n",
    "\n",
    "_Points:_ 5"
   ]
  },
  {
   "cell_type": "code",
   "execution_count": null,
   "id": "dff543e7",
   "metadata": {
    "tags": []
   },
   "outputs": [],
   "source": [
    "\n",
    "q2_effect = ...\n",
    "\n",
    "print(f'With 12 animals per group. You can detect an effect {effect_size/q2_effect:0.3f}X smaller than the minimum effect.')"
   ]
  },
  {
   "cell_type": "code",
   "execution_count": null,
   "id": "1e244bc7",
   "metadata": {
    "deletable": false,
    "editable": false
   },
   "outputs": [],
   "source": [
    "grader.check(\"q2_12sample_effect\")"
   ]
  },
  {
   "cell_type": "markdown",
   "id": "8d961cba",
   "metadata": {},
   "source": [
    "The solver method is great when you have a specific calculation.\n",
    "But it doesn't tell you much beyond a cold number with little context.\n",
    "How does it change as we make different assumptions about our effect size or our budget?"
   ]
  },
  {
   "cell_type": "markdown",
   "id": "229c76ab",
   "metadata": {},
   "source": [
    "## Step 6: Summarize\n",
    "\n",
    "Let's \"propose\" a number of different experiments different experiments.\n",
    "We'll keep the power and alpha the same but consider different group sizes 2, 4, 6, 10, and 15 each.\n",
    "How do these choices impact our ability to detect different effect sizes?\n",
    "We'll also assume our true effect size could be 2X too high or 2X too low."
   ]
  },
  {
   "cell_type": "code",
   "execution_count": null,
   "id": "7a5b0fef",
   "metadata": {},
   "outputs": [],
   "source": [
    "# I find the whitegrid style to be the best for this type of visualization\n",
    "sns.set_style('whitegrid')"
   ]
  },
  {
   "cell_type": "code",
   "execution_count": null,
   "id": "bf7def3b",
   "metadata": {
    "tags": []
   },
   "outputs": [],
   "source": [
    "# How many animals in each proposed experiment\n",
    "nobs_sizes = np.array([2, 4, 6, 10, 15])\n",
    "\n",
    "# power_ttest accepts arrays in any parameter\n",
    "calced_power = pg.power_ttest(n = nobs_sizes,\n",
    "                              d = effect_size,\n",
    "                              power = None,\n",
    "                              alpha = alpha,\n",
    "                              contrast = 'paired',\n",
    "                              alternative = 'greater')\n",
    "\n",
    "# Then I can plot the power vs the number of animals\n",
    "plt.plot(nobs_sizes, calced_power, label = f'Cd={effect_size:0.1f}')\n",
    "plt.ylabel('Power')\n",
    "plt.xlabel('Number observations')\n",
    "plt.legend()"
   ]
  },
  {
   "cell_type": "markdown",
   "id": "a3d5a683",
   "metadata": {},
   "source": [
    "Since we can plot multiple assumptions on the same graph, we can make complex reasonings about our experimental design."
   ]
  },
  {
   "cell_type": "code",
   "execution_count": null,
   "id": "184a5548",
   "metadata": {},
   "outputs": [],
   "source": [
    "# Pick multiple different assumptions about the effect-size\n",
    "effect_sizes = [effect_size/2, effect_size, effect_size*2]\n",
    "\n",
    "nobs_sizes = np.array([2, 4, 6, 10, 15])\n",
    "\n",
    "for ef in effect_sizes:\n",
    "    calced_power = pg.power_ttest(n = nobs_sizes,\n",
    "                                  d = ef,\n",
    "                                  power = None,\n",
    "                                  alpha = alpha,\n",
    "                                  contrast = 'paired',\n",
    "                                  alternative = 'greater')\n",
    "\n",
    "    plt.plot(nobs_sizes, calced_power, label = f'Cd={ef:0.1f}')\n",
    "\n",
    "plt.ylabel('Power')\n",
    "plt.xlabel('Number observations')\n",
    "plt.legend()"
   ]
  },
  {
   "cell_type": "markdown",
   "id": "2ce6a86b",
   "metadata": {},
   "source": [
    "With this graph we can make some decisions with better knowledge about the context.\n",
    "\n",
    "If we're confident our effect size estimate is correct or an 'under-estimate', then we should do 4-6 animals.\n",
    "This will give us a >80% chance of finding an effect if it truly exists.\n",
    "However, if we have any doubt that our estimate may be high, then we see that 4-6 animals would put us in the 50:50 range.\n",
    "Then maybe it is better to spend the money for ~10 animals to obtain a high degree of confidence in a worst-case scenario."
   ]
  },
  {
   "cell_type": "markdown",
   "id": "6364fd69",
   "metadata": {},
   "source": [
    "## The other use of Power Tests"
   ]
  },
  {
   "cell_type": "markdown",
   "id": "620efb45",
   "metadata": {},
   "source": [
    "T-tests estimate whether there is a difference between two populations.\n",
    "However, a p>0.05 **does not mean the two distributions are the same**.\n",
    "It means that either they are the same **or** you did not have enough *power* to detect a difference this small.\n",
    "If we want to measure whether two distributions are statistically \"the same\" we need a different test."
   ]
  },
  {
   "cell_type": "markdown",
   "id": "af3c93b4",
   "metadata": {},
   "source": [
    "Enter, the **TOST**, Two one-sided test for _equivelence_.\n",
    "\n",
    "This test is more algorithm than equation.\n",
    "Here is the basic idea:\n",
    "\n",
    " - Specify the Equivalence Margin (`bound`): Before conducting the test, researchers must define an equivalence margin, which is the maximum difference between the treatments that can be considered practically equivalent. This margin should be determined based on clinical or practical relevance.\n",
    " - Conduct Two One-Sided Tests: TOST involves conducting two one-sided t-tests:\n",
    "   - The first test checks if the upper confidence limit of the difference between treatments is less than the positive equivalence margin.\n",
    "   - The second test verifies that the lower confidence limit is greater than the negative equivalence margin.\n",
    " - Interpret the Results: Equivalence is concluded if both one-sided tests reject their respective null hypotheses at a predetermined significance level.\n",
    "\n",
    "This means that the confidence interval for the difference between treatments lies entirely within the equivalence margin.\n",
    "Thus, they are the *same*."
   ]
  },
  {
   "cell_type": "markdown",
   "id": "59e8c976",
   "metadata": {},
   "source": [
    "Imagine we were testing two different batches and wanted to ensure there was no difference between them.\n",
    "A meaninful difference would be anything above 5% in the VI."
   ]
  },
  {
   "cell_type": "code",
   "execution_count": null,
   "id": "cae13c8f",
   "metadata": {},
   "outputs": [],
   "source": [
    "hyp_batchA_res = np.array([0.80, 0.76, 0.81, 0.83, 0.88, 0.78, 0.77, 0.82, 0.76, 0.72])\n",
    "hyp_batchB_res = np.array([0.81, 0.75, 0.78, 0.85, 0.88, 0.82, 0.78, 0.81, 0.79, 0.70])\n",
    "\n",
    "fig, ax = plt.subplots(1,1)\n",
    "for ctl, sk in zip(hyp_batchA_res, hyp_batchB_res):\n",
    "    ax.plot([1, 2], [ctl, sk])\n",
    "ax.set_xlim(.5, 2.5)\n",
    "ax.set_xticks([1, 2])\n",
    "ax.set_xticklabels(['Control', 'Exp'])\n",
    "ax.set_ylabel('VI')"
   ]
  },
  {
   "cell_type": "markdown",
   "id": "7a3814d3",
   "metadata": {},
   "source": [
    "Perform a t-test, just to see what happens."
   ]
  },
  {
   "cell_type": "code",
   "execution_count": null,
   "id": "d5b49120",
   "metadata": {},
   "outputs": [],
   "source": [
    "pg.ttest(hyp_batchA_res, hyp_batchB_res, paired=True)"
   ]
  },
  {
   "cell_type": "markdown",
   "id": "2d8e7abb",
   "metadata": {},
   "source": [
    "As expected, we cannot reject the hypothesis that they are the same.\n",
    "But this doesn't mean they are the same, just that they are _not different_.\n",
    "\n",
    "Now, for the TOST."
   ]
  },
  {
   "cell_type": "code",
   "execution_count": null,
   "id": "2b69e7e4",
   "metadata": {},
   "outputs": [],
   "source": [
    "bound = 0.05 # Should be in same units as the input\n",
    "\n",
    "pg.tost(hyp_batchA_res, hyp_batchB_res, 0.05, paired=True)"
   ]
  },
  {
   "cell_type": "markdown",
   "id": "c829e814",
   "metadata": {},
   "source": [
    "So, if we use a bound of 5% VI, then the likelihood that there is a difference **5% or larger** is `0.000053`.\n",
    "Therefore we can statistically say that they are the same _within this bound_."
   ]
  },
  {
   "cell_type": "markdown",
   "id": "dbb2a523",
   "metadata": {},
   "source": [
    "---------------------------------------------"
   ]
  },
  {
   "cell_type": "markdown",
   "id": "ea073db6",
   "metadata": {
    "tags": [
     "remove_cell"
    ]
   },
   "source": [
    "## Submission\n",
    "\n",
    "You do not need to submit this walkthrough notebook.\n",
    "Simply complete the quiz."
   ]
  },
  {
   "cell_type": "code",
   "execution_count": null,
   "id": "ec48f44d",
   "metadata": {},
   "outputs": [],
   "source": [
    "grader.check_all()"
   ]
  }
 ],
 "metadata": {
  "kernelspec": {
   "display_name": "Python 3 (ipykernel)",
   "language": "python",
   "name": "python3"
  },
  "language_info": {
   "codemirror_mode": {
    "name": "ipython",
    "version": 3
   },
   "file_extension": ".py",
   "mimetype": "text/x-python",
   "name": "python",
   "nbconvert_exporter": "python",
   "pygments_lexer": "ipython3",
   "version": "3.9.13"
  },
  "otter": {
   "assignment_name": "Module10_walkthrough"
  }
 },
 "nbformat": 4,
 "nbformat_minor": 5
}
