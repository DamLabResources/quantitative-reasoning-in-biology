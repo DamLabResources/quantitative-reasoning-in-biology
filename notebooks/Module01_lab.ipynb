{
 "cells": [
  {
   "cell_type": "markdown",
   "id": "16d72ece",
   "metadata": {},
   "source": [
    "# Lab\n",
    "\n",
    "Remember, all assignments are due before the weekly synchronous session."
   ]
  },
  {
   "cell_type": "markdown",
   "id": "0ccf09fa-d133-415f-af16-95314ac2e962",
   "metadata": {},
   "source": [
    "This week, there is no lab."
   ]
  },
  {
   "cell_type": "code",
   "execution_count": null,
   "id": "b49bde19-f3b7-4e09-956b-249120d1600d",
   "metadata": {
    "tags": []
   },
   "outputs": [],
   "source": []
  },
  {
   "cell_type": "code",
   "execution_count": null,
   "id": "0d704965",
   "metadata": {
    "deletable": false,
    "editable": false
   },
   "outputs": [],
   "source": [
    "grader.check(\"stub\")"
   ]
  }
 ],
 "metadata": {
  "kernelspec": {
   "display_name": "Python 3 (ipykernel)",
   "language": "python",
   "name": "python3"
  },
  "language_info": {
   "codemirror_mode": {
    "name": "ipython",
    "version": 3
   },
   "file_extension": ".py",
   "mimetype": "text/x-python",
   "name": "python",
   "nbconvert_exporter": "python",
   "pygments_lexer": "ipython3",
   "version": "3.9.13"
  },
  "otter": {
   "assignment_name": "Module01_Lab"
  },
  "toc-autonumbering": true,
  "toc-showcode": true,
  "toc-showmarkdowntxt": false,
  "toc-showtags": false
 },
 "nbformat": 4,
 "nbformat_minor": 5
}
