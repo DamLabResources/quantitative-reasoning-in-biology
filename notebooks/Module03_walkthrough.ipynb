{
 "cells": [
  {
   "cell_type": "code",
   "execution_count": null,
   "id": "98fc85b3",
   "metadata": {
    "tags": [
     "remove_cell"
    ]
   },
   "outputs": [],
   "source": [
    "# Setting up the Colab environment. DO NOT EDIT!\n",
    "try:\n",
    "  from applied_biostats import setup_environment\n",
    "except ImportError:\n",
    "  !pip -q install applied-biostats-helper\n",
    "  from applied_biostats import setup_environment\n",
    "finally:\n",
    "  grader = setup_environment('Module03_walkthrough')"
   ]
  },
  {
   "cell_type": "markdown",
   "id": "805dd94b",
   "metadata": {},
   "source": [
    "# Walkthrough"
   ]
  },
  {
   "cell_type": "markdown",
   "id": "cdf50873",
   "metadata": {},
   "source": [
    "## Introduction\n",
    "\n",
    "Get ready to dive into some data analysis as we explore the effectiveness of a hypothetical HIV treatment trial.\n",
    "In this walkthrough, we have a dataset containing information from 30 people living with HIV (PLWH) who were randomly assigned to a treatment or control group.\n",
    "After receiving the treatment, they stopped their ART and were monitored weekly for the number of weeks until their first \"detectable\" viral load was found.\n",
    "We will use `Pandas` to analyze this data and evaluate the treatment's effectiveness.\n",
    "By the end of this activity, you will be proficient in loading spreadsheet data into Python, creating derived columns in `DataFrames`, and using summary methods like sum, mean, and max.\n",
    "Let's get started!"
   ]
  },
  {
   "cell_type": "markdown",
   "id": "51c6efd2",
   "metadata": {
    "jp-MarkdownHeadingCollapsed": true,
    "tags": []
   },
   "source": [
    "## Learning Objectives\n",
    "At the end of this learning activity you will be able to:\n",
    " - Practice loading spreadsheet data into Python using `pandas`.\n",
    " - Use Python methods to create derived columns in `pd.DataFrames`.\n",
    " - Use `Pandas` summary methods like sum, mean, and max.\n",
    " - Employ basic filtering and data extraction from `pandas`."
   ]
  },
  {
   "cell_type": "markdown",
   "id": "353f6379",
   "metadata": {},
   "source": [
    "## Dataset Reference\n",
    "\n",
    "_File_: `trial_data.csv`\n",
    "\n",
    "_Columns_:\n",
    "\n",
    " - `age` : (years) Current age during the study. \n",
    " - `age_initial_infection` : (years) Age at which the participant was initially infected.\n",
    " - `initial_viral_load` : (copies/ul) The level of infection at the start of the study.\n",
    " - `treatment` : (boolean) `True` for participant in the treatment group, `False` for those in the control group.\n",
    " - `weeks_to_failure` : (weeks) Time from the treatment to the first week of uncontrolled viral load.\n",
    "\n"
   ]
  },
  {
   "cell_type": "markdown",
   "id": "b36aab8c",
   "metadata": {},
   "source": [
    "## Imports"
   ]
  },
  {
   "cell_type": "markdown",
   "id": "9d03e7a1",
   "metadata": {},
   "source": [
    "While _basic_ Python can do a lot, you have to do everything yourself.\n",
    "The **real** power of Python is that you can `import` code that is written by others.\n",
    "\n",
    "For this course, we will use a common data science stack of interoperable tools centered around the [Numpy](https://numpy.org/).\n",
    "\n",
    "There are four that we will use regularly, two of which we'll cover today."
   ]
  },
  {
   "cell_type": "markdown",
   "id": "3f670fbe",
   "metadata": {},
   "source": [
    "### Numpy\n",
    "\n",
    "[Numpy](https://numpy.org/)\n",
    "\n",
    "A numerical Python library that contains incredibly fast arrays, mathematical functions, and other useful utilities.\n",
    "\n",
    "By convention, the community tends to _alias_ the long `numpy` as `np`."
   ]
  },
  {
   "cell_type": "code",
   "execution_count": null,
   "id": "68dcb29c",
   "metadata": {},
   "outputs": [],
   "source": [
    "import numpy as np"
   ]
  },
  {
   "cell_type": "markdown",
   "id": "35cfa28c",
   "metadata": {},
   "source": [
    "### Pandas\n",
    "\n",
    "[Pandas](https://pandas.pydata.org/)\n",
    "\n",
    "A libary that sits atop `numpy` and provides a _spreadsheet_ style object called a `DataFrame` along with a plethora of data sciecne utilities.\n",
    "This is the main tool we will be using for data exploration.\n",
    "\n",
    "By convention, the community tends to _alias_ the long `pandas` as `pd`."
   ]
  },
  {
   "cell_type": "code",
   "execution_count": null,
   "id": "de7b43f7",
   "metadata": {},
   "outputs": [],
   "source": [
    "import pandas as pd"
   ]
  },
  {
   "cell_type": "markdown",
   "id": "377ac107",
   "metadata": {},
   "source": [
    "Nicely, it can read `csv` files for us."
   ]
  },
  {
   "cell_type": "code",
   "execution_count": null,
   "id": "d1f62a58",
   "metadata": {},
   "outputs": [],
   "source": [
    "trial_df = pd.read_csv('trial_data.csv')\n",
    "\n",
    "# If a `DataFrame` is the last line, it will display a nice summary\n",
    "trial_df"
   ]
  },
  {
   "cell_type": "markdown",
   "id": "adc321f9",
   "metadata": {},
   "source": [
    "```{note}\n",
    ":class: dropdown\n",
    "I often use the suffix `_df` when I create `pd.DataFrames`.\n",
    "It is not required, but utilizing naming conventions makes your code easier to understand by yourself and others.\n",
    "```"
   ]
  },
  {
   "cell_type": "markdown",
   "id": "5c91fc1c",
   "metadata": {},
   "source": [
    "And we should see that this exactly matches the table we saw in Excel."
   ]
  },
  {
   "cell_type": "markdown",
   "id": "90ec461d",
   "metadata": {},
   "source": [
    "The object we got back is called a `DataFrame`."
   ]
  },
  {
   "cell_type": "code",
   "execution_count": null,
   "id": "9729823a",
   "metadata": {},
   "outputs": [],
   "source": [
    "type(trial_df)"
   ]
  },
  {
   "cell_type": "markdown",
   "id": "c87a8bea",
   "metadata": {},
   "source": [
    "If we only want to see a small version of the `DataFrame` we can use the `.head()` _method_."
   ]
  },
  {
   "cell_type": "code",
   "execution_count": null,
   "id": "cf575f6a",
   "metadata": {},
   "outputs": [],
   "source": [
    "trial_df.head()"
   ]
  },
  {
   "cell_type": "markdown",
   "id": "47ebbb52",
   "metadata": {},
   "source": [
    "## Acting on Columns"
   ]
  },
  {
   "cell_type": "markdown",
   "id": "6b6c009d",
   "metadata": {},
   "source": [
    "We can reference each column by name using square brackets `[]`.\n",
    "For example: Extracting the `age` column like so:"
   ]
  },
  {
   "cell_type": "code",
   "execution_count": null,
   "id": "19646b79",
   "metadata": {},
   "outputs": [],
   "source": [
    "trial_df['age']"
   ]
  },
  {
   "cell_type": "markdown",
   "id": "74c5e876",
   "metadata": {},
   "source": [
    "### Q1: Extract the `initial_viral_load` column ?"
   ]
  },
  {
   "cell_type": "markdown",
   "id": "c95bb92a",
   "metadata": {
    "tags": [
     "remove_cell"
    ]
   },
   "source": [
    "|               |    |\n",
    "| --------------|----|\n",
    "| Points        | 2  |\n",
    "| Public Checks | 2  |\n",
    "| Hidden Tests  | 0  |\n",
    "\n",
    "_Points:_ 2"
   ]
  },
  {
   "cell_type": "code",
   "execution_count": null,
   "id": "ac98065e",
   "metadata": {
    "tags": []
   },
   "outputs": [],
   "source": [
    "init_vl = ..."
   ]
  },
  {
   "cell_type": "code",
   "execution_count": null,
   "id": "d7ed829f",
   "metadata": {
    "deletable": false,
    "editable": false
   },
   "outputs": [],
   "source": [
    "grader.check(\"q1_init_vl\")"
   ]
  },
  {
   "cell_type": "markdown",
   "id": "6abd9d68",
   "metadata": {},
   "source": [
    "Once we can extract columns, we can start summarizing them."
   ]
  },
  {
   "cell_type": "code",
   "execution_count": null,
   "id": "24bb8ffa",
   "metadata": {},
   "outputs": [],
   "source": [
    "age_col = trial_df['age']\n",
    "age_mean = age_col.mean()\n",
    "print(f'The mean age of the population is {age_mean:0.1f} yrs.')"
   ]
  },
  {
   "cell_type": "markdown",
   "id": "9927272d",
   "metadata": {},
   "source": [
    "Expressions can also be _chained_. \n",
    "They are functionally the same, the only difference is aesthetic. "
   ]
  },
  {
   "cell_type": "code",
   "execution_count": null,
   "id": "df069f20",
   "metadata": {},
   "outputs": [],
   "source": [
    "age_mean_short = trial_df['age'].mean()\n",
    "print(f'The mean age of the population is {age_mean_short:0.1f} yrs, even when done on a single line.')"
   ]
  },
  {
   "cell_type": "markdown",
   "id": "271aabb7",
   "metadata": {},
   "source": [
    "### Q2: Calculate the average `weeks_to_failure` for the whole population?\n",
    "\n"
   ]
  },
  {
   "cell_type": "markdown",
   "id": "45d93ee0",
   "metadata": {
    "tags": [
     "remove_cell"
    ]
   },
   "source": [
    "|               |    |\n",
    "| --------------|----|\n",
    "| Points        | 2  |\n",
    "| Public Checks | 2  |\n",
    "| Hidden Tests  | 0  |\n",
    "\n",
    "_Points:_ 2"
   ]
  },
  {
   "cell_type": "code",
   "execution_count": null,
   "id": "740a5581",
   "metadata": {
    "tags": []
   },
   "outputs": [],
   "source": [
    "average_weeks = ..."
   ]
  },
  {
   "cell_type": "code",
   "execution_count": null,
   "id": "1c853bd0",
   "metadata": {
    "deletable": false,
    "editable": false
   },
   "outputs": [],
   "source": [
    "grader.check(\"q2_pop_weeks_to_failure\")"
   ]
  },
  {
   "cell_type": "markdown",
   "id": "bfa5dbc8",
   "metadata": {},
   "source": [
    "We can also summarize an entire `DataFrame` with a single command."
   ]
  },
  {
   "cell_type": "code",
   "execution_count": null,
   "id": "00c9d01e",
   "metadata": {},
   "outputs": [],
   "source": [
    "trial_df.mean()"
   ]
  },
  {
   "cell_type": "markdown",
   "id": "bb3100f6",
   "metadata": {},
   "source": [
    "In this case the summary went _down_ the columns and calculated a mean for each."
   ]
  },
  {
   "cell_type": "markdown",
   "id": "621ddfe8",
   "metadata": {},
   "source": [
    "There are a number of other summarization _methods_.\n",
    " - `max()`\n",
    " - `min()`\n",
    " - `mode()`\n",
    " - `median()`\n",
    " - `var()`\n",
    " - `std()`\n",
    " - `nunique()`"
   ]
  },
  {
   "cell_type": "markdown",
   "id": "5f68d99e",
   "metadata": {},
   "source": [
    "```{note}\n",
    ":class: dropdown\n",
    "Methods, are functions that are attached to an `object`.\n",
    "They usually act on the object to provide a summary, perform a transformation, or otherwise utilize the information within the object.\n",
    "In this case, these summarization methods utilize the information within the `trial_df` dataframe to summarize each column.\n",
    "```"
   ]
  },
  {
   "cell_type": "code",
   "execution_count": null,
   "id": "fb4aa55a",
   "metadata": {},
   "outputs": [],
   "source": [
    "trial_df.describe()"
   ]
  },
  {
   "cell_type": "markdown",
   "id": "8b7b2093",
   "metadata": {},
   "source": [
    "Selecting columns is nice.\n",
    "We can also add a new column based on another one.\n",
    "\n",
    "In HIV research it is often important to know how long someone has been living with HIV.\n",
    "However, this dataset contains their current age, and their age at infection.\n",
    "We can use these two to calculate the length."
   ]
  },
  {
   "cell_type": "code",
   "execution_count": null,
   "id": "8c08cffd",
   "metadata": {},
   "outputs": [],
   "source": [
    "# first make a new `Series`\n",
    "years_infected = trial_df['age'] - trial_df['age_initial_infection']\n",
    "\n",
    "# Then add that series into the table\n",
    "trial_df['years_infected'] = years_infected\n",
    "trial_df.head()"
   ]
  },
  {
   "cell_type": "code",
   "execution_count": null,
   "id": "48059c43",
   "metadata": {},
   "outputs": [],
   "source": [
    "# Alternatively\n",
    "trial_df['years_infected'] = trial_df['age'] - trial_df['age_initial_infection']\n",
    "trial_df.head()"
   ]
  },
  {
   "cell_type": "markdown",
   "id": "af8019b0",
   "metadata": {},
   "source": [
    "## Acting on Rows"
   ]
  },
  {
   "cell_type": "markdown",
   "id": "61305a35",
   "metadata": {},
   "source": [
    "### Indexing"
   ]
  },
  {
   "cell_type": "markdown",
   "id": "7118a7cb",
   "metadata": {},
   "source": [
    "When selecting rows, or rows and columns, we need to use the `.loc` attribute of the `DataFrame`.\n",
    "\n",
    "We can select by row number."
   ]
  },
  {
   "cell_type": "code",
   "execution_count": null,
   "id": "81a26db4",
   "metadata": {},
   "outputs": [],
   "source": [
    "trial_df.loc[0]"
   ]
  },
  {
   "cell_type": "code",
   "execution_count": null,
   "id": "6335cb03",
   "metadata": {},
   "outputs": [],
   "source": [
    "# We can use a : to indicate a range.\n",
    "trial_df.loc[0:10]"
   ]
  },
  {
   "cell_type": "code",
   "execution_count": null,
   "id": "f82f20cf",
   "metadata": {},
   "outputs": [],
   "source": [
    "# We can provide an arbitrary list\n",
    "trial_df.loc[[0, 5, 7, 13]]"
   ]
  },
  {
   "cell_type": "code",
   "execution_count": null,
   "id": "502625ed",
   "metadata": {},
   "outputs": [],
   "source": [
    "# We can also select columns at the same time.\n",
    "trial_df.loc[[0, 5, 7, 13], ['initial_viral_load', 'age']]"
   ]
  },
  {
   "cell_type": "markdown",
   "id": "5a5e5a47",
   "metadata": {},
   "source": [
    "### Boolean Indexing"
   ]
  },
  {
   "cell_type": "markdown",
   "id": "52467e10",
   "metadata": {},
   "source": [
    "If we do not know the row number ahead of time, but instead want to select rows based on their values, we can using boolean indexing.\n",
    "In this stragey we create a new `pd.Series` of True/False values where True corresponds to the ones we want."
   ]
  },
  {
   "cell_type": "markdown",
   "id": "b5938778",
   "metadata": {},
   "source": [
    "Start by finding everyone over 50 years old."
   ]
  },
  {
   "cell_type": "code",
   "execution_count": null,
   "id": "37dbf3fe",
   "metadata": {},
   "outputs": [],
   "source": [
    "age_mask = trial_df['age'] > 50\n",
    "aged_samples = trial_df.loc[age_mask]\n",
    "aged_samples.head()"
   ]
  },
  {
   "cell_type": "markdown",
   "id": "64cf4190",
   "metadata": {},
   "source": [
    "```{note}\n",
    ":class: dropdown\n",
    "I often use the suffix `_mask` when I create boolean indexes.\n",
    "It is not required, but utilizing naming conventions makes your code easier to understand by yourself and others.\n",
    "```"
   ]
  },
  {
   "cell_type": "markdown",
   "id": "0d4a4f3d",
   "metadata": {},
   "source": [
    "Now, if we also wanted to split by the initial_viral_load we might do:"
   ]
  },
  {
   "cell_type": "code",
   "execution_count": null,
   "id": "79833884",
   "metadata": {},
   "outputs": [],
   "source": [
    "high_vl_mask = trial_df['initial_viral_load'] > 50"
   ]
  },
  {
   "cell_type": "code",
   "execution_count": null,
   "id": "e56ac226",
   "metadata": {},
   "outputs": [],
   "source": [
    "aged_high_vl = trial_df.loc[age_mask & high_vl_mask]\n",
    "aged_high_vl.head()"
   ]
  },
  {
   "cell_type": "code",
   "execution_count": null,
   "id": "6c811818",
   "metadata": {},
   "outputs": [],
   "source": [
    "# ~ can be used to say \"not\"\n",
    "aged_low_vl = trial_df.loc[age_mask & ~high_vl_mask]\n",
    "aged_low_vl.head()"
   ]
  },
  {
   "cell_type": "markdown",
   "id": "b163bf6d",
   "metadata": {},
   "source": [
    "### Q3: Calculate the average weeks to failure for the treated population?"
   ]
  },
  {
   "cell_type": "markdown",
   "id": "af355a8b",
   "metadata": {
    "tags": [
     "remove_cell"
    ]
   },
   "source": [
    "|               |    |\n",
    "| --------------|----|\n",
    "| Points        | 2  |\n",
    "| Public Checks | 2  |\n",
    "| Hidden Tests  | 0  |\n",
    "\n",
    "_Points:_ 2"
   ]
  },
  {
   "cell_type": "code",
   "execution_count": null,
   "id": "8d644f1b",
   "metadata": {
    "tags": []
   },
   "outputs": [],
   "source": [
    "treated_average_weeks = ..."
   ]
  },
  {
   "cell_type": "code",
   "execution_count": null,
   "id": "69d66d82",
   "metadata": {
    "deletable": false,
    "editable": false
   },
   "outputs": [],
   "source": [
    "grader.check(\"q3_treated_weeks_to_failure_indexing\")"
   ]
  },
  {
   "cell_type": "markdown",
   "id": "81038159",
   "metadata": {},
   "source": [
    "Utilizing boolean indexing you can express _any_ algorithmic row selecting strategy.\n",
    "This can even include comparisons between rows, for example if there were multiple rows of the same sample.\n",
    "We will cover these strategies later in the course."
   ]
  },
  {
   "cell_type": "markdown",
   "id": "5a70bc2b",
   "metadata": {},
   "source": [
    "Sometimes, our searches are simple.\n",
    "Pandas also includes another method for indexing rows called `.query()` for these purposes."
   ]
  },
  {
   "cell_type": "markdown",
   "id": "19b5971f",
   "metadata": {},
   "source": [
    "### Querying"
   ]
  },
  {
   "cell_type": "markdown",
   "id": "e3d72660",
   "metadata": {},
   "source": [
    "`.query()` is an interface that facilitates simple queries qith a few specific limitations:\n",
    " - It can only use the information present in the row.\n",
    " - It can only work on one row at a time.\n",
    " - Column headers cannot contain spaces, dots, dashes, commas, or emoji."
   ]
  },
  {
   "cell_type": "markdown",
   "id": "35d852ac",
   "metadata": {},
   "source": [
    "Our questions on this dataset easily fit within those constraints."
   ]
  },
  {
   "cell_type": "code",
   "execution_count": null,
   "id": "372c01b8",
   "metadata": {},
   "outputs": [],
   "source": [
    "# All treatment rows\n",
    "trial_df.query('treatment == True').head()"
   ]
  },
  {
   "cell_type": "code",
   "execution_count": null,
   "id": "324a95b9",
   "metadata": {},
   "outputs": [],
   "source": [
    "trial_df.query('treatment == False').head()"
   ]
  },
  {
   "cell_type": "markdown",
   "id": "8e276032",
   "metadata": {},
   "source": [
    "You can also make them more complex."
   ]
  },
  {
   "cell_type": "code",
   "execution_count": null,
   "id": "3a43afc5",
   "metadata": {},
   "outputs": [],
   "source": [
    "trial_df.query('age > 33 & treatment == True')"
   ]
  },
  {
   "cell_type": "markdown",
   "id": "a65f81f6",
   "metadata": {},
   "source": [
    "This statement doesn't make a \"biological sense\", but it is an example of a valid comparison."
   ]
  },
  {
   "cell_type": "code",
   "execution_count": null,
   "id": "945f6ded",
   "metadata": {},
   "outputs": [],
   "source": [
    "trial_df.query('age >= initial_viral_load')"
   ]
  },
  {
   "cell_type": "markdown",
   "id": "b5c004f0",
   "metadata": {},
   "source": [
    "### Q4: Calculate the average `weeks_to_failure` for the untreated population?\n",
    "\n"
   ]
  },
  {
   "cell_type": "markdown",
   "id": "1d210f16",
   "metadata": {
    "tags": [
     "remove_cell"
    ]
   },
   "source": [
    "|               |    |\n",
    "| --------------|----|\n",
    "| Points        | 2  |\n",
    "| Public Checks | 2  |\n",
    "| Hidden Tests  | 0  |\n",
    "\n",
    "_Points:_ 2"
   ]
  },
  {
   "cell_type": "code",
   "execution_count": null,
   "id": "5559cb4a",
   "metadata": {
    "tags": []
   },
   "outputs": [],
   "source": [
    "\n",
    "untreated_average_weeks = ..."
   ]
  },
  {
   "cell_type": "code",
   "execution_count": null,
   "id": "fc9ee69b",
   "metadata": {
    "tags": []
   },
   "outputs": [],
   "source": [
    "print(f'Untreated participants took {untreated_average_weeks:0.1f} weeks to rebound.')"
   ]
  },
  {
   "cell_type": "code",
   "execution_count": null,
   "id": "4ecd6da5",
   "metadata": {
    "deletable": false,
    "editable": false
   },
   "outputs": [],
   "source": [
    "grader.check(\"q4_untreated_weeks_to_failure\")"
   ]
  },
  {
   "cell_type": "markdown",
   "id": "89149a57",
   "metadata": {},
   "source": [
    "### Q4: Calculate the average `weeks_to_failure` for the treated population?\n",
    "\n"
   ]
  },
  {
   "cell_type": "markdown",
   "id": "9b579551",
   "metadata": {
    "tags": [
     "remove_cell"
    ]
   },
   "source": [
    "|               |    |\n",
    "| --------------|----|\n",
    "| Points        | 2  |\n",
    "| Public Checks | 2  |\n",
    "| Hidden Tests  | 0  |\n",
    "\n",
    "_Points:_ 2"
   ]
  },
  {
   "cell_type": "code",
   "execution_count": null,
   "id": "ee034b1a",
   "metadata": {
    "tags": []
   },
   "outputs": [],
   "source": [
    "\n",
    "treated_average_weeks = ..."
   ]
  },
  {
   "cell_type": "code",
   "execution_count": null,
   "id": "44c3744e",
   "metadata": {
    "tags": []
   },
   "outputs": [],
   "source": [
    "print(f'Treated patients took {treated_average_weeks:0.1f} weeks to rebound.')"
   ]
  },
  {
   "cell_type": "code",
   "execution_count": null,
   "id": "2e1801b1",
   "metadata": {
    "deletable": false,
    "editable": false
   },
   "outputs": [],
   "source": [
    "grader.check(\"q4_treated_weeks_to_failure\")"
   ]
  },
  {
   "cell_type": "markdown",
   "id": "ae860f02",
   "metadata": {},
   "source": [
    "# Conclusion"
   ]
  },
  {
   "cell_type": "markdown",
   "id": "ac471353",
   "metadata": {},
   "source": [
    "We can see that this treatment extended the average time off ART from ~3 weeks to ~7 weeks.\n",
    "While not a complete cure, any incremental step is useful progress in the elimination of HIV.\n",
    "\n",
    "In the lab you will use similar techniques to explore whether other factors in this dataset impact the results.\n",
    "In future weeks we will explore statistical techniques to understand whether this difference is due to chance, or due to the effect of the treatment."
   ]
  },
  {
   "cell_type": "markdown",
   "id": "297ddb20",
   "metadata": {
    "tags": [
     "remove_cell"
    ]
   },
   "source": [
    "## Submission\n",
    "\n",
    "You do not need to submit this walkthrough notebook.\n",
    "Simply complete the quiz."
   ]
  },
  {
   "cell_type": "markdown",
   "id": "3d9fc4ff",
   "metadata": {},
   "source": [
    "---------------------------------------------"
   ]
  }
 ],
 "metadata": {
  "kernelspec": {
   "display_name": "Python 3 (ipykernel)",
   "language": "python",
   "name": "python3"
  },
  "language_info": {
   "codemirror_mode": {
    "name": "ipython",
    "version": 3
   },
   "file_extension": ".py",
   "mimetype": "text/x-python",
   "name": "python",
   "nbconvert_exporter": "python",
   "pygments_lexer": "ipython3",
   "version": "3.9.13"
  },
  "otter": {
   "assignment_name": "Module03_walkthrough"
  }
 },
 "nbformat": 4,
 "nbformat_minor": 5
}
