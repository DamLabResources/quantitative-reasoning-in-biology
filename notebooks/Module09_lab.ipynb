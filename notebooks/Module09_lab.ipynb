{
 "cells": [
  {
   "cell_type": "code",
   "execution_count": null,
   "id": "286e27fb",
   "metadata": {
    "tags": [
     "remove_cell"
    ]
   },
   "outputs": [],
   "source": [
    "# Setting up the Colab environment. DO NOT EDIT!\n",
    "try:\n",
    "  from applied_biostats import setup_environment\n",
    "except ImportError:\n",
    "    ! pip install -q otter-grader==4.0.0, pingouin\n",
    "    import otter\n",
    "\n",
    "if not os.path.exists('lab-tests'):\n",
    "    zip_files = [f for f in os.listdir() if f.endswith('.zip')]\n",
    "    assert len(zip_files)>0, 'Could not find any zip files!'\n",
    "    assert len(zip_files)==1, 'Found multiple zip files!'\n",
    "    ! unzip {zip_files[0]}\n",
    "\n",
    "grader = otter.Notebook(colab=True,\n",
    "                        tests_dir = 'lab-tests')"
   ]
  },
  {
   "cell_type": "markdown",
   "id": "cc7d5890",
   "metadata": {},
   "source": [
    "# Lab"
   ]
  },
  {
   "cell_type": "markdown",
   "id": "c5a49d85",
   "metadata": {},
   "source": [
    "## Learning Objectives\n",
    "At the end of this learning activity you will be able to:\n",
    " - Practice using robust correlation tools that account for outliers.\n",
    " - Practice using `pg.qqplot` and `pg.normality` to asses the normality of residuals.\n",
    " - Practice using regression to create covariate-controlled scores.\n"
   ]
  },
  {
   "cell_type": "code",
   "execution_count": null,
   "id": "217a1164",
   "metadata": {
    "tags": []
   },
   "outputs": [],
   "source": [
    "import numpy as np\n",
    "import seaborn as sns\n",
    "import pandas as pd\n",
    "import matplotlib.pyplot as plt\n",
    "\n",
    "import pingouin as pg\n",
    "\n",
    "%matplotlib inline"
   ]
  },
  {
   "cell_type": "code",
   "execution_count": null,
   "id": "25b101d9",
   "metadata": {
    "tags": []
   },
   "outputs": [],
   "source": [
    "data = pd.read_csv('hiv_neuro_data.csv')\n",
    "data['education'] = data['education'].astype(float)\n",
    "data.head()"
   ]
  },
  {
   "cell_type": "markdown",
   "id": "980e8a48",
   "metadata": {},
   "source": [
    "This lab is going to explore the inter-relationships between two cognitive domains.\n",
    "\n",
    "* **Executive Function**: The complex cognitive processes required for planning, organizing, problem-solving, abstract thinking, and executing strategies. This domain also encompasses decision-making and cognitive flexibility, which is the ability to switch between thinking about two different concepts or to think about multiple concepts simultaneously.\n",
    "- **Speed of Information Processing**: How quickly an individual can understand and react to the information being presented. This domain evaluates the speed at which cognitive tasks can be performed, often under time constraints."
   ]
  },
  {
   "cell_type": "markdown",
   "id": "8810ec3a",
   "metadata": {
    "tags": []
   },
   "source": [
    "### Q1: Are Processing domain and Executive domain scores correlated?\n",
    "\n",
    "Checked variables:\n",
    " * `q1_plot` - A regression plot between `processing_domain_z` and `exec_domain_z`.\n",
    " * `q1_corr_res` - The result of running `pg.corr` on `processing_domain_z` and `exec_domain_z`.\n",
    " * `q1_is_corr` - A yes/no assessment of the correlation between `processing_domain_z` and `exec_domain_z`.\n",
    "\n",
    "<details><summary>Hint</summary>\n",
    "Use the sns.regplot described throughout the Module 9 walkthrough.</details>\n",
    "\n",
    "|               |    |\n",
    "| --------------|----|\n",
    "| Points        | 5  |\n",
    "| Public Checks | 3  |\n",
    "| Hidden Tests  | 1  |\n",
    "\n",
    "_Points:_ 5"
   ]
  },
  {
   "cell_type": "code",
   "execution_count": null,
   "id": "dc941e36",
   "metadata": {
    "tags": []
   },
   "outputs": [],
   "source": [
    "# Generate a plot between processing_domain_z and exec_domain_z\n",
    "\n",
    "q1_plot = ..."
   ]
  },
  {
   "cell_type": "code",
   "execution_count": null,
   "id": "1c98fd3d",
   "metadata": {
    "tags": []
   },
   "outputs": [],
   "source": [
    "# Use pg.corr to calculate the correlation between the two variables using a `robust` correlation metric\n",
    "\n",
    "q1_corr_res = ..."
   ]
  },
  {
   "cell_type": "code",
   "execution_count": null,
   "id": "484fc253",
   "metadata": {
    "tags": []
   },
   "outputs": [],
   "source": [
    "# Are the two domains significantly correlated? 'yes' or 'no'\n",
    "\n",
    "q1_is_corr = ..."
   ]
  },
  {
   "cell_type": "code",
   "execution_count": null,
   "id": "40b2e3eb",
   "metadata": {
    "deletable": false,
    "editable": false
   },
   "outputs": [],
   "source": [
    "grader.check(\"q1_domain_corr\")"
   ]
  },
  {
   "cell_type": "markdown",
   "id": "6f3a1539",
   "metadata": {
    "tags": []
   },
   "source": [
    "### Q2: Create a regression for the processing domain that accounts for the following demographic covariates.\n",
    "\n",
    " - Age\n",
    " - Race\n",
    " - Sex\n",
    " - Education\n",
    " - Years Seropositive\n",
    " - ART\n",
    "\n",
    "Checked variables:\n",
    " * `q2_model_resid_normal` - A yes/no assessment of the normality of the residuals after building the model. It should be supported by qqplots and normality tests.\n",
    " * `q2_processing_age` - A yes/no assessment on whether age has a significant impact on `processing_domain_z`.\n",
    " * `q2_processing_race` - A yes/no assessment on whether race has a significant impact on `processing_domain_z`.\n",
    " * `q2_processing_sex` - A yes/no assessment on whether sex has a significant impact on `processing_domain_z`.\n",
    " * `q2_processing_edu` - A yes/no assessment on whether education has a significant impact on `processing_domain_z`.\n",
    " * `q2_processing_ys` - A yes/no assessment on whether infection length has a significant impact on `processing_domain_z`.\n",
    " * `q2_processing_art` - A yes/no assessment on whether ART has a significant impact on `processing_domain_z`.\n",
    "\n",
    "<details><summary>Hint</summary>\n",
    "Recreate the final merged X and y (using processing_domain_z this time) that we created in the Module 9 Walkthrough under the Regression with categories section. Then perform the same regression and interpretion of the results.</details>\n",
    "\n",
    "|               |    |\n",
    "| --------------|----|\n",
    "| Points        | 10 |\n",
    "| Public Checks | 7  |\n",
    "| Hidden Tests  | 7  |\n",
    "\n",
    "_Points:_ 10"
   ]
  },
  {
   "cell_type": "code",
   "execution_count": null,
   "id": "583842d4",
   "metadata": {
    "tags": []
   },
   "outputs": [],
   "source": [
    "# Perform the regression using `pg.linear_regression`\n",
    "# Use the result to answer the questions below\n",
    "\n"
   ]
  },
  {
   "cell_type": "code",
   "execution_count": null,
   "id": "df573a9c",
   "metadata": {
    "tags": []
   },
   "outputs": [],
   "source": [
    "# Assess the normality of the residuals of the model\n",
    "\n",
    "\n",
    "q2_model_resid_normal = ..."
   ]
  },
  {
   "cell_type": "code",
   "execution_count": null,
   "id": "47740ffa",
   "metadata": {
    "tags": []
   },
   "outputs": [],
   "source": [
    "# Considering a p<0.01 threshold answer which of the following are significant\n",
    "\n",
    "# Age\n",
    "q2_processing_age = ...\n",
    "\n",
    "# Race\n",
    "q2_processing_race = ...\n",
    "\n",
    "# Sex\n",
    "q2_processing_sex = ...\n",
    "\n",
    "# Education\n",
    "q2_processing_edu = ...\n",
    "\n",
    "# Infection length\n",
    "q2_processing_ys = ...\n",
    "\n",
    "# ART\n",
    "q2_processing_art = ..."
   ]
  },
  {
   "cell_type": "code",
   "execution_count": null,
   "id": "61be4331",
   "metadata": {
    "deletable": false,
    "editable": false
   },
   "outputs": [],
   "source": [
    "grader.check(\"q2_exec_adj\")"
   ]
  },
  {
   "cell_type": "markdown",
   "id": "fd217672",
   "metadata": {},
   "source": [
    "<!-- BEGIN QUESTION -->\n",
    "\n",
    "### Q3: Comparison\n",
    "\n",
    "In the Walkthrough we explored the variables that had an impact on Executive Domain function.\n",
    "This complex cognitive processes required for planning, organizing, problem-solving, abstract thinking, and executing strategies.\n",
    "This domain also encompasses decision-making and cognitive flexibility, which is the ability to switch between thinking about two different concepts or to think about multiple concepts simultaneously.\n",
    "\n",
    "In this lab you performed a similar analysis to find the variables that impact Processing Domain function.\n",
    "This metric measures how quickly an individual can understand and react to the information being presented.\n",
    "This domain evaluates the speed at which cognitive tasks can be performed, often under time constraints.\n",
    "\n",
    "In a paragraph compare and contrast the statistically significant variables between the two metrics.\n",
    "\n",
    "_Points:_ 10"
   ]
  },
  {
   "cell_type": "markdown",
   "id": "6a647bdb",
   "metadata": {},
   "source": [
    "Write your solution here in this box."
   ]
  },
  {
   "cell_type": "markdown",
   "id": "712b037b",
   "metadata": {},
   "source": [
    "<!-- END QUESTION -->\n",
    "\n",
    "--------------------------------------------"
   ]
  },
  {
   "cell_type": "code",
   "execution_count": null,
   "id": "a8a94fd8",
   "metadata": {},
   "outputs": [],
   "source": [
    "grader.check_all()"
   ]
  },
  {
   "cell_type": "markdown",
   "id": "8c24b8b8",
   "metadata": {},
   "source": [
    "## Submission\n",
    "\n",
    "Check:\n",
    " - That all tables and graphs are rendered properly.\n",
    " - Code completes without errors by using `Restart & Run All`.\n",
    " - All checks **pass**.\n",
    " \n",
    "Then save the notebook and the `File` -> `Download` -> `Download .ipynb`. Upload this file to BBLearn."
   ]
  }
 ],
 "metadata": {
  "kernelspec": {
   "display_name": "Python 3 (ipykernel)",
   "language": "python",
   "name": "python3"
  },
  "language_info": {
   "codemirror_mode": {
    "name": "ipython",
    "version": 3
   },
   "file_extension": ".py",
   "mimetype": "text/x-python",
   "name": "python",
   "nbconvert_exporter": "python",
   "pygments_lexer": "ipython3",
   "version": "3.9.13"
  },
  "otter": {
   "assignment_name": "Module09_lab"
  }
 },
 "nbformat": 4,
 "nbformat_minor": 5
}
