{
 "cells": [
  {
   "cell_type": "code",
   "execution_count": null,
   "id": "d2864ecb",
   "metadata": {
    "tags": [
     "remove_cell"
    ]
   },
   "outputs": [],
   "source": [
    "# Setting up the Colab environment. DO NOT EDIT!\n",
    "try:\n",
    "  from applied_biostats import setup_environment\n",
    "except ImportError:\n",
    "  !pip -q install applied-biostats-helper\n",
    "  from applied_biostats import setup_environment\n",
    "finally:\n",
    "  grader = setup_environment('Module07_lab')"
   ]
  },
  {
   "cell_type": "markdown",
   "id": "c52bc97e",
   "metadata": {},
   "source": [
    "# Lab"
   ]
  },
  {
   "cell_type": "markdown",
   "id": "8cb0521c",
   "metadata": {},
   "source": [
    "## Learning Objectives\n",
    "At the end of this learning activity you will be able to:\n",
    " - Practice creating statistical figures to answer biological questions.\n",
    " - Practice writing figure legends for statistical figures.\n",
    " - Practice writing descriptive reasonings about a figure."
   ]
  },
  {
   "cell_type": "markdown",
   "id": "8ef8cd2d",
   "metadata": {},
   "source": [
    "**Note**: It is difficult to automatically grade figures as they are many \"correct\" answers.\n",
    "So, most questions will accept _any_ figure or axis and then ask you to answer a question that should be obvious from a properly generated figure.\n",
    "For all questions, assume a 95% interval."
   ]
  },
  {
   "cell_type": "code",
   "execution_count": null,
   "id": "1d8dd262",
   "metadata": {},
   "outputs": [],
   "source": [
    "import numpy as np\n",
    "import pandas as pd\n",
    "import matplotlib.pyplot as plt\n",
    "import seaborn as sns\n",
    "\n",
    "%matplotlib inline"
   ]
  },
  {
   "cell_type": "code",
   "execution_count": null,
   "id": "8428b012",
   "metadata": {},
   "outputs": [],
   "source": [
    "cell_level_data = pd.read_csv('pHrodo_DMEM.csv')\n",
    "cell_level_data.head()"
   ]
  },
  {
   "cell_type": "markdown",
   "id": "c47d1450",
   "metadata": {},
   "source": [
    "## How full is each cell?"
   ]
  },
  {
   "cell_type": "markdown",
   "id": "4cf549d8",
   "metadata": {},
   "source": [
    "The strategy of using the number of beads in a cell as our count is that it is impacted by the size of the cell.\n",
    "Small cells can only eat a few beads, large cells can eat many.\n",
    "To address this we'll create a new measurement, the fraction of the cell containing beads.\n",
    "This way, small cells that are 'stuffed' with beads will beat out large cells with only a few beads.\n",
    "\n",
    "For this analysis we'll use:\n",
    " - `ObjectAreaCh1` - The area of the entire cell.\n",
    " - `SpotTotalAreaCh2` - The area of the cell containing beads."
   ]
  },
  {
   "cell_type": "markdown",
   "id": "69b17459",
   "metadata": {},
   "source": [
    "### Q1: Create an `fraction_area_covered` column\n",
    "\n",
    "Checked variables:\n",
    " * `cell_level_data['fraction_area_covered']` - The fraction of the area of each cell covered by pH responsive beads\n",
    " * `q1_plot` - A barplot showing the mean area of each cell covered split by well.\n",
    "\n",
    "|               |    |\n",
    "| --------------|----|\n",
    "| Points        | 5  |\n",
    "| Public Checks | 2  |\n",
    "| Hidden Tests  | 1  |\n",
    "\n",
    "_Points:_ 5"
   ]
  },
  {
   "cell_type": "code",
   "execution_count": null,
   "id": "c322359b",
   "metadata": {
    "tags": []
   },
   "outputs": [],
   "source": [
    "# What fraction of the cell's area is covered by phrodo beads\n",
    "\n",
    "cell_level_data['fraction_area_covered'] = ...\n"
   ]
  },
  {
   "cell_type": "code",
   "execution_count": null,
   "id": "83072bbd",
   "metadata": {
    "tags": []
   },
   "outputs": [],
   "source": [
    "# Create a barplot of the fraction_area_covered in each well\n",
    "# Your answers should be between 0 and 1.\n",
    "\n",
    "q1_plot = ...\n"
   ]
  },
  {
   "cell_type": "code",
   "execution_count": null,
   "id": "fd6efcd1",
   "metadata": {
    "deletable": false,
    "editable": false
   },
   "outputs": [],
   "source": [
    "grader.check(\"q1_area_covered\")"
   ]
  },
  {
   "cell_type": "markdown",
   "id": "8ba05361",
   "metadata": {},
   "source": [
    "### Q2: Merge well_level_data with plate-map and visualize\n",
    "\n",
    "Checked variables:\n",
    " * `plate_map` - Reading the plate_map.csv file.\n",
    " * `well_level_data` - A `pd.DataFrame` where each well is an index (row) and has 3 columns, `mean`, `sem`, and `count` calculated from the `fraction_area_covered` of the cells in the well.\n",
    " * `sample_level_data` - A `pd.DataFrame` that is the merging of the `plate_map` and `well_level_data`.\n",
    " * `q2a` - Which experimental condition (pHrodo_conc_ug) had less noise in the measurement?\n",
    " * `q2b`-  Does this graph show evidence that dopamine increases the percentage of the cell that contains beads?\n",
    " * `q2_plot` - Any plot that justifies your answers for `q2a` and `q2b`.\n",
    "\n",
    "|               |    |\n",
    "| --------------|----|\n",
    "| Points        | 5  |\n",
    "| Public Checks | 2  |\n",
    "| Hidden Tests  | 1  |\n",
    "\n",
    "_Points:_ 5"
   ]
  },
  {
   "cell_type": "code",
   "execution_count": null,
   "id": "97190093",
   "metadata": {
    "tags": []
   },
   "outputs": [],
   "source": [
    "# Load in plate map\n",
    "plate_map = ..."
   ]
  },
  {
   "cell_type": "code",
   "execution_count": null,
   "id": "7b8da306",
   "metadata": {
    "tags": []
   },
   "outputs": [],
   "source": [
    "# Group the cell level data by well and for each well calculate the mean, standard-error of the mean, and the number of cells\n",
    "\n",
    "well_level_data = ...\n",
    "well_level_data.head()"
   ]
  },
  {
   "cell_type": "code",
   "execution_count": null,
   "id": "09eb3595",
   "metadata": {
    "tags": []
   },
   "outputs": [],
   "source": [
    "# Merge well_level_data with the platemap\n",
    "\n",
    "sample_level_data = ...\n",
    "sample_level_data.head()"
   ]
  },
  {
   "cell_type": "code",
   "execution_count": null,
   "id": "434a43d1",
   "metadata": {
    "tags": []
   },
   "outputs": [],
   "source": [
    "### Visualize merged dataset\n",
    "# Create any visualization which answers the questions below.\n",
    "# Feel free to explore other functions like `lineplot` & `pointplot`.\n",
    "\n",
    "\n",
    "q2_plot = ...\n"
   ]
  },
  {
   "cell_type": "code",
   "execution_count": null,
   "id": "477898af",
   "metadata": {
    "tags": []
   },
   "outputs": [],
   "source": [
    "# Which experimental condition (pHrodo_conc_ug) had less noise in the measurement?\n",
    "# Answer 5.0 or 7.5\n",
    "q2a = ...\n",
    "\n",
    "# Write your reasoning in a Markdown cell after this."
   ]
  },
  {
   "cell_type": "code",
   "execution_count": null,
   "id": "ea18ec9f",
   "metadata": {
    "tags": []
   },
   "outputs": [],
   "source": [
    "# Does this graph show evidence that dopamine increases \n",
    "# the percentage of the cell that contains beads?\n",
    "# Anwser 'yes' or 'no'\n",
    "q2b = ...\n",
    "\n",
    "# Write your reasoning in a Markdown cell after this."
   ]
  },
  {
   "cell_type": "code",
   "execution_count": null,
   "id": "307b2e9a",
   "metadata": {
    "deletable": false,
    "editable": false
   },
   "outputs": [],
   "source": [
    "grader.check(\"q2_merge\")"
   ]
  },
  {
   "cell_type": "markdown",
   "id": "56bd1cb7",
   "metadata": {},
   "source": [
    "This week we explored how to summarize large datasets by sample.\n",
    "This aggregation is often important for downstream inferential tests like t-tests and ANOVAs.\n",
    "However, this technique also looses a significant amount of information; ~525 numbers are compressed to a single value.\n",
    "We will also explore more nuanced techniques like regression which allows us to use each of these points individually."
   ]
  },
  {
   "cell_type": "markdown",
   "id": "16b55573",
   "metadata": {},
   "source": [
    "--------------------------------------------"
   ]
  },
  {
   "cell_type": "markdown",
   "id": "c70b7638",
   "metadata": {},
   "source": [
    "## Submission\n",
    "\n",
    "Check:\n",
    " - That all tables and graphs are rendered properly.\n",
    " - Code completes without errors by using `Restart & Run All`.\n",
    " - All checks **pass**.\n",
    " \n",
    "Then save the notebook and the `File` -> `Download` -> `Download .ipynb`. Upload this file to BBLearn."
   ]
  }
 ],
 "metadata": {
  "kernelspec": {
   "display_name": "Python 3 (ipykernel)",
   "language": "python",
   "name": "python3"
  },
  "language_info": {
   "codemirror_mode": {
    "name": "ipython",
    "version": 3
   },
   "file_extension": ".py",
   "mimetype": "text/x-python",
   "name": "python",
   "nbconvert_exporter": "python",
   "pygments_lexer": "ipython3",
   "version": "3.9.13"
  },
  "otter": {
   "assignment_name": "Module07_lab"
  }
 },
 "nbformat": 4,
 "nbformat_minor": 5
}
