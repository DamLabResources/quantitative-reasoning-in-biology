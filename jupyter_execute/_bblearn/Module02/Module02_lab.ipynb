{
 "cells": [
  {
   "cell_type": "code",
   "execution_count": null,
   "id": "34b4e840-2cfb-4a38-a195-dd9ea97d194f",
   "metadata": {
    "tags": [
     "remove_cell"
    ]
   },
   "outputs": [],
   "source": [
    "# Setting up the Colab environment. DO NOT EDIT!\n",
    "import os\n",
    "import warnings\n",
    "warnings.filterwarnings(\"ignore\")\n",
    "\n",
    "try:\n",
    "    import otter\n",
    "\n",
    "except ImportError:\n",
    "    ! pip install -q otter-grader==4.0.0\n",
    "    import otter\n",
    "\n",
    "if not os.path.exists('walkthrough-tests'):\n",
    "    zip_files = [f for f in os.listdir() if f.endswith('.zip')]\n",
    "    assert len(zip_files)>0, 'Could not find any zip files!'\n",
    "    assert len(zip_files)==1, 'Found multiple zip files!'\n",
    "    ! unzip {zip_files[0]}\n",
    "\n",
    "grader = otter.Notebook(colab=True,\n",
    "                        tests_dir = 'lab-tests')"
   ]
  },
  {
   "cell_type": "markdown",
   "id": "e6cbb4bc",
   "metadata": {},
   "source": [
    "# Lab\n",
    "\n",
    "Remember, all labs are due at 11:59 PM (Philadelphia time) on the Sunday of each instructional week."
   ]
  },
  {
   "cell_type": "markdown",
   "id": "759a7bed",
   "metadata": {},
   "source": [
    "## Introduction\n",
    "\n",
    "In this lab, we will delve into the exciting world of viral sample preparation for nanopore sequencing for COIVD-19 sequencing.\n",
    "Specifically, we will be comparing the yield of two different RT-PCR methods: the Paragon system and the PacBio system.\n",
    "\n",
    "Before we can sequence our samples, we need to make sure that we have a sufficient amount of DNA to work with.\n",
    "This means calculating the appropriate dilutions of our samples to ensure that we have enough material to generate accurate and reliable results.\n",
    "\n",
    "The Paragon system uses over 200 pairs of overlapping PCR primers that generate DNA fragments that are, on average, 285 basepairs long.\n",
    "On the other hand, the PacBio system uses 35 overlapping fragments that have an average length of 2200 bp.\n",
    "It will be interesting to see which method produces a higher yield of DNA and is more efficient in preparing our samples for sequencing.\n",
    "\n",
    "Get ready to dive into some math and use Python to compare these two RT-PCR methods!"
   ]
  },
  {
   "cell_type": "markdown",
   "id": "42b6e398",
   "metadata": {
    "tags": []
   },
   "source": [
    "## Learning Objectives\n",
    "\n",
    "By the end of this activity, you will be able to:\n",
    "\n",
    " - Apply basic math in Python to summarize an experimental result.\n",
    " - Create f-strings to display dynamic results.\n",
    " - Compare and contrast the Nanopore and PacBio systems in terms of sample preparation for nCov2 sequencing."
   ]
  },
  {
   "cell_type": "markdown",
   "id": "ef61a24c",
   "metadata": {},
   "source": [
    "# Protocol Evaluation"
   ]
  },
  {
   "cell_type": "markdown",
   "id": "3656b35c",
   "metadata": {},
   "source": [
    "In the COVID sequencing lab we often have to evaluate multiple techniques for preparing viral samples for sequencing.\n",
    "There are *many* aspects to this comparison, but one important one is the yield of the reaction that prepares DNA for sequencing.\n",
    "This reaction is called an RT-PCR reaction because it _reverse-transcribes_ the nCov2 RNA into DNA through a _polymerase chain reaction_.\n",
    "\n",
    "Currently, our lab uses a system with over 200 pairs of overlapping PCR primers that generate DNA fragments that are, on average, **285 basepairs** long.\n",
    "We'll call this the _Paragon_ system.\n",
    "Short RT-PCR fragments are ideal when dealing with degraded RNA because it allows for the amplification of even shredded RNA.\n",
    "However, because no fragment is longer than ~300bp it is difficult to tell whether a mutation in one gene is 'linked' with a mutation in another gene.\n",
    "\n",
    "So, we are exploring another technique, which we'll call the _PacBio_ system.\n",
    "This system uses 35 overlapping fragments that have an average length of **2200 bp**.\n",
    "These longer fragments help with understanding the linkage between more distant locations but are more difficult to run on degraded samples.\n",
    "\n",
    "In this lab, you will work through a basic exercise in evaluating the yield of the _Paragon_ and _PacBio_ systems."
   ]
  },
  {
   "cell_type": "markdown",
   "id": "5061a0f9",
   "metadata": {
    "deletable": false,
    "editable": false,
    "tags": []
   },
   "source": [
    "## Q1: Extract the relevant information from the text above"
   ]
  },
  {
   "cell_type": "markdown",
   "id": "f1b3edd8-6186-4581-8609-17858b3bc16a",
   "metadata": {
    "deletable": false,
    "editable": false
   },
   "source": [
    "|               |    |\n",
    "| --------------|----|\n",
    "| Points        | 2  |\n",
    "| Public Checks | 2  |\n",
    "| Hidden Tests  | 0  |\n",
    "\n",
    "_Points:_ 2"
   ]
  },
  {
   "cell_type": "code",
   "execution_count": null,
   "id": "3501ba5e",
   "metadata": {
    "tags": []
   },
   "outputs": [],
   "source": [
    "# It is often useful to define all of your variables at the beginning.\n",
    "# It is helpful to include units using '#' to keep track of your calculations\n",
    "\n",
    "dna_weight = 650  # g/mole/bp\n",
    "\n",
    "# bp\n",
    "paragon_amplicon_length = ...\n",
    "pacbio_amplicon_length = ..."
   ]
  },
  {
   "cell_type": "code",
   "execution_count": null,
   "id": "17340257",
   "metadata": {
    "deletable": false,
    "editable": false
   },
   "outputs": [],
   "source": [
    "grader.check(\"q1_amp_length\")"
   ]
  },
  {
   "cell_type": "markdown",
   "id": "9543c5fd",
   "metadata": {
    "deletable": false,
    "editable": false
   },
   "source": [
    "## Q2: Calculate the molecular weight of each template\n",
    "\n",
    "In this lab, we are comparing the yield of two different RT-PCR methods for preparing viral samples for nanopore sequencing.\n",
    "In order to accurately compare the yield of each method, it is important to know the molecular weight of the templates being used.\n",
    "Therefore, as a part of this lab, we need to calculate the molecular weight of each template.\n",
    "This will allow us to accurately compare the yield of each method and understand how the different characteristics of each method may impact the overall results."
   ]
  },
  {
   "cell_type": "markdown",
   "id": "23f6ffe6-c96f-4fa7-b726-babc32aea689",
   "metadata": {
    "deletable": false,
    "editable": false
   },
   "source": [
    "|               |    |\n",
    "| --------------|----|\n",
    "| Points        | 2  |\n",
    "| Public Checks | 4  |\n",
    "| Hidden Tests  | 0  |"
   ]
  },
  {
   "cell_type": "markdown",
   "id": "1f562c6b-6094-4cc1-b3bb-e5b7b00fd213",
   "metadata": {
    "deletable": false,
    "editable": false
   },
   "source": [
    "_Feeling stuck?_\n",
    "\n",
    "Try doing it on **paper** first.\n",
    "\n",
    "_Points:_ 4"
   ]
  },
  {
   "cell_type": "code",
   "execution_count": null,
   "id": "616cfa9e",
   "metadata": {
    "tags": []
   },
   "outputs": [],
   "source": [
    "paragon_template_weight = ...\n",
    "pacbio_template_weight = ..."
   ]
  },
  {
   "cell_type": "code",
   "execution_count": null,
   "id": "771e26f2-f530-4c8f-9a10-7460718611b0",
   "metadata": {
    "tags": []
   },
   "outputs": [],
   "source": [
    "# Complete the cell above before running this one\n",
    "print(f'The Paragon templates weigh {paragon_template_weight} g/mole')\n",
    "print(f'The PacBio templates weigh {pacbio_template_weight} g/mole')"
   ]
  },
  {
   "cell_type": "code",
   "execution_count": null,
   "id": "d976cd68",
   "metadata": {
    "deletable": false,
    "editable": false
   },
   "outputs": [],
   "source": [
    "grader.check(\"q2_mol_weight\")"
   ]
  },
  {
   "cell_type": "markdown",
   "id": "7079268b",
   "metadata": {},
   "source": [
    "In order to investigate the impact of degradation on the yield of each protocol, you will examine two samples.\n",
    "One sample has been freshly isolated and the other has been left at room temperature for 72 hours before preparation.\n",
    "We then ran each sample according to the manufacturer's guidelines.\n",
    "\n",
    "We obtained the following results after quantification of **15 ul** of final volume.\n",
    "\n",
    "sample | Fresh | Degraded\n",
    "-------|-------|---------\n",
    "Paragon| 21.4 ng/ul  | 19.3 ng/ul\n",
    "PacBio | 38.1 ng/ul | 7.4 ng/ul"
   ]
  },
  {
   "cell_type": "markdown",
   "id": "4e4e3288",
   "metadata": {
    "deletable": false,
    "editable": false,
    "tags": []
   },
   "source": [
    "## Q3: What is the _molarity_ of each _Paragon_ sample?"
   ]
  },
  {
   "cell_type": "markdown",
   "id": "79a948c3-a115-4778-9f05-05fc181c8e73",
   "metadata": {
    "deletable": false,
    "editable": false
   },
   "source": [
    "|               |    |\n",
    "| --------------|----|\n",
    "| Points        | 4  |\n",
    "| Public Checks | 4  |\n",
    "| Hidden Tests  | 2  |"
   ]
  },
  {
   "cell_type": "markdown",
   "id": "0d103e2d-10f3-4ff2-80a9-7710b895db02",
   "metadata": {
    "deletable": false,
    "editable": false
   },
   "source": [
    "_Feeling stuck?_\n",
    "\n",
    "Try doing it on **paper** first.\n",
    "\n",
    "A typical molarity for this protocol is between 50 and 500 fmols/ul.\n",
    "\n",
    "_Points:_ 4"
   ]
  },
  {
   "cell_type": "code",
   "execution_count": null,
   "id": "f2f1982d",
   "metadata": {
    "tags": []
   },
   "outputs": [],
   "source": [
    "# Add variables to hold the concentration of each sample\n",
    "\n",
    "# Answer in fmoles/ul\n",
    "paragon_fresh_molarity = ...\n",
    "paragon_degraded_molarity = ..."
   ]
  },
  {
   "cell_type": "code",
   "execution_count": null,
   "id": "4ec35aab-f3e5-445a-9155-7cd617cef937",
   "metadata": {
    "tags": []
   },
   "outputs": [],
   "source": [
    "# If the cell above is correct, this will print the results.\n",
    "print(f'The fresh Paragon-prepped sample has a concentration of {paragon_fresh_molarity:0.1f} fmoles/ul')\n",
    "print(f'The degraded Paragon-prepped sample has a concentration of {paragon_degraded_molarity:0.1f} fmoles/ul')"
   ]
  },
  {
   "cell_type": "code",
   "execution_count": null,
   "id": "fb9356ce",
   "metadata": {
    "deletable": false,
    "editable": false
   },
   "outputs": [],
   "source": [
    "grader.check(\"q3_molarity\")"
   ]
  },
  {
   "cell_type": "markdown",
   "id": "79ba48ab",
   "metadata": {
    "deletable": false,
    "editable": false
   },
   "source": [
    "## Q4: What is the yield of each _PacBio_ sample?\n",
    "\n",
    "Now, let's calculate the yield of the fresh and degraded PacBio samples.\n",
    "The yield is the total amount of DNA produced in the reaction (as measured in femptomoles).\n",
    "This information is important because it allows us to compare the efficiency of the PacBio system in both fresh and degraded samples and determine whether it is a suitable method for our purposes.\n",
    "\n",
    "_Points:_ 5"
   ]
  },
  {
   "cell_type": "code",
   "execution_count": null,
   "id": "31a924b3-64f6-46c9-af42-14662afd9976",
   "metadata": {
    "tags": []
   },
   "outputs": [],
   "source": [
    "# Add variables to hold the concentration of each sample in ng/ul"
   ]
  },
  {
   "cell_type": "code",
   "execution_count": null,
   "id": "f9479395-36ad-4877-b13f-17525e95b63b",
   "metadata": {
    "tags": []
   },
   "outputs": [],
   "source": [
    "# Calculate the molarity of each sample\n",
    "\n",
    "pacbio_fresh_molarity = ...\n",
    "pacbio_degraded_molarity = ..."
   ]
  },
  {
   "cell_type": "code",
   "execution_count": null,
   "id": "d3e9bdf8-0074-42fa-8a08-08c05be01abf",
   "metadata": {
    "tags": []
   },
   "outputs": [],
   "source": [
    "print(f'The fresh PacBio-prepped sample had a molarity of {pacbio_fresh_molarity:0.1f} fmoles/ul')\n",
    "print(f'The degraded PacBio-prepped sample had a molarity of {pacbio_degraded_molarity:0.1f} fmoles/ul')"
   ]
  },
  {
   "cell_type": "code",
   "execution_count": null,
   "id": "c0ae4085",
   "metadata": {
    "tags": []
   },
   "outputs": [],
   "source": [
    "# Calculate the total vield\n",
    "\n",
    "pacbio_fresh_yield = ...\n",
    "pacbio_degraded_yield = ..."
   ]
  },
  {
   "cell_type": "code",
   "execution_count": null,
   "id": "28cc34de-5747-4b55-ba6d-5a955b686e90",
   "metadata": {
    "tags": []
   },
   "outputs": [],
   "source": [
    "print(f'The fresh PacBio-prepped sample had a yield of {pacbio_fresh_yield:0.1f} fmoles')\n",
    "print(f'The degraded PacBio-prepped sample has a yield of {pacbio_degraded_yield:0.1f} fmoles')"
   ]
  },
  {
   "cell_type": "code",
   "execution_count": null,
   "id": "ea5350f7",
   "metadata": {
    "deletable": false,
    "editable": false
   },
   "outputs": [],
   "source": [
    "grader.check(\"q4_dna_yield\")"
   ]
  },
  {
   "cell_type": "markdown",
   "id": "b75f84e1",
   "metadata": {
    "deletable": false,
    "editable": false
   },
   "source": [
    "## Q5: Which samples are _usable_?\n",
    "\n",
    "In order to determine which samples are suitable for use in the sequencing protocol, you must first determine if they have sufficient concentration of DNA.\n",
    "As stated in the protocol, you need to provide 200 fmoles of DNA in 10 ul of dH20.\n",
    "Based on the yield data that you calculated for the fresh and degraded PacBio and Paragon samples, you will need to determine which samples have a concentration of DNA that meets or exceeds this requirement.\n",
    "In other words, you will need to determine which samples are usable for the sequencing protocol based on their DNA concentration."
   ]
  },
  {
   "cell_type": "markdown",
   "id": "5e380229-45f2-44a4-b3be-19d85da413fd",
   "metadata": {
    "deletable": false,
    "editable": false
   },
   "source": [
    "|               |    |\n",
    "| --------------|----|\n",
    "| Points        | 6  |\n",
    "| Public Checks | 1  |\n",
    "| Hidden Tests  | 4  |\n",
    "\n",
    "_Points:_ 6"
   ]
  },
  {
   "cell_type": "code",
   "execution_count": null,
   "id": "4313b39a-ad2f-43c3-add8-c43badbd5806",
   "metadata": {
    "tags": []
   },
   "outputs": [],
   "source": [
    "# Do the necessary calculations in this cell or the create more above.\n",
    "# Remember, you can use variables that you have calculated in cells before.\n",
    "# Finally, write a set of formatted print statements that describe the volume of DNA required for each reaction."
   ]
  },
  {
   "cell_type": "code",
   "execution_count": null,
   "id": "0994f911",
   "metadata": {
    "tags": []
   },
   "outputs": [],
   "source": [
    "# put a 'yes' or 'no' for each sample\n",
    "\n",
    "paragon_fresh_usable = ...\n",
    "paragon_degraded_usable = ...\n",
    "\n",
    "pacbio_fresh_usable = ...\n",
    "pacbio_degraded_usable = ..."
   ]
  },
  {
   "cell_type": "code",
   "execution_count": null,
   "id": "659ddc7c",
   "metadata": {
    "deletable": false,
    "editable": false
   },
   "outputs": [],
   "source": [
    "grader.check(\"q5_usable_samples\")"
   ]
  },
  {
   "cell_type": "markdown",
   "id": "9a2e0359",
   "metadata": {},
   "source": [
    "# Conclusion\n",
    "\n",
    "Congratulations on completing this lab! You have successfully compared the yield of two different RT-PCR methods for preparing viral samples for genomic sequencing.\n",
    "You have determined that the Nanopore system is ideal for degraded samples due to its shorter PCR fragments, while the PacBio system is better for fresher samples and is able to produce longer sequencing fragments.\n",
    "This is just the beginning of your journey with Python and data analysis.\n",
    "Keep up the great work as we continue to expand on these techniques and explore more complicated results in future assignments."
   ]
  },
  {
   "cell_type": "markdown",
   "id": "820ef34d",
   "metadata": {},
   "source": [
    "--------------------------------------------"
   ]
  },
  {
   "cell_type": "markdown",
   "id": "f6c941df",
   "metadata": {},
   "source": [
    "## Submission\n",
    "\n",
    "Check:\n",
    " - That all tables and graphs are rendered properly.\n",
    " - Code completes without errors by using `Restart & Run All`.\n",
    " - All checks **pass**.\n",
    " - Excess code cells and print statments have been removed to create a _clean_ submission.\n",
    "\n",
    "Remember, as this is a lab, there are hidden tests that you will be evaluated against.\n",
    "Just because all checks pass does not mean everything is correct.\n",
    "Double-check your work!\n",
    "\n",
    "Then save the notebook and the `File` -> `Download` -> `Download .ipynb`. Upload this file to BBLearn."
   ]
  }
 ],
 "metadata": {
  "kernelspec": {
   "display_name": "Python 3 (ipykernel)",
   "language": "python",
   "name": "python3"
  },
  "language_info": {
   "codemirror_mode": {
    "name": "ipython",
    "version": 3
   },
   "file_extension": ".py",
   "mimetype": "text/x-python",
   "name": "python",
   "nbconvert_exporter": "python",
   "pygments_lexer": "ipython3",
   "version": "3.9.13"
  },
  "otter": {
   "assignment_name": "Module02_lab"
  }
 },
 "nbformat": 4,
 "nbformat_minor": 5
}