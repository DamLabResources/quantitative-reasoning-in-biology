{
 "cells": [
  {
   "cell_type": "markdown",
   "id": "39b90abd",
   "metadata": {
    "tags": []
   },
   "source": [
    "# Walkthrough"
   ]
  },
  {
   "cell_type": "markdown",
   "id": "7d328201",
   "metadata": {},
   "source": [
    "## Learning Objectives\n",
    "At the end of this learning activity you will be able to:\n",
    "\n",
    " - Use basic arithmetic operations in Python.\n",
    " - Summarize the basic expression syntax in Python.\n",
    " - Write an equation that uses the result of one variable to calculate the value of another. \n",
    " - Create basic `f-strings` in Python to display dynamically created data.\n",
    " - Summarize a general strategy for using Python to calculate dilutions."
   ]
  },
  {
   "cell_type": "code",
   "execution_count": 1,
   "id": "1f5bca64",
   "metadata": {
    "tags": [
     "remove_cell"
    ]
   },
   "outputs": [],
   "source": [
    "# Setting up the Colab environment. DO NOT EDIT!\n",
    "import os\n",
    "import warnings\n",
    "warnings.filterwarnings(\"ignore\")\n",
    "\n",
    "try:\n",
    "    import otter\n",
    "\n",
    "except ImportError:\n",
    "    ! pip install -q otter-grader==4.0.0\n",
    "    import otter\n",
    "\n",
    "if not os.path.exists('walkthrough-tests'):\n",
    "    zip_files = [f for f in os.listdir() if f.endswith('.zip')]\n",
    "    assert len(zip_files)>0, 'Could not find any zip files!'\n",
    "    assert len(zip_files)==1, 'Found multiple zip files!'\n",
    "    ! unzip {zip_files[0]}\n",
    "\n",
    "grader = otter.Notebook(colab=True,\n",
    "                        tests_dir = 'walkthrough-tests')"
   ]
  },
  {
   "cell_type": "markdown",
   "id": "480d97f7",
   "metadata": {},
   "source": [
    "## Programmatic Arithmetic in Python"
   ]
  },
  {
   "cell_type": "markdown",
   "id": "74acdc4b",
   "metadata": {},
   "source": [
    "Often times in the lab we have common tasks that we repeat over and over again. \n",
    "This can be anything from counting the number of cells on a plate, to normalizing values with a reference, to calculating dilutions for stock chemicals.\n",
    "Automating these types of tasks can lead to drastic speedups in the time it takes to get common tasks done. \n",
    "This week we'll use a common problem from molecular biology as our jumping off point into Python.\n",
    "\n",
    "Recently, my lab obtained a Nanopore MinION.\n",
    "It is a 1000 dollar, USB-key sized DNA sequencer that reads millions of bases for about 100 dollars per sample.\n",
    "As part of a Senior Design Project we used the device to track the COVID outbreak in the Drexel community using rapid sequencing.\n",
    "Watch the video explaining the project in the Recommended Materials for more context.\n",
    "This protocol requires numerous tedious calculations relating mass, moles, and concentrations.\n",
    "This week we will explore how to use Python to automate these calculations."
   ]
  },
  {
   "cell_type": "markdown",
   "id": "585be53f",
   "metadata": {},
   "source": [
    "The Nanopore sequencing protocol requires the operator to perform 3 enzymatic reactions:\n",
    " 1. `End-Prep`: Prepare the 3' and 5' ends of the DNA by removing single-basepair overhangs and add a single `A` at the end of the molecule.\n",
    " 2. `Barcode ligation`: Attach unique barcodes to each sample using a `T` overhang so each sample has an individual *key* at the start of the sequence.\n",
    " 3. `Adapter ligation`: After pooling each sample, another DNA molecule (called an *adapter*) needs to be added so it can attach to the motor protein inside the Nanopore device.\n",
    " \n",
    "Refer to the online textbook for more detail."
   ]
  },
  {
   "cell_type": "markdown",
   "id": "08824068",
   "metadata": {},
   "source": [
    "## The Problem"
   ]
  },
  {
   "cell_type": "markdown",
   "id": "01654844",
   "metadata": {},
   "source": [
    "Just like baking, when performing enzymatic reactions it is critical that we use the right amount of each ingredient.\n",
    "The Nanopore enzymatic reagents come in prescribed amounts and it is up to the operator to ensure that the correct initial amount of template DNA is added to each reaction.\n",
    "\n",
    "The amount of template DNA needed for each reaction is listed in the protocol in [*moles*](https://en.wikipedia.org/wiki/Mole_(unit)).\n",
    "Moles are a unit of \"amount\" such as the number of molecules of DNA, there are 6.022 × 10^(23) items in a mole.\n",
    "However, we can't *count* the amount of DNA we have in a test-tube.\n",
    "But, we can *weight* the DNA by looking at the amount of light absorbed by the sample using a device called a [Qubit](https://www.youtube.com/watch?v=RRKZN--7jqg).\n",
    "Then, if we know the number of nucleotides in the strand, we can convert the weight of the DNA into a number of *moles*.\n",
    "Refer to the course book for a in-depth review of math.\n",
    "\n",
    "Doing this calculation manually is tedious and prone to error. The perfect thing to automate."
   ]
  },
  {
   "cell_type": "markdown",
   "id": "53e95a79",
   "metadata": {},
   "source": [
    "## Walkthrough"
   ]
  },
  {
   "cell_type": "markdown",
   "id": "961949c3",
   "metadata": {},
   "source": [
    "We do this through a series of *expressions*.\n",
    "Remember, the computer is not 'space limited' we should write code so WE understand it.\n",
    "Not, try to make everything as short and compact as possible."
   ]
  },
  {
   "cell_type": "markdown",
   "id": "96d0f485",
   "metadata": {},
   "source": [
    "Assume you have a 25 ul of a 280 bp double-stranded template at that you measured to be a concentration of 50.6 ng/ul."
   ]
  },
  {
   "cell_type": "code",
   "execution_count": 2,
   "id": "ea6d8c02",
   "metadata": {},
   "outputs": [],
   "source": [
    "# It is often useful to define all of your variables at the beginning.\n",
    "amplicon_length = 280 # bp\n",
    "dna_weight = 650 # g/mole/bp\n",
    "dna_conc = 50.6 # ng/ul\n",
    "volume = 25 # ul"
   ]
  },
  {
   "cell_type": "markdown",
   "id": "04e6f943",
   "metadata": {},
   "source": [
    "## What is the template weight?"
   ]
  },
  {
   "cell_type": "code",
   "execution_count": 3,
   "id": "94bda41c",
   "metadata": {},
   "outputs": [
    {
     "name": "stdout",
     "output_type": "stream",
     "text": [
      "The template weighs 182000 g/mole\n"
     ]
    }
   ],
   "source": [
    "template_weight = amplicon_length*dna_weight\n",
    "print(f'The template weighs {template_weight} g/mole')"
   ]
  },
  {
   "cell_type": "markdown",
   "id": "d13a031c",
   "metadata": {},
   "source": [
    "## Q1: Calculate the molarity of the sample"
   ]
  },
  {
   "cell_type": "markdown",
   "id": "cd0a6616",
   "metadata": {
    "tags": [
     "remove_cell"
    ]
   },
   "source": [
    "|               |    |\n",
    "| --------------|----|\n",
    "| Points        | 2  |\n",
    "| Public Checks | 2  |\n",
    "| Hidden Tests  | 0  |\n",
    "\n",
    "_Points:_ 2"
   ]
  },
  {
   "cell_type": "code",
   "execution_count": 4,
   "id": "3f02f53e",
   "metadata": {
    "tags": [
     "otter_assign_solution_cell"
    ]
   },
   "outputs": [
    {
     "name": "stdout",
     "output_type": "stream",
     "text": [
      "The DNA molarity is 278.02197802197804 fmoles/ul\n"
     ]
    }
   ],
   "source": [
    "# Answer in fmoles/ul\n",
    "\n",
    "dna_molarity = dna_conc * 1E-9 / template_weight / 1E-15 # SOLUTION\n",
    "print(f'The DNA molarity is {dna_molarity} fmoles/ul')"
   ]
  },
  {
   "cell_type": "code",
   "execution_count": null,
   "id": "4b0ab848",
   "metadata": {
    "deletable": false,
    "editable": false
   },
   "outputs": [],
   "source": [
    "grader.check(\"q1_molarity\")"
   ]
  },
  {
   "cell_type": "markdown",
   "id": "ae500ce6",
   "metadata": {},
   "source": [
    "Some things to notice above:\n",
    " 1. There's an `f` immediately before the `'`. This makes it a \"formatted\" string. Or `f-string`.\n",
    " 2. There's a lot of different colors changing."
   ]
  },
  {
   "cell_type": "markdown",
   "id": "1d87609d",
   "metadata": {},
   "source": [
    "### `f-strings`\n",
    "\n",
    "These are a new (circa 2016) addition to Python that makes adding data into strings.\n",
    "Representing our results as dynamically changing explanatory statements helps make our analysis more transparent and reproducible.\n",
    "`f-strings` make this much easier.\n",
    "\n",
    "Take a look at this post from [The Python Guru](https://thepythonguru.com/python-string-formatting/) for an indepth explanation of the formatting."
   ]
  },
  {
   "cell_type": "markdown",
   "id": "0604096d",
   "metadata": {},
   "source": [
    "### Linting through color\n",
    "\n",
    "If we look around our notebook, we can see that there are a lot of different text colors.\n",
    "Those are hints at what Python thinks we're trying to tell it.\n",
    "Understanding the code can really help with debugging.\n",
    "\n",
    "\n",
    "Numbers are green.\n",
    "```python\n",
    "1231231\n",
    "```\n",
    "\n",
    "Variables are black.\n",
    "```python\n",
    "val = 1231231\n",
    "other = val\n",
    "```\n",
    "\n",
    "Strings are orange.\n",
    "```python\n",
    "val = '1231231'\n",
    "```\n",
    "_Even if they are strings of numbers._\n",
    "\n",
    "`f-strings` are orange.\n",
    "```python\n",
    "val = f'1231231'\n",
    "```\n",
    "\n",
    "\n",
    "`f-strings` are orange, unless it is between `{` `}`.\n",
    "```python\n",
    "age = 12\n",
    "val = f'This book is {age} years old.'\n",
    "```\n",
    "\n",
    "The parts between curly braces are replaced by the value in the code.\n",
    "\n",
    "\n",
    "Notice how imbalanced braces alters the color.\n",
    "```python\n",
    "age = 12\n",
    "val = f'This book is {age years old.'\n",
    "```\n",
    "\n",
    "\n",
    "\n",
    "\n",
    "\n"
   ]
  },
  {
   "cell_type": "markdown",
   "id": "4bb58982",
   "metadata": {},
   "source": [
    "## Q2: Calculate the amount of sample to add.\n",
    "\n",
    "The protocol requires us to start with 200 fmoles of template DNA.\n",
    "How many mircoliters of our stock do we need to start with?"
   ]
  },
  {
   "cell_type": "markdown",
   "id": "d4c1a0e9",
   "metadata": {
    "tags": [
     "remove_cell"
    ]
   },
   "source": [
    "|               |    |\n",
    "| --------------|----|\n",
    "| Points        | 2  |\n",
    "| Public Checks | 2  |\n",
    "| Hidden Tests  | 0  |\n",
    "\n",
    "_Points:_ 2"
   ]
  },
  {
   "cell_type": "code",
   "execution_count": 7,
   "id": "3982dbbc",
   "metadata": {
    "tags": [
     "otter_assign_solution_cell"
    ]
   },
   "outputs": [
    {
     "name": "stdout",
     "output_type": "stream",
     "text": [
      "You should add 0.72 ul of sample to your reaction.\n"
     ]
    }
   ],
   "source": [
    "# Answer in ul\n",
    "\n",
    "wanted_dna = 200 # fmoles\n",
    "\n",
    "volume_to_add = wanted_dna / dna_molarity # SOLUTION\n",
    "\n",
    "print(f'You should add {volume_to_add:0.2f} ul of sample to your reaction.')"
   ]
  },
  {
   "cell_type": "code",
   "execution_count": null,
   "id": "94718d49",
   "metadata": {
    "deletable": false,
    "editable": false
   },
   "outputs": [],
   "source": [
    "grader.check(\"q2_volume\")"
   ]
  },
  {
   "cell_type": "markdown",
   "id": "d452f28e",
   "metadata": {
    "tags": []
   },
   "source": [
    "## Q3: Describing the reaction yield\n",
    "\n",
    "Calculating how much **total** amount of DNA we created during the PCR is called the _yield_ of the reaction.\n",
    "\n",
    "Create an `f-string` that renders the yield in femtomoles of this reaction. Round your answer to the nearest integer."
   ]
  },
  {
   "cell_type": "markdown",
   "id": "20e4ffca",
   "metadata": {
    "tags": [
     "remove_cell"
    ]
   },
   "source": [
    "|               |    |\n",
    "| --------------|----|\n",
    "| Points        | 2  |\n",
    "| Public Checks | 2  |\n",
    "| Hidden Tests  | 0  |\n",
    "\n",
    "_Points:_ 2"
   ]
  },
  {
   "cell_type": "code",
   "execution_count": 10,
   "id": "a163fe85",
   "metadata": {
    "tags": [
     "otter_assign_solution_cell"
    ]
   },
   "outputs": [
    {
     "name": "stdout",
     "output_type": "stream",
     "text": [
      "The experiment yielded 6951 fmoles of DNA.\n"
     ]
    }
   ],
   "source": [
    "# Calculate the amount of DNA in the entire reaction\n",
    "# Answer in fmoles\n",
    "dna_yield = dna_molarity*volume # SOLUTION\n",
    "\n",
    "# Create an f-string that uses the dna_yield variable\n",
    "# and describes the result in a short sentence\n",
    "dna_yield_description = f'The experiment yielded {dna_yield:0.0f} fmoles of DNA.' # SOLUTION\n",
    "\n",
    "print(dna_yield_description)"
   ]
  },
  {
   "cell_type": "code",
   "execution_count": null,
   "id": "d739cfe8",
   "metadata": {
    "deletable": false,
    "editable": false
   },
   "outputs": [],
   "source": [
    "grader.check(\"q3_dna_yield\")"
   ]
  },
  {
   "cell_type": "markdown",
   "id": "68b66e7f",
   "metadata": {},
   "source": [
    "## Functions"
   ]
  },
  {
   "cell_type": "markdown",
   "id": "aa509a80",
   "metadata": {},
   "source": [
    "Functions are self contained blocks of code created for a reusable purpose.\n",
    "\n",
    "**Purpose:**\n",
    "* Modularity: Breaks down complex processes into smaller, manageable parts.\n",
    "* Reusability: Allows the same code to be used multiple times without repetition.\n",
    "* Organization: Makes the code more organized and easier to understand.\n",
    "\n",
    "\n",
    "```python\n",
    "def function_name(arg1, arg2, kwarg1=1, kwarg2='a'):\n",
    "    \"A brief function description\"\n",
    "\n",
    "    # do something with inputs\n",
    "    result = arg1 + 2*arg2\n",
    "\n",
    "    return result\n",
    "\n",
    "```"
   ]
  },
  {
   "cell_type": "markdown",
   "id": "f7e7d810",
   "metadata": {},
   "source": [
    "Instead of continually copy-paste-and-change, we should write a function.\n",
    "\n",
    "We've been using something like this to calculate the molarity from the concentration.\n",
    "\n",
    "```python\n",
    "dna_molarity = dna_conc * 1E-9 / template_weight / 1E-15 \n",
    "\n",
    "```"
   ]
  },
  {
   "cell_type": "code",
   "execution_count": 13,
   "id": "260c04ff",
   "metadata": {},
   "outputs": [],
   "source": [
    "def calc_molarity(sample_concentration, sample_length, base_weight=650):\n",
    "    \"\"\"Calculate molarity of samples.\n",
    "\n",
    "    sample_concentration : ng/ul\n",
    "    sample_length : bases\n",
    "    base_weight : g/mole/bp\n",
    "\n",
    "    returns molarity fmols/ul\n",
    "    \"\"\"\n",
    "\n",
    "    nano = 1E-9\n",
    "    fempto = 1E-15\n",
    "\n",
    "    amplicon_weight = sample_length*base_weight\n",
    "    molarity = sample_concentration * nano / amplicon_weight / fempto\n",
    "\n",
    "    return molarity\n"
   ]
  },
  {
   "cell_type": "markdown",
   "id": "7408be2c",
   "metadata": {},
   "source": [
    "Once created, we can use this function anywhere."
   ]
  },
  {
   "cell_type": "code",
   "execution_count": 14,
   "id": "5741fb62",
   "metadata": {},
   "outputs": [
    {
     "name": "stdout",
     "output_type": "stream",
     "text": [
      "Function calculated paragon molarity 278.0 fmols/ul\n"
     ]
    }
   ],
   "source": [
    "paragon_molarity = calc_molarity(50.6, 280)\n",
    "print(f'Function calculated paragon molarity {paragon_molarity:0.1f} fmols/ul')"
   ]
  },
  {
   "cell_type": "markdown",
   "id": "6fe630e7",
   "metadata": {},
   "source": [
    "Now, if we had another sample with a different concentration."
   ]
  },
  {
   "cell_type": "code",
   "execution_count": 15,
   "id": "064ac93f",
   "metadata": {},
   "outputs": [
    {
     "name": "stdout",
     "output_type": "stream",
     "text": [
      "Function calculated new molarity 827.5 fmols/ul\n"
     ]
    }
   ],
   "source": [
    "new_concentration = 150.6 # ng/ul\n",
    "\n",
    "new_paragon_molarity = calc_molarity(new_concentration, 280)\n",
    "print(f'Function calculated new molarity {new_paragon_molarity:0.1f} fmols/ul')"
   ]
  },
  {
   "cell_type": "markdown",
   "id": "442e31e9",
   "metadata": {},
   "source": [
    "Or, if *for some reason* you were making RNA, the `base_weight` would be different."
   ]
  },
  {
   "cell_type": "code",
   "execution_count": 16,
   "id": "b74a41cf",
   "metadata": {},
   "outputs": [
    {
     "name": "stdout",
     "output_type": "stream",
     "text": [
      "Function calculated rna molarity 1680.8 fmols/ul\n"
     ]
    }
   ],
   "source": [
    "rna_paragon_molarity = calc_molarity(new_concentration, 280, base_weight=320)\n",
    "print(f'Function calculated rna molarity {rna_paragon_molarity:0.1f} fmols/ul')"
   ]
  },
  {
   "cell_type": "markdown",
   "id": "ad491da4",
   "metadata": {
    "tags": []
   },
   "source": [
    "## Q4: Write a function which calculates the reaction yield\n",
    "\n",
    "Use the function above as a template to create on that further calculates the reaction yield in `fmols`."
   ]
  },
  {
   "cell_type": "markdown",
   "id": "514338b7",
   "metadata": {
    "tags": [
     "remove_cell"
    ]
   },
   "source": [
    "|               |    |\n",
    "| --------------|----|\n",
    "| Points        | 2  |\n",
    "| Public Checks | 2  |\n",
    "| Hidden Tests  | 0  |\n",
    "\n",
    "_Points:_ 2"
   ]
  },
  {
   "cell_type": "code",
   "execution_count": 17,
   "id": "9ad1dd46",
   "metadata": {
    "tags": [
     "otter_assign_solution_cell"
    ]
   },
   "outputs": [],
   "source": [
    "def calc_yield(sample_concentration, sample_length, sample_volume, base_weight=650):\n",
    "    \"\"\"Calculate molarity of samples.\n",
    "\n",
    "    sample_concentration : ng/ul\n",
    "    sample_length : bases\n",
    "    base_weight : g/mole/bp\n",
    "\n",
    "    returns sample_yield in fmols\n",
    "    \"\"\"\n",
    "    # BEGIN SOLUTION NO PROMPT\n",
    "\n",
    "    molarity = calc_molarity(sample_concentration, sample_length, base_weight=base_weight)\n",
    "    sample_yield = molarity*sample_volume\n",
    "\n",
    "    return sample_yield\n",
    "\n",
    "    # END SOLUTION\n"
   ]
  },
  {
   "cell_type": "code",
   "execution_count": 18,
   "id": "52e75d59",
   "metadata": {
    "tags": [
     "otter_assign_solution_cell"
    ]
   },
   "outputs": [
    {
     "name": "stdout",
     "output_type": "stream",
     "text": [
      "Current reaction yield is 6950.5 fmols\n"
     ]
    }
   ],
   "source": [
    "current_yield = calc_yield(50.6, 280, 25)\n",
    "print(f'Current reaction yield is {current_yield:0.1f} fmols')"
   ]
  },
  {
   "cell_type": "code",
   "execution_count": null,
   "id": "373d41f0",
   "metadata": {
    "deletable": false,
    "editable": false
   },
   "outputs": [],
   "source": [
    "grader.check(\"q4_function_yield\")"
   ]
  },
  {
   "cell_type": "markdown",
   "id": "e264fa23",
   "metadata": {},
   "source": [
    "## Conclusion"
   ]
  },
  {
   "cell_type": "markdown",
   "id": "c16d0359",
   "metadata": {},
   "source": [
    "In this walkthrough we have discussed a number of ways to perform basic math in Python.\n",
    "We also covered strategies to modularize processes into reusable functions.\n",
    "This week we worked with a 'one number at a time' strategy, in the next module we will explore using tables to work with multiple samples at the same time."
   ]
  },
  {
   "cell_type": "markdown",
   "id": "2755c9bf",
   "metadata": {
    "tags": [
     "remove_cell"
    ]
   },
   "source": [
    "## Submission\n",
    "\n",
    "You do not need to submit this walkthrough notebook.\n",
    "Simply complete the quiz."
   ]
  },
  {
   "cell_type": "code",
   "execution_count": null,
   "id": "9aeaed63",
   "metadata": {},
   "outputs": [],
   "source": []
  }
 ],
 "metadata": {
  "kernelspec": {
   "display_name": "Python 3 (ipykernel)",
   "language": "python",
   "name": "python3"
  },
  "language_info": {
   "codemirror_mode": {
    "name": "ipython",
    "version": 3
   },
   "file_extension": ".py",
   "mimetype": "text/x-python",
   "name": "python",
   "nbconvert_exporter": "python",
   "pygments_lexer": "ipython3",
   "version": "3.9.13"
  },
  "otter": {
   "assignment_name": "Module02_walkthrough"
  }
 },
 "nbformat": 4,
 "nbformat_minor": 5
}