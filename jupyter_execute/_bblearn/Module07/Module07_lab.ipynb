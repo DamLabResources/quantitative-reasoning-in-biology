{
 "cells": [
  {
   "cell_type": "code",
   "execution_count": null,
   "id": "5f6d24e1",
   "metadata": {
    "tags": [
     "remove_cell"
    ]
   },
   "outputs": [],
   "source": [
    "# Setting up the Colab environment. DO NOT EDIT!\n",
    "import os\n",
    "import warnings\n",
    "warnings.filterwarnings(\"ignore\")\n",
    "\n",
    "try:\n",
    "    import otter\n",
    "\n",
    "except ImportError:\n",
    "    ! pip install -q otter-grader==4.0.0\n",
    "    import otter\n",
    "\n",
    "if not os.path.exists('lab-tests'):\n",
    "    zip_files = [f for f in os.listdir() if f.endswith('.zip')]\n",
    "    assert len(zip_files)>0, 'Could not find any zip files!'\n",
    "    assert len(zip_files)==1, 'Found multiple zip files!'\n",
    "    ! unzip {zip_files[0]}\n",
    "\n",
    "grader = otter.Notebook(colab=True,\n",
    "                        tests_dir = 'lab-tests')"
   ]
  },
  {
   "cell_type": "markdown",
   "id": "66bd3552",
   "metadata": {},
   "source": [
    "# Lab"
   ]
  },
  {
   "cell_type": "markdown",
   "id": "1653ae0c",
   "metadata": {},
   "source": [
    "## Learning Objectives\n",
    "At the end of this learning activity you will be able to:\n",
    " - Practice creating statistical figures to answer biological questions.\n",
    " - Practice writing figure legends for statistical figures.\n",
    " - Practice writing descriptive reasonings about a figure."
   ]
  },
  {
   "cell_type": "markdown",
   "id": "bdb9119c",
   "metadata": {},
   "source": [
    "**Note**: It is difficult to automatically grade figures as they are many \"correct\" answers.\n",
    "So, most questions will accept _any_ figure or axis and then ask you to answer a question that should be obvious from a properly generated figure.\n",
    "For all questions, assume a 95% interval."
   ]
  },
  {
   "cell_type": "code",
   "execution_count": null,
   "id": "80b27711",
   "metadata": {},
   "outputs": [],
   "source": [
    "import numpy as np\n",
    "import pandas as pd\n",
    "import matplotlib.pyplot as plt\n",
    "import seaborn as sns\n",
    "\n",
    "%matplotlib inline"
   ]
  },
  {
   "cell_type": "code",
   "execution_count": null,
   "id": "4deb2882",
   "metadata": {},
   "outputs": [],
   "source": [
    "cell_level_data = pd.read_csv('pHrodo_DMEM.csv')\n",
    "cell_level_data.head()"
   ]
  },
  {
   "cell_type": "markdown",
   "id": "4cf73749",
   "metadata": {},
   "source": [
    "## How full is each cell?"
   ]
  },
  {
   "cell_type": "markdown",
   "id": "95780c39",
   "metadata": {},
   "source": [
    "The strategy of using the number of beads in a cell as our count is that it is impacted by the size of the cell.\n",
    "Small cells can only eat a few beads, large cells can eat many.\n",
    "To address this we'll create a new measurement, the fraction of the cell containing beads.\n",
    "This way, small cells that are 'stuffed' with beads will beat out large cells with only a few beads.\n",
    "\n",
    "For this analysis we'll use:\n",
    " - `ObjectAreaCh1` - The area of the entire cell.\n",
    " - `SpotTotalAreaCh2` - The area of the cell containing beads."
   ]
  },
  {
   "cell_type": "markdown",
   "id": "ffaf21b1",
   "metadata": {},
   "source": [
    "### Q1: Create an `fraction_area_covered` column"
   ]
  },
  {
   "cell_type": "markdown",
   "id": "c11f04cb",
   "metadata": {
    "tags": [
     "remove_cell"
    ]
   },
   "source": [
    "|               |    |\n",
    "| --------------|----|\n",
    "| Points        | 5  |\n",
    "| Public Checks | 2  |\n",
    "| Hidden Tests  | 1  |\n",
    "\n",
    "_Points:_ 5"
   ]
  },
  {
   "cell_type": "code",
   "execution_count": null,
   "id": "a4189ca6",
   "metadata": {
    "tags": []
   },
   "outputs": [],
   "source": [
    "# What percentage of the cell's area is covered by phrodo beads\n",
    "\n",
    "cell_level_data['fraction_area_covered'] = ...\n"
   ]
  },
  {
   "cell_type": "code",
   "execution_count": null,
   "id": "76cb161e",
   "metadata": {
    "tags": []
   },
   "outputs": [],
   "source": [
    "# Create a barplot of the fraction_area_covered in each well\n",
    "\n",
    "q1_plot = ...\n"
   ]
  },
  {
   "cell_type": "code",
   "execution_count": null,
   "id": "fee3e051",
   "metadata": {
    "deletable": false,
    "editable": false
   },
   "outputs": [],
   "source": [
    "grader.check(\"q1_area_covered\")"
   ]
  },
  {
   "cell_type": "markdown",
   "id": "971679fc",
   "metadata": {},
   "source": [
    "### Q2: Merge well_level_data with plate-map and visualize\n",
    "\n",
    "_Points:_ 5"
   ]
  },
  {
   "cell_type": "markdown",
   "id": "7504f389",
   "metadata": {},
   "source": [
    "_Type your answer here, replacing this text._"
   ]
  },
  {
   "cell_type": "code",
   "execution_count": null,
   "id": "0850e008",
   "metadata": {
    "tags": []
   },
   "outputs": [],
   "source": [
    "# Load in plate map\n",
    "plate_map = ..."
   ]
  },
  {
   "cell_type": "code",
   "execution_count": null,
   "id": "22d747ab",
   "metadata": {
    "tags": []
   },
   "outputs": [],
   "source": [
    "# Calculate the average `fraction_area_covered` for each well in the cell_level_data\n",
    "\n",
    "well_level_data = ...\n",
    "well_level_data.head()"
   ]
  },
  {
   "cell_type": "code",
   "execution_count": null,
   "id": "efceb67f",
   "metadata": {
    "tags": []
   },
   "outputs": [],
   "source": [
    "# Merge well_level_data with the platemap\n",
    "sample_level_data = ...\n",
    "sample_level_data.head()"
   ]
  },
  {
   "cell_type": "code",
   "execution_count": null,
   "id": "baffa788",
   "metadata": {
    "tags": []
   },
   "outputs": [],
   "source": [
    "\n",
    "q2_plot = ...\n"
   ]
  },
  {
   "cell_type": "code",
   "execution_count": null,
   "id": "c6e2e896",
   "metadata": {
    "tags": []
   },
   "outputs": [],
   "source": [
    "# Which experimental condition (pHrodo_conc_ug) had less noise in the measurement?\n",
    "# Answer 5.0 or 7.5\n",
    "q2a = ...\n"
   ]
  },
  {
   "cell_type": "code",
   "execution_count": null,
   "id": "87c99be4",
   "metadata": {
    "tags": []
   },
   "outputs": [],
   "source": [
    "# Does this graph show evidence that dopamine increases \n",
    "# the percentage of the cell that contains beadsd?\n",
    "# Anwser 'yes' or 'no'\n",
    "q2b = ...\n"
   ]
  },
  {
   "cell_type": "code",
   "execution_count": null,
   "id": "120b1693",
   "metadata": {
    "deletable": false,
    "editable": false
   },
   "outputs": [],
   "source": [
    "grader.check(\"q2_merge\")"
   ]
  },
  {
   "cell_type": "markdown",
   "id": "5fa0b629",
   "metadata": {},
   "source": [
    "This week we explored how to summarize large datasets by sample.\n",
    "This aggregation is often important for downstream inferential tests like t-tests and ANOVAs.\n",
    "However, this technique also looses a significant amount of information; ~525 numbers are compressed to a single value.\n",
    "We will also explore more nuanced techniques like regression which allows us to use each of these points individually."
   ]
  },
  {
   "cell_type": "markdown",
   "id": "6684ac1e",
   "metadata": {},
   "source": [
    "--------------------------------------------"
   ]
  },
  {
   "cell_type": "markdown",
   "id": "9e3fb1e6",
   "metadata": {},
   "source": [
    "## Submission\n",
    "\n",
    "Check:\n",
    " - That all tables and graphs are rendered properly.\n",
    " - Code completes without errors by using `Restart & Run All`.\n",
    " - All checks **pass**.\n",
    " \n",
    "Then save the notebook and the `File` -> `Download` -> `Download .ipynb`. Upload this file to BBLearn."
   ]
  }
 ],
 "metadata": {
  "kernelspec": {
   "display_name": "Python 3 (ipykernel)",
   "language": "python",
   "name": "python3"
  },
  "language_info": {
   "codemirror_mode": {
    "name": "ipython",
    "version": 3
   },
   "file_extension": ".py",
   "mimetype": "text/x-python",
   "name": "python",
   "nbconvert_exporter": "python",
   "pygments_lexer": "ipython3",
   "version": "3.9.13"
  },
  "otter": {
   "assignment_name": "Module07_lab"
  }
 },
 "nbformat": 4,
 "nbformat_minor": 5
}