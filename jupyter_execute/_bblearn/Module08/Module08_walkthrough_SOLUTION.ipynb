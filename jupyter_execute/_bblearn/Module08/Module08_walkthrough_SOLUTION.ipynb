{
 "cells": [
  {
   "cell_type": "code",
   "execution_count": 1,
   "id": "7b17d2f1",
   "metadata": {
    "tags": [
     "remove_cell"
    ]
   },
   "outputs": [],
   "source": [
    "# Setting up the Colab environment. DO NOT EDIT!\n",
    "try:\n",
    "    import otter, pingouin\n",
    "\n",
    "except ImportError:\n",
    "    ! pip install -q otter-grader==4.0.0, pingouin\n",
    "    import otter\n",
    "\n",
    "if not os.path.exists('walkthrough-tests'):\n",
    "    zip_files = [f for f in os.listdir() if f.endswith('.zip')]\n",
    "    assert len(zip_files)>0, 'Could not find any zip files!'\n",
    "    assert len(zip_files)==1, 'Found multiple zip files!'\n",
    "    ! unzip {zip_files[0]}\n",
    "\n",
    "grader = otter.Notebook(colab=True,\n",
    "                        tests_dir = 'walkthrough-tests')"
   ]
  },
  {
   "cell_type": "markdown",
   "id": "ed8e18d9",
   "metadata": {},
   "source": [
    "# Walkthrough"
   ]
  },
  {
   "cell_type": "markdown",
   "id": "13f8ddf5",
   "metadata": {},
   "source": [
    "## Learning Objectives\n",
    "At the end of this learning activity you will be able to: \n",
    " - Relate the null-hypotheses of chi2 tests, t-tests, ANOVAs, and Krustal-Wallace H-tests.\n",
    " - Calculate cross-tabulations of two categorical variables using `pd.crosstab`.\n",
    " - Employ `pg.chi2_independence` to estimate the correlation between two categorical variables.\n",
    " - Describe how to test if a distribution is normally distributed using multiple methods.\n",
    " - Employ `pg.ttest`, `pg.anova`, and `pg.kruskal` to look for differences in a dependent variable between different categorical variables.\n",
    " - Utilize post-hoc tests to refine the answer of an ANOVA."
   ]
  },
  {
   "cell_type": "markdown",
   "id": "aa2a0829",
   "metadata": {},
   "source": [
    "## Introduction"
   ]
  },
  {
   "cell_type": "markdown",
   "id": "99fd241b",
   "metadata": {},
   "source": [
    "As we discussed with Dr. Devlin in the introduction video, this week and next we are going to look at HIV neurocognitive impairment data from a cohort here at Drexel.\n",
    "Each patient was given a full-scale neuropsychological exam and the resulting values were aggregated and normalized into Z-scores based on demographically matched healthy individuals.\n",
    "\n",
    "In this walkthrough we will explore the demographic variables within this dataset to practice different types of hypothesis testing.\n",
    "In the lab you will dive deeper and explore the effects of antiretroviral medications on neurological impairment.\n",
    "In this cohort, we have two major drug regimens, d4T (Stavudine) and the newer Emtricitabine/tenofovir (Truvada).\n",
    "The older Stavudine is suspected to have neurotoxic effects that are not found in the newer Truvada.\n",
    "We will use inferential statistics to understand this effect."
   ]
  },
  {
   "cell_type": "markdown",
   "id": "8c920a92",
   "metadata": {},
   "source": [
    "## Hypothesis Testing"
   ]
  },
  {
   "cell_type": "markdown",
   "id": "01148e0c",
   "metadata": {},
   "source": [
    "Hypothesis testing is a type of inferential statistics in which one compares a distribution to a previously assumed _null_ model that represents the _simplest_ explanation of the world.\n",
    "The process of the test then involves rigorously evaluating the likelihood of observing this dataset under that _null_ assumption.\n",
    "If, after rigorous evaluation, we find that the likelihood of generating this dataset under null model is below some threshold (ie p<0.05) we _reject_ the null hypothesis and accept the alternative.\n",
    "\n",
    "While one can test arbitrarily complicated hypotheses, in biology we tend to fall back on a few go-to tests:\n",
    " * 2-factor tests (chi2-tests)\n",
    " * Tests of means (t-tests, ANOVAs, etc.)\n",
    " * Correlations (linear regression)\n",
    "\n",
    "We'll cover the first two this week, and the last next week."
   ]
  },
  {
   "cell_type": "markdown",
   "id": "e5cdd36c",
   "metadata": {},
   "source": [
    "When boiled down, all of these tests rigorously balance four things:\n",
    " * Effect size : How large is _difference observed_ divided by the _spread of the observations_.\n",
    " * Type 1 Error (false-positives, p-value) : The likelihood of incorrectly _rejecting_ the null hypothesis.\n",
    " * Type 2 Error (false-negatives, power) : The likelihood of incorrectly _accepting_ the null hypothesis.\n",
    " * Number of observations."
   ]
  },
  {
   "cell_type": "markdown",
   "id": "e3cbdcfd",
   "metadata": {},
   "source": [
    "## Pingouin"
   ]
  },
  {
   "cell_type": "markdown",
   "id": "03ca7750",
   "metadata": {},
   "source": [
    "The `pingouin` Python package is a statistical tool designed to bridge the gap between the data manipulation capabilities of pandas and the visualization strengths of seaborn, with a specific focus on ease of use and accessibility.\n",
    "It is particularly tailored towards researchers who are embarking on their journey into data exploration and biostatistics, leveraging their familiarity with pandas for data manipulation and seaborn for data visualization.\n",
    "\n",
    "`pingouin` is built on top of pandas `DataFrame` objects, which means that it integrates seamlessly with the pandas ecosystem.\n",
    "This allows users to effortlessly prepare their data using pandas and then apply statistical tests and models using pingouin.\n",
    "The package offers a wide range of statistical functions, including t-tests, ANOVAs, correlation tests, and regression analyses, with a syntax that is more intuitive and less verbose than some of its counterparts.\n",
    "This makes pingouin an attractive option for biologists who may not have a deep background in statistics but need to conduct sophisticated statistical analyses as part of their research."
   ]
  },
  {
   "cell_type": "markdown",
   "id": "87043a0e",
   "metadata": {},
   "source": [
    "Two other popular packages for statistical analysis in python are `scipy.stats` and `statsmodels`.\n",
    "Scipy offers many low-level functions for calculating basic statistical tests like t-tests, ANOVAs, Mann-Whitney, etc.\n",
    "However, these low level functions require extensive programming knowledge to leverage properly.\n",
    "\n",
    "Statsmodels offers a wealth of complex statistical modeling, p-value correction tools, and allows arbitrarily complicated regression analysis.\n",
    "However, due to its complexity, it is not approachable for beginners.\n",
    "\n",
    "Under the hood, Pingouin employs `scipy.stats`, `statsmodels`, and a number of other tools into a simple and intuitive API designed to be user-friendly and accessible.\n",
    "The outputs it creates are interpretable at a glance and contain outputs from a number of lower-level tools.\n",
    "This is intended to make it easier to apply statistical tests and interpret their results without getting bogged down in the complexities of statistical theory.\n",
    "Additionally, pingouin is designed to work well with Pandas and the Jupyter Notebook environment, which is popular among scientists for interactive data analysis."
   ]
  },
  {
   "cell_type": "markdown",
   "id": "e0ca237f",
   "metadata": {},
   "source": [
    "Check out the documentation for [Pingouin](https://pingouin-stats.org/build/html/index.html).\n",
    " - [Quick Start Examples](https://pingouin-stats.org/build/html/index.html#quick-start)\n",
    " - [Available tests](https://pingouin-stats.org/build/html/api.html)\n",
    " - [Which test to pick](https://pingouin-stats.org/build/html/guidelines.html)"
   ]
  },
  {
   "cell_type": "code",
   "execution_count": 2,
   "id": "d0af33db",
   "metadata": {},
   "outputs": [],
   "source": [
    "import numpy as np\n",
    "import seaborn as sns\n",
    "import pandas as pd\n",
    "import matplotlib.pyplot as plt\n",
    "\n",
    "import pingouin as pg\n",
    "\n",
    "%matplotlib inline"
   ]
  },
  {
   "cell_type": "code",
   "execution_count": 3,
   "id": "24cd03fd",
   "metadata": {},
   "outputs": [
    {
     "data": {
      "text/html": [
       "<div>\n",
       "<style scoped>\n",
       "    .dataframe tbody tr th:only-of-type {\n",
       "        vertical-align: middle;\n",
       "    }\n",
       "\n",
       "    .dataframe tbody tr th {\n",
       "        vertical-align: top;\n",
       "    }\n",
       "\n",
       "    .dataframe thead th {\n",
       "        text-align: right;\n",
       "    }\n",
       "</style>\n",
       "<table border=\"1\" class=\"dataframe\">\n",
       "  <thead>\n",
       "    <tr style=\"text-align: right;\">\n",
       "      <th></th>\n",
       "      <th>sex</th>\n",
       "      <th>age</th>\n",
       "      <th>education</th>\n",
       "      <th>race</th>\n",
       "      <th>processing_domain_z</th>\n",
       "      <th>exec_domain_z</th>\n",
       "      <th>language_domain_z</th>\n",
       "      <th>visuospatial_domain_z</th>\n",
       "      <th>learningmemory_domain_z</th>\n",
       "      <th>motor_domain_z</th>\n",
       "      <th>ART</th>\n",
       "      <th>YearsSeropositive</th>\n",
       "    </tr>\n",
       "  </thead>\n",
       "  <tbody>\n",
       "    <tr>\n",
       "      <th>0</th>\n",
       "      <td>male</td>\n",
       "      <td>62</td>\n",
       "      <td>10.0</td>\n",
       "      <td>AA</td>\n",
       "      <td>0.5</td>\n",
       "      <td>0.6</td>\n",
       "      <td>0.151646</td>\n",
       "      <td>-1.0</td>\n",
       "      <td>-1.152131</td>\n",
       "      <td>-1.364306</td>\n",
       "      <td>Stavudine</td>\n",
       "      <td>13</td>\n",
       "    </tr>\n",
       "    <tr>\n",
       "      <th>1</th>\n",
       "      <td>male</td>\n",
       "      <td>56</td>\n",
       "      <td>10.0</td>\n",
       "      <td>AA</td>\n",
       "      <td>-0.5</td>\n",
       "      <td>1.2</td>\n",
       "      <td>-0.255505</td>\n",
       "      <td>-2.0</td>\n",
       "      <td>-0.086376</td>\n",
       "      <td>-0.348600</td>\n",
       "      <td>Truvada</td>\n",
       "      <td>19</td>\n",
       "    </tr>\n",
       "    <tr>\n",
       "      <th>2</th>\n",
       "      <td>female</td>\n",
       "      <td>51</td>\n",
       "      <td>10.0</td>\n",
       "      <td>AA</td>\n",
       "      <td>0.5</td>\n",
       "      <td>0.1</td>\n",
       "      <td>0.902004</td>\n",
       "      <td>-0.4</td>\n",
       "      <td>-1.139892</td>\n",
       "      <td>0.112215</td>\n",
       "      <td>Stavudine</td>\n",
       "      <td>9</td>\n",
       "    </tr>\n",
       "    <tr>\n",
       "      <th>3</th>\n",
       "      <td>female</td>\n",
       "      <td>47</td>\n",
       "      <td>12.0</td>\n",
       "      <td>AA</td>\n",
       "      <td>-0.6</td>\n",
       "      <td>-1.2</td>\n",
       "      <td>-0.119866</td>\n",
       "      <td>-2.1</td>\n",
       "      <td>0.803619</td>\n",
       "      <td>-2.276768</td>\n",
       "      <td>Truvada</td>\n",
       "      <td>24</td>\n",
       "    </tr>\n",
       "    <tr>\n",
       "      <th>4</th>\n",
       "      <td>male</td>\n",
       "      <td>46</td>\n",
       "      <td>13.0</td>\n",
       "      <td>AA</td>\n",
       "      <td>-0.4</td>\n",
       "      <td>1.3</td>\n",
       "      <td>0.079129</td>\n",
       "      <td>-1.3</td>\n",
       "      <td>-0.533607</td>\n",
       "      <td>-0.330541</td>\n",
       "      <td>Truvada</td>\n",
       "      <td>14</td>\n",
       "    </tr>\n",
       "  </tbody>\n",
       "</table>\n",
       "</div>"
      ],
      "text/plain": [
       "      sex  age  education race  processing_domain_z  exec_domain_z  \\\n",
       "0    male   62       10.0   AA                  0.5            0.6   \n",
       "1    male   56       10.0   AA                 -0.5            1.2   \n",
       "2  female   51       10.0   AA                  0.5            0.1   \n",
       "3  female   47       12.0   AA                 -0.6           -1.2   \n",
       "4    male   46       13.0   AA                 -0.4            1.3   \n",
       "\n",
       "   language_domain_z  visuospatial_domain_z  learningmemory_domain_z  \\\n",
       "0           0.151646                   -1.0                -1.152131   \n",
       "1          -0.255505                   -2.0                -0.086376   \n",
       "2           0.902004                   -0.4                -1.139892   \n",
       "3          -0.119866                   -2.1                 0.803619   \n",
       "4           0.079129                   -1.3                -0.533607   \n",
       "\n",
       "   motor_domain_z        ART  YearsSeropositive  \n",
       "0       -1.364306  Stavudine                 13  \n",
       "1       -0.348600    Truvada                 19  \n",
       "2        0.112215  Stavudine                  9  \n",
       "3       -2.276768    Truvada                 24  \n",
       "4       -0.330541    Truvada                 14  "
      ]
     },
     "execution_count": 3,
     "metadata": {},
     "output_type": "execute_result"
    }
   ],
   "source": [
    "data = pd.read_csv('hiv_neuro_data.csv')\n",
    "data['education'] = data['education'].astype(float)\n",
    "data.head()"
   ]
  },
  {
   "cell_type": "markdown",
   "id": "080a1b33",
   "metadata": {},
   "source": [
    "When studying HIV Associated Neurocognitive Disorder (HAND) we measure a number of cognitive domains through a ~90 min test battery.\n",
    "The results of these tests are then aggregated into 6 cognitive domains.\n",
    "\n",
    "- **Speed of Information Processing** : `processing_domain_z` : How quickly an individual can understand and react to the information being presented. This domain evaluates the speed at which cognitive tasks can be performed, often under time constraints.\n",
    " - **Learning and Memory** : `learningmemory_domain_z` : This involves both the acquisition of new information (learning) and the ability to retrieve this information over time (memory). It includes both verbal learning and memory (e.g., remembering words or stories) and visual learning and memory (e.g., remembering shapes or patterns).\n",
    " - **Executive Function** : `exec_domain_z` : The complex cognitive processes required for planning, organizing, problem-solving, abstract thinking, and executing strategies. This domain also encompasses decision-making and cognitive flexibility, which is the ability to switch between thinking about two different concepts or to think about multiple concepts simultaneously.\n",
    " -  **Motor Skills** : `motor_domain_z` :  This domain assesses the coordination, speed, and dexterity of motor movements, including both fine motor skills (e.g., hand movements, writing) and gross motor skills (e.g., walking, coordination).\n",
    " - **Language Skills** : `language_domain_z` : The ability to understand and produce language. While not always as prominently affected in HAND as other cognitive domains, assessments might include naming, fluency, and comprehension tasks.\n",
    " - **Sensory-Perceptual Skills** : `visuospatial_domain_z` : Although less commonly assessed in HAND research, this domain involves the ability to interpret sensory information, including visual and auditory processing."
   ]
  },
  {
   "cell_type": "markdown",
   "id": "749dc513",
   "metadata": {},
   "source": [
    "The outcomes of these test are highly correlated with age, sex, race, and education.\n",
    "This makes it difficult to compare the raw results of a test between individuals across these covariates; ie. \n",
    "is this 65 year old performing worse on a memory task relative to a 25 year old because of their _age_ or because of some type of _impairement_?\n",
    "With the raw scores alone, this is impossible.\n",
    "\n",
    "However, if we collect data from a large number of _presumably_ healthy individuals we can create a normalization scale.\n",
    "These are normalized to a **Z-scale**. \n",
    "In a z-scaled value, `z = 0` is the mean; all individuals performing at the average of covariate matched controls will have a score of 0.\n",
    "Each unit of a z-scale is 1-standard-deviation.\n",
    "An individual with a `z = 1` is performing 1 standard-deviation _above_ thier peers while a `z = -1.5` implies that they are performing 1.5 stds _below_ their matched peers.\n",
    "\n",
    "You've probably heard of this before: an _IQ score_ works in a similar way.\n",
    "It uses a **standard scale**. This has a mean of 100 and a standard deviation of 10. \n",
    "An _average_ IQ is 100 (by definition).\n",
    "An IQ of 210 (Marylin vos Savant) is 11 standard-deviations above an _average_ individual."
   ]
  },
  {
   "cell_type": "markdown",
   "id": "20f2763e",
   "metadata": {},
   "source": [
    "## Categorical comparisons"
   ]
  },
  {
   "cell_type": "markdown",
   "id": "eb15b794",
   "metadata": {},
   "source": [
    "### Q1: Count the number of participants of each sex and race."
   ]
  },
  {
   "cell_type": "markdown",
   "id": "1f22ecfd",
   "metadata": {
    "tags": [
     "remove_cell"
    ]
   },
   "source": [
    "|               |    |\n",
    "| --------------|----|\n",
    "| Points        | 5  |\n",
    "| Public Checks | 4  |\n",
    "\n",
    "_Points:_ 5"
   ]
  },
  {
   "cell_type": "code",
   "execution_count": 4,
   "id": "a4244869",
   "metadata": {
    "tags": [
     "otter_assign_solution_cell"
    ]
   },
   "outputs": [],
   "source": [
    "q1_race_counts = data['race'].value_counts() # SOLUTION\n",
    "q1_sex_counts = data['sex'].value_counts() # SOLUTION"
   ]
  },
  {
   "cell_type": "code",
   "execution_count": null,
   "id": "f150459a",
   "metadata": {
    "deletable": false,
    "editable": false
   },
   "outputs": [],
   "source": [
    "grader.check(\"q1_demographic_breakdown\")"
   ]
  },
  {
   "cell_type": "markdown",
   "id": "61881087",
   "metadata": {},
   "source": [
    "Once we have the counts, we can change each into a probability.\n",
    "This represents the likelihood of observing any given instance of the categorical variable.\n",
    "We can think of this like an _unfiar_ set of dice."
   ]
  },
  {
   "cell_type": "code",
   "execution_count": 9,
   "id": "f0dd1012",
   "metadata": {},
   "outputs": [
    {
     "data": {
      "text/plain": [
       "race\n",
       "AA    0.676923\n",
       "C     0.227692\n",
       "H     0.095385\n",
       "Name: count, dtype: float64"
      ]
     },
     "execution_count": 9,
     "metadata": {},
     "output_type": "execute_result"
    }
   ],
   "source": [
    "q1_race_counts/q1_race_counts.sum()"
   ]
  },
  {
   "cell_type": "code",
   "execution_count": 10,
   "id": "afa108a2",
   "metadata": {},
   "outputs": [
    {
     "data": {
      "text/plain": [
       "sex\n",
       "male      0.692308\n",
       "female    0.307692\n",
       "Name: count, dtype: float64"
      ]
     },
     "execution_count": 10,
     "metadata": {},
     "output_type": "execute_result"
    }
   ],
   "source": [
    "q1_sex_counts/q1_sex_counts.sum()"
   ]
  },
  {
   "cell_type": "markdown",
   "id": "0d1eacfc",
   "metadata": {},
   "source": [
    "Let's do the same thing for the ART column."
   ]
  },
  {
   "cell_type": "code",
   "execution_count": 11,
   "id": "f3f355e8",
   "metadata": {},
   "outputs": [
    {
     "data": {
      "text/plain": [
       "ART\n",
       "Stavudine    0.52\n",
       "Truvada      0.48\n",
       "Name: count, dtype: float64"
      ]
     },
     "execution_count": 11,
     "metadata": {},
     "output_type": "execute_result"
    }
   ],
   "source": [
    "art_counts = data['ART'].value_counts()\n",
    "art_counts/art_counts.sum()"
   ]
  },
  {
   "cell_type": "markdown",
   "id": "f59e5528",
   "metadata": {},
   "source": [
    "I wonder if there is a relationship between demographic variables and ART therapy?"
   ]
  },
  {
   "cell_type": "markdown",
   "id": "1d9e1070",
   "metadata": {},
   "source": [
    "That was looking at each measurement individually, if we want to know whether they are correlated, we need a different type of table.\n",
    "We need a table that measures the number of occurances of `male & Stavudine`, `female & Stavudine`, `male & Truvada`, `female & Truvada`, etc.\n",
    "This is often called a _cross tabulation_.\n",
    "_Traditionally_ one would use a set of `for`-loops to count this data, but Pandas has a tool for exactly this purpose."
   ]
  },
  {
   "cell_type": "code",
   "execution_count": 12,
   "id": "0a8be640",
   "metadata": {},
   "outputs": [
    {
     "data": {
      "text/html": [
       "<div>\n",
       "<style scoped>\n",
       "    .dataframe tbody tr th:only-of-type {\n",
       "        vertical-align: middle;\n",
       "    }\n",
       "\n",
       "    .dataframe tbody tr th {\n",
       "        vertical-align: top;\n",
       "    }\n",
       "\n",
       "    .dataframe thead th {\n",
       "        text-align: right;\n",
       "    }\n",
       "</style>\n",
       "<table border=\"1\" class=\"dataframe\">\n",
       "  <thead>\n",
       "    <tr style=\"text-align: right;\">\n",
       "      <th>ART</th>\n",
       "      <th>Stavudine</th>\n",
       "      <th>Truvada</th>\n",
       "      <th>All</th>\n",
       "    </tr>\n",
       "    <tr>\n",
       "      <th>sex</th>\n",
       "      <th></th>\n",
       "      <th></th>\n",
       "      <th></th>\n",
       "    </tr>\n",
       "  </thead>\n",
       "  <tbody>\n",
       "    <tr>\n",
       "      <th>female</th>\n",
       "      <td>53</td>\n",
       "      <td>47</td>\n",
       "      <td>100</td>\n",
       "    </tr>\n",
       "    <tr>\n",
       "      <th>male</th>\n",
       "      <td>116</td>\n",
       "      <td>109</td>\n",
       "      <td>225</td>\n",
       "    </tr>\n",
       "    <tr>\n",
       "      <th>All</th>\n",
       "      <td>169</td>\n",
       "      <td>156</td>\n",
       "      <td>325</td>\n",
       "    </tr>\n",
       "  </tbody>\n",
       "</table>\n",
       "</div>"
      ],
      "text/plain": [
       "ART     Stavudine  Truvada  All\n",
       "sex                            \n",
       "female         53       47  100\n",
       "male          116      109  225\n",
       "All           169      156  325"
      ]
     },
     "execution_count": 12,
     "metadata": {},
     "output_type": "execute_result"
    }
   ],
   "source": [
    "pd.crosstab(data['sex'], data['ART'], margins=True)"
   ]
  },
  {
   "cell_type": "markdown",
   "id": "bc2e9af0",
   "metadata": {},
   "source": [
    "It can also give us frequencies."
   ]
  },
  {
   "cell_type": "code",
   "execution_count": 13,
   "id": "633ff81a",
   "metadata": {},
   "outputs": [
    {
     "data": {
      "text/html": [
       "<div>\n",
       "<style scoped>\n",
       "    .dataframe tbody tr th:only-of-type {\n",
       "        vertical-align: middle;\n",
       "    }\n",
       "\n",
       "    .dataframe tbody tr th {\n",
       "        vertical-align: top;\n",
       "    }\n",
       "\n",
       "    .dataframe thead th {\n",
       "        text-align: right;\n",
       "    }\n",
       "</style>\n",
       "<table border=\"1\" class=\"dataframe\">\n",
       "  <thead>\n",
       "    <tr style=\"text-align: right;\">\n",
       "      <th>ART</th>\n",
       "      <th>Stavudine</th>\n",
       "      <th>Truvada</th>\n",
       "      <th>All</th>\n",
       "    </tr>\n",
       "    <tr>\n",
       "      <th>race</th>\n",
       "      <th></th>\n",
       "      <th></th>\n",
       "      <th></th>\n",
       "    </tr>\n",
       "  </thead>\n",
       "  <tbody>\n",
       "    <tr>\n",
       "      <th>AA</th>\n",
       "      <td>0.313846</td>\n",
       "      <td>0.363077</td>\n",
       "      <td>0.676923</td>\n",
       "    </tr>\n",
       "    <tr>\n",
       "      <th>C</th>\n",
       "      <td>0.153846</td>\n",
       "      <td>0.073846</td>\n",
       "      <td>0.227692</td>\n",
       "    </tr>\n",
       "    <tr>\n",
       "      <th>H</th>\n",
       "      <td>0.052308</td>\n",
       "      <td>0.043077</td>\n",
       "      <td>0.095385</td>\n",
       "    </tr>\n",
       "    <tr>\n",
       "      <th>All</th>\n",
       "      <td>0.520000</td>\n",
       "      <td>0.480000</td>\n",
       "      <td>1.000000</td>\n",
       "    </tr>\n",
       "  </tbody>\n",
       "</table>\n",
       "</div>"
      ],
      "text/plain": [
       "ART   Stavudine   Truvada       All\n",
       "race                               \n",
       "AA     0.313846  0.363077  0.676923\n",
       "C      0.153846  0.073846  0.227692\n",
       "H      0.052308  0.043077  0.095385\n",
       "All    0.520000  0.480000  1.000000"
      ]
     },
     "execution_count": 13,
     "metadata": {},
     "output_type": "execute_result"
    }
   ],
   "source": [
    "pd.crosstab(data['race'], data['ART'], margins=True, normalize='all')"
   ]
  },
  {
   "cell_type": "markdown",
   "id": "b8b339d7",
   "metadata": {},
   "source": [
    "## Hypothesis Testing"
   ]
  },
  {
   "cell_type": "markdown",
   "id": "6296c375",
   "metadata": {},
   "source": [
    "When testing the correlation between two _categorical_ variables we want to use a `chi2` test.\n",
    "It has the _null hypothesis_ that the two categorical distributions are uncorrelated.\n",
    "Rejection of that hypothesis (ie p<0.05) indicates there is some linkage between the two distributions.\n",
    "\n",
    "Notes:\n",
    "\n",
    "In your cross tabulation table you need _at least_ 5 observations in each cell.\n",
    "Fewer than that can lead to significant losses in statistical power."
   ]
  },
  {
   "cell_type": "markdown",
   "id": "37b2e8fd",
   "metadata": {},
   "source": [
    "When we want to visualize a categorical comparison, it is best to use a countplot that uses both `x` and `hue` to show the two factors.\n",
    "If there is a difference, we will see that the bars have inconsistent _relative_ heights when compared to each other."
   ]
  },
  {
   "cell_type": "code",
   "execution_count": 14,
   "id": "e1f0ef6d",
   "metadata": {},
   "outputs": [
    {
     "data": {
      "text/plain": [
       "<Axes: xlabel='sex', ylabel='count'>"
      ]
     },
     "execution_count": 14,
     "metadata": {},
     "output_type": "execute_result"
    },
    {
     "data": {
      "image/png": "[encoded data removed]",
      "text/plain": [
       "<Figure size 640x480 with 1 Axes>"
      ]
     },
     "metadata": {},
     "output_type": "display_data"
    }
   ],
   "source": [
    "sns.countplot(data = data,\n",
    "              x = 'sex',\n",
    "              hue = 'ART')"
   ]
  },
  {
   "cell_type": "markdown",
   "id": "1ba10acb",
   "metadata": {},
   "source": [
    "Pingouin has a function for performing a chi2 test from a `pd.Dataframe` directly: [`pg.chi2_independence`](https://pingouin-stats.org/build/html/generated/pingouin.chi2_independence.html).\n",
    "It will return three things:"
   ]
  },
  {
   "cell_type": "code",
   "execution_count": 15,
   "id": "957810e6",
   "metadata": {},
   "outputs": [],
   "source": [
    "# Pingouin does the crosstab internally, it just wants the df and columns\n",
    "\n",
    "expected, obs_cor, stats = pg.chi2_independence(data, 'sex', 'ART')"
   ]
  },
  {
   "cell_type": "markdown",
   "id": "d42745a2",
   "metadata": {},
   "source": [
    "If these two variables were randomly associated, what would I have gotten?"
   ]
  },
  {
   "cell_type": "code",
   "execution_count": 16,
   "id": "25447036",
   "metadata": {},
   "outputs": [
    {
     "data": {
      "text/html": [
       "<div>\n",
       "<style scoped>\n",
       "    .dataframe tbody tr th:only-of-type {\n",
       "        vertical-align: middle;\n",
       "    }\n",
       "\n",
       "    .dataframe tbody tr th {\n",
       "        vertical-align: top;\n",
       "    }\n",
       "\n",
       "    .dataframe thead th {\n",
       "        text-align: right;\n",
       "    }\n",
       "</style>\n",
       "<table border=\"1\" class=\"dataframe\">\n",
       "  <thead>\n",
       "    <tr style=\"text-align: right;\">\n",
       "      <th>ART</th>\n",
       "      <th>Stavudine</th>\n",
       "      <th>Truvada</th>\n",
       "    </tr>\n",
       "    <tr>\n",
       "      <th>sex</th>\n",
       "      <th></th>\n",
       "      <th></th>\n",
       "    </tr>\n",
       "  </thead>\n",
       "  <tbody>\n",
       "    <tr>\n",
       "      <th>female</th>\n",
       "      <td>52.0</td>\n",
       "      <td>48.0</td>\n",
       "    </tr>\n",
       "    <tr>\n",
       "      <th>male</th>\n",
       "      <td>117.0</td>\n",
       "      <td>108.0</td>\n",
       "    </tr>\n",
       "  </tbody>\n",
       "</table>\n",
       "</div>"
      ],
      "text/plain": [
       "ART     Stavudine  Truvada\n",
       "sex                       \n",
       "female       52.0     48.0\n",
       "male        117.0    108.0"
      ]
     },
     "execution_count": 16,
     "metadata": {},
     "output_type": "execute_result"
    }
   ],
   "source": [
    "expected"
   ]
  },
  {
   "cell_type": "markdown",
   "id": "dc25ec15",
   "metadata": {},
   "source": [
    "What did I actually observe after correction?"
   ]
  },
  {
   "cell_type": "code",
   "execution_count": 17,
   "id": "101ad9e5",
   "metadata": {},
   "outputs": [
    {
     "data": {
      "text/html": [
       "<div>\n",
       "<style scoped>\n",
       "    .dataframe tbody tr th:only-of-type {\n",
       "        vertical-align: middle;\n",
       "    }\n",
       "\n",
       "    .dataframe tbody tr th {\n",
       "        vertical-align: top;\n",
       "    }\n",
       "\n",
       "    .dataframe thead th {\n",
       "        text-align: right;\n",
       "    }\n",
       "</style>\n",
       "<table border=\"1\" class=\"dataframe\">\n",
       "  <thead>\n",
       "    <tr style=\"text-align: right;\">\n",
       "      <th>ART</th>\n",
       "      <th>Stavudine</th>\n",
       "      <th>Truvada</th>\n",
       "    </tr>\n",
       "    <tr>\n",
       "      <th>sex</th>\n",
       "      <th></th>\n",
       "      <th></th>\n",
       "    </tr>\n",
       "  </thead>\n",
       "  <tbody>\n",
       "    <tr>\n",
       "      <th>female</th>\n",
       "      <td>52.5</td>\n",
       "      <td>47.5</td>\n",
       "    </tr>\n",
       "    <tr>\n",
       "      <th>male</th>\n",
       "      <td>116.5</td>\n",
       "      <td>108.5</td>\n",
       "    </tr>\n",
       "  </tbody>\n",
       "</table>\n",
       "</div>"
      ],
      "text/plain": [
       "ART     Stavudine  Truvada\n",
       "sex                       \n",
       "female       52.5     47.5\n",
       "male        116.5    108.5"
      ]
     },
     "execution_count": 17,
     "metadata": {},
     "output_type": "execute_result"
    }
   ],
   "source": [
    "obs_cor"
   ]
  },
  {
   "cell_type": "markdown",
   "id": "17c42902",
   "metadata": {},
   "source": [
    "What is the likelihood that `obs_cor` is different from `expected`?"
   ]
  },
  {
   "cell_type": "code",
   "execution_count": 18,
   "id": "87f97ed8",
   "metadata": {},
   "outputs": [
    {
     "data": {
      "text/html": [
       "<div>\n",
       "<style scoped>\n",
       "    .dataframe tbody tr th:only-of-type {\n",
       "        vertical-align: middle;\n",
       "    }\n",
       "\n",
       "    .dataframe tbody tr th {\n",
       "        vertical-align: top;\n",
       "    }\n",
       "\n",
       "    .dataframe thead th {\n",
       "        text-align: right;\n",
       "    }\n",
       "</style>\n",
       "<table border=\"1\" class=\"dataframe\">\n",
       "  <thead>\n",
       "    <tr style=\"text-align: right;\">\n",
       "      <th></th>\n",
       "      <th>test</th>\n",
       "      <th>lambda</th>\n",
       "      <th>chi2</th>\n",
       "      <th>dof</th>\n",
       "      <th>pval</th>\n",
       "      <th>cramer</th>\n",
       "      <th>power</th>\n",
       "    </tr>\n",
       "  </thead>\n",
       "  <tbody>\n",
       "    <tr>\n",
       "      <th>0</th>\n",
       "      <td>pearson</td>\n",
       "      <td>1.000000</td>\n",
       "      <td>0.014468</td>\n",
       "      <td>1.0</td>\n",
       "      <td>0.904260</td>\n",
       "      <td>0.006672</td>\n",
       "      <td>0.051659</td>\n",
       "    </tr>\n",
       "    <tr>\n",
       "      <th>1</th>\n",
       "      <td>cressie-read</td>\n",
       "      <td>0.666667</td>\n",
       "      <td>0.014468</td>\n",
       "      <td>1.0</td>\n",
       "      <td>0.904258</td>\n",
       "      <td>0.006672</td>\n",
       "      <td>0.051659</td>\n",
       "    </tr>\n",
       "    <tr>\n",
       "      <th>2</th>\n",
       "      <td>log-likelihood</td>\n",
       "      <td>0.000000</td>\n",
       "      <td>0.014470</td>\n",
       "      <td>1.0</td>\n",
       "      <td>0.904253</td>\n",
       "      <td>0.006673</td>\n",
       "      <td>0.051659</td>\n",
       "    </tr>\n",
       "    <tr>\n",
       "      <th>3</th>\n",
       "      <td>freeman-tukey</td>\n",
       "      <td>-0.500000</td>\n",
       "      <td>0.014471</td>\n",
       "      <td>1.0</td>\n",
       "      <td>0.904249</td>\n",
       "      <td>0.006673</td>\n",
       "      <td>0.051659</td>\n",
       "    </tr>\n",
       "    <tr>\n",
       "      <th>4</th>\n",
       "      <td>mod-log-likelihood</td>\n",
       "      <td>-1.000000</td>\n",
       "      <td>0.014472</td>\n",
       "      <td>1.0</td>\n",
       "      <td>0.904244</td>\n",
       "      <td>0.006673</td>\n",
       "      <td>0.051659</td>\n",
       "    </tr>\n",
       "    <tr>\n",
       "      <th>5</th>\n",
       "      <td>neyman</td>\n",
       "      <td>-2.000000</td>\n",
       "      <td>0.014475</td>\n",
       "      <td>1.0</td>\n",
       "      <td>0.904235</td>\n",
       "      <td>0.006674</td>\n",
       "      <td>0.051660</td>\n",
       "    </tr>\n",
       "  </tbody>\n",
       "</table>\n",
       "</div>"
      ],
      "text/plain": [
       "                 test    lambda      chi2  dof      pval    cramer     power\n",
       "0             pearson  1.000000  0.014468  1.0  0.904260  0.006672  0.051659\n",
       "1        cressie-read  0.666667  0.014468  1.0  0.904258  0.006672  0.051659\n",
       "2      log-likelihood  0.000000  0.014470  1.0  0.904253  0.006673  0.051659\n",
       "3       freeman-tukey -0.500000  0.014471  1.0  0.904249  0.006673  0.051659\n",
       "4  mod-log-likelihood -1.000000  0.014472  1.0  0.904244  0.006673  0.051659\n",
       "5              neyman -2.000000  0.014475  1.0  0.904235  0.006674  0.051660"
      ]
     },
     "execution_count": 18,
     "metadata": {},
     "output_type": "execute_result"
    }
   ],
   "source": [
    "stats"
   ]
  },
  {
   "cell_type": "markdown",
   "id": "ec8da03e",
   "metadata": {},
   "source": [
    "`p ~= 0.9`, therefore we cannot reject the hypothesis that ART therapy is unrelated to sex."
   ]
  },
  {
   "cell_type": "markdown",
   "id": "9705445d",
   "metadata": {},
   "source": [
    "### Q2: Is race and education correlated in this dataset?"
   ]
  },
  {
   "cell_type": "markdown",
   "id": "5f1dd7b6",
   "metadata": {
    "tags": [
     "remove_cell"
    ]
   },
   "source": [
    "|               |    |\n",
    "| --------------|----|\n",
    "| Points        | 5  |\n",
    "| Public Checks | 4  |\n",
    "\n",
    "_Points:_ 5"
   ]
  },
  {
   "cell_type": "code",
   "execution_count": 19,
   "id": "6e5158ec",
   "metadata": {
    "tags": [
     "otter_assign_solution_cell"
    ]
   },
   "outputs": [],
   "source": [
    "# Bin education into three bins:\n",
    "#  * Up to HS education (0, 12]\n",
    "#  * HS-4yr College (12, 16]\n",
    "#  * >4yr College (16, np.inf]\n",
    "# pandas has a function pd.cut that that accomplish this.\n",
    "\n",
    "# Add this column back into the dataframe as a new column called `education_binned`\n",
    "data['education_binned'] = pd.cut(data['education'], [0, 12, 16, np.inf])"
   ]
  },
  {
   "cell_type": "code",
   "execution_count": 20,
   "id": "e2e3ed2f",
   "metadata": {
    "tags": [
     "otter_assign_solution_cell"
    ]
   },
   "outputs": [],
   "source": [
    "# Calculate the chi2 test between race and education_binned\n",
    "q2_expected, q2_obs_cor, q2_stats = pg.chi2_independence(data, 'race', 'education_binned') # SOLUTION NO PROMPT"
   ]
  },
  {
   "cell_type": "code",
   "execution_count": 21,
   "id": "3039011a",
   "metadata": {
    "tags": [
     "otter_assign_solution_cell"
    ]
   },
   "outputs": [],
   "source": [
    "# Is race and education correlated? (yes or no)\n",
    "q2_pval_ans = 'yes' # SOLUTION"
   ]
  },
  {
   "cell_type": "code",
   "execution_count": 22,
   "id": "11cb5f26",
   "metadata": {
    "tags": [
     "otter_assign_solution_cell"
    ]
   },
   "outputs": [],
   "source": [
    "# Are there \"more\" or \"less\" H's with 12-16 years of education than we'd expect by chance\n",
    "q2_inter_ans = 'less' # SOLUTION"
   ]
  },
  {
   "cell_type": "code",
   "execution_count": null,
   "id": "cbb47587",
   "metadata": {
    "deletable": false,
    "editable": false
   },
   "outputs": [],
   "source": [
    "grader.check(\"q2_demographic_education\")"
   ]
  },
  {
   "cell_type": "markdown",
   "id": "7426de6f",
   "metadata": {},
   "source": [
    "So, we found that there is a link between race and education, with AA and H individuals have less people in the higher education brackets and more in the lower education brackets.\n",
    "\n",
    "In this instance we used stratification to split education into categorical variables representing meaningful cutoffs.\n",
    "We can also keep the education value as a continious measurement and compare across categories."
   ]
  },
  {
   "cell_type": "markdown",
   "id": "a1deefaa",
   "metadata": {},
   "source": [
    "## Continious comparisons"
   ]
  },
  {
   "cell_type": "markdown",
   "id": "00718737",
   "metadata": {},
   "source": [
    "In order to choose the right test we need to walk down a set of decision trees to find the appropriate answer.\n",
    "There are a number of places you can find these decision trees (or you can make your own), we'll use the one from the pingouin tool.\n",
    "\n",
    "https://pingouin-stats.org/build/html/guidelines.html"
   ]
  },
  {
   "cell_type": "markdown",
   "id": "b9c5138f",
   "metadata": {},
   "source": [
    "The first thing to test: _normality_.\n",
    "\n",
    "If the variable is normally distributed (or can be approximated as normal) we can use more powerful parametric tests. If it is not normal, we need to use non-parametric tests."
   ]
  },
  {
   "cell_type": "markdown",
   "id": "416b8cab",
   "metadata": {},
   "source": [
    "A `qqplot` is a common way to visualize the fit between an observed distribution and a theoretical one.\n",
    "It plots the observed data against a desired distribution (usaually the normal distribution).\n",
    "If there is strong agreement, it likely means the data fits the distribution.\n",
    "It is the best place to start when starting considering normality."
   ]
  },
  {
   "cell_type": "code",
   "execution_count": 27,
   "id": "5f19a164",
   "metadata": {},
   "outputs": [
    {
     "data": {
      "text/plain": [
       "<Axes: xlabel='Theoretical quantiles', ylabel='Ordered quantiles'>"
      ]
     },
     "execution_count": 27,
     "metadata": {},
     "output_type": "execute_result"
    },
    {
     "data": {
      "image/png": "[encoded data removed]",
      "text/plain": [
       "<Figure size 640x480 with 1 Axes>"
      ]
     },
     "metadata": {},
     "output_type": "display_data"
    }
   ],
   "source": [
    "pg.qqplot(data['education'], dist='norm')"
   ]
  },
  {
   "cell_type": "markdown",
   "id": "611d1212",
   "metadata": {},
   "source": [
    "Extremely high agreement. I would expect this to be normally distributed. Let's use Pingouin to test it."
   ]
  },
  {
   "cell_type": "code",
   "execution_count": 28,
   "id": "7e04016b",
   "metadata": {},
   "outputs": [
    {
     "data": {
      "text/html": [
       "<div>\n",
       "<style scoped>\n",
       "    .dataframe tbody tr th:only-of-type {\n",
       "        vertical-align: middle;\n",
       "    }\n",
       "\n",
       "    .dataframe tbody tr th {\n",
       "        vertical-align: top;\n",
       "    }\n",
       "\n",
       "    .dataframe thead th {\n",
       "        text-align: right;\n",
       "    }\n",
       "</style>\n",
       "<table border=\"1\" class=\"dataframe\">\n",
       "  <thead>\n",
       "    <tr style=\"text-align: right;\">\n",
       "      <th></th>\n",
       "      <th>W</th>\n",
       "      <th>pval</th>\n",
       "      <th>normal</th>\n",
       "    </tr>\n",
       "  </thead>\n",
       "  <tbody>\n",
       "    <tr>\n",
       "      <th>education</th>\n",
       "      <td>0.975734</td>\n",
       "      <td>0.000027</td>\n",
       "      <td>False</td>\n",
       "    </tr>\n",
       "  </tbody>\n",
       "</table>\n",
       "</div>"
      ],
      "text/plain": [
       "                  W      pval  normal\n",
       "education  0.975734  0.000027   False"
      ]
     },
     "execution_count": 28,
     "metadata": {},
     "output_type": "execute_result"
    }
   ],
   "source": [
    "# Tests the null-hypothesis: is this derived from a normal distribution\n",
    "# with the default parameters\n",
    "\n",
    "pg.normality(data['education'])"
   ]
  },
  {
   "cell_type": "markdown",
   "id": "93f59d0e",
   "metadata": {},
   "source": [
    "Interesting, it rejected the hypothesis that this data is normally distributed.\n",
    "This is why you _NEED_ to have documentation open when utilizing these tools.\n",
    "\n",
    "https://pingouin-stats.org/build/html/generated/pingouin.normality.html"
   ]
  },
  {
   "cell_type": "markdown",
   "id": "df68c7d1",
   "metadata": {},
   "source": [
    "> method: str\n",
    "> Normality test.\n",
    "> * ‘shapiro’ (default) performs the Shapiro-Wilk test using scipy.stats.shapiro(),\n",
    "> * ‘normaltest’ performs the omnibus test of normality using scipy.stats.normaltest(),\n",
    "> * ‘jarque_bera’ performs the Jarque-Bera test using scipy.stats.jarque_bera().\n",
    ">\n",
    "> **The Omnibus and Jarque-Bera tests are more suitable than the Shapiro test for large samples.**\n"
   ]
  },
  {
   "cell_type": "code",
   "execution_count": 29,
   "id": "9185aa25",
   "metadata": {},
   "outputs": [
    {
     "data": {
      "text/html": [
       "<div>\n",
       "<style scoped>\n",
       "    .dataframe tbody tr th:only-of-type {\n",
       "        vertical-align: middle;\n",
       "    }\n",
       "\n",
       "    .dataframe tbody tr th {\n",
       "        vertical-align: top;\n",
       "    }\n",
       "\n",
       "    .dataframe thead th {\n",
       "        text-align: right;\n",
       "    }\n",
       "</style>\n",
       "<table border=\"1\" class=\"dataframe\">\n",
       "  <thead>\n",
       "    <tr style=\"text-align: right;\">\n",
       "      <th></th>\n",
       "      <th>W</th>\n",
       "      <th>pval</th>\n",
       "      <th>normal</th>\n",
       "    </tr>\n",
       "  </thead>\n",
       "  <tbody>\n",
       "    <tr>\n",
       "      <th>education</th>\n",
       "      <td>5.843312</td>\n",
       "      <td>0.053844</td>\n",
       "      <td>True</td>\n",
       "    </tr>\n",
       "  </tbody>\n",
       "</table>\n",
       "</div>"
      ],
      "text/plain": [
       "                  W      pval  normal\n",
       "education  5.843312  0.053844    True"
      ]
     },
     "execution_count": 29,
     "metadata": {},
     "output_type": "execute_result"
    }
   ],
   "source": [
    "pg.normality(data['education'], method='normaltest')"
   ]
  },
  {
   "cell_type": "code",
   "execution_count": 30,
   "id": "3b9459ec",
   "metadata": {},
   "outputs": [
    {
     "data": {
      "text/html": [
       "<div>\n",
       "<style scoped>\n",
       "    .dataframe tbody tr th:only-of-type {\n",
       "        vertical-align: middle;\n",
       "    }\n",
       "\n",
       "    .dataframe tbody tr th {\n",
       "        vertical-align: top;\n",
       "    }\n",
       "\n",
       "    .dataframe thead th {\n",
       "        text-align: right;\n",
       "    }\n",
       "</style>\n",
       "<table border=\"1\" class=\"dataframe\">\n",
       "  <thead>\n",
       "    <tr style=\"text-align: right;\">\n",
       "      <th></th>\n",
       "      <th>W</th>\n",
       "      <th>pval</th>\n",
       "      <th>normal</th>\n",
       "    </tr>\n",
       "  </thead>\n",
       "  <tbody>\n",
       "    <tr>\n",
       "      <th>education</th>\n",
       "      <td>5.585359</td>\n",
       "      <td>0.061257</td>\n",
       "      <td>True</td>\n",
       "    </tr>\n",
       "  </tbody>\n",
       "</table>\n",
       "</div>"
      ],
      "text/plain": [
       "                  W      pval  normal\n",
       "education  5.585359  0.061257    True"
      ]
     },
     "execution_count": 30,
     "metadata": {},
     "output_type": "execute_result"
    }
   ],
   "source": [
    "pg.normality(data['education'], method='jarque_bera')"
   ]
  },
  {
   "cell_type": "markdown",
   "id": "c3e2f079",
   "metadata": {},
   "source": [
    "Now we see that both of these methods, and the qq-plot agree that this data is normally disitributed."
   ]
  },
  {
   "cell_type": "markdown",
   "id": "dc06f947",
   "metadata": {},
   "source": [
    "### Two group measurement"
   ]
  },
  {
   "cell_type": "code",
   "execution_count": 31,
   "id": "0ce66fce",
   "metadata": {},
   "outputs": [
    {
     "data": {
      "text/plain": [
       "<Axes: xlabel='sex', ylabel='education'>"
      ]
     },
     "execution_count": 31,
     "metadata": {},
     "output_type": "execute_result"
    },
    {
     "data": {
      "image/png": "[encoded data removed]",
      "text/plain": [
       "<Figure size 640x480 with 1 Axes>"
      ]
     },
     "metadata": {},
     "output_type": "display_data"
    }
   ],
   "source": [
    "sns.barplot(data = data,\n",
    "            x = 'sex',\n",
    "            y = 'education')"
   ]
  },
  {
   "cell_type": "markdown",
   "id": "53c17a96",
   "metadata": {},
   "source": [
    "Handy-dandy t-test.\n",
    "Measures the null-hypothesis:\n",
    " * One-sample: Does this sample have a mean of _mu_?\n",
    " * Two-sample (independent): Do these two distribution have the _mean_ value?\n",
    " * Two-sample (paired): Do these pre/post measurements of the **same** sample have the same _mean_ value?"
   ]
  },
  {
   "cell_type": "code",
   "execution_count": 32,
   "id": "18e3d28e",
   "metadata": {},
   "outputs": [
    {
     "data": {
      "text/html": [
       "<div>\n",
       "<style scoped>\n",
       "    .dataframe tbody tr th:only-of-type {\n",
       "        vertical-align: middle;\n",
       "    }\n",
       "\n",
       "    .dataframe tbody tr th {\n",
       "        vertical-align: top;\n",
       "    }\n",
       "\n",
       "    .dataframe thead th {\n",
       "        text-align: right;\n",
       "    }\n",
       "</style>\n",
       "<table border=\"1\" class=\"dataframe\">\n",
       "  <thead>\n",
       "    <tr style=\"text-align: right;\">\n",
       "      <th></th>\n",
       "      <th>T</th>\n",
       "      <th>dof</th>\n",
       "      <th>alternative</th>\n",
       "      <th>p-val</th>\n",
       "      <th>CI95%</th>\n",
       "      <th>cohen-d</th>\n",
       "      <th>BF10</th>\n",
       "      <th>power</th>\n",
       "    </tr>\n",
       "  </thead>\n",
       "  <tbody>\n",
       "    <tr>\n",
       "      <th>T-test</th>\n",
       "      <td>2.245961</td>\n",
       "      <td>202.108089</td>\n",
       "      <td>two-sided</td>\n",
       "      <td>0.025789</td>\n",
       "      <td>[0.07, 1.13]</td>\n",
       "      <td>0.263056</td>\n",
       "      <td>1.438</td>\n",
       "      <td>0.587972</td>\n",
       "    </tr>\n",
       "  </tbody>\n",
       "</table>\n",
       "</div>"
      ],
      "text/plain": [
       "               T         dof alternative     p-val         CI95%   cohen-d  \\\n",
       "T-test  2.245961  202.108089   two-sided  0.025789  [0.07, 1.13]  0.263056   \n",
       "\n",
       "         BF10     power  \n",
       "T-test  1.438  0.587972  "
      ]
     },
     "execution_count": 32,
     "metadata": {},
     "output_type": "execute_result"
    }
   ],
   "source": [
    "male_edu = data.query('sex == \"male\"')['education']\n",
    "female_edu = data.query('sex == \"female\"')['education']\n",
    "pg.ttest(male_edu, female_edu)"
   ]
  },
  {
   "cell_type": "markdown",
   "id": "868c8c17",
   "metadata": {},
   "source": [
    "Breaking this down:\n",
    " * `T = 2.245961` : Called the T-statistic : (mean_M-mean_F)/std_P*sqrt(1/N_m+1/N_f)\n",
    " * `dof = 202.1` : The number of samples after dropping missing and applying corrections.\n",
    " * `alternative = two-sided` : The mean of females can be larger _or_ smaller than males.\n",
    " * `p-val = 0.025` : The likelihood of seeing this difference by chance.\n",
    " * `CI95% = [0.07, 1.13]` : The difference in means between males and females is between 0.7 and 1.13 years.\n",
    " * `cohen-d = 0.26` : The effect size : (mean_M-mean_F)/std_P\n",
    " * `BF10 = 1.43` : Bayes Factor : P(D|H1)/P(D|H0) : The likelihood of the data given the alternative hypothesis divided by the likelihood of the data under the null hypothesis.\n",
    " * `power = 0.587` : The likelihood of see an effect if there truly was one given cohen-D and dof."
   ]
  },
  {
   "cell_type": "markdown",
   "id": "fa28e8b5",
   "metadata": {},
   "source": [
    "### Multi-group measurement"
   ]
  },
  {
   "cell_type": "code",
   "execution_count": 33,
   "id": "197f243c",
   "metadata": {},
   "outputs": [
    {
     "data": {
      "text/plain": [
       "<Axes: xlabel='race', ylabel='education'>"
      ]
     },
     "execution_count": 33,
     "metadata": {},
     "output_type": "execute_result"
    },
    {
     "data": {
      "image/png": "[encoded data removed]",
      "text/plain": [
       "<Figure size 640x480 with 1 Axes>"
      ]
     },
     "metadata": {},
     "output_type": "display_data"
    }
   ],
   "source": [
    "sns.barplot(data = data,\n",
    "            x = 'race',\n",
    "            y = 'education')"
   ]
  },
  {
   "cell_type": "markdown",
   "id": "8222533e",
   "metadata": {},
   "source": [
    "Handy-dandy One-way ANOVA with post-hoc tests.\n",
    "\n",
    "https://pingouin-stats.org/build/html/guidelines.html#anova"
   ]
  },
  {
   "cell_type": "code",
   "execution_count": 34,
   "id": "4ac119bb",
   "metadata": {},
   "outputs": [
    {
     "data": {
      "text/html": [
       "<div>\n",
       "<style scoped>\n",
       "    .dataframe tbody tr th:only-of-type {\n",
       "        vertical-align: middle;\n",
       "    }\n",
       "\n",
       "    .dataframe tbody tr th {\n",
       "        vertical-align: top;\n",
       "    }\n",
       "\n",
       "    .dataframe thead th {\n",
       "        text-align: right;\n",
       "    }\n",
       "</style>\n",
       "<table border=\"1\" class=\"dataframe\">\n",
       "  <thead>\n",
       "    <tr style=\"text-align: right;\">\n",
       "      <th></th>\n",
       "      <th>W</th>\n",
       "      <th>pval</th>\n",
       "      <th>equal_var</th>\n",
       "    </tr>\n",
       "  </thead>\n",
       "  <tbody>\n",
       "    <tr>\n",
       "      <th>levene</th>\n",
       "      <td>1.292877</td>\n",
       "      <td>0.275901</td>\n",
       "      <td>True</td>\n",
       "    </tr>\n",
       "  </tbody>\n",
       "</table>\n",
       "</div>"
      ],
      "text/plain": [
       "               W      pval  equal_var\n",
       "levene  1.292877  0.275901       True"
      ]
     },
     "execution_count": 34,
     "metadata": {},
     "output_type": "execute_result"
    }
   ],
   "source": [
    "# First test for equal variances to pick correct ANOVA\n",
    "\n",
    "pg.homoscedasticity(data, dv='education', group='race')"
   ]
  },
  {
   "cell_type": "code",
   "execution_count": 35,
   "id": "5c527fca",
   "metadata": {},
   "outputs": [
    {
     "data": {
      "text/html": [
       "<div>\n",
       "<style scoped>\n",
       "    .dataframe tbody tr th:only-of-type {\n",
       "        vertical-align: middle;\n",
       "    }\n",
       "\n",
       "    .dataframe tbody tr th {\n",
       "        vertical-align: top;\n",
       "    }\n",
       "\n",
       "    .dataframe thead th {\n",
       "        text-align: right;\n",
       "    }\n",
       "</style>\n",
       "<table border=\"1\" class=\"dataframe\">\n",
       "  <thead>\n",
       "    <tr style=\"text-align: right;\">\n",
       "      <th></th>\n",
       "      <th>Source</th>\n",
       "      <th>SS</th>\n",
       "      <th>DF</th>\n",
       "      <th>MS</th>\n",
       "      <th>F</th>\n",
       "      <th>p-unc</th>\n",
       "      <th>np2</th>\n",
       "    </tr>\n",
       "  </thead>\n",
       "  <tbody>\n",
       "    <tr>\n",
       "      <th>0</th>\n",
       "      <td>race</td>\n",
       "      <td>131.796715</td>\n",
       "      <td>2</td>\n",
       "      <td>65.898357</td>\n",
       "      <td>13.37776</td>\n",
       "      <td>0.000003</td>\n",
       "      <td>0.076717</td>\n",
       "    </tr>\n",
       "    <tr>\n",
       "      <th>1</th>\n",
       "      <td>Within</td>\n",
       "      <td>1586.160208</td>\n",
       "      <td>322</td>\n",
       "      <td>4.925963</td>\n",
       "      <td>NaN</td>\n",
       "      <td>NaN</td>\n",
       "      <td>NaN</td>\n",
       "    </tr>\n",
       "  </tbody>\n",
       "</table>\n",
       "</div>"
      ],
      "text/plain": [
       "   Source           SS   DF         MS         F     p-unc       np2\n",
       "0    race   131.796715    2  65.898357  13.37776  0.000003  0.076717\n",
       "1  Within  1586.160208  322   4.925963       NaN       NaN       NaN"
      ]
     },
     "execution_count": 35,
     "metadata": {},
     "output_type": "execute_result"
    }
   ],
   "source": [
    "pg.anova(data, dv='education', between='race', detailed=True)"
   ]
  },
  {
   "cell_type": "markdown",
   "id": "b59a5b0b",
   "metadata": {},
   "source": [
    "Here the ANOVA rejects the hypothesis that the mean is the same across races.\n",
    "However, it does not tell us *which* ones are different.\n",
    "That's where post-hoc testing comes in.\n",
    "Since we have equal-varainces across the group, it suggets Tukey's post hoc test."
   ]
  },
  {
   "cell_type": "code",
   "execution_count": 36,
   "id": "17b7eff1",
   "metadata": {},
   "outputs": [
    {
     "data": {
      "text/html": [
       "<div>\n",
       "<style scoped>\n",
       "    .dataframe tbody tr th:only-of-type {\n",
       "        vertical-align: middle;\n",
       "    }\n",
       "\n",
       "    .dataframe tbody tr th {\n",
       "        vertical-align: top;\n",
       "    }\n",
       "\n",
       "    .dataframe thead th {\n",
       "        text-align: right;\n",
       "    }\n",
       "</style>\n",
       "<table border=\"1\" class=\"dataframe\">\n",
       "  <thead>\n",
       "    <tr style=\"text-align: right;\">\n",
       "      <th></th>\n",
       "      <th>A</th>\n",
       "      <th>B</th>\n",
       "      <th>mean(A)</th>\n",
       "      <th>mean(B)</th>\n",
       "      <th>diff</th>\n",
       "      <th>se</th>\n",
       "      <th>T</th>\n",
       "      <th>p-tukey</th>\n",
       "      <th>hedges</th>\n",
       "    </tr>\n",
       "  </thead>\n",
       "  <tbody>\n",
       "    <tr>\n",
       "      <th>0</th>\n",
       "      <td>AA</td>\n",
       "      <td>C</td>\n",
       "      <td>12.077273</td>\n",
       "      <td>13.608108</td>\n",
       "      <td>-1.530835</td>\n",
       "      <td>0.298258</td>\n",
       "      <td>-5.132588</td>\n",
       "      <td>0.000001</td>\n",
       "      <td>-0.697499</td>\n",
       "    </tr>\n",
       "    <tr>\n",
       "      <th>1</th>\n",
       "      <td>AA</td>\n",
       "      <td>H</td>\n",
       "      <td>12.077273</td>\n",
       "      <td>12.193548</td>\n",
       "      <td>-0.116276</td>\n",
       "      <td>0.425785</td>\n",
       "      <td>-0.273085</td>\n",
       "      <td>0.959729</td>\n",
       "      <td>-0.054118</td>\n",
       "    </tr>\n",
       "    <tr>\n",
       "      <th>2</th>\n",
       "      <td>C</td>\n",
       "      <td>H</td>\n",
       "      <td>13.608108</td>\n",
       "      <td>12.193548</td>\n",
       "      <td>1.414560</td>\n",
       "      <td>0.474836</td>\n",
       "      <td>2.979050</td>\n",
       "      <td>0.008714</td>\n",
       "      <td>0.567577</td>\n",
       "    </tr>\n",
       "  </tbody>\n",
       "</table>\n",
       "</div>"
      ],
      "text/plain": [
       "    A  B    mean(A)    mean(B)      diff        se         T   p-tukey  \\\n",
       "0  AA  C  12.077273  13.608108 -1.530835  0.298258 -5.132588  0.000001   \n",
       "1  AA  H  12.077273  12.193548 -0.116276  0.425785 -0.273085  0.959729   \n",
       "2   C  H  13.608108  12.193548  1.414560  0.474836  2.979050  0.008714   \n",
       "\n",
       "     hedges  \n",
       "0 -0.697499  \n",
       "1 -0.054118  \n",
       "2  0.567577  "
      ]
     },
     "execution_count": 36,
     "metadata": {},
     "output_type": "execute_result"
    }
   ],
   "source": [
    "pg.pairwise_tukey(data=data, dv='education', between='race')"
   ]
  },
  {
   "cell_type": "markdown",
   "id": "caa53fbb",
   "metadata": {},
   "source": [
    "This provided a table with a row for each comparison.\n",
    "`p-tukey` indicates the rows with significant differences."
   ]
  },
  {
   "cell_type": "markdown",
   "id": "8885ba9d",
   "metadata": {},
   "source": [
    "We can also do Multi-way ANOVAs; this is where you have more than one independent variable splitting your data.\n",
    "Here, we can look at how both *race* **and** *gender* impact educational attainment."
   ]
  },
  {
   "cell_type": "code",
   "execution_count": 37,
   "id": "36aa9b54",
   "metadata": {},
   "outputs": [
    {
     "data": {
      "text/plain": [
       "<Axes: xlabel='race', ylabel='education'>"
      ]
     },
     "execution_count": 37,
     "metadata": {},
     "output_type": "execute_result"
    },
    {
     "data": {
      "image/png": "[encoded data removed]",
      "text/plain": [
       "<Figure size 640x480 with 1 Axes>"
      ]
     },
     "metadata": {},
     "output_type": "display_data"
    }
   ],
   "source": [
    "sns.barplot(data = data,\n",
    "            x = 'race',\n",
    "            hue = 'sex',\n",
    "            y = 'education')"
   ]
  },
  {
   "cell_type": "code",
   "execution_count": 38,
   "id": "9b30b490",
   "metadata": {},
   "outputs": [
    {
     "data": {
      "text/html": [
       "<div>\n",
       "<style scoped>\n",
       "    .dataframe tbody tr th:only-of-type {\n",
       "        vertical-align: middle;\n",
       "    }\n",
       "\n",
       "    .dataframe tbody tr th {\n",
       "        vertical-align: top;\n",
       "    }\n",
       "\n",
       "    .dataframe thead th {\n",
       "        text-align: right;\n",
       "    }\n",
       "</style>\n",
       "<table border=\"1\" class=\"dataframe\">\n",
       "  <thead>\n",
       "    <tr style=\"text-align: right;\">\n",
       "      <th></th>\n",
       "      <th>Source</th>\n",
       "      <th>SS</th>\n",
       "      <th>DF</th>\n",
       "      <th>MS</th>\n",
       "      <th>F</th>\n",
       "      <th>p-unc</th>\n",
       "      <th>np2</th>\n",
       "    </tr>\n",
       "  </thead>\n",
       "  <tbody>\n",
       "    <tr>\n",
       "      <th>0</th>\n",
       "      <td>race</td>\n",
       "      <td>133.744087</td>\n",
       "      <td>2.0</td>\n",
       "      <td>66.872043</td>\n",
       "      <td>13.700951</td>\n",
       "      <td>0.000002</td>\n",
       "      <td>0.079104</td>\n",
       "    </tr>\n",
       "    <tr>\n",
       "      <th>1</th>\n",
       "      <td>sex</td>\n",
       "      <td>27.055406</td>\n",
       "      <td>1.0</td>\n",
       "      <td>27.055406</td>\n",
       "      <td>5.543195</td>\n",
       "      <td>0.019158</td>\n",
       "      <td>0.017080</td>\n",
       "    </tr>\n",
       "    <tr>\n",
       "      <th>2</th>\n",
       "      <td>race * sex</td>\n",
       "      <td>2.119345</td>\n",
       "      <td>2.0</td>\n",
       "      <td>1.059672</td>\n",
       "      <td>0.217109</td>\n",
       "      <td>0.804961</td>\n",
       "      <td>0.001359</td>\n",
       "    </tr>\n",
       "    <tr>\n",
       "      <th>3</th>\n",
       "      <td>Residual</td>\n",
       "      <td>1556.985457</td>\n",
       "      <td>319.0</td>\n",
       "      <td>4.880832</td>\n",
       "      <td>NaN</td>\n",
       "      <td>NaN</td>\n",
       "      <td>NaN</td>\n",
       "    </tr>\n",
       "  </tbody>\n",
       "</table>\n",
       "</div>"
      ],
      "text/plain": [
       "       Source           SS     DF         MS          F     p-unc       np2\n",
       "0        race   133.744087    2.0  66.872043  13.700951  0.000002  0.079104\n",
       "1         sex    27.055406    1.0  27.055406   5.543195  0.019158  0.017080\n",
       "2  race * sex     2.119345    2.0   1.059672   0.217109  0.804961  0.001359\n",
       "3    Residual  1556.985457  319.0   4.880832        NaN       NaN       NaN"
      ]
     },
     "execution_count": 38,
     "metadata": {},
     "output_type": "execute_result"
    }
   ],
   "source": [
    "pg.anova(data, dv='education', between=['race', 'sex'], detailed=True)"
   ]
  },
  {
   "cell_type": "markdown",
   "id": "c4c533d0",
   "metadata": {},
   "source": [
    "This tells us that there is likely a difference between race, between sex, but there likely isn't an interactive term.\n",
    "We can also do the post-hoc tests across all comparisons."
   ]
  },
  {
   "cell_type": "code",
   "execution_count": 39,
   "id": "9d560eea",
   "metadata": {},
   "outputs": [
    {
     "data": {
      "text/html": [
       "<div>\n",
       "<style scoped>\n",
       "    .dataframe tbody tr th:only-of-type {\n",
       "        vertical-align: middle;\n",
       "    }\n",
       "\n",
       "    .dataframe tbody tr th {\n",
       "        vertical-align: top;\n",
       "    }\n",
       "\n",
       "    .dataframe thead th {\n",
       "        text-align: right;\n",
       "    }\n",
       "</style>\n",
       "<table border=\"1\" class=\"dataframe\">\n",
       "  <thead>\n",
       "    <tr style=\"text-align: right;\">\n",
       "      <th></th>\n",
       "      <th>Contrast</th>\n",
       "      <th>race</th>\n",
       "      <th>A</th>\n",
       "      <th>B</th>\n",
       "      <th>Paired</th>\n",
       "      <th>Parametric</th>\n",
       "      <th>T</th>\n",
       "      <th>dof</th>\n",
       "      <th>alternative</th>\n",
       "      <th>p-unc</th>\n",
       "      <th>BF10</th>\n",
       "      <th>hedges</th>\n",
       "    </tr>\n",
       "  </thead>\n",
       "  <tbody>\n",
       "    <tr>\n",
       "      <th>0</th>\n",
       "      <td>race</td>\n",
       "      <td>-</td>\n",
       "      <td>AA</td>\n",
       "      <td>C</td>\n",
       "      <td>False</td>\n",
       "      <td>True</td>\n",
       "      <td>-4.794172</td>\n",
       "      <td>110.376193</td>\n",
       "      <td>two-sided</td>\n",
       "      <td>0.000005</td>\n",
       "      <td>5562.177</td>\n",
       "      <td>-0.697499</td>\n",
       "    </tr>\n",
       "    <tr>\n",
       "      <th>1</th>\n",
       "      <td>race</td>\n",
       "      <td>-</td>\n",
       "      <td>AA</td>\n",
       "      <td>H</td>\n",
       "      <td>False</td>\n",
       "      <td>True</td>\n",
       "      <td>-0.247486</td>\n",
       "      <td>36.168163</td>\n",
       "      <td>two-sided</td>\n",
       "      <td>0.805932</td>\n",
       "      <td>0.209</td>\n",
       "      <td>-0.054118</td>\n",
       "    </tr>\n",
       "    <tr>\n",
       "      <th>2</th>\n",
       "      <td>race</td>\n",
       "      <td>-</td>\n",
       "      <td>C</td>\n",
       "      <td>H</td>\n",
       "      <td>False</td>\n",
       "      <td>True</td>\n",
       "      <td>2.658937</td>\n",
       "      <td>55.713740</td>\n",
       "      <td>two-sided</td>\n",
       "      <td>0.010214</td>\n",
       "      <td>4.718</td>\n",
       "      <td>0.567577</td>\n",
       "    </tr>\n",
       "    <tr>\n",
       "      <th>3</th>\n",
       "      <td>sex</td>\n",
       "      <td>-</td>\n",
       "      <td>female</td>\n",
       "      <td>male</td>\n",
       "      <td>False</td>\n",
       "      <td>True</td>\n",
       "      <td>-2.245961</td>\n",
       "      <td>202.108089</td>\n",
       "      <td>two-sided</td>\n",
       "      <td>0.025789</td>\n",
       "      <td>1.438</td>\n",
       "      <td>-0.262445</td>\n",
       "    </tr>\n",
       "    <tr>\n",
       "      <th>4</th>\n",
       "      <td>race * sex</td>\n",
       "      <td>AA</td>\n",
       "      <td>female</td>\n",
       "      <td>male</td>\n",
       "      <td>False</td>\n",
       "      <td>True</td>\n",
       "      <td>-1.826097</td>\n",
       "      <td>149.778935</td>\n",
       "      <td>two-sided</td>\n",
       "      <td>0.069827</td>\n",
       "      <td>0.739</td>\n",
       "      <td>-0.254068</td>\n",
       "    </tr>\n",
       "    <tr>\n",
       "      <th>5</th>\n",
       "      <td>race * sex</td>\n",
       "      <td>C</td>\n",
       "      <td>female</td>\n",
       "      <td>male</td>\n",
       "      <td>False</td>\n",
       "      <td>True</td>\n",
       "      <td>-1.230186</td>\n",
       "      <td>41.659681</td>\n",
       "      <td>two-sided</td>\n",
       "      <td>0.225529</td>\n",
       "      <td>0.481</td>\n",
       "      <td>-0.313088</td>\n",
       "    </tr>\n",
       "    <tr>\n",
       "      <th>6</th>\n",
       "      <td>race * sex</td>\n",
       "      <td>H</td>\n",
       "      <td>female</td>\n",
       "      <td>male</td>\n",
       "      <td>False</td>\n",
       "      <td>True</td>\n",
       "      <td>-1.322973</td>\n",
       "      <td>8.498605</td>\n",
       "      <td>two-sided</td>\n",
       "      <td>0.220332</td>\n",
       "      <td>0.753</td>\n",
       "      <td>-0.461862</td>\n",
       "    </tr>\n",
       "  </tbody>\n",
       "</table>\n",
       "</div>"
      ],
      "text/plain": [
       "     Contrast race       A     B Paired Parametric         T         dof  \\\n",
       "0        race    -      AA     C  False       True -4.794172  110.376193   \n",
       "1        race    -      AA     H  False       True -0.247486   36.168163   \n",
       "2        race    -       C     H  False       True  2.658937   55.713740   \n",
       "3         sex    -  female  male  False       True -2.245961  202.108089   \n",
       "4  race * sex   AA  female  male  False       True -1.826097  149.778935   \n",
       "5  race * sex    C  female  male  False       True -1.230186   41.659681   \n",
       "6  race * sex    H  female  male  False       True -1.322973    8.498605   \n",
       "\n",
       "  alternative     p-unc      BF10    hedges  \n",
       "0   two-sided  0.000005  5562.177 -0.697499  \n",
       "1   two-sided  0.805932     0.209 -0.054118  \n",
       "2   two-sided  0.010214     4.718  0.567577  \n",
       "3   two-sided  0.025789     1.438 -0.262445  \n",
       "4   two-sided  0.069827     0.739 -0.254068  \n",
       "5   two-sided  0.225529     0.481 -0.313088  \n",
       "6   two-sided  0.220332     0.753 -0.461862  "
      ]
     },
     "execution_count": 39,
     "metadata": {},
     "output_type": "execute_result"
    }
   ],
   "source": [
    "results = pg.pairwise_tests(data=data, dv='education', between=['race', 'sex'])\n",
    "results"
   ]
  },
  {
   "cell_type": "code",
   "execution_count": 40,
   "id": "6b5ac432",
   "metadata": {},
   "outputs": [
    {
     "data": {
      "text/html": [
       "<div>\n",
       "<style scoped>\n",
       "    .dataframe tbody tr th:only-of-type {\n",
       "        vertical-align: middle;\n",
       "    }\n",
       "\n",
       "    .dataframe tbody tr th {\n",
       "        vertical-align: top;\n",
       "    }\n",
       "\n",
       "    .dataframe thead th {\n",
       "        text-align: right;\n",
       "    }\n",
       "</style>\n",
       "<table border=\"1\" class=\"dataframe\">\n",
       "  <thead>\n",
       "    <tr style=\"text-align: right;\">\n",
       "      <th></th>\n",
       "      <th>Contrast</th>\n",
       "      <th>race</th>\n",
       "      <th>A</th>\n",
       "      <th>B</th>\n",
       "      <th>Paired</th>\n",
       "      <th>Parametric</th>\n",
       "      <th>T</th>\n",
       "      <th>dof</th>\n",
       "      <th>alternative</th>\n",
       "      <th>p-unc</th>\n",
       "      <th>BF10</th>\n",
       "      <th>hedges</th>\n",
       "    </tr>\n",
       "  </thead>\n",
       "  <tbody>\n",
       "    <tr>\n",
       "      <th>0</th>\n",
       "      <td>race</td>\n",
       "      <td>-</td>\n",
       "      <td>AA</td>\n",
       "      <td>C</td>\n",
       "      <td>False</td>\n",
       "      <td>True</td>\n",
       "      <td>-4.794172</td>\n",
       "      <td>110.376193</td>\n",
       "      <td>two-sided</td>\n",
       "      <td>0.000005</td>\n",
       "      <td>5562.177</td>\n",
       "      <td>-0.697499</td>\n",
       "    </tr>\n",
       "    <tr>\n",
       "      <th>2</th>\n",
       "      <td>race</td>\n",
       "      <td>-</td>\n",
       "      <td>C</td>\n",
       "      <td>H</td>\n",
       "      <td>False</td>\n",
       "      <td>True</td>\n",
       "      <td>2.658937</td>\n",
       "      <td>55.713740</td>\n",
       "      <td>two-sided</td>\n",
       "      <td>0.010214</td>\n",
       "      <td>4.718</td>\n",
       "      <td>0.567577</td>\n",
       "    </tr>\n",
       "    <tr>\n",
       "      <th>3</th>\n",
       "      <td>sex</td>\n",
       "      <td>-</td>\n",
       "      <td>female</td>\n",
       "      <td>male</td>\n",
       "      <td>False</td>\n",
       "      <td>True</td>\n",
       "      <td>-2.245961</td>\n",
       "      <td>202.108089</td>\n",
       "      <td>two-sided</td>\n",
       "      <td>0.025789</td>\n",
       "      <td>1.438</td>\n",
       "      <td>-0.262445</td>\n",
       "    </tr>\n",
       "  </tbody>\n",
       "</table>\n",
       "</div>"
      ],
      "text/plain": [
       "  Contrast race       A     B Paired Parametric         T         dof  \\\n",
       "0     race    -      AA     C  False       True -4.794172  110.376193   \n",
       "2     race    -       C     H  False       True  2.658937   55.713740   \n",
       "3      sex    -  female  male  False       True -2.245961  202.108089   \n",
       "\n",
       "  alternative     p-unc      BF10    hedges  \n",
       "0   two-sided  0.000005  5562.177 -0.697499  \n",
       "2   two-sided  0.010214     4.718  0.567577  \n",
       "3   two-sided  0.025789     1.438 -0.262445  "
      ]
     },
     "execution_count": 40,
     "metadata": {},
     "output_type": "execute_result"
    }
   ],
   "source": [
    "results.loc[results['p-unc'] < 0.05]"
   ]
  },
  {
   "cell_type": "markdown",
   "id": "b8d907ba",
   "metadata": {},
   "source": [
    "If we had repeated measures for individuals (ie biological replicates) we can also add `, within = 'sample'`.\n",
    "This would help correct for within sample variability."
   ]
  },
  {
   "cell_type": "markdown",
   "id": "55396018",
   "metadata": {},
   "source": [
    "### Non-parametric comparisons"
   ]
  },
  {
   "cell_type": "markdown",
   "id": "c13c2a34",
   "metadata": {},
   "source": [
    "### Q3: Use the appropriate non-parametric method."
   ]
  },
  {
   "cell_type": "markdown",
   "id": "a545a4a6",
   "metadata": {},
   "source": [
    "Let's pretend that we believed the first Shapiro-Wilk normality test and instead used non-parametric methods.\n",
    "Use the flowchart below to test the whether there is a difference in education level across `race`.\n",
    "\n",
    "https://pingouin-stats.org/build/html/guidelines.html#non-parametric"
   ]
  },
  {
   "cell_type": "markdown",
   "id": "14dd12ea",
   "metadata": {},
   "source": [
    "![Non-parametric flow chart](https://pingouin-stats.org/build/html/_images/flowchart_nonparametric.svg)"
   ]
  },
  {
   "cell_type": "markdown",
   "id": "9597ff4c",
   "metadata": {},
   "source": [
    "|               |    |\n",
    "| --------------|----|\n",
    "| Points        | 5  |\n",
    "| Public Checks | 4  |\n",
    "\n",
    "_Points:_ 5"
   ]
  },
  {
   "cell_type": "markdown",
   "id": "7838265b",
   "metadata": {},
   "source": [
    "_Type your answer here, replacing this text._"
   ]
  },
  {
   "cell_type": "code",
   "execution_count": 41,
   "id": "ec76d5de",
   "metadata": {
    "tags": [
     "otter_assign_solution_cell"
    ]
   },
   "outputs": [
    {
     "data": {
      "text/html": [
       "<div>\n",
       "<style scoped>\n",
       "    .dataframe tbody tr th:only-of-type {\n",
       "        vertical-align: middle;\n",
       "    }\n",
       "\n",
       "    .dataframe tbody tr th {\n",
       "        vertical-align: top;\n",
       "    }\n",
       "\n",
       "    .dataframe thead th {\n",
       "        text-align: right;\n",
       "    }\n",
       "</style>\n",
       "<table border=\"1\" class=\"dataframe\">\n",
       "  <thead>\n",
       "    <tr style=\"text-align: right;\">\n",
       "      <th></th>\n",
       "      <th>Source</th>\n",
       "      <th>ddof1</th>\n",
       "      <th>H</th>\n",
       "      <th>p-unc</th>\n",
       "    </tr>\n",
       "  </thead>\n",
       "  <tbody>\n",
       "    <tr>\n",
       "      <th>Kruskal</th>\n",
       "      <td>race</td>\n",
       "      <td>2</td>\n",
       "      <td>22.498491</td>\n",
       "      <td>0.000013</td>\n",
       "    </tr>\n",
       "  </tbody>\n",
       "</table>\n",
       "</div>"
      ],
      "text/plain": [
       "        Source  ddof1          H     p-unc\n",
       "Kruskal   race      2  22.498491  0.000013"
      ]
     },
     "execution_count": 41,
     "metadata": {},
     "output_type": "execute_result"
    }
   ],
   "source": [
    "# Use the appropriate test from the Guidelines\n",
    "q3_stats = pg.kruskal(data, dv='education', between='race') # SOLUTION\n",
    "q3_stats"
   ]
  },
  {
   "cell_type": "code",
   "execution_count": 42,
   "id": "59684e0b",
   "metadata": {
    "tags": [
     "otter_assign_solution_cell"
    ]
   },
   "outputs": [
    {
     "data": {
      "text/html": [
       "<div>\n",
       "<style scoped>\n",
       "    .dataframe tbody tr th:only-of-type {\n",
       "        vertical-align: middle;\n",
       "    }\n",
       "\n",
       "    .dataframe tbody tr th {\n",
       "        vertical-align: top;\n",
       "    }\n",
       "\n",
       "    .dataframe thead th {\n",
       "        text-align: right;\n",
       "    }\n",
       "</style>\n",
       "<table border=\"1\" class=\"dataframe\">\n",
       "  <thead>\n",
       "    <tr style=\"text-align: right;\">\n",
       "      <th></th>\n",
       "      <th>Contrast</th>\n",
       "      <th>A</th>\n",
       "      <th>B</th>\n",
       "      <th>Paired</th>\n",
       "      <th>Parametric</th>\n",
       "      <th>U-val</th>\n",
       "      <th>alternative</th>\n",
       "      <th>p-unc</th>\n",
       "      <th>hedges</th>\n",
       "    </tr>\n",
       "  </thead>\n",
       "  <tbody>\n",
       "    <tr>\n",
       "      <th>0</th>\n",
       "      <td>race</td>\n",
       "      <td>AA</td>\n",
       "      <td>C</td>\n",
       "      <td>False</td>\n",
       "      <td>False</td>\n",
       "      <td>5199.0</td>\n",
       "      <td>two-sided</td>\n",
       "      <td>0.000003</td>\n",
       "      <td>-0.697499</td>\n",
       "    </tr>\n",
       "    <tr>\n",
       "      <th>1</th>\n",
       "      <td>race</td>\n",
       "      <td>AA</td>\n",
       "      <td>H</td>\n",
       "      <td>False</td>\n",
       "      <td>False</td>\n",
       "      <td>3482.0</td>\n",
       "      <td>two-sided</td>\n",
       "      <td>0.848419</td>\n",
       "      <td>-0.054118</td>\n",
       "    </tr>\n",
       "    <tr>\n",
       "      <th>2</th>\n",
       "      <td>race</td>\n",
       "      <td>C</td>\n",
       "      <td>H</td>\n",
       "      <td>False</td>\n",
       "      <td>False</td>\n",
       "      <td>1540.5</td>\n",
       "      <td>two-sided</td>\n",
       "      <td>0.005371</td>\n",
       "      <td>0.567577</td>\n",
       "    </tr>\n",
       "  </tbody>\n",
       "</table>\n",
       "</div>"
      ],
      "text/plain": [
       "  Contrast   A  B  Paired  Parametric   U-val alternative     p-unc    hedges\n",
       "0     race  AA  C   False       False  5199.0   two-sided  0.000003 -0.697499\n",
       "1     race  AA  H   False       False  3482.0   two-sided  0.848419 -0.054118\n",
       "2     race   C  H   False       False  1540.5   two-sided  0.005371  0.567577"
      ]
     },
     "execution_count": 42,
     "metadata": {},
     "output_type": "execute_result"
    }
   ],
   "source": [
    "# Use the appropriate post-hoc test from the Guidelines\n",
    "q3_post_hoc = pg.pairwise_tests(data, dv='education', between='race', parametric=False) # SOLUTION\n",
    "q3_post_hoc"
   ]
  },
  {
   "cell_type": "markdown",
   "id": "15c496b6",
   "metadata": {
    "tags": [
     "otter_assign_solution_cell"
    ]
   },
   "source": [
    "Compare this answer to the parametric method."
   ]
  },
  {
   "cell_type": "code",
   "execution_count": 43,
   "id": "96932e0f",
   "metadata": {
    "tags": [
     "otter_assign_solution_cell"
    ]
   },
   "outputs": [],
   "source": [
    "# Are they the 'same' or 'different'\n",
    "\n",
    "q3_comparison = 'same' # SOLUTION"
   ]
  },
  {
   "cell_type": "code",
   "execution_count": null,
   "id": "f53e9de0",
   "metadata": {
    "deletable": false,
    "editable": false
   },
   "outputs": [],
   "source": [
    "grader.check(\"q3_nonparametric\")"
   ]
  },
  {
   "cell_type": "markdown",
   "id": "b9b34dc0",
   "metadata": {},
   "source": [
    "We should see that we'll get the same answer between parametric and non-parametric methods."
   ]
  },
  {
   "cell_type": "markdown",
   "id": "ead78a23",
   "metadata": {},
   "source": [
    "We've now seen a handful of methods for testing the difference between populations.\n",
    "In the lab, you will use these skills to test the effects of different ART drugs on neurocognitive impairment."
   ]
  },
  {
   "cell_type": "markdown",
   "id": "80e20295",
   "metadata": {},
   "source": [
    "---------------------------------------------"
   ]
  },
  {
   "cell_type": "markdown",
   "id": "cbcbcafc",
   "metadata": {
    "tags": [
     "remove_cell"
    ]
   },
   "source": [
    "## Submission\n",
    "\n",
    "You do not need to submit this walkthrough notebook.\n",
    "Simply complete the quiz."
   ]
  },
  {
   "cell_type": "code",
   "execution_count": 49,
   "id": "e8be1791",
   "metadata": {},
   "outputs": [
    {
     "data": {
      "text/plain": []
     },
     "execution_count": 49,
     "metadata": {},
     "output_type": "execute_result"
    }
   ],
   "source": [
    "grader.check_all()"
   ]
  }
 ],
 "metadata": {
  "kernelspec": {
   "display_name": "Python 3 (ipykernel)",
   "language": "python",
   "name": "python3"
  },
  "language_info": {
   "codemirror_mode": {
    "name": "ipython",
    "version": 3
   },
   "file_extension": ".py",
   "mimetype": "text/x-python",
   "name": "python",
   "nbconvert_exporter": "python",
   "pygments_lexer": "ipython3",
   "version": "3.9.13"
  },
  "otter": {
   "assignment_name": "Module08_walkthrough"
  }
 },
 "nbformat": 4,
 "nbformat_minor": 5
}