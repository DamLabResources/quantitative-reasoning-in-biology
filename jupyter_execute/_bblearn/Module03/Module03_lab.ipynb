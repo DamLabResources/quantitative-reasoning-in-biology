{
 "cells": [
  {
   "cell_type": "code",
   "execution_count": null,
   "id": "e14a2817",
   "metadata": {
    "tags": [
     "remove_cell"
    ]
   },
   "outputs": [],
   "source": [
    "# Setting up the Colab environment. DO NOT EDIT!\n",
    "import os\n",
    "import warnings\n",
    "warnings.filterwarnings(\"ignore\")\n",
    "\n",
    "try:\n",
    "    import otter\n",
    "\n",
    "except ImportError:\n",
    "    ! pip install -q otter-grader==4.0.0\n",
    "    import otter\n",
    "\n",
    "if not os.path.exists('walkthrough-tests'):\n",
    "    zip_files = [f for f in os.listdir() if f.endswith('.zip')]\n",
    "    assert len(zip_files)>0, 'Could not find any zip files!'\n",
    "    assert len(zip_files)==1, 'Found multiple zip files!'\n",
    "    ! unzip {zip_files[0]}\n",
    "\n",
    "grader = otter.Notebook(colab=True,\n",
    "                        tests_dir = 'lab-tests')"
   ]
  },
  {
   "cell_type": "markdown",
   "id": "d15e526d",
   "metadata": {},
   "source": [
    "# Lab"
   ]
  },
  {
   "cell_type": "markdown",
   "id": "09f7f969",
   "metadata": {},
   "source": [
    "## Introduction\n",
    "\n",
    "In this lab, you will use Python to analyze data from a hypothetical HIV treatment trial and explore the effects of the treatment on different types of participants.\n",
    "Specifically, you will look at the infection status of participants at the start of the treatment and the length of their infection.\n",
    "These considerations have clinical implications for the application of the treatment.\n",
    "Through this activity, you will practice using Python methods to append a column to an existing table, load spreadsheet data into Python using the Table object, create derived columns in tables, and use Python summary methods like sum, mean, and max."
   ]
  },
  {
   "cell_type": "markdown",
   "id": "5a58ac36",
   "metadata": {},
   "source": [
    "## Learning Objectives\n",
    "\n",
    "At the end of this learning activity you will be able to:\n",
    " - Use Python methods to append a column into an existing table.\n",
    " - Practice loading spreadsheet data into Python using the `Table` object.\n",
    " - Use Python methods to create derived columns in Tables\n",
    " - Use Python summary methods like sum, mean, and max"
   ]
  },
  {
   "cell_type": "markdown",
   "id": "10b85d60",
   "metadata": {},
   "source": [
    "## Dataset Reference\n",
    "\n",
    "_File_: `trail_data.csv`\n",
    "\n",
    "_Columns_:\n",
    "\n",
    " - `age` : (years) Current age during the study. \n",
    " - `age_initial_infection` : (years) Age at which the participant was initially infected.\n",
    " - `initial_viral_load` : (copies/ul) The level of infection at the start of the study.\n",
    " - `treatment` : (boolean) `True` for participants in the treatment group, `False` for those in the control group.\n",
    " - `weeks_to_failure` : (weeks) Time from the treatment to the first week of uncontrolled viral load.\n",
    "\n"
   ]
  },
  {
   "cell_type": "code",
   "execution_count": null,
   "id": "0db5a011",
   "metadata": {},
   "outputs": [],
   "source": [
    "import numpy as np\n",
    "import pandas as pd"
   ]
  },
  {
   "cell_type": "markdown",
   "id": "cdb8029a",
   "metadata": {},
   "source": [
    "## Questions"
   ]
  },
  {
   "cell_type": "markdown",
   "id": "9b0ce77a",
   "metadata": {
    "tags": []
   },
   "source": [
    "### Q1: Load in the data from the CSV file.\n",
    "\n",
    "_Hint: Remember to use the `read_csv` function of the `pandas` library._"
   ]
  },
  {
   "cell_type": "markdown",
   "id": "0c52e361",
   "metadata": {
    "tags": [
     "remove_cell"
    ]
   },
   "source": [
    "|               |    |\n",
    "| --------------|----|\n",
    "| Points        | 2  |\n",
    "| Public Checks | 2  |\n",
    "| Hidden Tests  | 0  |\n",
    "\n",
    "_Points:_ 2"
   ]
  },
  {
   "cell_type": "code",
   "execution_count": null,
   "id": "1499d02b",
   "metadata": {
    "tags": []
   },
   "outputs": [],
   "source": [
    "trial_df = ...\n",
    "trial_df.head()"
   ]
  },
  {
   "cell_type": "code",
   "execution_count": null,
   "id": "8959439a",
   "metadata": {
    "deletable": false,
    "editable": false
   },
   "outputs": [],
   "source": [
    "grader.check(\"q1_table_loading\")"
   ]
  },
  {
   "cell_type": "markdown",
   "id": "85978321",
   "metadata": {},
   "source": [
    "### Q2: Calculate the length of for each row.\n",
    "\n",
    "Create a derived column in `trial_df` with the column name `infection_time` that indicates the length of the the infection.\n",
    "\n",
    "_Hint: You can extract two columns and subtract them. And you can do this in one line or many._\n",
    "\n",
    "_Points:_ 3"
   ]
  },
  {
   "cell_type": "code",
   "execution_count": null,
   "id": "2563c52c",
   "metadata": {
    "tags": []
   },
   "outputs": [],
   "source": [
    "..."
   ]
  },
  {
   "cell_type": "code",
   "execution_count": null,
   "id": "1d749522",
   "metadata": {
    "deletable": false,
    "editable": false
   },
   "outputs": [],
   "source": [
    "grader.check(\"q2_infection_time\")"
   ]
  },
  {
   "cell_type": "markdown",
   "id": "289e22e0",
   "metadata": {},
   "source": [
    "To understand the effectiveness of the HIV treatment being evaluated in this experiment, focus the analysis on the individuals in the **treated** group.\n",
    "By examining this group specifically, you can better understand how factors such as age and initial viral load may impact the effectiveness of the treatment."
   ]
  },
  {
   "cell_type": "markdown",
   "id": "36eb65fe",
   "metadata": {},
   "source": [
    "### Q3: Create a new `DataFrame` that includes only the treated individuals.\n",
    "\n",
    "Create a new table that includes only the treated individuals, you can use the `query` method to filter the original table by the value of the `treatment` column."
   ]
  },
  {
   "cell_type": "markdown",
   "id": "9cfef221",
   "metadata": {
    "tags": [
     "remove_cell"
    ]
   },
   "source": [
    "|               |    |\n",
    "| --------------|----|\n",
    "| Points        | 3  |\n",
    "| Public Checks | 3  |\n",
    "| Hidden Tests  | 0  |\n",
    "\n",
    "_Points:_ 3"
   ]
  },
  {
   "cell_type": "code",
   "execution_count": null,
   "id": "bbf5b371",
   "metadata": {
    "tags": []
   },
   "outputs": [],
   "source": [
    "treated_df = ...\n",
    "treated_df"
   ]
  },
  {
   "cell_type": "code",
   "execution_count": null,
   "id": "98df3c76",
   "metadata": {
    "deletable": false,
    "editable": false
   },
   "outputs": [],
   "source": [
    "grader.check(\"q3_treated_indiv\")"
   ]
  },
  {
   "cell_type": "markdown",
   "id": "85aa071c",
   "metadata": {},
   "source": [
    "### Q4: Make two new tables that contain high and low initial viral load samples of the *treated* individuals."
   ]
  },
  {
   "cell_type": "markdown",
   "id": "bb636bbe",
   "metadata": {},
   "source": [
    "For this next step, we will create two separate tables that contain the treated individuals with either high or low initial viral load.\n",
    "This will allow us to compare the effectiveness of the treatment between participants with different levels of disease severity at the start of the treatment.\n",
    "To do this, we can use the `DataFrame.query` method to filter the `treated_df` `DataFrame` we created earlier based on the value of the initial_viral_load column.\n",
    "Create two tables, one for treated participants with high initial viral load **(defined as >= 50 copies/ul)** and one for treated participants with low initial viral load **(defined as < 50 copies/ul)**.\n",
    "This will allow us to see if the treatment is more or less effective for participants with different levels of disease severity at the start of the treatment."
   ]
  },
  {
   "cell_type": "markdown",
   "id": "ad20d807",
   "metadata": {
    "tags": [
     "remove_cell"
    ]
   },
   "source": [
    "|               |    |\n",
    "| --------------|----|\n",
    "| Points        | 4  |\n",
    "| Public Checks | 6  |\n",
    "| Hidden Tests  | 0  |\n",
    "\n",
    "_Points:_ 4"
   ]
  },
  {
   "cell_type": "code",
   "execution_count": null,
   "id": "64d20c0a",
   "metadata": {
    "tags": []
   },
   "outputs": [],
   "source": [
    "high_treated_df = ...\n",
    "low_treated_df = ..."
   ]
  },
  {
   "cell_type": "code",
   "execution_count": null,
   "id": "fc7c5f97",
   "metadata": {
    "deletable": false,
    "editable": false
   },
   "outputs": [],
   "source": [
    "grader.check(\"q4_vl_selection\")"
   ]
  },
  {
   "cell_type": "markdown",
   "id": "781e61e4",
   "metadata": {},
   "source": [
    "Now that there are two different `DataFrames`s we can see if there are any differences in the treated individuals."
   ]
  },
  {
   "cell_type": "code",
   "execution_count": null,
   "id": "44962c4e",
   "metadata": {},
   "outputs": [],
   "source": [
    "low_treated_df[\"weeks_to_failure\"]"
   ]
  },
  {
   "cell_type": "code",
   "execution_count": null,
   "id": "1510dba2",
   "metadata": {},
   "outputs": [],
   "source": [
    "low_treated_df[\"weeks_to_failure\"]"
   ]
  },
  {
   "cell_type": "markdown",
   "id": "0997797e",
   "metadata": {},
   "source": [
    "### Q5: Calculate descriptive statistics on the `weeks_to_failure` column to compare the high and low viral load participants.\n",
    "\n",
    "To better understand the impact of initial viral load on the effectiveness of the treatment, we will compare the weeks_to_failure data for treated participants with high and low initial viral loads.\n",
    "By calculating descriptive statistics such as mean, median, and standard deviation, we can determine whether there are significant differences between the two groups and gain insights into how initial viral load may affect the success of the treatment.\n",
    "To do this, we will first need to create two separate tables for treated participants with high and low initial viral loads, and then calculate the relevant statistics for each group.\n",
    "\n",
    "_Hint: Remember methods like `.mean()` and `.min()` can be called on extracted columns._"
   ]
  },
  {
   "cell_type": "markdown",
   "id": "c5b11ff3",
   "metadata": {
    "tags": [
     "remove_cell"
    ]
   },
   "source": [
    "|               |    |\n",
    "| --------------|----|\n",
    "| Points        | 6  |\n",
    "| Public Checks | 5  |\n",
    "| Hidden Tests  | 4  |\n",
    "\n",
    "_Points:_ 6"
   ]
  },
  {
   "cell_type": "code",
   "execution_count": null,
   "id": "46f19bc4",
   "metadata": {
    "tags": []
   },
   "outputs": [],
   "source": [
    "\n",
    "# average weeks_to_failure for low viral load participants\n",
    "low_mean = ...\n",
    "\n",
    "# minimum weeks_to_failure for low viral load participants\n",
    "low_min = ...\n",
    "\n",
    "\n",
    "# for high viral load participants\n",
    "high_mean = ...\n",
    "high_min = ..."
   ]
  },
  {
   "cell_type": "code",
   "execution_count": null,
   "id": "506897fa",
   "metadata": {
    "tags": []
   },
   "outputs": [],
   "source": [
    "print('The low viral load participants had an average time to failure ',\n",
    "      f'of {low_mean} ',\n",
    "      f'with a minimum {low_min} weeks')\n",
    "print('The high viral load participants had an average time to failure ',\n",
    "      f'of {high_mean} ',\n",
    "      f'with a minimum {high_min} weeks')"
   ]
  },
  {
   "cell_type": "code",
   "execution_count": null,
   "id": "ab5a238e",
   "metadata": {
    "deletable": false,
    "editable": false
   },
   "outputs": [],
   "source": [
    "grader.check(\"q5_vl_comparison\")"
   ]
  },
  {
   "cell_type": "markdown",
   "id": "19b3dddc",
   "metadata": {},
   "source": [
    "Our initial analysis suggests that there may not be a significant difference between the two groups of treated participants in terms of the time until failure.\n",
    "However, we will continue to explore this data in future weeks to get a more definitive answer."
   ]
  },
  {
   "cell_type": "markdown",
   "id": "1f2df34a",
   "metadata": {},
   "source": [
    "### Q6: Calculate the same descriptive statistics on the `weeks_to_failure` column to compare the **treated** participants with short and long infection lengths.\n",
    "\n",
    "In this final question, we will investigate whether the length of time a participant has been infected with HIV impacts the effectiveness of the treatment.\n",
    "Specifically, we will compare the weeks to failure for treated participants with short and long infection lengths.\n",
    "For this analysis, we will consider participants with less than 10 years of infection to have a short infection length, and those with 10 years or more to have a long infection length.\n",
    "It is important to note that these arbitrary cut-offs were chosen for the purpose of this analysis and may not necessarily reflect the clinical definitions of short and long infection lengths.\n",
    "\n",
    "To answer this question, we will need to calculate the descriptive statistics on the `weeks_to_failure` column for treated participants with short and long infection lengths.\n",
    "\n",
    "_Remember, it is helpful to break down the problem into smaller steps and create intermediate cells to better understand and debug the analysis._"
   ]
  },
  {
   "cell_type": "markdown",
   "id": "4d00232d",
   "metadata": {
    "tags": [
     "remove_cell"
    ]
   },
   "source": [
    "|               |    |\n",
    "| --------------|----|\n",
    "| Points        | 8  |\n",
    "| Public Checks | 5  |\n",
    "| Hidden Tests  | 4  |\n",
    "\n",
    "_Points:_ 8"
   ]
  },
  {
   "cell_type": "code",
   "execution_count": null,
   "id": "a8d2636a",
   "metadata": {
    "tags": []
   },
   "outputs": [],
   "source": [
    "\n",
    "\n",
    "# average weeks_to_failure for short infection lengths\n",
    "short_mean = ...\n",
    "\n",
    "# minimum weeks_to_failure for the short infection lengths\n",
    "short_min = ...\n",
    "\n",
    "\n",
    "# for long infection lengths\n",
    "long_mean = ...\n",
    "long_min = ..."
   ]
  },
  {
   "cell_type": "code",
   "execution_count": null,
   "id": "fa7a7530",
   "metadata": {
    "tags": []
   },
   "outputs": [],
   "source": [
    "print('The participants with short infections had an average time to failure ',\n",
    "      f'of {short_mean:0.1f} ',\n",
    "      f'with a minimum {short_min:0.1f} weeks')\n",
    "print('The participants with long infections had an average time to failure ',\n",
    "      f'of {long_mean:0.1f} ',\n",
    "      f'with a minimum {long_min:0.1f} weeks')"
   ]
  },
  {
   "cell_type": "code",
   "execution_count": null,
   "id": "c91d9276",
   "metadata": {
    "deletable": false,
    "editable": false
   },
   "outputs": [],
   "source": [
    "grader.check(\"q6_length_comparison\")"
   ]
  },
  {
   "cell_type": "markdown",
   "id": "1611ff2c",
   "metadata": {},
   "source": [
    "<!-- BEGIN QUESTION -->\n",
    "\n",
    "To reflect on the results from the lab, we can consider the fact that participants with longer infections have a ~1/2 week shorter time to treatment failure compared to those with shorter infections.\n",
    "This difference might seem small in reference to the average value across untreated participants in the study, as well as in comparison to the difference between high and low initial infections.\n",
    "However, it is important to consider whether this difference is large or small in a clinical context.\n",
    "Therefore, it is important to carefully consider the clinical significance of any observed differences in the results of a study.\n",
    "\n",
    "**Edit the next cell (as a Markdown cell) and put this 1/2 week difference into context.\n",
    "Consider the following things:**\n",
    " - Is it large or small in reference to the average value across untreated participants in the study?\n",
    " - Is it large or small in reference to the difference between high & low initial infections?\n",
    " - Is it large or small in a clinical context?"
   ]
  },
  {
   "cell_type": "markdown",
   "id": "9a41ad44",
   "metadata": {
    "tags": [
     "remove_cell"
    ]
   },
   "source": [
    "| **Total Points** | 5 |\n",
    "|--------|----|\n",
    "| Manual | 5 |\n",
    "\n",
    "_Points:_ 5"
   ]
  },
  {
   "cell_type": "markdown",
   "id": "be376d1a",
   "metadata": {},
   "source": [
    "**_Write answer here._**"
   ]
  },
  {
   "cell_type": "markdown",
   "id": "16f03153",
   "metadata": {},
   "source": [
    "<!-- END QUESTION -->\n",
    "\n",
    "--------------------------------------------"
   ]
  },
  {
   "cell_type": "code",
   "execution_count": null,
   "id": "9955a033",
   "metadata": {},
   "outputs": [],
   "source": [
    "grader.check_all()"
   ]
  },
  {
   "cell_type": "markdown",
   "id": "8eecb707",
   "metadata": {
    "tags": [
     "remove_cell"
    ]
   },
   "source": [
    "## Submission\n",
    "\n",
    "Check:\n",
    " - That all tables and graphs are rendered properly.\n",
    " - Code completes without errors by using `Restart & Run All`.\n",
    " - All checks **pass**.\n",
    " - Excess code cells and print statments have been removed to create a _clean_ submission.\n",
    "\n",
    "Remember, as this is a lab, there are hidden tests that you will be evaluated against.\n",
    "Just because all checks pass does not mean everything is correct.\n",
    "Double-check your work!\n",
    "\n",
    "Then save the notebook and the `File` -> `Download` -> `Download .ipynb`. Upload this file to BBLearn."
   ]
  }
 ],
 "metadata": {
  "kernelspec": {
   "display_name": "Python 3 (ipykernel)",
   "language": "python",
   "name": "python3"
  },
  "language_info": {
   "codemirror_mode": {
    "name": "ipython",
    "version": 3
   },
   "file_extension": ".py",
   "mimetype": "text/x-python",
   "name": "python",
   "nbconvert_exporter": "python",
   "pygments_lexer": "ipython3",
   "version": "3.9.13"
  },
  "otter": {
   "assignment_name": "Module03_lab"
  }
 },
 "nbformat": 4,
 "nbformat_minor": 5
}