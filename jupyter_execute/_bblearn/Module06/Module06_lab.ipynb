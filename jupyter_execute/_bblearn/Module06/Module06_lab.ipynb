{
 "cells": [
  {
   "cell_type": "code",
   "execution_count": null,
   "id": "7f03cf8a",
   "metadata": {
    "tags": [
     "remove_cell"
    ]
   },
   "outputs": [],
   "source": [
    "# Setting up the Colab environment. DO NOT EDIT!\n",
    "import os\n",
    "import warnings\n",
    "warnings.filterwarnings(\"ignore\")\n",
    "\n",
    "try:\n",
    "    import otter\n",
    "\n",
    "except ImportError:\n",
    "    ! pip install -q otter-grader==4.0.0\n",
    "    import otter\n",
    "\n",
    "if not os.path.exists('lab-tests'):\n",
    "    zip_files = [f for f in os.listdir() if f.endswith('.zip')]\n",
    "    assert len(zip_files)>0, 'Could not find any zip files!'\n",
    "    assert len(zip_files)==1, 'Found multiple zip files!'\n",
    "    ! unzip {zip_files[0]}\n",
    "\n",
    "grader = otter.Notebook(colab=True,\n",
    "                        tests_dir = 'lab-tests')"
   ]
  },
  {
   "cell_type": "markdown",
   "id": "f49dbbd9",
   "metadata": {},
   "source": [
    "# Lab"
   ]
  },
  {
   "cell_type": "markdown",
   "id": "001f0285",
   "metadata": {},
   "source": [
    "## Learning Objectives\n",
    "At the end of this learning activity you will be able to:\n",
    " - Practice creating statistical figures to answer biological questions.\n",
    " - Practice writing figure legends for statistical figures.\n",
    " - Practice writing descriptive reasonings about a figure."
   ]
  },
  {
   "cell_type": "markdown",
   "id": "ed9c7aeb",
   "metadata": {},
   "source": [
    "**Note**: It is difficult to automatically grade figures as they are many \"correct\" answers.\n",
    "So, most questions will accept _any_ figure or axis and then ask you to answer a question that should be obvious from a properly generated figure.\n",
    "For all questions, assume a 95% confidence interval.\n",
    "\n",
    "Use this lab as an opportunity to explore the different plot-types that Seaborn can make.\n",
    "Check out https://seaborn.pydata.org/examples/index.html for ideas."
   ]
  },
  {
   "cell_type": "markdown",
   "id": "e4fb222a",
   "metadata": {},
   "source": [
    "--------------------------------------------"
   ]
  },
  {
   "cell_type": "code",
   "execution_count": null,
   "id": "07413b3f",
   "metadata": {},
   "outputs": [],
   "source": [
    "import numpy as np\n",
    "import pandas as pd\n",
    "import seaborn as sns\n",
    "import matplotlib.pyplot as plt\n",
    "%matplotlib inline"
   ]
  },
  {
   "cell_type": "code",
   "execution_count": null,
   "id": "f3a279e0",
   "metadata": {},
   "outputs": [],
   "source": [
    "data = pd.read_csv('cytokine_data.csv')\n",
    "data.head()"
   ]
  },
  {
   "cell_type": "markdown",
   "id": "7ef4aad1",
   "metadata": {
    "tags": []
   },
   "source": [
    "## Explore the effect of cocaine use on `mcp1`"
   ]
  },
  {
   "cell_type": "markdown",
   "id": "4db80ed7",
   "metadata": {},
   "source": [
    "## Q1: Do cocaine users have a higher level of expression of `mcp1`?\n",
    "\n",
    "Generate a plot which displays the spread of `mcp1` measurements for each user, split by cocaine use.\n",
    "This can be boxplot, stripplot, hexplot, violin plot, or a number of others.\n",
    "\n",
    "Use a markdown cell to write a figure legend.\n",
    "At a minimum:\n",
    " - Single declaritive sentence stating the conclusion of the figure.\n",
    " - Each axis must be described.\n",
    " - Every color, line, and dot must be described.\n",
    " - Error bars must be described.\n",
    "\n",
    "Then answer:\n",
    "\n",
    "Do cocaine users or non-users have a higher levels of `mcp1`?\n",
    "Use a markdown cell to justify your answer using your figure.\n",
    "\n",
    "\n",
    "|               |    |\n",
    "| --------------|----|\n",
    "| Points        | 5  |\n",
    "| Public Checks | 2  |\n",
    "| Hidden Tests  | 1  |\n",
    "\n",
    "_Points:_ 5"
   ]
  },
  {
   "cell_type": "code",
   "execution_count": null,
   "id": "e312f9fa",
   "metadata": {
    "tags": []
   },
   "outputs": [],
   "source": [
    "\n",
    "# Make your plot here\n",
    "\n",
    "q1_plot = ...\n",
    "\n",
    "# Create a markdown cell after this to write a figure legend."
   ]
  },
  {
   "cell_type": "code",
   "execution_count": null,
   "id": "35ce8ad8",
   "metadata": {
    "tags": []
   },
   "outputs": [],
   "source": [
    "# Do cocaine users or non-users have a higher levels of mcp1?\n",
    "# Answer 'users' or 'non-users', 'same'\n",
    "q1_higher_level = ...\n",
    "\n",
    "# Use the cell below to write your justification given the figure you presented."
   ]
  },
  {
   "cell_type": "code",
   "execution_count": null,
   "id": "c28b8387",
   "metadata": {
    "deletable": false,
    "editable": false
   },
   "outputs": [],
   "source": [
    "grader.check(\"q1_cocaine_use_spread\")"
   ]
  },
  {
   "cell_type": "markdown",
   "id": "e05f9c61",
   "metadata": {},
   "source": [
    "## Q2: Do cocaine users or non-users have a higher _average_ level of `mcp1`?\n",
    "\n",
    "Generate a plot which displays the confidence of the mean of `mcp1` expression across cocaine use.\n",
    "\n",
    "Then, write a figure legend that at a minimum contains:\n",
    " - Single declaritive sentence stating the conclusion of the figure.\n",
    " - Each axis must be described.\n",
    " - Every color, line, and dot must be described.\n",
    " - Error bars must be described.\n",
    "\n",
    "\n",
    "Then, use that figure to answer whether cocaine users or non-users have a higher _average_ level of `mcp1`?\n",
    "Include a markdown cell that justifies your answer given the figure you presented.\n",
    "\n",
    "\n",
    "|               |    |\n",
    "| --------------|----|\n",
    "| Points        | 5  |\n",
    "| Public Checks | 2  |\n",
    "| Hidden Tests  | 1  |\n",
    "\n",
    "_Points:_ 5"
   ]
  },
  {
   "cell_type": "code",
   "execution_count": null,
   "id": "107b0d15",
   "metadata": {
    "tags": []
   },
   "outputs": [],
   "source": [
    "# Generate a plot which displays the confidence of the mean of mcp1 expression across cocaine use\n",
    "\n",
    "q2_plot = ...\n"
   ]
  },
  {
   "cell_type": "code",
   "execution_count": null,
   "id": "60b1b75a",
   "metadata": {
    "tags": []
   },
   "outputs": [],
   "source": [
    "# Do cocaine users or non-users have a higher average level of mcp1\n",
    "# Answer 'users' or 'non-users', 'same'\n",
    "q2_higher_mean = ...\n",
    "\n",
    "# Make a cell below this to explain your reasoning based on the figure."
   ]
  },
  {
   "cell_type": "code",
   "execution_count": null,
   "id": "3353262d",
   "metadata": {
    "deletable": false,
    "editable": false
   },
   "outputs": [],
   "source": [
    "grader.check(\"q2_cocaine_use_mean\")"
   ]
  },
  {
   "cell_type": "markdown",
   "id": "d375bac7",
   "metadata": {},
   "source": [
    "## Q3: Does Sex impact the effect of cocaine use on the average level of `mcp1` expression?\n",
    "\n",
    "Generate a plot which displays the confidence of the mean of `mcp1` expression across cocaine use and split by sex.\n",
    "\n",
    "Then use a markdown cell to write a figure caption that, at a minimum includes:\n",
    "- **A single declaritive sentence stating the conclusion of the figure.**\n",
    " - Each axis must be described.\n",
    " - Every color, line, and dot must be described.\n",
    " - Error bars must be described.\n",
    "\n",
    "Then answer the question: Does sex modulate the impact of cocaine use on mcp1 expression?\n",
    "Create a markdown cell afterwards that describes your answer based on the figure you created.\n",
    "\n",
    "|               |    |\n",
    "| --------------|----|\n",
    "| Points        | 5  |\n",
    "| Public Checks | 2  |\n",
    "| Hidden Tests  | 1  |\n",
    "\n",
    "\n",
    "\n",
    "_Points:_ 5"
   ]
  },
  {
   "cell_type": "code",
   "execution_count": null,
   "id": "af976c1b",
   "metadata": {
    "tags": []
   },
   "outputs": [],
   "source": [
    "# Generate a plot which displays the confidence of the mean of mcp1 expression across cocaine use\n",
    "\n",
    "q3_plot = ...\n"
   ]
  },
  {
   "cell_type": "code",
   "execution_count": null,
   "id": "a769d599",
   "metadata": {
    "tags": []
   },
   "outputs": [],
   "source": [
    "# Is it 'likely' or 'unlikely' that gender has an impact on the effect of cocaine use on mcp1?\n",
    "q3_gender_impact = ..."
   ]
  },
  {
   "cell_type": "code",
   "execution_count": null,
   "id": "471b71d4",
   "metadata": {
    "deletable": false,
    "editable": false
   },
   "outputs": [],
   "source": [
    "grader.check(\"q3_cocaine_use_gender_mean\")"
   ]
  },
  {
   "cell_type": "markdown",
   "id": "fbca9a6f",
   "metadata": {},
   "source": [
    "## Q4: Is there a correlation between infection length and `mcp1` expression?\n",
    "\n",
    "Generate a plot which displays the relationship between years infected and `mcp1` expression.\n",
    "\n",
    "Then use a markdown cell to write a figure caption that, at a minimum includes:\n",
    "- **A single declaritive sentence stating the conclusion of the figure.**\n",
    " - Each axis must be described.\n",
    " - Every color, line, and dot must be described.\n",
    " - Error bars must be described.\n",
    "\n",
    "Then answer the question: Is there a correlation between infection length and mcp1 expression?\n",
    "Create a markdown cell afterwards that describes your answer based on the figure you created.\n",
    "\n",
    "|               |    |\n",
    "| --------------|----|\n",
    "| Points        | 5  |\n",
    "| Public Checks | 2  |\n",
    "| Hidden Tests  | 1  |\n",
    "\n",
    "\n",
    "\n",
    "_Points:_ 5"
   ]
  },
  {
   "cell_type": "code",
   "execution_count": null,
   "id": "46f281c7",
   "metadata": {
    "tags": []
   },
   "outputs": [],
   "source": [
    "# Generate a plot which displays the relationship between years_infected and mcp1 expression\n",
    "\n",
    "\n",
    "q4_plot = ...\n"
   ]
  },
  {
   "cell_type": "code",
   "execution_count": null,
   "id": "08aea036",
   "metadata": {
    "tags": []
   },
   "outputs": [],
   "source": [
    "# Is there a correlation between infection length and mcp1 expression? 'yes' or 'no'\n",
    "q4_infection_length_corr = ..."
   ]
  },
  {
   "cell_type": "code",
   "execution_count": null,
   "id": "eb9a5743",
   "metadata": {
    "deletable": false,
    "editable": false
   },
   "outputs": [],
   "source": [
    "grader.check(\"q4_infection_length\")"
   ]
  },
  {
   "cell_type": "markdown",
   "id": "6394c35a",
   "metadata": {},
   "source": [
    "## Q5: Does cocaine use impact the relationship between infection length and `mcp1` expression?\n",
    "\n",
    "Generate a plot which displays the impact of cocaine use relationship between years infected and `mcp1` expression.\n",
    "\n",
    "Then use a markdown cell to write a figure caption that, at a minimum includes:\n",
    "- **A single declaritive sentence stating the conclusion of the figure.**\n",
    " - Each axis must be described.\n",
    " - Every color, line, and dot must be described.\n",
    " - Error bars must be described.\n",
    "\n",
    "Then answer the question: Does cocaine use impact the relationship between infection length and `mcp1` expression\n",
    "Create a markdown cell afterwards that describes your answer based on the figure you created.\n",
    "\n",
    "|               |    |\n",
    "| --------------|----|\n",
    "| Points        | 5  |\n",
    "| Public Checks | 2  |\n",
    "| Hidden Tests  | 1  |\n",
    "\n",
    "\n"
   ]
  },
  {
   "cell_type": "markdown",
   "id": "2b75d8be",
   "metadata": {
    "tags": [
     "remove_cell"
    ]
   },
   "source": [
    "|               |    |\n",
    "| --------------|----|\n",
    "| Points        | 5  |\n",
    "| Public Checks | 2  |\n",
    "| Hidden Tests  | 1  |\n",
    "\n",
    "_Points:_ 5"
   ]
  },
  {
   "cell_type": "code",
   "execution_count": null,
   "id": "63ed0d41",
   "metadata": {
    "tags": []
   },
   "outputs": [],
   "source": [
    "# Generate a plot which displays the confidence of the mean of mcp1 expression across years infected and split by cocaine use\n",
    "\n",
    "q5_plot = ...\n"
   ]
  },
  {
   "cell_type": "code",
   "execution_count": null,
   "id": "572f6b17",
   "metadata": {
    "tags": []
   },
   "outputs": [],
   "source": [
    "# Does cocaine use impact the rate of mcp1 increase with infection length? 'yes' or 'no'\n",
    "q5_infection_length_cocaine_slope = ..."
   ]
  },
  {
   "cell_type": "code",
   "execution_count": null,
   "id": "59479bd0",
   "metadata": {
    "deletable": false,
    "editable": false
   },
   "outputs": [],
   "source": [
    "grader.check(\"q5_infection_length_cocaine\")"
   ]
  },
  {
   "cell_type": "markdown",
   "id": "301073ff",
   "metadata": {},
   "source": [
    "## Submission\n",
    "\n",
    "Check:\n",
    " - That all tables and graphs are rendered properly.\n",
    " - Code completes without errors by using `Restart & Run All`.\n",
    " - All checks **pass**.\n",
    " \n",
    "Then save the notebook and the `File` -> `Download` -> `Download .ipynb`. Upload this file to BBLearn."
   ]
  }
 ],
 "metadata": {
  "kernelspec": {
   "display_name": "Python 3 (ipykernel)",
   "language": "python",
   "name": "python3"
  },
  "language_info": {
   "codemirror_mode": {
    "name": "ipython",
    "version": 3
   },
   "file_extension": ".py",
   "mimetype": "text/x-python",
   "name": "python",
   "nbconvert_exporter": "python",
   "pygments_lexer": "ipython3",
   "version": "3.9.13"
  },
  "otter": {
   "assignment_name": "Module06_lab"
  }
 },
 "nbformat": 4,
 "nbformat_minor": 5
}