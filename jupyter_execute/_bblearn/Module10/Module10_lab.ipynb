{
 "cells": [
  {
   "cell_type": "code",
   "execution_count": null,
   "id": "700e795e-518f-453e-befd-b521ea8ba89a",
   "metadata": {
    "tags": [
     "remove_cell"
    ]
   },
   "outputs": [],
   "source": [
    "# Setting up the Colab environment. DO NOT EDIT!\n",
    "import os\n",
    "#import warnings\n",
    "#warnings.filterwarnings(\"ignore\")\n",
    "\n",
    "try:\n",
    "    import otter, pingouin\n",
    "\n",
    "except ImportError:\n",
    "    ! pip install -q otter-grader==4.0.0, pingouin\n",
    "    import otter\n",
    "\n",
    "if not os.path.exists('walkthrough-tests'):\n",
    "    zip_files = [f for f in os.listdir() if f.endswith('.zip')]\n",
    "    assert len(zip_files)>0, 'Could not find any zip files!'\n",
    "    assert len(zip_files)==1, 'Found multiple zip files!'\n",
    "    ! unzip {zip_files[0]}\n",
    "\n",
    "grader = otter.Notebook(colab=True,\n",
    "                        tests_dir = 'walkthrough-tests')"
   ]
  },
  {
   "cell_type": "markdown",
   "id": "0cf501d3",
   "metadata": {},
   "source": [
    "# Lab"
   ]
  },
  {
   "cell_type": "markdown",
   "id": "8f8aeebe",
   "metadata": {},
   "source": [
    "## Learning Objectives\n",
    "At the end of this learning activity you will be able to:\n",
    " - Estimate the effect size given a set of confidence intervals.\n",
    " - Calculate the `effect_size`, `alpha`, `power`, and `sample_size` when given 3 of the 4. \n",
    " - Interpret a power-plot of multiple experimental choices.\n",
    " - Calculate how changes in estimates of the experimental error impact sample size requirements.\n",
    " - Rigorously choose the appropriate experimental design for the best chance of success. "
   ]
  },
  {
   "cell_type": "code",
   "execution_count": null,
   "id": "9f2ffe20",
   "metadata": {},
   "outputs": [],
   "source": [
    "import numpy as np\n",
    "import seaborn as sns\n",
    "import matplotlib.pyplot as plt\n",
    "import pingouin as pg\n",
    "sns.set_style('whitegrid')"
   ]
  },
  {
   "cell_type": "markdown",
   "id": "f27e4fc1",
   "metadata": {},
   "source": [
    "## Step 1: Define the hypothesis"
   ]
  },
  {
   "cell_type": "markdown",
   "id": "024f5087",
   "metadata": {},
   "source": [
    "For this lab we are going to investigate a similar metric. \n",
    "We will imagine replicating the analysis considered in [Figure 3C](https://www.ncbi.nlm.nih.gov/pmc/articles/PMC6424628/figure/F3/).\n",
    "This analysis considers the different sub-values of the vigalence index.\n",
    "It shows that SK609 is improving attention by reducing the number of misses."
   ]
  },
  {
   "cell_type": "markdown",
   "id": "52e7ebd5",
   "metadata": {},
   "source": [
    "Copying the relevant part of the caption:\n",
    "\n",
    "\"Paired t-tests revealed that SK609 (4mg/kg; i.p.) specifically affected the selection of incorrect answers, significantly reducing the average number of executed misses compared to vehicle conditions (t(6))=3.27, p=0.017; **95% CI[1.02, 7.11])**.\""
   ]
  },
  {
   "cell_type": "markdown",
   "id": "a0b30454",
   "metadata": {},
   "source": [
    "Since this is a paired t-test we'll use the same strategy as the walkthrough."
   ]
  },
  {
   "cell_type": "markdown",
   "id": "7374cd64",
   "metadata": {},
   "source": [
    "## Step 2: Define success"
   ]
  },
  {
   "cell_type": "markdown",
   "id": "61b6e2ca",
   "metadata": {
    "deletable": false,
    "editable": false
   },
   "source": [
    "### Q1: What is the average difference in misses between vehicle control and SK609 rodents?\n",
    "\n",
    "_Hint: Calculate the center (average) of the confidence interval; the CI is **bolded** in the caption above._"
   ]
  },
  {
   "cell_type": "markdown",
   "id": "08b9593e-081f-4f0d-bd27-c70613d94594",
   "metadata": {
    "deletable": false,
    "editable": false
   },
   "source": [
    "| **Total Points** | 5 |\n",
    "|--------|----|\n",
    "| Included Checks | 1 |\n",
    "\n",
    "_Points:_ 5"
   ]
  },
  {
   "cell_type": "code",
   "execution_count": null,
   "id": "c4348fa0",
   "metadata": {
    "tags": []
   },
   "outputs": [],
   "source": [
    "q1_change = ...\n",
    "\n",
    "print(f'On average, during an SK609 trial the rodent missed {q1_change} fewer prompts than vehicle controls.')"
   ]
  },
  {
   "cell_type": "code",
   "execution_count": null,
   "id": "7f3b9b55",
   "metadata": {
    "deletable": false,
    "editable": false
   },
   "outputs": [],
   "source": [
    "grader.check(\"q1_change\")"
   ]
  },
  {
   "cell_type": "markdown",
   "id": "50e9e11e",
   "metadata": {
    "deletable": false,
    "editable": false
   },
   "source": [
    "### Q2: Calculate the effect size.\n",
    "_Hint: Use the change just defined in Q1._\n",
    "\n",
    "Assume from our domain knowledge and inspection of the figure that there is an error of 3.5 misses."
   ]
  },
  {
   "cell_type": "markdown",
   "id": "3b9f74ab-0925-48e1-a0ba-c9725786aee1",
   "metadata": {
    "deletable": false,
    "editable": false
   },
   "source": [
    "| **Total Points** | 5 |\n",
    "|--------|----|\n",
    "| Included Checks | 1 |\n",
    "\n",
    "_Points:_ 5"
   ]
  },
  {
   "cell_type": "code",
   "execution_count": null,
   "id": "382bc5bd",
   "metadata": {
    "tags": []
   },
   "outputs": [],
   "source": [
    "error = 3.5\n",
    "\n",
    "q2_effect_size = ...\n",
    "\n",
    "print(f'The normalized effect_size of SK609 is {q2_effect_size:0.3f}')"
   ]
  },
  {
   "cell_type": "code",
   "execution_count": null,
   "id": "ce741b7d",
   "metadata": {
    "deletable": false,
    "editable": false
   },
   "outputs": [],
   "source": [
    "grader.check(\"q2_effect_size\")"
   ]
  },
  {
   "cell_type": "markdown",
   "id": "66e2bc2d",
   "metadata": {
    "deletable": false,
    "editable": false
   },
   "source": [
    "## Step 3: Define your tolerance for risk\n",
    "\n",
    "For this assignment consider that we want to have 80% chance of detecting a true effect and a 1% chance of falsely accepting an effect."
   ]
  },
  {
   "cell_type": "markdown",
   "id": "4af19207-e9ba-453a-8a80-e915bde3ec3c",
   "metadata": {
    "deletable": false,
    "editable": false
   },
   "source": [
    "| **Total Points** | 5 |\n",
    "|--------|----|\n",
    "| Included Checks | 2 |\n",
    "\n",
    "_Points:_ 5"
   ]
  },
  {
   "cell_type": "code",
   "execution_count": null,
   "id": "49fe7bc9",
   "metadata": {
    "tags": []
   },
   "outputs": [],
   "source": [
    "power = ...\n",
    "alpha = ..."
   ]
  },
  {
   "cell_type": "code",
   "execution_count": null,
   "id": "12d8e8ac",
   "metadata": {
    "deletable": false,
    "editable": false
   },
   "outputs": [],
   "source": [
    "grader.check(\"q3_tolerance\")"
   ]
  },
  {
   "cell_type": "markdown",
   "id": "619043ec",
   "metadata": {},
   "source": [
    "## Step 4: Define a budget\n",
    "\n",
    "In the figure caption we see that the paper used a nobs of 16 mice:\n",
    "\n",
    "\"Difference in VI measurements calculated against previous day vehicle performance in rats (n=16) showed SK609 improved sustained attention performance ...\""
   ]
  },
  {
   "cell_type": "markdown",
   "id": "c6f5c799",
   "metadata": {},
   "source": [
    "## Step 5: Calculate"
   ]
  },
  {
   "cell_type": "markdown",
   "id": "cab114ee",
   "metadata": {
    "deletable": false,
    "editable": false
   },
   "source": [
    "### Q4: Calculate the minimum **change** detectable with 16 animals.\n",
    "\n",
    "Use `alternative='two-sided'` as we do not know whether the number of misses is always increasing.\n",
    "\n",
    "_Hint: Use the power-calculator, and then use that effect size to calculate the min_change._"
   ]
  },
  {
   "cell_type": "markdown",
   "id": "7d6430c4-87a0-4690-a400-4b78e69df81c",
   "metadata": {
    "deletable": false,
    "editable": false
   },
   "source": [
    "| **Total Points** | 5 |\n",
    "|--------|----|\n",
    "| Included Checks | 2 |\n",
    "\n",
    "_Points:_ 5"
   ]
  },
  {
   "cell_type": "code",
   "execution_count": null,
   "id": "2b6b1602-d3ef-4f0e-a13b-c117a9745269",
   "metadata": {
    "tags": []
   },
   "outputs": [],
   "source": [
    "\n",
    "q4_effect_size = ...\n",
    "\n",
    "\n",
    "print('The effect size is:', q4_effect_size)"
   ]
  },
  {
   "cell_type": "code",
   "execution_count": null,
   "id": "02e69c61",
   "metadata": {
    "tags": []
   },
   "outputs": [],
   "source": [
    "# What is the minimum change that we can detect at this power?\n",
    "\n",
    "q4_min_change = ...\n",
    "\n",
    "print(f'with 16 animals, one could have detected as few as {q4_min_change:0.2f} min change.')"
   ]
  },
  {
   "cell_type": "code",
   "execution_count": null,
   "id": "21a6ada3",
   "metadata": {
    "deletable": false,
    "editable": false
   },
   "outputs": [],
   "source": [
    "grader.check(\"q4_min_effect\")"
   ]
  },
  {
   "cell_type": "markdown",
   "id": "2dc9e821",
   "metadata": {},
   "source": [
    "# Step 6: Summarize\n",
    "\n",
    "Let's propose a handful of different considerations for our experiment.\n",
    "As before, we'll keep the power and alpha the same, but we'll add the following experimental changes:\n",
    "\n",
    " - A grant reviewer has commented on the proposal and believes that your estimate of the error is too optimistic. They would like you to consider a scenario in which your error is **50% larger** than the current estimate.\n",
    " - A new post-doc has come from another lab that has a different attention assay. Their studies show that it has **25% less** error than the current one.\n",
    " \n",
    "Consider these two experimental changes and how they effect sample size choices."
   ]
  },
  {
   "cell_type": "markdown",
   "id": "91e770b6",
   "metadata": {
    "deletable": false,
    "editable": false
   },
   "source": [
    "### Q5: Calculate new effect sizes for these conditions.\n",
    "\n",
    "_Hint: Refer to the bolded experimental changes above and adjust the errors then the effect sizes, keeping in mind the q1_change variable._\n",
    "\n",
    "_This can be done in two steps if needed._\n",
    "\n",
    "\n",
    "_Points:_ 5"
   ]
  },
  {
   "cell_type": "code",
   "execution_count": null,
   "id": "af7c9ce8",
   "metadata": {
    "tags": []
   },
   "outputs": [],
   "source": [
    "q5_high_noise_effect_size = ...\n",
    "q5_new_assay_effect_size = ...\n",
    "\n",
    "print(f'Expected effect_size {q2_effect_size:0.2f}')\n",
    "print(f'High noise effect_size {q5_high_noise_effect_size:0.2f}')\n",
    "print(f'New assay effect_size {q5_new_assay_effect_size:0.2f}')"
   ]
  },
  {
   "cell_type": "code",
   "execution_count": null,
   "id": "46491dd3",
   "metadata": {
    "deletable": false,
    "editable": false
   },
   "outputs": [],
   "source": [
    "grader.check(\"q5_multiple_choices\")"
   ]
  },
  {
   "cell_type": "markdown",
   "id": "55cff86a",
   "metadata": {},
   "source": [
    "Use the power-plot below to answer the next question."
   ]
  },
  {
   "cell_type": "code",
   "execution_count": null,
   "id": "c4732a77",
   "metadata": {},
   "outputs": [],
   "source": [
    "\n",
    "# Check many different nobs sizes\n",
    "nobs_sizes = np.arange(1, 31)\n",
    "\n",
    "\n",
    "names = ['Expected', 'High-Noise', 'New-Assay']\n",
    "colors = 'krb'\n",
    "effect_sizes = [q2_effect_size, q5_high_noise_effect_size, q5_new_assay_effect_size]\n",
    "\n",
    "fig, ax = plt.subplots(1,1)\n",
    "\n",
    "# Loop through each observation size\n",
    "for name, color, effect in zip(names, colors, effect_sizes):\n",
    "    # Calculate the power across the range\n",
    "    powers = pg.power_ttest(d = effect,\n",
    "                            n = nobs_sizes,\n",
    "                            power = None,\n",
    "                            alpha = alpha,\n",
    "                            contrast = 'paired')\n",
    "\n",
    "    ax.plot(nobs_sizes, powers, label = name, color = color)\n",
    "\n",
    "\n",
    "\n",
    "\n",
    "ax.legend(loc = 'lower right')\n",
    "\n",
    "ax.set_ylabel('Power')\n",
    "ax.set_xlabel('Sample Size')"
   ]
  },
  {
   "cell_type": "markdown",
   "id": "1429aad1",
   "metadata": {
    "deletable": false,
    "editable": false
   },
   "source": [
    "### Q6 Summary Questions\n",
    "\n",
    "_Hint: Remember, the power level is 80%, so examine the nobs at 0.8 at the specified effect size to determine sufficient power or question being asked._"
   ]
  },
  {
   "cell_type": "markdown",
   "id": "c2c98715-cc66-4fee-9be4-9b6642977bfe",
   "metadata": {
    "deletable": false,
    "editable": false
   },
   "source": [
    "| **Total Points** | 5 |\n",
    "|--------|----|\n",
    "| Included Checks | 3 |\n",
    "| Hidden Tests    | 3 |\n",
    "\n",
    "_Points:_ 5"
   ]
  },
  {
   "cell_type": "code",
   "execution_count": null,
   "id": "aba8e06d",
   "metadata": {
    "tags": []
   },
   "outputs": [],
   "source": [
    "# Would an experiment that had nobs=15 be sufficiently powered\n",
    "# to detect an effect under the expected assumption?\n",
    "# 'yes' or 'no'\n",
    "q6a = ...\n",
    "\n",
    "# Would an experiment that had nobs=15 be sufficiently powered\n",
    "# to detect an effect under the high-noise assumption?\n",
    "# 'yes' or 'no'\n",
    "q6b = ...\n",
    "\n",
    "# How many fewer animals could be used if the new experiment was implemented\n",
    "# vs. the expected/current one (using 80% power)?\n",
    "# Hint: Use the power calculator. Round up.\n",
    "\n",
    "\n",
    "q6c = ...\n"
   ]
  },
  {
   "cell_type": "code",
   "execution_count": null,
   "id": "2c553b96",
   "metadata": {
    "deletable": false,
    "editable": false
   },
   "outputs": [],
   "source": [
    "grader.check(\"q6\")"
   ]
  },
  {
   "cell_type": "markdown",
   "id": "d6216ba7",
   "metadata": {},
   "source": [
    "--------------------------------------------"
   ]
  },
  {
   "cell_type": "code",
   "execution_count": null,
   "id": "52fe694f",
   "metadata": {},
   "outputs": [],
   "source": [
    "grader.check_all()"
   ]
  },
  {
   "cell_type": "markdown",
   "id": "369512fc",
   "metadata": {},
   "source": [
    "## Submission\n",
    "\n",
    "Check:\n",
    " - That all tables and graphs are rendered properly.\n",
    " - Code completes without errors by using `Restart & Run All`.\n",
    " - All checks **pass**.\n",
    " \n",
    "Then save the notebook and the `File` -> `Download` -> `Download .ipynb`. Upload this file to BBLearn."
   ]
  }
 ],
 "metadata": {
  "kernelspec": {
   "display_name": "Python 3 (ipykernel)",
   "language": "python",
   "name": "python3"
  },
  "language_info": {
   "codemirror_mode": {
    "name": "ipython",
    "version": 3
   },
   "file_extension": ".py",
   "mimetype": "text/x-python",
   "name": "python",
   "nbconvert_exporter": "python",
   "pygments_lexer": "ipython3",
   "version": "3.9.13"
  },
  "otter": {
   "assignment_name": "Module10_lab"
  }
 },
 "nbformat": 4,
 "nbformat_minor": 5
}