{
 "cells": [
  {
   "cell_type": "code",
   "execution_count": null,
   "id": "c1305517-15b0-4538-98b3-e43cb2a6fed4",
   "metadata": {
    "tags": [
     "remove_cell"
    ]
   },
   "outputs": [],
   "source": [
    "# Setting up the Colab environment. DO NOT EDIT!\n",
    "import os\n",
    "#import warnings\n",
    "#warnings.filterwarnings(\"ignore\")\n",
    "\n",
    "try:\n",
    "    import otter, pingouin\n",
    "\n",
    "except ImportError:\n",
    "    ! pip install -q otter-grader==4.0.0, pingouin\n",
    "    import otter\n",
    "\n",
    "if not os.path.exists('lab-tests'):\n",
    "    zip_files = [f for f in os.listdir() if f.endswith('.zip')]\n",
    "    assert len(zip_files)>0, 'Could not find any zip files!'\n",
    "    assert len(zip_files)==1, 'Found multiple zip files!'\n",
    "    ! unzip {zip_files[0]}\n",
    "\n",
    "grader = otter.Notebook(colab=True,\n",
    "                        tests_dir = 'lab-tests')"
   ]
  },
  {
   "cell_type": "markdown",
   "id": "93498126",
   "metadata": {},
   "source": [
    "# Lab"
   ]
  },
  {
   "cell_type": "markdown",
   "id": "aaa36b08",
   "metadata": {},
   "source": [
    "## Learning Objectives\n",
    "At the end of this learning activity you will be able to:\n",
    " - Practice using robust correlation tools that account for outliers.\n",
    " - Practice using `pg.qqplot` and `pg.normality` to asses the normality of residuals.\n",
    " - Practice using regression to create covariate-controlled scores.\n"
   ]
  },
  {
   "cell_type": "code",
   "execution_count": null,
   "id": "0120fbdb-220b-4cf4-93e6-9f61cbafeac0",
   "metadata": {
    "tags": []
   },
   "outputs": [],
   "source": [
    "import numpy as np\n",
    "import seaborn as sns\n",
    "import pandas as pd\n",
    "import matplotlib.pyplot as plt\n",
    "\n",
    "import pingouin as pg\n",
    "\n",
    "%matplotlib inline"
   ]
  },
  {
   "cell_type": "code",
   "execution_count": null,
   "id": "b1b58e08-33dd-4abf-9f03-bf0e5adf0f68",
   "metadata": {
    "tags": []
   },
   "outputs": [],
   "source": [
    "data = pd.read_csv('hiv_neuro_data.csv')\n",
    "data['education'] = data['education'].astype(float)\n",
    "data.head()"
   ]
  },
  {
   "cell_type": "markdown",
   "id": "3c8907cb-4a06-4eae-adb9-a546165c814d",
   "metadata": {},
   "source": [
    "This lab is going to explore the inter-relationships between two cognitive domains.\n",
    "\n",
    "* **Executive Function**: The complex cognitive processes required for planning, organizing, problem-solving, abstract thinking, and executing strategies. This domain also encompasses decision-making and cognitive flexibility, which is the ability to switch between thinking about two different concepts or to think about multiple concepts simultaneously.\n",
    "- **Speed of Information Processing**: How quickly an individual can understand and react to the information being presented. This domain evaluates the speed at which cognitive tasks can be performed, often under time constraints."
   ]
  },
  {
   "cell_type": "markdown",
   "id": "9056e62e-2912-4f30-9a05-636b03f3c61f",
   "metadata": {
    "deletable": false,
    "editable": false,
    "tags": []
   },
   "source": [
    "### Q1: Are Processing domain and Executive domain scores correlated?\n",
    "\n",
    "Checked variables:\n",
    " * `q1_plot` - A regression plot between `processing_domain_z` and `exec_domain_z`.\n",
    " * `q1_corr_res` - The result of running `pg.corr` on `processing_domain_z` and `exec_domain_z`.\n",
    " * `q1_is_corr` - A yes/no assessment of the correlation between `processing_domain_z` and `exec_domain_z`.\n",
    "\n",
    "<details><summary>Hint</summary>\n",
    "Use the sns.regplot described throughout the Module 9 walkthrough.</details>\n",
    "\n",
    "|               |    |\n",
    "| --------------|----|\n",
    "| Points        | 5  |\n",
    "| Public Checks | 3  |\n",
    "| Hidden Tests  | 1  |\n",
    "\n",
    "_Points:_ 5"
   ]
  },
  {
   "cell_type": "code",
   "execution_count": null,
   "id": "c5f244f0-7a60-4014-97b7-bd9bb50d52d4",
   "metadata": {
    "tags": []
   },
   "outputs": [],
   "source": [
    "# Generate a plot between processing_domain_z and exec_domain_z\n",
    "\n",
    "q1_plot = ..."
   ]
  },
  {
   "cell_type": "code",
   "execution_count": null,
   "id": "9c3994fa-87bb-4d54-8a50-c51367dab36d",
   "metadata": {
    "tags": []
   },
   "outputs": [],
   "source": [
    "# Use pg.corr to calculate the correlation between the two variables using a `robust` correlation metric\n",
    "\n",
    "q1_corr_res = ..."
   ]
  },
  {
   "cell_type": "code",
   "execution_count": null,
   "id": "87f58703-4542-4e6b-84bd-c0f1af632a7e",
   "metadata": {
    "tags": []
   },
   "outputs": [],
   "source": [
    "# Are the two domains significantly correlated? 'yes' or 'no'\n",
    "\n",
    "q1_is_corr = ..."
   ]
  },
  {
   "cell_type": "code",
   "execution_count": null,
   "id": "0e538af0",
   "metadata": {
    "deletable": false,
    "editable": false
   },
   "outputs": [],
   "source": [
    "grader.check(\"q1_domain_corr\")"
   ]
  },
  {
   "cell_type": "markdown",
   "id": "210aff4b-fc2c-4ecf-83d4-d40a9d86ca47",
   "metadata": {
    "deletable": false,
    "editable": false,
    "tags": []
   },
   "source": [
    "### Q2: Create a regression for the processing domain that accounts for the following demographic covariates.\n",
    "\n",
    " - Age\n",
    " - Race\n",
    " - Sex\n",
    " - Education\n",
    " - Years Seropositive\n",
    " - ART\n",
    "\n",
    "Checked variables:\n",
    " * `q2_model_resid_normal` - A yes/no assessment of the normality of the residuals after building the model. It should be supported by qqplots and normality tests.\n",
    " * `q2_processing_age` - A yes/no assessment on whether age has a significant impact on `processing_domain_z`.\n",
    " * `q2_processing_race` - A yes/no assessment on whether race has a significant impact on `processing_domain_z`.\n",
    " * `q2_processing_sex` - A yes/no assessment on whether sex has a significant impact on `processing_domain_z`.\n",
    " * `q2_processing_edu` - A yes/no assessment on whether education has a significant impact on `processing_domain_z`.\n",
    " * `q2_processing_ys` - A yes/no assessment on whether infection length has a significant impact on `processing_domain_z`.\n",
    " * `q2_processing_art` - A yes/no assessment on whether ART has a significant impact on `processing_domain_z`.\n",
    "\n",
    "<details><summary>Hint</summary>\n",
    "Recreate the final merged X and y (using processing_domain_z this time) that we created in the Module 9 Walkthrough under the Regression with categories section. Then perform the same regression and interpretion of the results.</details>\n",
    "\n",
    "|               |    |\n",
    "| --------------|----|\n",
    "| Points        | 10 |\n",
    "| Public Checks | 7  |\n",
    "| Hidden Tests  | 7  |\n",
    "\n",
    "_Points:_ 10"
   ]
  },
  {
   "cell_type": "code",
   "execution_count": null,
   "id": "b30cd4c0-77d3-47be-b9c1-f15f869079db",
   "metadata": {
    "tags": []
   },
   "outputs": [],
   "source": [
    "# Perform the regression using `pg.linear_regression`\n",
    "# Use the result to answer the questions below\n",
    "\n"
   ]
  },
  {
   "cell_type": "code",
   "execution_count": null,
   "id": "73013a7e-1636-404a-ad88-66f34b2d2a36",
   "metadata": {
    "tags": []
   },
   "outputs": [],
   "source": [
    "# Assess the normality of the residuals of the model\n",
    "\n",
    "\n",
    "q2_model_resid_normal = ..."
   ]
  },
  {
   "cell_type": "code",
   "execution_count": null,
   "id": "3ed0ca75-3b33-4b48-b31d-de725bd19121",
   "metadata": {
    "tags": []
   },
   "outputs": [],
   "source": [
    "# Considering a p<0.01 threshold answer which of the following are significant\n",
    "\n",
    "# Age\n",
    "q2_processing_age = ...\n",
    "\n",
    "# Race\n",
    "q2_processing_race = ...\n",
    "\n",
    "# Sex\n",
    "q2_processing_sex = ...\n",
    "\n",
    "# Education\n",
    "q2_processing_edu = ...\n",
    "\n",
    "# Infection length\n",
    "q2_processing_ys = ...\n",
    "\n",
    "# ART\n",
    "q2_processing_art = ..."
   ]
  },
  {
   "cell_type": "code",
   "execution_count": null,
   "id": "2b7685a0",
   "metadata": {
    "deletable": false,
    "editable": false
   },
   "outputs": [],
   "source": [
    "grader.check(\"q2_exec_adj\")"
   ]
  },
  {
   "cell_type": "markdown",
   "id": "64c89e77-2b97-4fdc-b205-6f2e44e578c8",
   "metadata": {
    "deletable": false,
    "editable": false
   },
   "source": [
    "<!-- BEGIN QUESTION -->\n",
    "\n",
    "### Q3: Comparison\n",
    "\n",
    "In the Walkthrough we explored the variables that had an impact on Executive Domain function.\n",
    "This complex cognitive processes required for planning, organizing, problem-solving, abstract thinking, and executing strategies.\n",
    "This domain also encompasses decision-making and cognitive flexibility, which is the ability to switch between thinking about two different concepts or to think about multiple concepts simultaneously.\n",
    "\n",
    "In this lab you performed a similar analysis to find the variables that impact Processing Domain function.\n",
    "This metric measures how quickly an individual can understand and react to the information being presented.\n",
    "This domain evaluates the speed at which cognitive tasks can be performed, often under time constraints.\n",
    "\n",
    "In a paragraph compare and contrast the statistically significant variables between the two metrics.\n",
    "\n",
    "_Points:_ 10"
   ]
  },
  {
   "cell_type": "markdown",
   "id": "b4b86201-e2d0-413a-8eff-8983df4c12df",
   "metadata": {},
   "source": [
    "Write your solution here in this box."
   ]
  },
  {
   "cell_type": "markdown",
   "id": "d5653e0c",
   "metadata": {
    "deletable": false,
    "editable": false
   },
   "source": [
    "<!-- END QUESTION -->\n",
    "\n",
    "--------------------------------------------"
   ]
  },
  {
   "cell_type": "code",
   "execution_count": null,
   "id": "fcecffa9",
   "metadata": {},
   "outputs": [],
   "source": [
    "grader.check_all()"
   ]
  },
  {
   "cell_type": "markdown",
   "id": "ad81e3ae",
   "metadata": {},
   "source": [
    "## Submission\n",
    "\n",
    "Check:\n",
    " - That all tables and graphs are rendered properly.\n",
    " - Code completes without errors by using `Restart & Run All`.\n",
    " - All checks **pass**.\n",
    " \n",
    "Then save the notebook and the `File` -> `Download` -> `Download .ipynb`. Upload this file to BBLearn."
   ]
  }
 ],
 "metadata": {
  "kernelspec": {
   "display_name": "Python 3 (ipykernel)",
   "language": "python",
   "name": "python3"
  },
  "language_info": {
   "codemirror_mode": {
    "name": "ipython",
    "version": 3
   },
   "file_extension": ".py",
   "mimetype": "text/x-python",
   "name": "python",
   "nbconvert_exporter": "python",
   "pygments_lexer": "ipython3",
   "version": "3.9.13"
  },
  "otter": {
   "assignment_name": "Module09_lab"
  }
 },
 "nbformat": 4,
 "nbformat_minor": 5
}