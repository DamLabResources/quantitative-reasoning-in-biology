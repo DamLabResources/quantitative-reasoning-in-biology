{
 "cells": [
  {
   "cell_type": "code",
   "execution_count": null,
   "id": "92f927c0",
   "metadata": {
    "tags": [
     "remove_cell"
    ]
   },
   "outputs": [],
   "source": [
    "# Setting up the Colab environment. DO NOT EDIT!\n",
    "import os\n",
    "#import warnings\n",
    "#warnings.filterwarnings(\"ignore\")\n",
    "\n",
    "try:\n",
    "    import otter, pingouin\n",
    "\n",
    "except ImportError:\n",
    "    ! pip install -q otter-grader==4.0.0, pingouin\n",
    "    import otter\n",
    "\n",
    "if not os.path.exists('walkthrough-tests'):\n",
    "    zip_files = [f for f in os.listdir() if f.endswith('.zip')]\n",
    "    assert len(zip_files)>0, 'Could not find any zip files!'\n",
    "    assert len(zip_files)==1, 'Found multiple zip files!'\n",
    "    ! unzip {zip_files[0]}\n",
    "\n",
    "grader = otter.Notebook(colab=True,\n",
    "                        tests_dir = 'walkthrough-tests')"
   ]
  },
  {
   "cell_type": "markdown",
   "id": "86e9c652",
   "metadata": {},
   "source": [
    "# Lab"
   ]
  },
  {
   "cell_type": "markdown",
   "id": "ebbcd804",
   "metadata": {},
   "source": [
    "## Learning Objectives\n",
    "At the end of this learning activity you will be able to:\n",
    " - Practice using robust correlation tools that account for outliers.\n",
    " - Practice using `pg.qqplot` and `pg.normality` to asses the normality of residuals.\n",
    " - Practice using regression to create covariate-controlled scores.\n"
   ]
  },
  {
   "cell_type": "code",
   "execution_count": null,
   "id": "68a23618",
   "metadata": {
    "tags": []
   },
   "outputs": [],
   "source": [
    "import numpy as np\n",
    "import seaborn as sns\n",
    "import pandas as pd\n",
    "import matplotlib.pyplot as plt\n",
    "\n",
    "import pingouin as pg\n",
    "\n",
    "%matplotlib inline"
   ]
  },
  {
   "cell_type": "code",
   "execution_count": null,
   "id": "598cd377",
   "metadata": {
    "tags": []
   },
   "outputs": [],
   "source": [
    "data = pd.read_csv('hiv_neuro_data.csv')\n",
    "data['education'] = data['education'].astype(float)\n",
    "data.head()"
   ]
  },
  {
   "cell_type": "markdown",
   "id": "0b77b3bf",
   "metadata": {},
   "source": [
    "This lab is going to explore the inter-relationships between two cognitive domains.\n",
    "\n",
    "* **Executive Function**: The complex cognitive processes required for planning, organizing, problem-solving, abstract thinking, and executing strategies. This domain also encompasses decision-making and cognitive flexibility, which is the ability to switch between thinking about two different concepts or to think about multiple concepts simultaneously.\n",
    "- **Speed of Information Processing**: How quickly an individual can understand and react to the information being presented. This domain evaluates the speed at which cognitive tasks can be performed, often under time constraints.\n",
    "\n",
    "We will explore whether these two domains are correllated after controlling for co-variates."
   ]
  },
  {
   "cell_type": "markdown",
   "id": "70e93cad",
   "metadata": {
    "tags": []
   },
   "source": [
    "### Q1: Are Processing domain and Executive domain scores correlated?"
   ]
  },
  {
   "cell_type": "markdown",
   "id": "5d570de1",
   "metadata": {
    "tags": [
     "remove_cell"
    ]
   },
   "source": [
    "|               |    |\n",
    "| --------------|----|\n",
    "| Points        | 5  |\n",
    "| Public Checks | 3  |\n",
    "| Hidden Tests  | 1  |\n",
    "\n",
    "_Points:_ 5"
   ]
  },
  {
   "cell_type": "code",
   "execution_count": null,
   "id": "e72e2c51",
   "metadata": {
    "tags": []
   },
   "outputs": [],
   "source": [
    "# Generate a plot between processing_domain_z and exec_domain_z\n",
    "\n",
    "q1_plot = ..."
   ]
  },
  {
   "cell_type": "code",
   "execution_count": null,
   "id": "030a6ab1",
   "metadata": {
    "tags": []
   },
   "outputs": [],
   "source": [
    "# Use pg.corr to calculate the correlation between the two variables using a `robust` correlation metric\n",
    "\n",
    "q1_corr_res = ..."
   ]
  },
  {
   "cell_type": "code",
   "execution_count": null,
   "id": "6661a8ea",
   "metadata": {
    "tags": []
   },
   "outputs": [],
   "source": [
    "# Are the two domains significantly correlated? 'yes' or 'no'\n",
    "\n",
    "q1_is_corr = ..."
   ]
  },
  {
   "cell_type": "code",
   "execution_count": null,
   "id": "ce91a1a3",
   "metadata": {
    "deletable": false,
    "editable": false
   },
   "outputs": [],
   "source": [
    "grader.check(\"q1_domain_corr\")"
   ]
  },
  {
   "cell_type": "markdown",
   "id": "b05912f1",
   "metadata": {
    "tags": []
   },
   "source": [
    "### Q2: Create a regression for the processing domain that accounts for demographic covariates.\n",
    "\n",
    " - Age\n",
    " - Race\n",
    " - Sex\n",
    " - Education\n",
    " - Years Seropositive\n",
    " - ART"
   ]
  },
  {
   "cell_type": "markdown",
   "id": "82f445d7",
   "metadata": {
    "tags": [
     "remove_cell"
    ]
   },
   "source": [
    "|               |    |\n",
    "| --------------|----|\n",
    "| Points        | 10 |\n",
    "| Public Checks | 7  |\n",
    "| Hidden Tests  | 7  |\n",
    "\n",
    "_Points:_ 10"
   ]
  },
  {
   "cell_type": "code",
   "execution_count": null,
   "id": "3258308c",
   "metadata": {
    "tags": []
   },
   "outputs": [],
   "source": [
    "# Perform the regression using `pg.linear_regression`\n",
    "# Use the result to answer the questions below\n",
    "\n"
   ]
  },
  {
   "cell_type": "code",
   "execution_count": null,
   "id": "4e089e2a",
   "metadata": {
    "tags": []
   },
   "outputs": [],
   "source": [
    "# Assess the normality of the residuals of the model\n",
    "\n",
    "\n",
    "q2_model_resid_normal = ..."
   ]
  },
  {
   "cell_type": "code",
   "execution_count": null,
   "id": "65f6d9d3",
   "metadata": {
    "tags": []
   },
   "outputs": [],
   "source": [
    "# Considering a p<0.01 threshold answer which of the following are significant\n",
    "\n",
    "# Age\n",
    "q2_processing_age = ...\n",
    "\n",
    "# Race\n",
    "q2_processing_race = ...\n",
    "\n",
    "# Sex\n",
    "q2_processing_sex = ...\n",
    "\n",
    "# Education\n",
    "q2_processing_edu = ...\n",
    "\n",
    "# Infection length\n",
    "q2_processing_ys = ...\n",
    "\n",
    "# ART\n",
    "q2_processing_art = ..."
   ]
  },
  {
   "cell_type": "code",
   "execution_count": null,
   "id": "3d858ae1",
   "metadata": {
    "deletable": false,
    "editable": false
   },
   "outputs": [],
   "source": [
    "grader.check(\"q2_exec_adj\")"
   ]
  },
  {
   "cell_type": "markdown",
   "id": "5e608681",
   "metadata": {
    "tags": []
   },
   "source": [
    "### Q3: Is covariate controlled EDZ still correlated with PDZ?\n"
   ]
  },
  {
   "cell_type": "markdown",
   "id": "f68e3918",
   "metadata": {
    "tags": [
     "remove_cell"
    ]
   },
   "source": [
    "|               |    |\n",
    "| --------------|----|\n",
    "| Points        | 10 |\n",
    "| Public Checks | 7  |\n",
    "| Hidden Tests  | 7  |\n",
    "\n",
    "_Points:_ 10"
   ]
  },
  {
   "cell_type": "markdown",
   "id": "07c7c03a",
   "metadata": {},
   "source": [
    "_Type your answer here, replacing this text._"
   ]
  },
  {
   "cell_type": "code",
   "execution_count": null,
   "id": "b7a89e65",
   "metadata": {
    "tags": []
   },
   "outputs": [],
   "source": [
    "# Generate a plot between covariate controlled processing_domain_z and exec_domain_z\n",
    "\n",
    "q3_plot = ..."
   ]
  },
  {
   "cell_type": "code",
   "execution_count": null,
   "id": "d38baf12",
   "metadata": {
    "tags": []
   },
   "outputs": [],
   "source": [
    "# Use pg.corr to calculate the correlation between the two variables using a `pearson` correlation metric\n",
    "\n",
    "q3_corr_res = ...\n",
    "q3_corr_res"
   ]
  },
  {
   "cell_type": "code",
   "execution_count": null,
   "id": "673e1746",
   "metadata": {
    "tags": []
   },
   "outputs": [],
   "source": [
    "# Are processing_domain_z and covariate controlled exec_domain_z still correlated?\n",
    "q3_corr_sig = ...\n",
    "\n",
    "\n",
    "# Correlation r-value\n",
    "# Place the r-value here rounded to 4 decimal places\n",
    "q3_corr_r = ..."
   ]
  },
  {
   "cell_type": "code",
   "execution_count": null,
   "id": "b869ae40",
   "metadata": {
    "tags": []
   },
   "outputs": [],
   "source": [
    "\n",
    "# Partial correlation r-value\n",
    "# Place the r-value here rounded to 4 decimal places\n",
    "q3_partial_corr_r = ..."
   ]
  },
  {
   "cell_type": "code",
   "execution_count": null,
   "id": "4e1fa294",
   "metadata": {
    "tags": []
   },
   "outputs": [],
   "source": [
    "# Are the results the same between the two methods? 'yes' or 'no'\n",
    "\n",
    "q3_same_res = ..."
   ]
  },
  {
   "cell_type": "code",
   "execution_count": null,
   "id": "0b4ef946",
   "metadata": {
    "deletable": false,
    "editable": false
   },
   "outputs": [],
   "source": [
    "grader.check(\"q3_partial_corr\")"
   ]
  },
  {
   "cell_type": "markdown",
   "id": "25cb0f67",
   "metadata": {},
   "source": [
    "We've seen from above that it is important to create `processing_domain_z` score corrected for covariates.\n",
    "We also saw in the walkthrough that it is important create an `exec_domain_z` score corrected for covariates.\n",
    "However, `pg.partial_corr` only allows you to correct for covariates in `x` or `y` but not **both**.\n",
    "\n",
    "Use another regression to remove the covaraites from `exec_domain_z` and determine if it is correlated with `processing_domain_z` after removing covariates."
   ]
  },
  {
   "cell_type": "markdown",
   "id": "03ca405b",
   "metadata": {
    "tags": []
   },
   "source": [
    "### Q4: Are EDZ and PDZ correlated after controlling for covariates?"
   ]
  },
  {
   "cell_type": "markdown",
   "id": "719b472f",
   "metadata": {
    "tags": [
     "remove_cell"
    ]
   },
   "source": [
    "|               |    |\n",
    "| --------------|----|\n",
    "| Points        | 10 |\n",
    "| Public Checks | 7  |\n",
    "| Hidden Tests  | 7  |\n",
    "\n",
    "_Points:_ 10"
   ]
  },
  {
   "cell_type": "code",
   "execution_count": null,
   "id": "0f1f38db",
   "metadata": {
    "tags": []
   },
   "outputs": [],
   "source": [
    "# Find the residuals for exec_domain_z after controlling for covariates\n"
   ]
  },
  {
   "cell_type": "code",
   "execution_count": null,
   "id": "a1057f0d",
   "metadata": {
    "tags": []
   },
   "outputs": [],
   "source": [
    "# Plot the two corrected values against each other\n",
    "\n",
    "q4_plot = ..."
   ]
  },
  {
   "cell_type": "code",
   "execution_count": null,
   "id": "a8c84956",
   "metadata": {
    "tags": []
   },
   "outputs": [],
   "source": [
    "# Test the correlation between the two sets of corrected values\n",
    "\n",
    "pg.corr(proc_res.residuals_, exec_res.residuals_)"
   ]
  },
  {
   "cell_type": "code",
   "execution_count": null,
   "id": "2212176c",
   "metadata": {
    "tags": []
   },
   "outputs": [],
   "source": [
    "# After correction for covariates, are PDZ and EDZ correlated? 'yes' or 'no'\n",
    "\n",
    "q4_sig_cor = ..."
   ]
  },
  {
   "cell_type": "code",
   "execution_count": null,
   "id": "97acb0ec",
   "metadata": {
    "deletable": false,
    "editable": false
   },
   "outputs": [],
   "source": [
    "grader.check(\"q4_full_corr\")"
   ]
  },
  {
   "cell_type": "markdown",
   "id": "b0e936d3",
   "metadata": {},
   "source": [
    "--------------------------------------------"
   ]
  },
  {
   "cell_type": "code",
   "execution_count": null,
   "id": "aec91598",
   "metadata": {},
   "outputs": [],
   "source": [
    "grader.check_all()"
   ]
  },
  {
   "cell_type": "markdown",
   "id": "94dcd7d7",
   "metadata": {},
   "source": [
    "## Submission\n",
    "\n",
    "Check:\n",
    " - That all tables and graphs are rendered properly.\n",
    " - Code completes without errors by using `Restart & Run All`.\n",
    " - All checks **pass**.\n",
    " \n",
    "Then save the notebook and the `File` -> `Download` -> `Download .ipynb`. Upload this file to BBLearn."
   ]
  }
 ],
 "metadata": {
  "kernelspec": {
   "display_name": "Python 3 (ipykernel)",
   "language": "python",
   "name": "python3"
  },
  "language_info": {
   "codemirror_mode": {
    "name": "ipython",
    "version": 3
   },
   "file_extension": ".py",
   "mimetype": "text/x-python",
   "name": "python",
   "nbconvert_exporter": "python",
   "pygments_lexer": "ipython3",
   "version": "3.9.13"
  },
  "otter": {
   "assignment_name": "Module09_lab"
  }
 },
 "nbformat": 4,
 "nbformat_minor": 5
}