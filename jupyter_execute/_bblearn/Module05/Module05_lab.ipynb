{
 "cells": [
  {
   "cell_type": "code",
   "execution_count": null,
   "id": "cce10613",
   "metadata": {
    "tags": [
     "remove_cell"
    ]
   },
   "outputs": [],
   "source": [
    "# Setting up the Colab environment. DO NOT EDIT!\n",
    "try:\n",
    "  from applied_biostats import setup_environment\n",
    "except ImportError:\n",
    "  !pip -q install applied-biostats-helper\n",
    "  from applied_biostats import setup_environment\n",
    "finally:\n",
    "  grader = setup_environment('Module05_lab')"
   ]
  },
  {
   "cell_type": "markdown",
   "id": "5c6fe1f6",
   "metadata": {},
   "source": [
    "# Lab"
   ]
  },
  {
   "cell_type": "markdown",
   "id": "8bad42a8",
   "metadata": {},
   "source": [
    "## Introduction\n",
    "\n",
    "This week we will look at data from a cohort of People Living with HIV (PLH) here at Drexel.\n",
    "\n",
    "As we discussed in the introduction, this data collection effort was done to provide a resource for many projects across the fields of HIV, aging, inflammation, neurocognitive impairment, immune function, and unknowable future projects.\n",
    "In this lab we will explore a collection of cytokines and chemokines measured by a Luminex panel of common biomarkers of inflammation."
   ]
  },
  {
   "cell_type": "markdown",
   "id": "f4578336",
   "metadata": {},
   "source": [
    "## Learning Objectives\n",
    "At the end of this learning activity you will be able to:\n",
    " - Pratice creating barplots and scatterplots.\n",
    " - Employ `DataFrame.corr` to measure the correlation between variables."
   ]
  },
  {
   "cell_type": "code",
   "execution_count": null,
   "id": "9bf2d39f",
   "metadata": {},
   "outputs": [],
   "source": [
    "import numpy as np\n",
    "import pandas as pd\n",
    "import matplotlib.pyplot as plt\n",
    "\n",
    "%matplotlib inline"
   ]
  },
  {
   "cell_type": "code",
   "execution_count": null,
   "id": "f80bce8e",
   "metadata": {},
   "outputs": [],
   "source": [
    "data = pd.read_csv('cytokine_data.csv')\n",
    "data.head()"
   ]
  },
  {
   "cell_type": "markdown",
   "id": "e464a1ec",
   "metadata": {},
   "source": [
    "### Q1: Explore the neurological function of the participants in the dataset.\n",
    "\n",
    "Create a barplot of the counts for each of the `neuro_screen_impairment_level` level categories.\n",
    "\n",
    " - Adjust the y-axis to have a limit of 0 to 150 and the label to `'Participants'`\n",
    " - Adjust the x-label to `'Impairment Level'`"
   ]
  },
  {
   "cell_type": "markdown",
   "id": "15e9a5b8",
   "metadata": {
    "tags": [
     "remove_cell"
    ]
   },
   "source": [
    "|               |    |\n",
    "| --------------|----|\n",
    "| Points        | 2  |\n",
    "| Public Checks | 5  |\n",
    "| Hidden Testss | 0  |\n",
    "\n",
    "_Points:_ 2"
   ]
  },
  {
   "cell_type": "code",
   "execution_count": null,
   "id": "a53155aa",
   "metadata": {
    "tags": []
   },
   "outputs": [],
   "source": [
    "\n",
    "# Generate the figure\n",
    "q1_ax = ...\n",
    "\n",
    "\n",
    "# Adjust labels and limits\n"
   ]
  },
  {
   "cell_type": "code",
   "execution_count": null,
   "id": "08bb3f3f",
   "metadata": {},
   "outputs": [],
   "source": [
    "# DO NOT REMOVE!\n",
    "plt.close()\n",
    "# For the grader"
   ]
  },
  {
   "cell_type": "code",
   "execution_count": null,
   "id": "47fe27c7",
   "metadata": {
    "deletable": false,
    "editable": false
   },
   "outputs": [],
   "source": [
    "grader.check(\"q1_impairement_plot\")"
   ]
  },
  {
   "cell_type": "markdown",
   "id": "27c5f691",
   "metadata": {},
   "source": [
    "### Q2: Consider how pro-inflamatory markers are related to neurological impairment.\n",
    "\n",
    "Examine the expression of the following cytokines.\n",
    " - `tnfalpha`\n",
    " - `il6`\n",
    " - `mcp1`\n",
    " - `mip1alpha`\n",
    "\n"
   ]
  },
  {
   "cell_type": "markdown",
   "id": "612fe37f",
   "metadata": {
    "tags": [
     "remove_cell"
    ]
   },
   "source": [
    "|               |    |\n",
    "| --------------|----|\n",
    "| Points        | 10 |\n",
    "| Public Checks | 9  |\n",
    "| Hidden Testss | 1  |\n",
    "\n",
    "_Points:_ 10"
   ]
  },
  {
   "cell_type": "code",
   "execution_count": null,
   "id": "3d40cd84",
   "metadata": {
    "tags": []
   },
   "outputs": [],
   "source": [
    "# Use data.groupby(...) to take mean of each cytokines for each neuro_screen_impairment_level\n",
    "# The table should have each of the 4 cytokines as columns \n",
    "#  and each row should be each of the different impairment levels.\n",
    "\n",
    "\n",
    "q2_cytokine_summary = ...\n"
   ]
  },
  {
   "cell_type": "code",
   "execution_count": null,
   "id": "400c4fea",
   "metadata": {
    "tags": []
   },
   "outputs": [],
   "source": [
    "# Use `.plot(kind = 'box', ...)` to create a set of boxplots for each cytokine split across each `neuro_screen_impairment_level` value.\n",
    "# Each axis should be a cytokine\n",
    "# Each category in each axis should be a neuro_screen_impairment_level\n",
    "\n",
    "\n",
    "q2_axs = ...\n"
   ]
  },
  {
   "cell_type": "code",
   "execution_count": null,
   "id": "d6b563fb",
   "metadata": {
    "tags": []
   },
   "outputs": [],
   "source": [
    "# Which cytokine has the largest absolute difference in mean expression between `mild` and `none`?\n",
    "# Answer as a string\n",
    "\n",
    "q2_ans = ..."
   ]
  },
  {
   "cell_type": "code",
   "execution_count": null,
   "id": "3030c200",
   "metadata": {},
   "outputs": [],
   "source": [
    "# DO NOT REMOVE!\n",
    "plt.close()\n",
    "# For the grader"
   ]
  },
  {
   "cell_type": "code",
   "execution_count": null,
   "id": "6b754da8",
   "metadata": {
    "deletable": false,
    "editable": false
   },
   "outputs": [],
   "source": [
    "grader.check(\"q2_pro_inflam\")"
   ]
  },
  {
   "cell_type": "markdown",
   "id": "ce037486",
   "metadata": {},
   "source": [
    "### Q3: Hypothesis generation\n",
    "\n",
    "One advantage of a cohort-style study is that the data can be used to generate new hypotheses to test.\n",
    "Here, we have collected the cytokine expression of many people along with their BMI.\n",
    "Use the `.corr()` method to find the correlation between BMI and all cytokines.\n",
    "Then, generate a hypothesis about which top-5 cytokines are worth a followup."
   ]
  },
  {
   "cell_type": "markdown",
   "id": "42524c61",
   "metadata": {
    "tags": [
     "remove_cell"
    ]
   },
   "source": [
    "|               |    |\n",
    "| --------------|----|\n",
    "| Points        | 10 |\n",
    "| Public Checks | 10 |\n",
    "| Hidden Testss | 3  |\n",
    "\n",
    "_Points:_ 10"
   ]
  },
  {
   "cell_type": "code",
   "execution_count": null,
   "id": "1887d74b",
   "metadata": {},
   "outputs": [],
   "source": [
    "# Use this list of all cytokines in the dataset to answer the following questions\n",
    "all_cytokines = list(data.columns[3:-5])\n",
    "print(', '.join(all_cytokines))"
   ]
  },
  {
   "cell_type": "code",
   "execution_count": null,
   "id": "21f702b7",
   "metadata": {
    "tags": []
   },
   "outputs": [],
   "source": [
    "# Calculate the cross correlation matrix that only includes bmi and all_cytokines\n",
    "\n",
    "\n",
    "q3_cross_cor = ...\n"
   ]
  },
  {
   "cell_type": "code",
   "execution_count": null,
   "id": "601b18ce",
   "metadata": {
    "tags": []
   },
   "outputs": [],
   "source": [
    "# Plot the correlation between BMI and all other columns as a bar plot\n",
    "\n",
    "q3_bar_ax = ..."
   ]
  },
  {
   "cell_type": "code",
   "execution_count": null,
   "id": "56971f4c",
   "metadata": {
    "tags": []
   },
   "outputs": [],
   "source": [
    "# Extract a Series of the top 5 cytokines\n",
    "# Be sure to remove BMI\n",
    "\n",
    "q3_top5 = ..."
   ]
  },
  {
   "cell_type": "code",
   "execution_count": null,
   "id": "edcb0de5",
   "metadata": {
    "tags": []
   },
   "outputs": [],
   "source": [
    "# Create a scatterplot between the bmi (on the x-axis) and the most correlated cytokine (on the y-axis)\n",
    "\n",
    "q3_scatter_ax = ...\n",
    "\n",
    "# Leave the axes labels as defaults for the grader"
   ]
  },
  {
   "cell_type": "code",
   "execution_count": null,
   "id": "05b1c9f2",
   "metadata": {
    "deletable": false,
    "editable": false
   },
   "outputs": [],
   "source": [
    "grader.check(\"q3_bmi_hypothesis_gen\")"
   ]
  },
  {
   "cell_type": "code",
   "execution_count": null,
   "id": "768ffdce",
   "metadata": {},
   "outputs": [],
   "source": [
    "# DO NOT REMOVE!\n",
    "plt.close()\n",
    "# For the grader"
   ]
  },
  {
   "cell_type": "markdown",
   "id": "4f5693b8",
   "metadata": {},
   "source": [
    "With this information in hand, one could design more directed experiments to further understand whether these correlations are biologically meaningful.\n",
    "This hypothesis generating technique is useful in a number of ways."
   ]
  },
  {
   "cell_type": "markdown",
   "id": "29e3b2b8",
   "metadata": {},
   "source": [
    "<!-- BEGIN QUESTION -->\n",
    "\n",
    "### Q4: Exploration\n",
    "\n",
    "Use this technique to find correlations between between cytokines and any other demographic variable.\n",
    "\n",
    "Include at least one barplot of correlation coefficients.\n",
    "If your variable is categorical, use show a boxplot of the most correlated cytokine.\n",
    "If your variable is continious, instead show a scatterplot.\n",
    "\n",
    "With each figure, include a text-box with a figure caption.\n",
    "\n",
    "There is no grader for this question.\n",
    "\n",
    "_Points:_ 10"
   ]
  },
  {
   "cell_type": "markdown",
   "id": "67938b18",
   "metadata": {},
   "source": [
    "<!-- END QUESTION -->\n",
    "\n"
   ]
  },
  {
   "cell_type": "code",
   "execution_count": null,
   "id": "c3ca803f",
   "metadata": {},
   "outputs": [],
   "source": [
    "# DO NOT REMOVE!\n",
    "plt.close()\n",
    "# For the grader"
   ]
  },
  {
   "cell_type": "markdown",
   "id": "6dd0551d",
   "metadata": {},
   "source": [
    "--------------------------------------------"
   ]
  },
  {
   "cell_type": "markdown",
   "id": "b401a7bd",
   "metadata": {
    "tags": [
     "remove_cell"
    ]
   },
   "source": [
    "## Submission\n",
    "\n",
    "Check:\n",
    " - That all tables and graphs are rendered properly.\n",
    " - Code completes without errors by using `Restart & Run All`.\n",
    " - All checks **pass**.\n",
    " \n",
    " Then save the notebook and the `File` -> `Download` -> `Download .ipynb`. Upload this file to BBLearn.\n"
   ]
  }
 ],
 "metadata": {
  "kernelspec": {
   "display_name": "Python 3",
   "language": "python",
   "name": "python3"
  },
  "language_info": {
   "codemirror_mode": {
    "name": "ipython",
    "version": 3
   },
   "file_extension": ".py",
   "mimetype": "text/x-python",
   "name": "python",
   "nbconvert_exporter": "python",
   "pygments_lexer": "ipython3",
   "version": "3.10.14"
  },
  "otter": {
   "assignment_name": "Module05_lab"
  }
 },
 "nbformat": 4,
 "nbformat_minor": 5
}